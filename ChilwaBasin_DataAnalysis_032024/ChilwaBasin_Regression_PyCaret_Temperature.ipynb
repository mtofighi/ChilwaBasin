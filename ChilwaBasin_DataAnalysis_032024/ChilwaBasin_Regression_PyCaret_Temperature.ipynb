{
  "cells": [
    {
      "cell_type": "markdown",
      "metadata": {
        "id": "view-in-github",
        "colab_type": "text"
      },
      "source": [
        "<a href=\"https://colab.research.google.com/github/mtofighi/ChilwaBasin/blob/main/ChilwaBasin_DataAnalysis_032024/ChilwaBasin_Regression_PyCaret_Temperature.ipynb\" target=\"_parent\"><img src=\"https://colab.research.google.com/assets/colab-badge.svg\" alt=\"Open In Colab\"/></a>"
      ]
    },
    {
      "cell_type": "markdown",
      "id": "81e0620e",
      "metadata": {
        "id": "81e0620e"
      },
      "source": [
        "Last updated: 25 Mar 2024\n",
        "# >> Temperature\n",
        "\n",
        "# 👋 PyCaret Regression Tutorial\n"
      ]
    },
    {
      "cell_type": "code",
      "source": [
        "!pip install pycaret -q #[full] -q"
      ],
      "metadata": {
        "id": "LeiJ3VJdSYsS"
      },
      "id": "LeiJ3VJdSYsS",
      "execution_count": 4,
      "outputs": []
    },
    {
      "cell_type": "code",
      "source": [
        "!pip install pycaret[analysis] -q\n",
        "!pip install pycaret[models] -q\n",
        "!pip install pycaret[tuner] -q\n",
        "!pip install pycaret[mlops] -q\n",
        "!pip install pycaret[parallel] -q\n",
        "!pip install pycaret[test] -q"
      ],
      "metadata": {
        "id": "hSF52j_4WsmY",
        "outputId": "987af120-c892-4ee9-b5a8-274a8b1dce2a",
        "colab": {
          "base_uri": "https://localhost:8080/"
        }
      },
      "id": "hSF52j_4WsmY",
      "execution_count": 5,
      "outputs": [
        {
          "output_type": "stream",
          "name": "stdout",
          "text": [
            "  Preparing metadata (setup.py) ... \u001b[?25l\u001b[?25hdone\n",
            "  \u001b[1;31merror\u001b[0m: \u001b[1msubprocess-exited-with-error\u001b[0m\n",
            "  \n",
            "  \u001b[31m×\u001b[0m \u001b[32mpython setup.py egg_info\u001b[0m did not run successfully.\n",
            "  \u001b[31m│\u001b[0m exit code: \u001b[1;36m1\u001b[0m\n",
            "  \u001b[31m╰─>\u001b[0m See above for output.\n",
            "  \n",
            "  \u001b[1;35mnote\u001b[0m: This error originates from a subprocess, and is likely not a problem with pip.\n",
            "  Preparing metadata (setup.py) ... \u001b[?25l\u001b[?25herror\n",
            "\u001b[1;31merror\u001b[0m: \u001b[1mmetadata-generation-failed\u001b[0m\n",
            "\n",
            "\u001b[31m×\u001b[0m Encountered error while generating package metadata.\n",
            "\u001b[31m╰─>\u001b[0m See above for output.\n",
            "\n",
            "\u001b[1;35mnote\u001b[0m: This is an issue with the package mentioned above, not pip.\n",
            "\u001b[1;36mhint\u001b[0m: See above for details.\n",
            "\u001b[33mWARNING: pycaret 3.3.0 does not provide the extra 'tuner'\u001b[0m\u001b[33m\n",
            "\u001b[0m\u001b[33mWARNING: pandas 1.5.3 does not provide the extra 'parquet'\u001b[0m\u001b[33m\n",
            "\u001b[0m"
          ]
        }
      ]
    },
    {
      "cell_type": "code",
      "execution_count": 8,
      "id": "d7142a33",
      "metadata": {
        "id": "d7142a33",
        "outputId": "7200bd4c-db28-42f4-e8da-067f72a0d74c",
        "colab": {
          "base_uri": "https://localhost:8080/",
          "height": 35
        }
      },
      "outputs": [
        {
          "output_type": "execute_result",
          "data": {
            "text/plain": [
              "'3.3.0'"
            ],
            "application/vnd.google.colaboratory.intrinsic+json": {
              "type": "string"
            }
          },
          "metadata": {},
          "execution_count": 8
        }
      ],
      "source": [
        "# check installed version (must be >3.0)\n",
        "import pycaret\n",
        "pycaret.__version__"
      ]
    },
    {
      "cell_type": "markdown",
      "id": "fb66e98d",
      "metadata": {
        "id": "fb66e98d"
      },
      "source": [
        "# 🚀 Quick start"
      ]
    },
    {
      "cell_type": "markdown",
      "id": "00347d44",
      "metadata": {
        "id": "00347d44"
      },
      "source": [
        "PyCaret's Regression Module is a supervised machine learning module that is used for estimating the relationships between a dependent variable (often called the outcome variable, or target) and one or more independent variables (often called features, predictors, or covariates).\n",
        "\n",
        "The objective of regression is to predict continuous values such as predicting sales amount, predicting quantity, predicting temperature, etc. Regression module provides several pre-processing features to preprocess the data for modeling through the setup function.\n",
        "\n",
        "PyCaret's regression module has many preprocessing capabilities and it coems with over 25 ready-to-use algorithms and several plots to analyze the performance of trained models.\n",
        "\n",
        "A typical workflow in PyCaret Regression module consist of the following 5 steps in this order:\n",
        "\n",
        "### **Setup** ➡️ **Compare Models** ➡️ **Analyze Model** ➡️ **Prediction** ➡️ **Save Model**\n",
        "<br/>"
      ]
    },
    {
      "cell_type": "code",
      "execution_count": 10,
      "id": "1b09f8df",
      "metadata": {
        "id": "1b09f8df"
      },
      "outputs": [],
      "source": [
        "### load sample dataset from pycaret dataset module\n",
        "# from pycaret.datasets import get_data\n",
        "# data = get_data('insurance')\n",
        "\n",
        "import pandas as pd\n",
        "import matplotlib.pyplot as plt\n",
        "\n",
        "url = 'https://github.com/mtofighi/ChilwaBasin/blob/main/ChilwaBasin_DataAnalysis_032024/Dataset/ChilwaBasin_Dataset_03012024.xlsx?raw=true'\n",
        "\n",
        "dataAll = pd.read_excel(url)\n",
        "\n",
        "# Convert the index to datetime format (assuming the index is in a date format)\n",
        "dataAll.index = pd.to_datetime(dataAll.iloc[:, 0])\n",
        "\n",
        "# Extract year and month from the index\n",
        "dataAll['Year'] = dataAll.index.year\n",
        "dataAll['Month'] = dataAll.index.month\n",
        "\n",
        "# Set the columns 'Year' and 'Month' as the index\n",
        "dataAll.set_index(['Year', 'Month'], inplace=True)\n",
        "\n",
        "# # Check the type of dataset\n",
        "# print(\"Data types:\", data.dtypes)\n",
        "\n",
        "# # Check the shape of the data\n",
        "# print(\"Data shape:\", data.shape)\n",
        "\n",
        "# Convert the column names to an array\n",
        "# headers = dataAll.columns.to_numpy()\n",
        "\n",
        "# Print the headers array\n",
        "# print(\"Headers:\", headers)"
      ]
    },
    {
      "cell_type": "markdown",
      "id": "c00f6a4a",
      "metadata": {
        "id": "c00f6a4a"
      },
      "source": [
        "## Setup\n",
        "The `setup` function initializes the training environment and creates the transformation pipeline. Setup function must be called before executing any other function in PyCaret. It only has two required parameters i.e. `data` and `target`. All the other parameters are optional."
      ]
    },
    {
      "cell_type": "code",
      "execution_count": 156,
      "id": "97f2c6c6",
      "metadata": {
        "id": "97f2c6c6",
        "outputId": "f56fd0c9-b644-41eb-c105-b3dffbde0d8c",
        "colab": {
          "base_uri": "https://localhost:8080/",
          "height": 645
        }
      },
      "outputs": [
        {
          "output_type": "display_data",
          "data": {
            "text/plain": [
              "<pandas.io.formats.style.Styler at 0x7a046c60fa60>"
            ],
            "text/html": [
              "<style type=\"text/css\">\n",
              "#T_e41dc_row8_col1 {\n",
              "  background-color: lightgreen;\n",
              "}\n",
              "</style>\n",
              "<table id=\"T_e41dc\" class=\"dataframe\">\n",
              "  <thead>\n",
              "    <tr>\n",
              "      <th class=\"blank level0\" >&nbsp;</th>\n",
              "      <th id=\"T_e41dc_level0_col0\" class=\"col_heading level0 col0\" >Description</th>\n",
              "      <th id=\"T_e41dc_level0_col1\" class=\"col_heading level0 col1\" >Value</th>\n",
              "    </tr>\n",
              "  </thead>\n",
              "  <tbody>\n",
              "    <tr>\n",
              "      <th id=\"T_e41dc_level0_row0\" class=\"row_heading level0 row0\" >0</th>\n",
              "      <td id=\"T_e41dc_row0_col0\" class=\"data row0 col0\" >Session id</td>\n",
              "      <td id=\"T_e41dc_row0_col1\" class=\"data row0 col1\" >123</td>\n",
              "    </tr>\n",
              "    <tr>\n",
              "      <th id=\"T_e41dc_level0_row1\" class=\"row_heading level0 row1\" >1</th>\n",
              "      <td id=\"T_e41dc_row1_col0\" class=\"data row1 col0\" >Target</td>\n",
              "      <td id=\"T_e41dc_row1_col1\" class=\"data row1 col1\" >SatelliteAverageMinTemperatureStandardizedAnomaly</td>\n",
              "    </tr>\n",
              "    <tr>\n",
              "      <th id=\"T_e41dc_level0_row2\" class=\"row_heading level0 row2\" >2</th>\n",
              "      <td id=\"T_e41dc_row2_col0\" class=\"data row2 col0\" >Target type</td>\n",
              "      <td id=\"T_e41dc_row2_col1\" class=\"data row2 col1\" >Regression</td>\n",
              "    </tr>\n",
              "    <tr>\n",
              "      <th id=\"T_e41dc_level0_row3\" class=\"row_heading level0 row3\" >3</th>\n",
              "      <td id=\"T_e41dc_row3_col0\" class=\"data row3 col0\" >Original data shape</td>\n",
              "      <td id=\"T_e41dc_row3_col1\" class=\"data row3 col1\" >(912, 2)</td>\n",
              "    </tr>\n",
              "    <tr>\n",
              "      <th id=\"T_e41dc_level0_row4\" class=\"row_heading level0 row4\" >4</th>\n",
              "      <td id=\"T_e41dc_row4_col0\" class=\"data row4 col0\" >Transformed data shape</td>\n",
              "      <td id=\"T_e41dc_row4_col1\" class=\"data row4 col1\" >(912, 2)</td>\n",
              "    </tr>\n",
              "    <tr>\n",
              "      <th id=\"T_e41dc_level0_row5\" class=\"row_heading level0 row5\" >5</th>\n",
              "      <td id=\"T_e41dc_row5_col0\" class=\"data row5 col0\" >Transformed train set shape</td>\n",
              "      <td id=\"T_e41dc_row5_col1\" class=\"data row5 col1\" >(638, 2)</td>\n",
              "    </tr>\n",
              "    <tr>\n",
              "      <th id=\"T_e41dc_level0_row6\" class=\"row_heading level0 row6\" >6</th>\n",
              "      <td id=\"T_e41dc_row6_col0\" class=\"data row6 col0\" >Transformed test set shape</td>\n",
              "      <td id=\"T_e41dc_row6_col1\" class=\"data row6 col1\" >(274, 2)</td>\n",
              "    </tr>\n",
              "    <tr>\n",
              "      <th id=\"T_e41dc_level0_row7\" class=\"row_heading level0 row7\" >7</th>\n",
              "      <td id=\"T_e41dc_row7_col0\" class=\"data row7 col0\" >Numeric features</td>\n",
              "      <td id=\"T_e41dc_row7_col1\" class=\"data row7 col1\" >1</td>\n",
              "    </tr>\n",
              "    <tr>\n",
              "      <th id=\"T_e41dc_level0_row8\" class=\"row_heading level0 row8\" >8</th>\n",
              "      <td id=\"T_e41dc_row8_col0\" class=\"data row8 col0\" >Preprocess</td>\n",
              "      <td id=\"T_e41dc_row8_col1\" class=\"data row8 col1\" >True</td>\n",
              "    </tr>\n",
              "    <tr>\n",
              "      <th id=\"T_e41dc_level0_row9\" class=\"row_heading level0 row9\" >9</th>\n",
              "      <td id=\"T_e41dc_row9_col0\" class=\"data row9 col0\" >Imputation type</td>\n",
              "      <td id=\"T_e41dc_row9_col1\" class=\"data row9 col1\" >simple</td>\n",
              "    </tr>\n",
              "    <tr>\n",
              "      <th id=\"T_e41dc_level0_row10\" class=\"row_heading level0 row10\" >10</th>\n",
              "      <td id=\"T_e41dc_row10_col0\" class=\"data row10 col0\" >Numeric imputation</td>\n",
              "      <td id=\"T_e41dc_row10_col1\" class=\"data row10 col1\" >mean</td>\n",
              "    </tr>\n",
              "    <tr>\n",
              "      <th id=\"T_e41dc_level0_row11\" class=\"row_heading level0 row11\" >11</th>\n",
              "      <td id=\"T_e41dc_row11_col0\" class=\"data row11 col0\" >Categorical imputation</td>\n",
              "      <td id=\"T_e41dc_row11_col1\" class=\"data row11 col1\" >mode</td>\n",
              "    </tr>\n",
              "    <tr>\n",
              "      <th id=\"T_e41dc_level0_row12\" class=\"row_heading level0 row12\" >12</th>\n",
              "      <td id=\"T_e41dc_row12_col0\" class=\"data row12 col0\" >Fold Generator</td>\n",
              "      <td id=\"T_e41dc_row12_col1\" class=\"data row12 col1\" >KFold</td>\n",
              "    </tr>\n",
              "    <tr>\n",
              "      <th id=\"T_e41dc_level0_row13\" class=\"row_heading level0 row13\" >13</th>\n",
              "      <td id=\"T_e41dc_row13_col0\" class=\"data row13 col0\" >Fold Number</td>\n",
              "      <td id=\"T_e41dc_row13_col1\" class=\"data row13 col1\" >10</td>\n",
              "    </tr>\n",
              "    <tr>\n",
              "      <th id=\"T_e41dc_level0_row14\" class=\"row_heading level0 row14\" >14</th>\n",
              "      <td id=\"T_e41dc_row14_col0\" class=\"data row14 col0\" >CPU Jobs</td>\n",
              "      <td id=\"T_e41dc_row14_col1\" class=\"data row14 col1\" >-1</td>\n",
              "    </tr>\n",
              "    <tr>\n",
              "      <th id=\"T_e41dc_level0_row15\" class=\"row_heading level0 row15\" >15</th>\n",
              "      <td id=\"T_e41dc_row15_col0\" class=\"data row15 col0\" >Use GPU</td>\n",
              "      <td id=\"T_e41dc_row15_col1\" class=\"data row15 col1\" >False</td>\n",
              "    </tr>\n",
              "    <tr>\n",
              "      <th id=\"T_e41dc_level0_row16\" class=\"row_heading level0 row16\" >16</th>\n",
              "      <td id=\"T_e41dc_row16_col0\" class=\"data row16 col0\" >Log Experiment</td>\n",
              "      <td id=\"T_e41dc_row16_col1\" class=\"data row16 col1\" >False</td>\n",
              "    </tr>\n",
              "    <tr>\n",
              "      <th id=\"T_e41dc_level0_row17\" class=\"row_heading level0 row17\" >17</th>\n",
              "      <td id=\"T_e41dc_row17_col0\" class=\"data row17 col0\" >Experiment Name</td>\n",
              "      <td id=\"T_e41dc_row17_col1\" class=\"data row17 col1\" >reg-default-name</td>\n",
              "    </tr>\n",
              "    <tr>\n",
              "      <th id=\"T_e41dc_level0_row18\" class=\"row_heading level0 row18\" >18</th>\n",
              "      <td id=\"T_e41dc_row18_col0\" class=\"data row18 col0\" >USI</td>\n",
              "      <td id=\"T_e41dc_row18_col1\" class=\"data row18 col1\" >09a9</td>\n",
              "    </tr>\n",
              "  </tbody>\n",
              "</table>\n"
            ]
          },
          "metadata": {}
        }
      ],
      "source": [
        "# Temperature\n",
        "\n",
        "# import pycaret regression and init setup\n",
        "from pycaret.regression import *\n",
        "##---------------------------------------------\n",
        "# The dataset is called 'dataAll'\n",
        "\n",
        "# All column Heasers\n",
        "column_names = ['Date', 'SatelliteAverageMinTemperature',\n",
        "    'SatelliteAverageMinTemperatureStandardizedAnomaly',\n",
        "    'SatelliteAverageMaxTemperature', 'AverageMeanTemperature',\n",
        "    'AverageMeanTemperatureAnomaly',\n",
        "    'AverageMeanTemperatureStandardizedAnomaly', 'ChancoMeanTemperature',\n",
        "    'ChingaleMeanTemperature', 'MakokaMeanTemperature',\n",
        "    'NaminjiwaMeanTemperature' ,'NtajaMeanTemperature',\n",
        "    'ZombaRTCMeanTemperature', 'AverageMinTemperature',\n",
        "    'AverageMinTemperatureAnomaly', 'AverageMinTemperatureStandardizedAnomaly',\n",
        "    'ChancoMinTemperature', 'ChingaleMinTemperature', 'MakokaMinTemperature',\n",
        "    'NaminjiwaMinTemperature' ,'NtajaMinTemperature', 'ZombaRTCMinTemperature',\n",
        "    'AverageMaxTemperature' ,'AverageMaxTemperatureAnomaly',\n",
        "    'AverageMaxTemperatureStandardizedAnomaly' ,'ChancoMaxTemperature',\n",
        "    'ChingaleMaxTemperature', 'MakokaMaxTemperature', 'NaminjiwaMaxTemperature',\n",
        "    'NtajaMaxTemperature' ,'ZombaRTCMaxTemperature', 'SatelliteAverageRainfall',\n",
        "    'SatelliteAverageRainfallStandardizedAnomaly' ,'AverageRainfall',\n",
        "    'RainfallAnomaly', 'StandardizedRainfallAnomaly' ,'ChancoRainfall',\n",
        "    'ChingaleRainfall' ,'MakokaRainfall', 'NaminjiwaRainfall', 'NtajaRainfall',\n",
        "    'ZombaRTCRainfall' ,'ChancellorCollegeRainfall', 'ChimpeniRainfall',\n",
        "    'ReturnPeriod', 'ActualEvapotransp', 'ReferenceEvapoTransp', 'SoilMoisture',\n",
        "    'SPI1' ,'SPI3' ,'SPI6' ,'SPI12' ,'SPI24','SPI36', 'SPI48', 'SPI60', 'SPI72',\n",
        "    'PalmerDroughtSeverityIndex', 'Waterloggingkm2', 'LakeSurfaceAreakm2',\n",
        "    'LakeDepthm' ,'NDVIAreakm2', 'CholeraCasesD1', 'CholeraCasesD2',\n",
        "    'CholeraCasesD3', 'CholeraCasesD4', 'CholeraCasesTotal',\n",
        "    'SchistosomiasisCasesD1', 'SchistosomiasisCasesD2',\n",
        "    'SchistosomiasisCasesD3', 'SchistosomiasisCasesD4',\n",
        "    'SchistosomiasisCasesTotal', 'MalariaCasesD1', 'MalariaCasesD2',\n",
        "    'MalariaCasesD3', 'MalariaCasesD4', 'MalariaCasesTotal', 'MosquitoNetsD1',\n",
        "    'MosquitoNetsD2', 'MosquitoNetsD3' ,'MosquitoNetsD4', 'MosquitoNetsTotal',\n",
        "    'CholeraCases_AllDistricts', 'CholeraDeaths_AllDistricts',\n",
        "    'Malnutrition_LT5_NewCases_AllDistricts',\n",
        "    'Malnutrition_LT5_InpatientDeaths_AllDistricts', 'DiarrhoeaCases_Machinga',\n",
        "    'DiarrhoeaCases_Zomba' ,'DiarrhoeaCases_Phalombe',\n",
        "    'DiarrhoeaCases_AllDistricts', 'SchistosomiasisCases_Machinga',\n",
        "    'SchistosomiasisCases_Zomba', 'SchistosomiasisCases_Phalombe',\n",
        "    'SchistosomiasisCases_AllDistricts', 'CholeraCasesDOH_Zomba',\n",
        "    'MalariaCasesDOH_Zomba', 'DiarrheaCasesDOH_Zomba',\n",
        "    'PopulationChilwaBasinMalawi', 'PopulationZomba',\n",
        "    'CerealProductionChilwaBasinMalawi' ,'CerealProductionPerCapitaKgPerDay',\n",
        "    'TotalFishCatch' ,'MaizeArea_HA_D1', 'MaizeProduction_MT_D1',\n",
        "    'RiceArea_HA_D1', 'RiceProduction_MT_D1', 'TobaccoArea_HA_D1',\n",
        "    'TobaccoProduction_MT_D1', 'UREA_T_D1', 'MaizeArea_HA_D2',\n",
        "    'MaizeProduction_MT_D2', 'RiceArea_HA_D2', 'RiceProduction_MT_D2',\n",
        "    'TobaccoArea_HA_D2' ,'TobaccoProduction_MT_D2', 'UREA_T_D2',\n",
        "    'MaizeArea_HA_D4', 'MaizeProduction_MT_D4', 'RiceArea_HA_D4',\n",
        "    'RiceProduction_MT_D4' ,'TobaccoArea_HA_D4', 'TobaccoProduction_MT_D4',\n",
        "    'UREA_T_D4' ,'MaizeAreaTotal_HA', 'MaizeProductionTotal_MT',\n",
        "    'RiceAreaTotal_HA' ,'RiceProductionTotal_MT' ,'TobaccoAreaTotal_HA',\n",
        "    'TobaccoProductionTotal_MT', 'UREATotal_T'\n",
        "]  # Specify the desired column names\n",
        "\n",
        "# column_names = [\n",
        "#     'Date', 'SatelliteAverageMinTemperature',\n",
        "#     'SatelliteAverageRainfall',\n",
        "#     'AverageMeanTemperature'\n",
        "# ]  # Specify the desired column names\n",
        "\n",
        "# column_names = [\n",
        "#     'Date', 'SatelliteAverageMinTemperature', 'SatelliteAverageMinTemperatureStandardizedAnomaly', 'ActualEvapotransp',\n",
        "#     'SoilMoisture', 'SPI1','SPI3' ,'SPI6', 'SPI12',\n",
        "#     'SPI24', 'SPI36', 'SPI48', 'SPI60' ,'SPI72', 'Waterloggingkm2',\n",
        "#     'SatelliteAverageRainfall','SatelliteAverageRainfallStandardizedAnomaly',\n",
        "#     'AverageMinTemperature','AverageMinTemperatureStandardizedAnomaly',\n",
        "#     'AverageRainfall','StandardizedRainfallAnomaly',\n",
        "#     'PalmerDroughtSeverityIndex',\n",
        "#     'CholeraCasesD1' ,'CholeraCasesD2' ,'CholeraCasesD3', 'CholeraCasesD4',\n",
        "#     'CholeraCasesTotal',\n",
        "#     'SchistosomiasisCasesD1', 'SchistosomiasisCasesD2', 'SchistosomiasisCasesD3', 'SchistosomiasisCasesD4',\n",
        "#     'SchistosomiasisCasesTotal',\n",
        "#     'MalariaCasesD1', 'MalariaCasesD2', 'MalariaCasesD3', 'MalariaCasesD4',\n",
        "#     'MalariaCasesTotal',\n",
        "#     'MosquitoNetsD1' ,'MosquitoNetsD2','MosquitoNetsD3','MosquitoNetsD4',\n",
        "#     'MosquitoNetsTotal',\n",
        "#     'Malnutrition_LT5_NewCases_AllDistricts'\n",
        "# ]  # Specify the desired column names\n",
        "\n",
        "start_date = '1981-01-01'  # Specify the start date\n",
        "end_date = '2018-12-01'  # Specify the end date\n",
        "# start_date = '1946-01-01'  # Specify the start date\n",
        "# end_date = '2021-12-01'  # Specify the end date\n",
        "# Filter the data based on the column names and date range\n",
        "sub_dataset = dataAll.loc[\n",
        "    (dataAll['Date'] >= start_date) & (dataAll['Date'] <= end_date), column_names\n",
        "]\n",
        "\n",
        "# # Drop rows with missing values\n",
        "# sub_dataset.dropna(inplace=True)\n",
        "\n",
        "# Extract the features      'SatelliteAverageRainfall',\n",
        "data = sub_dataset[\n",
        "    [\n",
        "     'SatelliteAverageMinTemperature',\n",
        "     'SatelliteAverageMinTemperatureStandardizedAnomaly'\n",
        "    ]\n",
        "]\n",
        "\n",
        "s = setup(data, target= 'SatelliteAverageMinTemperatureStandardizedAnomaly', session_id = 123)"
      ]
    },
    {
      "cell_type": "markdown",
      "id": "f98dd435",
      "metadata": {
        "id": "f98dd435"
      },
      "source": [
        "## Compare Models\n",
        "\n",
        "The `compare_models` function trains and evaluates the performance of all the estimators available in the model library using cross-validation. The output of this function is a scoring grid with average cross-validated scores. Metrics evaluated during CV can be accessed using the `get_metrics` function. Custom metrics can be added or removed using `add_metric` and `remove_metric` function."
      ]
    },
    {
      "cell_type": "code",
      "execution_count": 157,
      "id": "65a19df4",
      "metadata": {
        "colab": {
          "referenced_widgets": [
            "0a1f93ea192a4eb49f986c8fec366c7c",
            "bfc6ab834c404db69953228f2e683da9",
            "553a81639ebe43b4966974f36641b57f",
            "20c45cda27704a9ebe33f84f62aadc61",
            "64480c974ed3437982aa39d3562dbb70",
            "0f7c1695f0f74ced9765163afb9a6ba9",
            "2e20193626c44d84ab0734db71bd66a8",
            "d2641e0d8a6d4f3c8226a6d40bffd90d",
            "2d3d4b24f3e846899cd3426cd63f7050",
            "9373469e18c745548b397f0683f5ddb9",
            "d68b848999444256ae8d0c501b16b004"
          ],
          "base_uri": "https://localhost:8080/",
          "height": 676
        },
        "id": "65a19df4",
        "outputId": "bdcadef6-a912-458b-ad17-28efc7f9bba6"
      },
      "outputs": [
        {
          "output_type": "display_data",
          "data": {
            "text/plain": [
              "<IPython.core.display.HTML object>"
            ],
            "text/html": []
          },
          "metadata": {}
        },
        {
          "output_type": "display_data",
          "data": {
            "text/plain": [
              "<pandas.io.formats.style.Styler at 0x7a046c97edd0>"
            ],
            "text/html": [
              "<style type=\"text/css\">\n",
              "#T_55693 th {\n",
              "  text-align: left;\n",
              "}\n",
              "#T_55693_row0_col0, #T_55693_row1_col0, #T_55693_row2_col0, #T_55693_row2_col1, #T_55693_row2_col3, #T_55693_row2_col5, #T_55693_row2_col6, #T_55693_row3_col0, #T_55693_row4_col0, #T_55693_row5_col0, #T_55693_row6_col0, #T_55693_row6_col1, #T_55693_row6_col2, #T_55693_row6_col3, #T_55693_row6_col4, #T_55693_row6_col5, #T_55693_row6_col6, #T_55693_row7_col0, #T_55693_row7_col1, #T_55693_row7_col2, #T_55693_row7_col3, #T_55693_row7_col4, #T_55693_row7_col5, #T_55693_row7_col6, #T_55693_row8_col0, #T_55693_row8_col1, #T_55693_row8_col2, #T_55693_row8_col3, #T_55693_row8_col4, #T_55693_row8_col5, #T_55693_row8_col6, #T_55693_row9_col0, #T_55693_row9_col1, #T_55693_row9_col2, #T_55693_row9_col3, #T_55693_row9_col4, #T_55693_row9_col5, #T_55693_row9_col6, #T_55693_row10_col0, #T_55693_row10_col1, #T_55693_row10_col2, #T_55693_row10_col3, #T_55693_row10_col4, #T_55693_row10_col5, #T_55693_row10_col6, #T_55693_row11_col0, #T_55693_row11_col1, #T_55693_row11_col2, #T_55693_row11_col3, #T_55693_row11_col4, #T_55693_row11_col5, #T_55693_row11_col6, #T_55693_row12_col0, #T_55693_row12_col1, #T_55693_row12_col2, #T_55693_row12_col3, #T_55693_row12_col4, #T_55693_row12_col5, #T_55693_row12_col6, #T_55693_row13_col0, #T_55693_row13_col1, #T_55693_row13_col2, #T_55693_row13_col3, #T_55693_row13_col4, #T_55693_row13_col5, #T_55693_row13_col6, #T_55693_row14_col0, #T_55693_row14_col1, #T_55693_row14_col2, #T_55693_row14_col3, #T_55693_row14_col4, #T_55693_row14_col5, #T_55693_row14_col6, #T_55693_row15_col0, #T_55693_row15_col1, #T_55693_row15_col2, #T_55693_row15_col3, #T_55693_row15_col4, #T_55693_row15_col5, #T_55693_row15_col6, #T_55693_row16_col0, #T_55693_row16_col1, #T_55693_row16_col2, #T_55693_row16_col3, #T_55693_row16_col4, #T_55693_row16_col5, #T_55693_row16_col6, #T_55693_row17_col0, #T_55693_row17_col1, #T_55693_row17_col2, #T_55693_row17_col3, #T_55693_row17_col4, #T_55693_row17_col5, #T_55693_row17_col6, #T_55693_row18_col0, #T_55693_row18_col1, #T_55693_row18_col2, #T_55693_row18_col3, #T_55693_row18_col4, #T_55693_row18_col5, #T_55693_row18_col6, #T_55693_row19_col0, #T_55693_row19_col1, #T_55693_row19_col2, #T_55693_row19_col3, #T_55693_row19_col4, #T_55693_row19_col5, #T_55693_row19_col6 {\n",
              "  text-align: left;\n",
              "}\n",
              "#T_55693_row0_col1, #T_55693_row0_col2, #T_55693_row0_col3, #T_55693_row0_col4, #T_55693_row0_col5, #T_55693_row0_col6, #T_55693_row1_col1, #T_55693_row1_col2, #T_55693_row1_col3, #T_55693_row1_col4, #T_55693_row1_col5, #T_55693_row1_col6, #T_55693_row2_col2, #T_55693_row2_col4, #T_55693_row3_col1, #T_55693_row3_col2, #T_55693_row3_col3, #T_55693_row3_col4, #T_55693_row3_col5, #T_55693_row3_col6, #T_55693_row4_col1, #T_55693_row4_col2, #T_55693_row4_col3, #T_55693_row4_col4, #T_55693_row4_col5, #T_55693_row4_col6, #T_55693_row5_col1, #T_55693_row5_col2, #T_55693_row5_col3, #T_55693_row5_col4, #T_55693_row5_col5, #T_55693_row5_col6 {\n",
              "  text-align: left;\n",
              "  background-color: yellow;\n",
              "}\n",
              "#T_55693_row0_col7, #T_55693_row1_col7, #T_55693_row2_col7, #T_55693_row3_col7, #T_55693_row5_col7, #T_55693_row6_col7, #T_55693_row7_col7, #T_55693_row8_col7, #T_55693_row9_col7, #T_55693_row10_col7, #T_55693_row11_col7, #T_55693_row12_col7, #T_55693_row13_col7, #T_55693_row14_col7, #T_55693_row15_col7, #T_55693_row17_col7, #T_55693_row18_col7 {\n",
              "  text-align: left;\n",
              "  background-color: lightgrey;\n",
              "}\n",
              "#T_55693_row4_col7, #T_55693_row16_col7, #T_55693_row19_col7 {\n",
              "  text-align: left;\n",
              "  background-color: yellow;\n",
              "  background-color: lightgrey;\n",
              "}\n",
              "</style>\n",
              "<table id=\"T_55693\" class=\"dataframe\">\n",
              "  <thead>\n",
              "    <tr>\n",
              "      <th class=\"blank level0\" >&nbsp;</th>\n",
              "      <th id=\"T_55693_level0_col0\" class=\"col_heading level0 col0\" >Model</th>\n",
              "      <th id=\"T_55693_level0_col1\" class=\"col_heading level0 col1\" >MAE</th>\n",
              "      <th id=\"T_55693_level0_col2\" class=\"col_heading level0 col2\" >MSE</th>\n",
              "      <th id=\"T_55693_level0_col3\" class=\"col_heading level0 col3\" >RMSE</th>\n",
              "      <th id=\"T_55693_level0_col4\" class=\"col_heading level0 col4\" >R2</th>\n",
              "      <th id=\"T_55693_level0_col5\" class=\"col_heading level0 col5\" >RMSLE</th>\n",
              "      <th id=\"T_55693_level0_col6\" class=\"col_heading level0 col6\" >MAPE</th>\n",
              "      <th id=\"T_55693_level0_col7\" class=\"col_heading level0 col7\" >TT (Sec)</th>\n",
              "    </tr>\n",
              "  </thead>\n",
              "  <tbody>\n",
              "    <tr>\n",
              "      <th id=\"T_55693_level0_row0\" class=\"row_heading level0 row0\" >lr</th>\n",
              "      <td id=\"T_55693_row0_col0\" class=\"data row0 col0\" >Linear Regression</td>\n",
              "      <td id=\"T_55693_row0_col1\" class=\"data row0 col1\" >0.0000</td>\n",
              "      <td id=\"T_55693_row0_col2\" class=\"data row0 col2\" >0.0000</td>\n",
              "      <td id=\"T_55693_row0_col3\" class=\"data row0 col3\" >0.0000</td>\n",
              "      <td id=\"T_55693_row0_col4\" class=\"data row0 col4\" >1.0000</td>\n",
              "      <td id=\"T_55693_row0_col5\" class=\"data row0 col5\" >0.0000</td>\n",
              "      <td id=\"T_55693_row0_col6\" class=\"data row0 col6\" >0.0000</td>\n",
              "      <td id=\"T_55693_row0_col7\" class=\"data row0 col7\" >0.0260</td>\n",
              "    </tr>\n",
              "    <tr>\n",
              "      <th id=\"T_55693_level0_row1\" class=\"row_heading level0 row1\" >huber</th>\n",
              "      <td id=\"T_55693_row1_col0\" class=\"data row1 col0\" >Huber Regressor</td>\n",
              "      <td id=\"T_55693_row1_col1\" class=\"data row1 col1\" >0.0000</td>\n",
              "      <td id=\"T_55693_row1_col2\" class=\"data row1 col2\" >0.0000</td>\n",
              "      <td id=\"T_55693_row1_col3\" class=\"data row1 col3\" >0.0000</td>\n",
              "      <td id=\"T_55693_row1_col4\" class=\"data row1 col4\" >1.0000</td>\n",
              "      <td id=\"T_55693_row1_col5\" class=\"data row1 col5\" >0.0000</td>\n",
              "      <td id=\"T_55693_row1_col6\" class=\"data row1 col6\" >0.0000</td>\n",
              "      <td id=\"T_55693_row1_col7\" class=\"data row1 col7\" >0.0800</td>\n",
              "    </tr>\n",
              "    <tr>\n",
              "      <th id=\"T_55693_level0_row2\" class=\"row_heading level0 row2\" >ridge</th>\n",
              "      <td id=\"T_55693_row2_col0\" class=\"data row2 col0\" >Ridge Regression</td>\n",
              "      <td id=\"T_55693_row2_col1\" class=\"data row2 col1\" >0.0006</td>\n",
              "      <td id=\"T_55693_row2_col2\" class=\"data row2 col2\" >0.0000</td>\n",
              "      <td id=\"T_55693_row2_col3\" class=\"data row2 col3\" >0.0007</td>\n",
              "      <td id=\"T_55693_row2_col4\" class=\"data row2 col4\" >1.0000</td>\n",
              "      <td id=\"T_55693_row2_col5\" class=\"data row2 col5\" >0.0002</td>\n",
              "      <td id=\"T_55693_row2_col6\" class=\"data row2 col6\" >0.0002</td>\n",
              "      <td id=\"T_55693_row2_col7\" class=\"data row2 col7\" >0.0260</td>\n",
              "    </tr>\n",
              "    <tr>\n",
              "      <th id=\"T_55693_level0_row3\" class=\"row_heading level0 row3\" >lar</th>\n",
              "      <td id=\"T_55693_row3_col0\" class=\"data row3 col0\" >Least Angle Regression</td>\n",
              "      <td id=\"T_55693_row3_col1\" class=\"data row3 col1\" >0.0000</td>\n",
              "      <td id=\"T_55693_row3_col2\" class=\"data row3 col2\" >0.0000</td>\n",
              "      <td id=\"T_55693_row3_col3\" class=\"data row3 col3\" >0.0000</td>\n",
              "      <td id=\"T_55693_row3_col4\" class=\"data row3 col4\" >1.0000</td>\n",
              "      <td id=\"T_55693_row3_col5\" class=\"data row3 col5\" >0.0000</td>\n",
              "      <td id=\"T_55693_row3_col6\" class=\"data row3 col6\" >0.0000</td>\n",
              "      <td id=\"T_55693_row3_col7\" class=\"data row3 col7\" >0.0270</td>\n",
              "    </tr>\n",
              "    <tr>\n",
              "      <th id=\"T_55693_level0_row4\" class=\"row_heading level0 row4\" >omp</th>\n",
              "      <td id=\"T_55693_row4_col0\" class=\"data row4 col0\" >Orthogonal Matching Pursuit</td>\n",
              "      <td id=\"T_55693_row4_col1\" class=\"data row4 col1\" >0.0000</td>\n",
              "      <td id=\"T_55693_row4_col2\" class=\"data row4 col2\" >0.0000</td>\n",
              "      <td id=\"T_55693_row4_col3\" class=\"data row4 col3\" >0.0000</td>\n",
              "      <td id=\"T_55693_row4_col4\" class=\"data row4 col4\" >1.0000</td>\n",
              "      <td id=\"T_55693_row4_col5\" class=\"data row4 col5\" >0.0000</td>\n",
              "      <td id=\"T_55693_row4_col6\" class=\"data row4 col6\" >0.0000</td>\n",
              "      <td id=\"T_55693_row4_col7\" class=\"data row4 col7\" >0.0250</td>\n",
              "    </tr>\n",
              "    <tr>\n",
              "      <th id=\"T_55693_level0_row5\" class=\"row_heading level0 row5\" >br</th>\n",
              "      <td id=\"T_55693_row5_col0\" class=\"data row5 col0\" >Bayesian Ridge</td>\n",
              "      <td id=\"T_55693_row5_col1\" class=\"data row5 col1\" >0.0000</td>\n",
              "      <td id=\"T_55693_row5_col2\" class=\"data row5 col2\" >0.0000</td>\n",
              "      <td id=\"T_55693_row5_col3\" class=\"data row5 col3\" >0.0000</td>\n",
              "      <td id=\"T_55693_row5_col4\" class=\"data row5 col4\" >1.0000</td>\n",
              "      <td id=\"T_55693_row5_col5\" class=\"data row5 col5\" >0.0000</td>\n",
              "      <td id=\"T_55693_row5_col6\" class=\"data row5 col6\" >0.0000</td>\n",
              "      <td id=\"T_55693_row5_col7\" class=\"data row5 col7\" >0.0290</td>\n",
              "    </tr>\n",
              "    <tr>\n",
              "      <th id=\"T_55693_level0_row6\" class=\"row_heading level0 row6\" >xgboost</th>\n",
              "      <td id=\"T_55693_row6_col0\" class=\"data row6 col0\" >Extreme Gradient Boosting</td>\n",
              "      <td id=\"T_55693_row6_col1\" class=\"data row6 col1\" >0.0061</td>\n",
              "      <td id=\"T_55693_row6_col2\" class=\"data row6 col2\" >0.0047</td>\n",
              "      <td id=\"T_55693_row6_col3\" class=\"data row6 col3\" >0.0375</td>\n",
              "      <td id=\"T_55693_row6_col4\" class=\"data row6 col4\" >0.9994</td>\n",
              "      <td id=\"T_55693_row6_col5\" class=\"data row6 col5\" >0.0079</td>\n",
              "      <td id=\"T_55693_row6_col6\" class=\"data row6 col6\" >0.0029</td>\n",
              "      <td id=\"T_55693_row6_col7\" class=\"data row6 col7\" >0.0500</td>\n",
              "    </tr>\n",
              "    <tr>\n",
              "      <th id=\"T_55693_level0_row7\" class=\"row_heading level0 row7\" >dt</th>\n",
              "      <td id=\"T_55693_row7_col0\" class=\"data row7 col0\" >Decision Tree Regressor</td>\n",
              "      <td id=\"T_55693_row7_col1\" class=\"data row7 col1\" >0.0049</td>\n",
              "      <td id=\"T_55693_row7_col2\" class=\"data row7 col2\" >0.0046</td>\n",
              "      <td id=\"T_55693_row7_col3\" class=\"data row7 col3\" >0.0353</td>\n",
              "      <td id=\"T_55693_row7_col4\" class=\"data row7 col4\" >0.9994</td>\n",
              "      <td id=\"T_55693_row7_col5\" class=\"data row7 col5\" >0.0072</td>\n",
              "      <td id=\"T_55693_row7_col6\" class=\"data row7 col6\" >0.0021</td>\n",
              "      <td id=\"T_55693_row7_col7\" class=\"data row7 col7\" >0.0260</td>\n",
              "    </tr>\n",
              "    <tr>\n",
              "      <th id=\"T_55693_level0_row8\" class=\"row_heading level0 row8\" >catboost</th>\n",
              "      <td id=\"T_55693_row8_col0\" class=\"data row8 col0\" >CatBoost Regressor</td>\n",
              "      <td id=\"T_55693_row8_col1\" class=\"data row8 col1\" >0.0116</td>\n",
              "      <td id=\"T_55693_row8_col2\" class=\"data row8 col2\" >0.0047</td>\n",
              "      <td id=\"T_55693_row8_col3\" class=\"data row8 col3\" >0.0393</td>\n",
              "      <td id=\"T_55693_row8_col4\" class=\"data row8 col4\" >0.9994</td>\n",
              "      <td id=\"T_55693_row8_col5\" class=\"data row8 col5\" >0.0097</td>\n",
              "      <td id=\"T_55693_row8_col6\" class=\"data row8 col6\" >0.0100</td>\n",
              "      <td id=\"T_55693_row8_col7\" class=\"data row8 col7\" >0.4280</td>\n",
              "    </tr>\n",
              "    <tr>\n",
              "      <th id=\"T_55693_level0_row9\" class=\"row_heading level0 row9\" >et</th>\n",
              "      <td id=\"T_55693_row9_col0\" class=\"data row9 col0\" >Extra Trees Regressor</td>\n",
              "      <td id=\"T_55693_row9_col1\" class=\"data row9 col1\" >0.0029</td>\n",
              "      <td id=\"T_55693_row9_col2\" class=\"data row9 col2\" >0.0041</td>\n",
              "      <td id=\"T_55693_row9_col3\" class=\"data row9 col3\" >0.0233</td>\n",
              "      <td id=\"T_55693_row9_col4\" class=\"data row9 col4\" >0.9994</td>\n",
              "      <td id=\"T_55693_row9_col5\" class=\"data row9 col5\" >0.0038</td>\n",
              "      <td id=\"T_55693_row9_col6\" class=\"data row9 col6\" >0.0006</td>\n",
              "      <td id=\"T_55693_row9_col7\" class=\"data row9 col7\" >0.1330</td>\n",
              "    </tr>\n",
              "    <tr>\n",
              "      <th id=\"T_55693_level0_row10\" class=\"row_heading level0 row10\" >gbr</th>\n",
              "      <td id=\"T_55693_row10_col0\" class=\"data row10 col0\" >Gradient Boosting Regressor</td>\n",
              "      <td id=\"T_55693_row10_col1\" class=\"data row10 col1\" >0.0072</td>\n",
              "      <td id=\"T_55693_row10_col2\" class=\"data row10 col2\" >0.0046</td>\n",
              "      <td id=\"T_55693_row10_col3\" class=\"data row10 col3\" >0.0371</td>\n",
              "      <td id=\"T_55693_row10_col4\" class=\"data row10 col4\" >0.9994</td>\n",
              "      <td id=\"T_55693_row10_col5\" class=\"data row10 col5\" >0.0083</td>\n",
              "      <td id=\"T_55693_row10_col6\" class=\"data row10 col6\" >0.0049</td>\n",
              "      <td id=\"T_55693_row10_col7\" class=\"data row10 col7\" >0.0830</td>\n",
              "    </tr>\n",
              "    <tr>\n",
              "      <th id=\"T_55693_level0_row11\" class=\"row_heading level0 row11\" >rf</th>\n",
              "      <td id=\"T_55693_row11_col0\" class=\"data row11 col0\" >Random Forest Regressor</td>\n",
              "      <td id=\"T_55693_row11_col1\" class=\"data row11 col1\" >0.0081</td>\n",
              "      <td id=\"T_55693_row11_col2\" class=\"data row11 col2\" >0.0060</td>\n",
              "      <td id=\"T_55693_row11_col3\" class=\"data row11 col3\" >0.0420</td>\n",
              "      <td id=\"T_55693_row11_col4\" class=\"data row11 col4\" >0.9992</td>\n",
              "      <td id=\"T_55693_row11_col5\" class=\"data row11 col5\" >0.0096</td>\n",
              "      <td id=\"T_55693_row11_col6\" class=\"data row11 col6\" >0.0058</td>\n",
              "      <td id=\"T_55693_row11_col7\" class=\"data row11 col7\" >0.2070</td>\n",
              "    </tr>\n",
              "    <tr>\n",
              "      <th id=\"T_55693_level0_row12\" class=\"row_heading level0 row12\" >knn</th>\n",
              "      <td id=\"T_55693_row12_col0\" class=\"data row12 col0\" >K Neighbors Regressor</td>\n",
              "      <td id=\"T_55693_row12_col1\" class=\"data row12 col1\" >0.0163</td>\n",
              "      <td id=\"T_55693_row12_col2\" class=\"data row12 col2\" >0.0090</td>\n",
              "      <td id=\"T_55693_row12_col3\" class=\"data row12 col3\" >0.0609</td>\n",
              "      <td id=\"T_55693_row12_col4\" class=\"data row12 col4\" >0.9988</td>\n",
              "      <td id=\"T_55693_row12_col5\" class=\"data row12 col5\" >0.0164</td>\n",
              "      <td id=\"T_55693_row12_col6\" class=\"data row12 col6\" >0.0193</td>\n",
              "      <td id=\"T_55693_row12_col7\" class=\"data row12 col7\" >0.0380</td>\n",
              "    </tr>\n",
              "    <tr>\n",
              "      <th id=\"T_55693_level0_row13\" class=\"row_heading level0 row13\" >par</th>\n",
              "      <td id=\"T_55693_row13_col0\" class=\"data row13 col0\" >Passive Aggressive Regressor</td>\n",
              "      <td id=\"T_55693_row13_col1\" class=\"data row13 col1\" >0.0882</td>\n",
              "      <td id=\"T_55693_row13_col2\" class=\"data row13 col2\" >0.0106</td>\n",
              "      <td id=\"T_55693_row13_col3\" class=\"data row13 col3\" >0.1000</td>\n",
              "      <td id=\"T_55693_row13_col4\" class=\"data row13 col4\" >0.9985</td>\n",
              "      <td id=\"T_55693_row13_col5\" class=\"data row13 col5\" >0.0301</td>\n",
              "      <td id=\"T_55693_row13_col6\" class=\"data row13 col6\" >0.0549</td>\n",
              "      <td id=\"T_55693_row13_col7\" class=\"data row13 col7\" >0.0470</td>\n",
              "    </tr>\n",
              "    <tr>\n",
              "      <th id=\"T_55693_level0_row14\" class=\"row_heading level0 row14\" >lightgbm</th>\n",
              "      <td id=\"T_55693_row14_col0\" class=\"data row14 col0\" >Light Gradient Boosting Machine</td>\n",
              "      <td id=\"T_55693_row14_col1\" class=\"data row14 col1\" >0.0370</td>\n",
              "      <td id=\"T_55693_row14_col2\" class=\"data row14 col2\" >0.0214</td>\n",
              "      <td id=\"T_55693_row14_col3\" class=\"data row14 col3\" >0.1190</td>\n",
              "      <td id=\"T_55693_row14_col4\" class=\"data row14 col4\" >0.9971</td>\n",
              "      <td id=\"T_55693_row14_col5\" class=\"data row14 col5\" >0.0269</td>\n",
              "      <td id=\"T_55693_row14_col6\" class=\"data row14 col6\" >0.0242</td>\n",
              "      <td id=\"T_55693_row14_col7\" class=\"data row14 col7\" >0.2760</td>\n",
              "    </tr>\n",
              "    <tr>\n",
              "      <th id=\"T_55693_level0_row15\" class=\"row_heading level0 row15\" >ada</th>\n",
              "      <td id=\"T_55693_row15_col0\" class=\"data row15 col0\" >AdaBoost Regressor</td>\n",
              "      <td id=\"T_55693_row15_col1\" class=\"data row15 col1\" >0.0996</td>\n",
              "      <td id=\"T_55693_row15_col2\" class=\"data row15 col2\" >0.0250</td>\n",
              "      <td id=\"T_55693_row15_col3\" class=\"data row15 col3\" >0.1472</td>\n",
              "      <td id=\"T_55693_row15_col4\" class=\"data row15 col4\" >0.9965</td>\n",
              "      <td id=\"T_55693_row15_col5\" class=\"data row15 col5\" >0.0502</td>\n",
              "      <td id=\"T_55693_row15_col6\" class=\"data row15 col6\" >0.1203</td>\n",
              "      <td id=\"T_55693_row15_col7\" class=\"data row15 col7\" >0.0970</td>\n",
              "    </tr>\n",
              "    <tr>\n",
              "      <th id=\"T_55693_level0_row16\" class=\"row_heading level0 row16\" >en</th>\n",
              "      <td id=\"T_55693_row16_col0\" class=\"data row16 col0\" >Elastic Net</td>\n",
              "      <td id=\"T_55693_row16_col1\" class=\"data row16 col1\" >0.3167</td>\n",
              "      <td id=\"T_55693_row16_col2\" class=\"data row16 col2\" >0.1243</td>\n",
              "      <td id=\"T_55693_row16_col3\" class=\"data row16 col3\" >0.3516</td>\n",
              "      <td id=\"T_55693_row16_col4\" class=\"data row16 col4\" >0.9823</td>\n",
              "      <td id=\"T_55693_row16_col5\" class=\"data row16 col5\" >0.0941</td>\n",
              "      <td id=\"T_55693_row16_col6\" class=\"data row16 col6\" >0.1318</td>\n",
              "      <td id=\"T_55693_row16_col7\" class=\"data row16 col7\" >0.0250</td>\n",
              "    </tr>\n",
              "    <tr>\n",
              "      <th id=\"T_55693_level0_row17\" class=\"row_heading level0 row17\" >lasso</th>\n",
              "      <td id=\"T_55693_row17_col0\" class=\"data row17 col0\" >Lasso Regression</td>\n",
              "      <td id=\"T_55693_row17_col1\" class=\"data row17 col1\" >0.3392</td>\n",
              "      <td id=\"T_55693_row17_col2\" class=\"data row17 col2\" >0.1426</td>\n",
              "      <td id=\"T_55693_row17_col3\" class=\"data row17 col3\" >0.3766</td>\n",
              "      <td id=\"T_55693_row17_col4\" class=\"data row17 col4\" >0.9797</td>\n",
              "      <td id=\"T_55693_row17_col5\" class=\"data row17 col5\" >0.1012</td>\n",
              "      <td id=\"T_55693_row17_col6\" class=\"data row17 col6\" >0.1411</td>\n",
              "      <td id=\"T_55693_row17_col7\" class=\"data row17 col7\" >0.0260</td>\n",
              "    </tr>\n",
              "    <tr>\n",
              "      <th id=\"T_55693_level0_row18\" class=\"row_heading level0 row18\" >llar</th>\n",
              "      <td id=\"T_55693_row18_col0\" class=\"data row18 col0\" >Lasso Least Angle Regression</td>\n",
              "      <td id=\"T_55693_row18_col1\" class=\"data row18 col1\" >0.3392</td>\n",
              "      <td id=\"T_55693_row18_col2\" class=\"data row18 col2\" >0.1426</td>\n",
              "      <td id=\"T_55693_row18_col3\" class=\"data row18 col3\" >0.3766</td>\n",
              "      <td id=\"T_55693_row18_col4\" class=\"data row18 col4\" >0.9797</td>\n",
              "      <td id=\"T_55693_row18_col5\" class=\"data row18 col5\" >0.1012</td>\n",
              "      <td id=\"T_55693_row18_col6\" class=\"data row18 col6\" >0.1411</td>\n",
              "      <td id=\"T_55693_row18_col7\" class=\"data row18 col7\" >0.0300</td>\n",
              "    </tr>\n",
              "    <tr>\n",
              "      <th id=\"T_55693_level0_row19\" class=\"row_heading level0 row19\" >dummy</th>\n",
              "      <td id=\"T_55693_row19_col0\" class=\"data row19 col0\" >Dummy Regressor</td>\n",
              "      <td id=\"T_55693_row19_col1\" class=\"data row19 col1\" >2.3884</td>\n",
              "      <td id=\"T_55693_row19_col2\" class=\"data row19 col2\" >7.0566</td>\n",
              "      <td id=\"T_55693_row19_col3\" class=\"data row19 col3\" >2.6518</td>\n",
              "      <td id=\"T_55693_row19_col4\" class=\"data row19 col4\" >-0.0082</td>\n",
              "      <td id=\"T_55693_row19_col5\" class=\"data row19 col5\" >1.1787</td>\n",
              "      <td id=\"T_55693_row19_col6\" class=\"data row19 col6\" >0.9943</td>\n",
              "      <td id=\"T_55693_row19_col7\" class=\"data row19 col7\" >0.0250</td>\n",
              "    </tr>\n",
              "  </tbody>\n",
              "</table>\n"
            ]
          },
          "metadata": {}
        },
        {
          "output_type": "display_data",
          "data": {
            "text/plain": [
              "Processing:   0%|          | 0/85 [00:00<?, ?it/s]"
            ],
            "application/vnd.jupyter.widget-view+json": {
              "version_major": 2,
              "version_minor": 0,
              "model_id": "0a1f93ea192a4eb49f986c8fec366c7c"
            }
          },
          "metadata": {
            "application/vnd.jupyter.widget-view+json": {
              "colab": {
                "custom_widget_manager": {
                  "url": "https://ssl.gstatic.com/colaboratory-static/widgets/colab-cdn-widget-manager/2b70e893a8ba7c0f/manager.min.js"
                }
              }
            }
          }
        },
        {
          "output_type": "display_data",
          "data": {
            "text/plain": [
              "<IPython.core.display.HTML object>"
            ],
            "text/html": []
          },
          "metadata": {}
        }
      ],
      "source": [
        "# compare baseline models\n",
        "best = compare_models()"
      ]
    },
    {
      "cell_type": "markdown",
      "id": "6a77ec0c",
      "metadata": {
        "id": "6a77ec0c"
      },
      "source": [
        "## Analyze Model"
      ]
    },
    {
      "cell_type": "markdown",
      "id": "595ea108",
      "metadata": {
        "id": "595ea108"
      },
      "source": [
        "The `plot_model` function is used to analyze the performance of a trained model on the test set. It may require re-training the model in certain cases."
      ]
    },
    {
      "cell_type": "code",
      "execution_count": 92,
      "id": "0ec7fad6",
      "metadata": {
        "id": "0ec7fad6"
      },
      "outputs": [],
      "source": [
        "# # plot residuals\n",
        "# plot_model(best, plot = 'residuals')"
      ]
    },
    {
      "cell_type": "code",
      "source": [
        "# # plot error\n",
        "# plot_model(best, plot = 'error')"
      ],
      "metadata": {
        "id": "lUeZro2SAWcK"
      },
      "id": "lUeZro2SAWcK",
      "execution_count": 74,
      "outputs": []
    },
    {
      "cell_type": "code",
      "execution_count": 75,
      "id": "bbc790e4",
      "metadata": {
        "id": "bbc790e4"
      },
      "outputs": [],
      "source": [
        "# # plot feature importance\n",
        "# # plot_model(best, plot = 'feature')\n",
        "# #-------------------------------\n",
        "# import matplotlib.pyplot as plt\n",
        "# # Plot and retrieve feature importance\n",
        "# plot_model(best, plot='feature')\n",
        "# plt.savefig('Temp_feature_importance_plot.jpg', dpi=300, bbox_inches='tight')\n",
        "\n",
        "# # Retrieve the configuration\n",
        "# config = get_config('X_train')\n",
        "\n",
        "# # Access feature values\n",
        "# feature_values = config.columns\n",
        "\n",
        "# # Retrieve feature importance values\n",
        "# feature_importance_values = best.get_feature_importance()\n",
        "\n",
        "# # Create a DataFrame to store feature names, values, and importance\n",
        "# feature_df = pd.DataFrame({'Feature': feature_values, 'Importance': feature_importance_values})\n",
        "\n",
        "# # Print the merged DataFrame\n",
        "# print(feature_df)\n",
        "\n",
        "# # Save to an Excel file\n",
        "# feature_df.to_excel('Temp_feature_values_importance.xlsx', index=False)"
      ]
    },
    {
      "cell_type": "code",
      "execution_count": null,
      "id": "da718984",
      "metadata": {
        "id": "da718984"
      },
      "outputs": [],
      "source": [
        "# # check docstring to see available plots\n",
        "# help(plot_model)"
      ]
    },
    {
      "cell_type": "markdown",
      "id": "6bd66179",
      "metadata": {
        "id": "6bd66179"
      },
      "source": [
        "An alternate to `plot_model` function is `evaluate_model`. It can only be used in Notebook since it uses `ipywidget`."
      ]
    },
    {
      "cell_type": "code",
      "source": [
        "evaluate_model(best)"
      ],
      "metadata": {
        "id": "TvLKQBXSAJTb",
        "outputId": "010cb546-0a10-42ce-e74d-a7ee10acb8a0",
        "colab": {
          "base_uri": "https://localhost:8080/",
          "height": 204,
          "referenced_widgets": [
            "5347f28b287d43b792834c19f43e9916",
            "ddc1f3338bdf471f869d8ffb1ae088c3",
            "cad48484877b4ff99194d725fa50ec77",
            "351f9d6968cf436a84c479c6eb511d30",
            "29a6ee021bb0455ea03cd5ea47aaf6d7",
            "fc3d787b0a024b91becba53a6d49ce79",
            "c7426bb6266f4519b7b7b0b4c480b9e0"
          ]
        }
      },
      "id": "TvLKQBXSAJTb",
      "execution_count": 100,
      "outputs": [
        {
          "output_type": "display_data",
          "data": {
            "text/plain": [
              "interactive(children=(ToggleButtons(description='Plot Type:', icons=('',), options=(('Pipeline Plot', 'pipelin…"
            ],
            "application/vnd.jupyter.widget-view+json": {
              "version_major": 2,
              "version_minor": 0,
              "model_id": "5347f28b287d43b792834c19f43e9916"
            }
          },
          "metadata": {
            "application/vnd.jupyter.widget-view+json": {
              "colab": {
                "custom_widget_manager": {
                  "url": "https://ssl.gstatic.com/colaboratory-static/widgets/colab-cdn-widget-manager/2b70e893a8ba7c0f/manager.min.js"
                }
              }
            }
          }
        }
      ]
    },
    {
      "cell_type": "markdown",
      "id": "ab3d2f1e",
      "metadata": {
        "id": "ab3d2f1e"
      },
      "source": [
        "___"
      ]
    },
    {
      "cell_type": "markdown",
      "id": "954cbeff",
      "metadata": {
        "id": "954cbeff"
      },
      "source": [
        "## Prediction\n",
        "The `predict_model` function returns `prediction_label` as new column to the input dataframe. When data is `None` (default), it uses the test set (created during the setup function) for scoring."
      ]
    },
    {
      "cell_type": "code",
      "source": [
        "# # predict on test set\n",
        "# holdout_pred = predict_model(best)"
      ],
      "metadata": {
        "id": "ywFLo2huAPZ4"
      },
      "id": "ywFLo2huAPZ4",
      "execution_count": 60,
      "outputs": []
    },
    {
      "cell_type": "code",
      "execution_count": 59,
      "id": "5c01ac77",
      "metadata": {
        "id": "5c01ac77"
      },
      "outputs": [],
      "source": [
        "# # show predictions df\n",
        "# holdout_pred.head()"
      ]
    },
    {
      "cell_type": "markdown",
      "id": "3950252d",
      "metadata": {
        "id": "3950252d"
      },
      "source": [
        "___"
      ]
    },
    {
      "cell_type": "markdown",
      "id": "e4384735",
      "metadata": {
        "id": "e4384735"
      },
      "source": [
        "## Save Model"
      ]
    },
    {
      "cell_type": "markdown",
      "id": "cd63f053",
      "metadata": {
        "id": "cd63f053"
      },
      "source": [
        "Finally, you can save the entire pipeline on disk for later use, using pycaret's `save_model` function."
      ]
    },
    {
      "cell_type": "code",
      "execution_count": 58,
      "id": "4181de41",
      "metadata": {
        "id": "4181de41"
      },
      "outputs": [],
      "source": [
        "# # save pipeline\n",
        "# save_model(best, 'my_first_pipeline')"
      ]
    },
    {
      "cell_type": "code",
      "execution_count": 57,
      "id": "40ed5152",
      "metadata": {
        "id": "40ed5152"
      },
      "outputs": [],
      "source": [
        "# # load pipeline\n",
        "# loaded_best_pipeline = load_model('my_first_pipeline')\n",
        "# loaded_best_pipeline"
      ]
    },
    {
      "cell_type": "markdown",
      "source": [
        "# 👇 Create Reqired Tree Function\n",
        "\n"
      ],
      "metadata": {
        "id": "HdXOdQnjuY62"
      },
      "id": "HdXOdQnjuY62"
    },
    {
      "cell_type": "markdown",
      "metadata": {
        "id": "zs58YdhCwVuk"
      },
      "source": [
        "## ✅ Finalize Model\n",
        "This function trains a given model on the entire dataset including the hold-out set."
      ],
      "id": "zs58YdhCwVuk"
    },
    {
      "cell_type": "code",
      "execution_count": 55,
      "metadata": {
        "id": "YtWkO2lWwVur"
      },
      "outputs": [],
      "source": [
        "# final_best = finalize_model(best)"
      ],
      "id": "YtWkO2lWwVur"
    },
    {
      "cell_type": "code",
      "execution_count": 56,
      "metadata": {
        "id": "KgenqRCrwVus"
      },
      "outputs": [],
      "source": [
        "# final_best"
      ],
      "id": "KgenqRCrwVus"
    },
    {
      "cell_type": "markdown",
      "metadata": {
        "id": "1hjKENzvwVus"
      },
      "source": [
        "## ✅ Compare Models\n",
        "The `compare_models` function trains and evaluates the performance of all estimators available in the model library using cross-validation. The output of this function is a scoring grid with average cross-validated scores. Metrics evaluated during CV can be accessed using the `get_metrics` function. Custom metrics can be added or removed using `add_metric` and `remove_metric` function."
      ],
      "id": "1hjKENzvwVus"
    },
    {
      "cell_type": "code",
      "execution_count": 66,
      "metadata": {
        "id": "hn4mJ_UPwVus"
      },
      "outputs": [],
      "source": [
        "# best = compare_models()"
      ],
      "id": "hn4mJ_UPwVus"
    },
    {
      "cell_type": "markdown",
      "metadata": {
        "id": "j4QK4F9owVus"
      },
      "source": [
        "`compare_models` by default uses all the estimators in model library (all except models with `Turbo=False`) . To see all available models you can use the function `models()`"
      ],
      "id": "j4QK4F9owVus"
    },
    {
      "cell_type": "code",
      "execution_count": null,
      "metadata": {
        "outputId": "0650526a-a354-4f11-f3e1-a12525dffa5c",
        "colab": {
          "base_uri": "https://localhost:8080/",
          "height": 896
        },
        "id": "BsmLWBs7wVut"
      },
      "outputs": [
        {
          "output_type": "execute_result",
          "data": {
            "text/plain": [
              "                                       Name  \\\n",
              "ID                                            \n",
              "lr                        Linear Regression   \n",
              "lasso                      Lasso Regression   \n",
              "ridge                      Ridge Regression   \n",
              "en                              Elastic Net   \n",
              "lar                  Least Angle Regression   \n",
              "llar           Lasso Least Angle Regression   \n",
              "omp             Orthogonal Matching Pursuit   \n",
              "br                           Bayesian Ridge   \n",
              "ard       Automatic Relevance Determination   \n",
              "par            Passive Aggressive Regressor   \n",
              "ransac              Random Sample Consensus   \n",
              "tr                       TheilSen Regressor   \n",
              "huber                       Huber Regressor   \n",
              "kr                             Kernel Ridge   \n",
              "svm               Support Vector Regression   \n",
              "knn                   K Neighbors Regressor   \n",
              "dt                  Decision Tree Regressor   \n",
              "rf                  Random Forest Regressor   \n",
              "et                    Extra Trees Regressor   \n",
              "ada                      AdaBoost Regressor   \n",
              "gbr             Gradient Boosting Regressor   \n",
              "mlp                           MLP Regressor   \n",
              "xgboost           Extreme Gradient Boosting   \n",
              "lightgbm    Light Gradient Boosting Machine   \n",
              "catboost                 CatBoost Regressor   \n",
              "dummy                       Dummy Regressor   \n",
              "\n",
              "                                                  Reference  Turbo  \n",
              "ID                                                                  \n",
              "lr              sklearn.linear_model._base.LinearRegression   True  \n",
              "lasso        sklearn.linear_model._coordinate_descent.Lasso   True  \n",
              "ridge                     sklearn.linear_model._ridge.Ridge   True  \n",
              "en        sklearn.linear_model._coordinate_descent.Elast...   True  \n",
              "lar                  sklearn.linear_model._least_angle.Lars   True  \n",
              "llar            sklearn.linear_model._least_angle.LassoLars   True  \n",
              "omp       sklearn.linear_model._omp.OrthogonalMatchingPu...   True  \n",
              "br                sklearn.linear_model._bayes.BayesianRidge   True  \n",
              "ard               sklearn.linear_model._bayes.ARDRegression  False  \n",
              "par       sklearn.linear_model._passive_aggressive.Passi...   True  \n",
              "ransac         sklearn.linear_model._ransac.RANSACRegressor  False  \n",
              "tr        sklearn.linear_model._theil_sen.TheilSenRegressor  False  \n",
              "huber            sklearn.linear_model._huber.HuberRegressor   True  \n",
              "kr                         sklearn.kernel_ridge.KernelRidge  False  \n",
              "svm                                sklearn.svm._classes.SVR  False  \n",
              "knn       sklearn.neighbors._regression.KNeighborsRegressor   True  \n",
              "dt              sklearn.tree._classes.DecisionTreeRegressor   True  \n",
              "rf           sklearn.ensemble._forest.RandomForestRegressor   True  \n",
              "et             sklearn.ensemble._forest.ExtraTreesRegressor   True  \n",
              "ada       sklearn.ensemble._weight_boosting.AdaBoostRegr...   True  \n",
              "gbr          sklearn.ensemble._gb.GradientBoostingRegressor   True  \n",
              "mlp       sklearn.neural_network._multilayer_perceptron....  False  \n",
              "xgboost                        xgboost.sklearn.XGBRegressor   True  \n",
              "lightgbm                     lightgbm.sklearn.LGBMRegressor   True  \n",
              "catboost                    catboost.core.CatBoostRegressor   True  \n",
              "dummy                          sklearn.dummy.DummyRegressor   True  "
            ],
            "text/html": [
              "\n",
              "  <div id=\"df-f6fe3b0c-1bf1-4654-afac-11e2f24cdc6c\" class=\"colab-df-container\">\n",
              "    <div>\n",
              "<style scoped>\n",
              "    .dataframe tbody tr th:only-of-type {\n",
              "        vertical-align: middle;\n",
              "    }\n",
              "\n",
              "    .dataframe tbody tr th {\n",
              "        vertical-align: top;\n",
              "    }\n",
              "\n",
              "    .dataframe thead th {\n",
              "        text-align: right;\n",
              "    }\n",
              "</style>\n",
              "<table border=\"1\" class=\"dataframe\">\n",
              "  <thead>\n",
              "    <tr style=\"text-align: right;\">\n",
              "      <th></th>\n",
              "      <th>Name</th>\n",
              "      <th>Reference</th>\n",
              "      <th>Turbo</th>\n",
              "    </tr>\n",
              "    <tr>\n",
              "      <th>ID</th>\n",
              "      <th></th>\n",
              "      <th></th>\n",
              "      <th></th>\n",
              "    </tr>\n",
              "  </thead>\n",
              "  <tbody>\n",
              "    <tr>\n",
              "      <th>lr</th>\n",
              "      <td>Linear Regression</td>\n",
              "      <td>sklearn.linear_model._base.LinearRegression</td>\n",
              "      <td>True</td>\n",
              "    </tr>\n",
              "    <tr>\n",
              "      <th>lasso</th>\n",
              "      <td>Lasso Regression</td>\n",
              "      <td>sklearn.linear_model._coordinate_descent.Lasso</td>\n",
              "      <td>True</td>\n",
              "    </tr>\n",
              "    <tr>\n",
              "      <th>ridge</th>\n",
              "      <td>Ridge Regression</td>\n",
              "      <td>sklearn.linear_model._ridge.Ridge</td>\n",
              "      <td>True</td>\n",
              "    </tr>\n",
              "    <tr>\n",
              "      <th>en</th>\n",
              "      <td>Elastic Net</td>\n",
              "      <td>sklearn.linear_model._coordinate_descent.Elast...</td>\n",
              "      <td>True</td>\n",
              "    </tr>\n",
              "    <tr>\n",
              "      <th>lar</th>\n",
              "      <td>Least Angle Regression</td>\n",
              "      <td>sklearn.linear_model._least_angle.Lars</td>\n",
              "      <td>True</td>\n",
              "    </tr>\n",
              "    <tr>\n",
              "      <th>llar</th>\n",
              "      <td>Lasso Least Angle Regression</td>\n",
              "      <td>sklearn.linear_model._least_angle.LassoLars</td>\n",
              "      <td>True</td>\n",
              "    </tr>\n",
              "    <tr>\n",
              "      <th>omp</th>\n",
              "      <td>Orthogonal Matching Pursuit</td>\n",
              "      <td>sklearn.linear_model._omp.OrthogonalMatchingPu...</td>\n",
              "      <td>True</td>\n",
              "    </tr>\n",
              "    <tr>\n",
              "      <th>br</th>\n",
              "      <td>Bayesian Ridge</td>\n",
              "      <td>sklearn.linear_model._bayes.BayesianRidge</td>\n",
              "      <td>True</td>\n",
              "    </tr>\n",
              "    <tr>\n",
              "      <th>ard</th>\n",
              "      <td>Automatic Relevance Determination</td>\n",
              "      <td>sklearn.linear_model._bayes.ARDRegression</td>\n",
              "      <td>False</td>\n",
              "    </tr>\n",
              "    <tr>\n",
              "      <th>par</th>\n",
              "      <td>Passive Aggressive Regressor</td>\n",
              "      <td>sklearn.linear_model._passive_aggressive.Passi...</td>\n",
              "      <td>True</td>\n",
              "    </tr>\n",
              "    <tr>\n",
              "      <th>ransac</th>\n",
              "      <td>Random Sample Consensus</td>\n",
              "      <td>sklearn.linear_model._ransac.RANSACRegressor</td>\n",
              "      <td>False</td>\n",
              "    </tr>\n",
              "    <tr>\n",
              "      <th>tr</th>\n",
              "      <td>TheilSen Regressor</td>\n",
              "      <td>sklearn.linear_model._theil_sen.TheilSenRegressor</td>\n",
              "      <td>False</td>\n",
              "    </tr>\n",
              "    <tr>\n",
              "      <th>huber</th>\n",
              "      <td>Huber Regressor</td>\n",
              "      <td>sklearn.linear_model._huber.HuberRegressor</td>\n",
              "      <td>True</td>\n",
              "    </tr>\n",
              "    <tr>\n",
              "      <th>kr</th>\n",
              "      <td>Kernel Ridge</td>\n",
              "      <td>sklearn.kernel_ridge.KernelRidge</td>\n",
              "      <td>False</td>\n",
              "    </tr>\n",
              "    <tr>\n",
              "      <th>svm</th>\n",
              "      <td>Support Vector Regression</td>\n",
              "      <td>sklearn.svm._classes.SVR</td>\n",
              "      <td>False</td>\n",
              "    </tr>\n",
              "    <tr>\n",
              "      <th>knn</th>\n",
              "      <td>K Neighbors Regressor</td>\n",
              "      <td>sklearn.neighbors._regression.KNeighborsRegressor</td>\n",
              "      <td>True</td>\n",
              "    </tr>\n",
              "    <tr>\n",
              "      <th>dt</th>\n",
              "      <td>Decision Tree Regressor</td>\n",
              "      <td>sklearn.tree._classes.DecisionTreeRegressor</td>\n",
              "      <td>True</td>\n",
              "    </tr>\n",
              "    <tr>\n",
              "      <th>rf</th>\n",
              "      <td>Random Forest Regressor</td>\n",
              "      <td>sklearn.ensemble._forest.RandomForestRegressor</td>\n",
              "      <td>True</td>\n",
              "    </tr>\n",
              "    <tr>\n",
              "      <th>et</th>\n",
              "      <td>Extra Trees Regressor</td>\n",
              "      <td>sklearn.ensemble._forest.ExtraTreesRegressor</td>\n",
              "      <td>True</td>\n",
              "    </tr>\n",
              "    <tr>\n",
              "      <th>ada</th>\n",
              "      <td>AdaBoost Regressor</td>\n",
              "      <td>sklearn.ensemble._weight_boosting.AdaBoostRegr...</td>\n",
              "      <td>True</td>\n",
              "    </tr>\n",
              "    <tr>\n",
              "      <th>gbr</th>\n",
              "      <td>Gradient Boosting Regressor</td>\n",
              "      <td>sklearn.ensemble._gb.GradientBoostingRegressor</td>\n",
              "      <td>True</td>\n",
              "    </tr>\n",
              "    <tr>\n",
              "      <th>mlp</th>\n",
              "      <td>MLP Regressor</td>\n",
              "      <td>sklearn.neural_network._multilayer_perceptron....</td>\n",
              "      <td>False</td>\n",
              "    </tr>\n",
              "    <tr>\n",
              "      <th>xgboost</th>\n",
              "      <td>Extreme Gradient Boosting</td>\n",
              "      <td>xgboost.sklearn.XGBRegressor</td>\n",
              "      <td>True</td>\n",
              "    </tr>\n",
              "    <tr>\n",
              "      <th>lightgbm</th>\n",
              "      <td>Light Gradient Boosting Machine</td>\n",
              "      <td>lightgbm.sklearn.LGBMRegressor</td>\n",
              "      <td>True</td>\n",
              "    </tr>\n",
              "    <tr>\n",
              "      <th>catboost</th>\n",
              "      <td>CatBoost Regressor</td>\n",
              "      <td>catboost.core.CatBoostRegressor</td>\n",
              "      <td>True</td>\n",
              "    </tr>\n",
              "    <tr>\n",
              "      <th>dummy</th>\n",
              "      <td>Dummy Regressor</td>\n",
              "      <td>sklearn.dummy.DummyRegressor</td>\n",
              "      <td>True</td>\n",
              "    </tr>\n",
              "  </tbody>\n",
              "</table>\n",
              "</div>\n",
              "    <div class=\"colab-df-buttons\">\n",
              "\n",
              "  <div class=\"colab-df-container\">\n",
              "    <button class=\"colab-df-convert\" onclick=\"convertToInteractive('df-f6fe3b0c-1bf1-4654-afac-11e2f24cdc6c')\"\n",
              "            title=\"Convert this dataframe to an interactive table.\"\n",
              "            style=\"display:none;\">\n",
              "\n",
              "  <svg xmlns=\"http://www.w3.org/2000/svg\" height=\"24px\" viewBox=\"0 -960 960 960\">\n",
              "    <path d=\"M120-120v-720h720v720H120Zm60-500h600v-160H180v160Zm220 220h160v-160H400v160Zm0 220h160v-160H400v160ZM180-400h160v-160H180v160Zm440 0h160v-160H620v160ZM180-180h160v-160H180v160Zm440 0h160v-160H620v160Z\"/>\n",
              "  </svg>\n",
              "    </button>\n",
              "\n",
              "  <style>\n",
              "    .colab-df-container {\n",
              "      display:flex;\n",
              "      gap: 12px;\n",
              "    }\n",
              "\n",
              "    .colab-df-convert {\n",
              "      background-color: #E8F0FE;\n",
              "      border: none;\n",
              "      border-radius: 50%;\n",
              "      cursor: pointer;\n",
              "      display: none;\n",
              "      fill: #1967D2;\n",
              "      height: 32px;\n",
              "      padding: 0 0 0 0;\n",
              "      width: 32px;\n",
              "    }\n",
              "\n",
              "    .colab-df-convert:hover {\n",
              "      background-color: #E2EBFA;\n",
              "      box-shadow: 0px 1px 2px rgba(60, 64, 67, 0.3), 0px 1px 3px 1px rgba(60, 64, 67, 0.15);\n",
              "      fill: #174EA6;\n",
              "    }\n",
              "\n",
              "    .colab-df-buttons div {\n",
              "      margin-bottom: 4px;\n",
              "    }\n",
              "\n",
              "    [theme=dark] .colab-df-convert {\n",
              "      background-color: #3B4455;\n",
              "      fill: #D2E3FC;\n",
              "    }\n",
              "\n",
              "    [theme=dark] .colab-df-convert:hover {\n",
              "      background-color: #434B5C;\n",
              "      box-shadow: 0px 1px 3px 1px rgba(0, 0, 0, 0.15);\n",
              "      filter: drop-shadow(0px 1px 2px rgba(0, 0, 0, 0.3));\n",
              "      fill: #FFFFFF;\n",
              "    }\n",
              "  </style>\n",
              "\n",
              "    <script>\n",
              "      const buttonEl =\n",
              "        document.querySelector('#df-f6fe3b0c-1bf1-4654-afac-11e2f24cdc6c button.colab-df-convert');\n",
              "      buttonEl.style.display =\n",
              "        google.colab.kernel.accessAllowed ? 'block' : 'none';\n",
              "\n",
              "      async function convertToInteractive(key) {\n",
              "        const element = document.querySelector('#df-f6fe3b0c-1bf1-4654-afac-11e2f24cdc6c');\n",
              "        const dataTable =\n",
              "          await google.colab.kernel.invokeFunction('convertToInteractive',\n",
              "                                                    [key], {});\n",
              "        if (!dataTable) return;\n",
              "\n",
              "        const docLinkHtml = 'Like what you see? Visit the ' +\n",
              "          '<a target=\"_blank\" href=https://colab.research.google.com/notebooks/data_table.ipynb>data table notebook</a>'\n",
              "          + ' to learn more about interactive tables.';\n",
              "        element.innerHTML = '';\n",
              "        dataTable['output_type'] = 'display_data';\n",
              "        await google.colab.output.renderOutput(dataTable, element);\n",
              "        const docLink = document.createElement('div');\n",
              "        docLink.innerHTML = docLinkHtml;\n",
              "        element.appendChild(docLink);\n",
              "      }\n",
              "    </script>\n",
              "  </div>\n",
              "\n",
              "\n",
              "<div id=\"df-079d7361-d47d-4a57-bf58-8842276bdc3c\">\n",
              "  <button class=\"colab-df-quickchart\" onclick=\"quickchart('df-079d7361-d47d-4a57-bf58-8842276bdc3c')\"\n",
              "            title=\"Suggest charts\"\n",
              "            style=\"display:none;\">\n",
              "\n",
              "<svg xmlns=\"http://www.w3.org/2000/svg\" height=\"24px\"viewBox=\"0 0 24 24\"\n",
              "     width=\"24px\">\n",
              "    <g>\n",
              "        <path d=\"M19 3H5c-1.1 0-2 .9-2 2v14c0 1.1.9 2 2 2h14c1.1 0 2-.9 2-2V5c0-1.1-.9-2-2-2zM9 17H7v-7h2v7zm4 0h-2V7h2v10zm4 0h-2v-4h2v4z\"/>\n",
              "    </g>\n",
              "</svg>\n",
              "  </button>\n",
              "\n",
              "<style>\n",
              "  .colab-df-quickchart {\n",
              "      --bg-color: #E8F0FE;\n",
              "      --fill-color: #1967D2;\n",
              "      --hover-bg-color: #E2EBFA;\n",
              "      --hover-fill-color: #174EA6;\n",
              "      --disabled-fill-color: #AAA;\n",
              "      --disabled-bg-color: #DDD;\n",
              "  }\n",
              "\n",
              "  [theme=dark] .colab-df-quickchart {\n",
              "      --bg-color: #3B4455;\n",
              "      --fill-color: #D2E3FC;\n",
              "      --hover-bg-color: #434B5C;\n",
              "      --hover-fill-color: #FFFFFF;\n",
              "      --disabled-bg-color: #3B4455;\n",
              "      --disabled-fill-color: #666;\n",
              "  }\n",
              "\n",
              "  .colab-df-quickchart {\n",
              "    background-color: var(--bg-color);\n",
              "    border: none;\n",
              "    border-radius: 50%;\n",
              "    cursor: pointer;\n",
              "    display: none;\n",
              "    fill: var(--fill-color);\n",
              "    height: 32px;\n",
              "    padding: 0;\n",
              "    width: 32px;\n",
              "  }\n",
              "\n",
              "  .colab-df-quickchart:hover {\n",
              "    background-color: var(--hover-bg-color);\n",
              "    box-shadow: 0 1px 2px rgba(60, 64, 67, 0.3), 0 1px 3px 1px rgba(60, 64, 67, 0.15);\n",
              "    fill: var(--button-hover-fill-color);\n",
              "  }\n",
              "\n",
              "  .colab-df-quickchart-complete:disabled,\n",
              "  .colab-df-quickchart-complete:disabled:hover {\n",
              "    background-color: var(--disabled-bg-color);\n",
              "    fill: var(--disabled-fill-color);\n",
              "    box-shadow: none;\n",
              "  }\n",
              "\n",
              "  .colab-df-spinner {\n",
              "    border: 2px solid var(--fill-color);\n",
              "    border-color: transparent;\n",
              "    border-bottom-color: var(--fill-color);\n",
              "    animation:\n",
              "      spin 1s steps(1) infinite;\n",
              "  }\n",
              "\n",
              "  @keyframes spin {\n",
              "    0% {\n",
              "      border-color: transparent;\n",
              "      border-bottom-color: var(--fill-color);\n",
              "      border-left-color: var(--fill-color);\n",
              "    }\n",
              "    20% {\n",
              "      border-color: transparent;\n",
              "      border-left-color: var(--fill-color);\n",
              "      border-top-color: var(--fill-color);\n",
              "    }\n",
              "    30% {\n",
              "      border-color: transparent;\n",
              "      border-left-color: var(--fill-color);\n",
              "      border-top-color: var(--fill-color);\n",
              "      border-right-color: var(--fill-color);\n",
              "    }\n",
              "    40% {\n",
              "      border-color: transparent;\n",
              "      border-right-color: var(--fill-color);\n",
              "      border-top-color: var(--fill-color);\n",
              "    }\n",
              "    60% {\n",
              "      border-color: transparent;\n",
              "      border-right-color: var(--fill-color);\n",
              "    }\n",
              "    80% {\n",
              "      border-color: transparent;\n",
              "      border-right-color: var(--fill-color);\n",
              "      border-bottom-color: var(--fill-color);\n",
              "    }\n",
              "    90% {\n",
              "      border-color: transparent;\n",
              "      border-bottom-color: var(--fill-color);\n",
              "    }\n",
              "  }\n",
              "</style>\n",
              "\n",
              "  <script>\n",
              "    async function quickchart(key) {\n",
              "      const quickchartButtonEl =\n",
              "        document.querySelector('#' + key + ' button');\n",
              "      quickchartButtonEl.disabled = true;  // To prevent multiple clicks.\n",
              "      quickchartButtonEl.classList.add('colab-df-spinner');\n",
              "      try {\n",
              "        const charts = await google.colab.kernel.invokeFunction(\n",
              "            'suggestCharts', [key], {});\n",
              "      } catch (error) {\n",
              "        console.error('Error during call to suggestCharts:', error);\n",
              "      }\n",
              "      quickchartButtonEl.classList.remove('colab-df-spinner');\n",
              "      quickchartButtonEl.classList.add('colab-df-quickchart-complete');\n",
              "    }\n",
              "    (() => {\n",
              "      let quickchartButtonEl =\n",
              "        document.querySelector('#df-079d7361-d47d-4a57-bf58-8842276bdc3c button');\n",
              "      quickchartButtonEl.style.display =\n",
              "        google.colab.kernel.accessAllowed ? 'block' : 'none';\n",
              "    })();\n",
              "  </script>\n",
              "</div>\n",
              "\n",
              "    </div>\n",
              "  </div>\n"
            ],
            "application/vnd.google.colaboratory.intrinsic+json": {
              "type": "dataframe",
              "summary": "{\n  \"name\": \"models()\",\n  \"rows\": 26,\n  \"fields\": [\n    {\n      \"column\": \"ID\",\n      \"properties\": {\n        \"dtype\": \"string\",\n        \"num_unique_values\": 26,\n        \"samples\": [\n          \"ard\",\n          \"dt\",\n          \"lr\"\n        ],\n        \"semantic_type\": \"\",\n        \"description\": \"\"\n      }\n    },\n    {\n      \"column\": \"Name\",\n      \"properties\": {\n        \"dtype\": \"string\",\n        \"num_unique_values\": 26,\n        \"samples\": [\n          \"Automatic Relevance Determination\",\n          \"Decision Tree Regressor\",\n          \"Linear Regression\"\n        ],\n        \"semantic_type\": \"\",\n        \"description\": \"\"\n      }\n    },\n    {\n      \"column\": \"Reference\",\n      \"properties\": {\n        \"dtype\": \"string\",\n        \"num_unique_values\": 26,\n        \"samples\": [\n          \"sklearn.linear_model._bayes.ARDRegression\",\n          \"sklearn.tree._classes.DecisionTreeRegressor\",\n          \"sklearn.linear_model._base.LinearRegression\"\n        ],\n        \"semantic_type\": \"\",\n        \"description\": \"\"\n      }\n    },\n    {\n      \"column\": \"Turbo\",\n      \"properties\": {\n        \"dtype\": \"boolean\",\n        \"num_unique_values\": 2,\n        \"samples\": [\n          false,\n          true\n        ],\n        \"semantic_type\": \"\",\n        \"description\": \"\"\n      }\n    }\n  ]\n}"
            }
          },
          "metadata": {},
          "execution_count": 112
        }
      ],
      "source": [
        "# check available models\n",
        "models()"
      ],
      "id": "BsmLWBs7wVut"
    },
    {
      "cell_type": "markdown",
      "metadata": {
        "id": "AJclGTEkwVut"
      },
      "source": [
        "You can use the `include` and `exclude` parameter in the `compare_models` to train only select model or exclude specific models from training by passing the model id's in `exclude` parameter."
      ],
      "id": "AJclGTEkwVut"
    },
    {
      "cell_type": "code",
      "execution_count": 103,
      "metadata": {
        "colab": {
          "referenced_widgets": [
            "9618a3258399470fafd148be79043c6f",
            "def46d8922da431e907b60c45871fbff",
            "605152cba63944e690c4225d84879332",
            "054ea58232ef4f278ca6cce6cc5cd0a2",
            "c14d14b2b313478e9989923bf4387900",
            "73510e60072443f09dae54b7f11a1014",
            "3ccfa123f9e34030ad9b514b26f7721e",
            "2140fc9f117f40b8b9aafebc0ab70b2d",
            "d342f562eff84490af9ddbb14ac03254",
            "62856d74faf544f5b5c29386a0bc1579",
            "1c2ec0af13bc4312bc91d266dfcd115c"
          ],
          "base_uri": "https://localhost:8080/",
          "height": 269
        },
        "outputId": "17c3b545-f77c-4f4e-93c7-1a1057b7b7b1",
        "id": "MzXmxoSzwVut"
      },
      "outputs": [
        {
          "output_type": "display_data",
          "data": {
            "text/plain": [
              "<IPython.core.display.HTML object>"
            ],
            "text/html": []
          },
          "metadata": {}
        },
        {
          "output_type": "display_data",
          "data": {
            "text/plain": [
              "<pandas.io.formats.style.Styler at 0x7a046cceacb0>"
            ],
            "text/html": [
              "<style type=\"text/css\">\n",
              "#T_0aa59 th {\n",
              "  text-align: left;\n",
              "}\n",
              "#T_0aa59_row0_col0, #T_0aa59_row1_col0, #T_0aa59_row1_col1, #T_0aa59_row1_col2, #T_0aa59_row1_col3, #T_0aa59_row1_col4, #T_0aa59_row1_col5, #T_0aa59_row1_col6, #T_0aa59_row2_col0, #T_0aa59_row2_col1, #T_0aa59_row2_col2, #T_0aa59_row2_col3, #T_0aa59_row2_col4, #T_0aa59_row2_col5, #T_0aa59_row2_col6, #T_0aa59_row3_col0, #T_0aa59_row3_col1, #T_0aa59_row3_col2, #T_0aa59_row3_col3, #T_0aa59_row3_col4, #T_0aa59_row3_col5, #T_0aa59_row3_col6, #T_0aa59_row4_col0, #T_0aa59_row4_col1, #T_0aa59_row4_col2, #T_0aa59_row4_col3, #T_0aa59_row4_col4, #T_0aa59_row4_col5, #T_0aa59_row4_col6, #T_0aa59_row5_col0, #T_0aa59_row5_col1, #T_0aa59_row5_col2, #T_0aa59_row5_col3, #T_0aa59_row5_col4, #T_0aa59_row5_col5, #T_0aa59_row5_col6, #T_0aa59_row6_col0, #T_0aa59_row6_col1, #T_0aa59_row6_col2, #T_0aa59_row6_col3, #T_0aa59_row6_col4, #T_0aa59_row6_col5, #T_0aa59_row6_col6 {\n",
              "  text-align: left;\n",
              "}\n",
              "#T_0aa59_row0_col1, #T_0aa59_row0_col2, #T_0aa59_row0_col3, #T_0aa59_row0_col4, #T_0aa59_row0_col5, #T_0aa59_row0_col6 {\n",
              "  text-align: left;\n",
              "  background-color: yellow;\n",
              "}\n",
              "#T_0aa59_row0_col7, #T_0aa59_row1_col7, #T_0aa59_row2_col7, #T_0aa59_row3_col7, #T_0aa59_row4_col7, #T_0aa59_row6_col7 {\n",
              "  text-align: left;\n",
              "  background-color: lightgrey;\n",
              "}\n",
              "#T_0aa59_row5_col7 {\n",
              "  text-align: left;\n",
              "  background-color: yellow;\n",
              "  background-color: lightgrey;\n",
              "}\n",
              "</style>\n",
              "<table id=\"T_0aa59\" class=\"dataframe\">\n",
              "  <thead>\n",
              "    <tr>\n",
              "      <th class=\"blank level0\" >&nbsp;</th>\n",
              "      <th id=\"T_0aa59_level0_col0\" class=\"col_heading level0 col0\" >Model</th>\n",
              "      <th id=\"T_0aa59_level0_col1\" class=\"col_heading level0 col1\" >MAE</th>\n",
              "      <th id=\"T_0aa59_level0_col2\" class=\"col_heading level0 col2\" >MSE</th>\n",
              "      <th id=\"T_0aa59_level0_col3\" class=\"col_heading level0 col3\" >RMSE</th>\n",
              "      <th id=\"T_0aa59_level0_col4\" class=\"col_heading level0 col4\" >R2</th>\n",
              "      <th id=\"T_0aa59_level0_col5\" class=\"col_heading level0 col5\" >RMSLE</th>\n",
              "      <th id=\"T_0aa59_level0_col6\" class=\"col_heading level0 col6\" >MAPE</th>\n",
              "      <th id=\"T_0aa59_level0_col7\" class=\"col_heading level0 col7\" >TT (Sec)</th>\n",
              "    </tr>\n",
              "  </thead>\n",
              "  <tbody>\n",
              "    <tr>\n",
              "      <th id=\"T_0aa59_level0_row0\" class=\"row_heading level0 row0\" >gbr</th>\n",
              "      <td id=\"T_0aa59_row0_col0\" class=\"data row0 col0\" >Gradient Boosting Regressor</td>\n",
              "      <td id=\"T_0aa59_row0_col1\" class=\"data row0 col1\" >1.1498</td>\n",
              "      <td id=\"T_0aa59_row0_col2\" class=\"data row0 col2\" >2.0547</td>\n",
              "      <td id=\"T_0aa59_row0_col3\" class=\"data row0 col3\" >1.4301</td>\n",
              "      <td id=\"T_0aa59_row0_col4\" class=\"data row0 col4\" >0.6541</td>\n",
              "      <td id=\"T_0aa59_row0_col5\" class=\"data row0 col5\" >0.0480</td>\n",
              "      <td id=\"T_0aa59_row0_col6\" class=\"data row0 col6\" >0.0405</td>\n",
              "      <td id=\"T_0aa59_row0_col7\" class=\"data row0 col7\" >0.0870</td>\n",
              "    </tr>\n",
              "    <tr>\n",
              "      <th id=\"T_0aa59_level0_row1\" class=\"row_heading level0 row1\" >catboost</th>\n",
              "      <td id=\"T_0aa59_row1_col0\" class=\"data row1 col0\" >CatBoost Regressor</td>\n",
              "      <td id=\"T_0aa59_row1_col1\" class=\"data row1 col1\" >1.1568</td>\n",
              "      <td id=\"T_0aa59_row1_col2\" class=\"data row1 col2\" >2.0959</td>\n",
              "      <td id=\"T_0aa59_row1_col3\" class=\"data row1 col3\" >1.4444</td>\n",
              "      <td id=\"T_0aa59_row1_col4\" class=\"data row1 col4\" >0.6475</td>\n",
              "      <td id=\"T_0aa59_row1_col5\" class=\"data row1 col5\" >0.0485</td>\n",
              "      <td id=\"T_0aa59_row1_col6\" class=\"data row1 col6\" >0.0408</td>\n",
              "      <td id=\"T_0aa59_row1_col7\" class=\"data row1 col7\" >0.4020</td>\n",
              "    </tr>\n",
              "    <tr>\n",
              "      <th id=\"T_0aa59_level0_row2\" class=\"row_heading level0 row2\" >lightgbm</th>\n",
              "      <td id=\"T_0aa59_row2_col0\" class=\"data row2 col0\" >Light Gradient Boosting Machine</td>\n",
              "      <td id=\"T_0aa59_row2_col1\" class=\"data row2 col1\" >1.1742</td>\n",
              "      <td id=\"T_0aa59_row2_col2\" class=\"data row2 col2\" >2.1119</td>\n",
              "      <td id=\"T_0aa59_row2_col3\" class=\"data row2 col3\" >1.4507</td>\n",
              "      <td id=\"T_0aa59_row2_col4\" class=\"data row2 col4\" >0.6450</td>\n",
              "      <td id=\"T_0aa59_row2_col5\" class=\"data row2 col5\" >0.0488</td>\n",
              "      <td id=\"T_0aa59_row2_col6\" class=\"data row2 col6\" >0.0414</td>\n",
              "      <td id=\"T_0aa59_row2_col7\" class=\"data row2 col7\" >0.5660</td>\n",
              "    </tr>\n",
              "    <tr>\n",
              "      <th id=\"T_0aa59_level0_row3\" class=\"row_heading level0 row3\" >rf</th>\n",
              "      <td id=\"T_0aa59_row3_col0\" class=\"data row3 col0\" >Random Forest Regressor</td>\n",
              "      <td id=\"T_0aa59_row3_col1\" class=\"data row3 col1\" >1.1805</td>\n",
              "      <td id=\"T_0aa59_row3_col2\" class=\"data row3 col2\" >2.2029</td>\n",
              "      <td id=\"T_0aa59_row3_col3\" class=\"data row3 col3\" >1.4805</td>\n",
              "      <td id=\"T_0aa59_row3_col4\" class=\"data row3 col4\" >0.6300</td>\n",
              "      <td id=\"T_0aa59_row3_col5\" class=\"data row3 col5\" >0.0498</td>\n",
              "      <td id=\"T_0aa59_row3_col6\" class=\"data row3 col6\" >0.0416</td>\n",
              "      <td id=\"T_0aa59_row3_col7\" class=\"data row3 col7\" >0.1730</td>\n",
              "    </tr>\n",
              "    <tr>\n",
              "      <th id=\"T_0aa59_level0_row4\" class=\"row_heading level0 row4\" >et</th>\n",
              "      <td id=\"T_0aa59_row4_col0\" class=\"data row4 col0\" >Extra Trees Regressor</td>\n",
              "      <td id=\"T_0aa59_row4_col1\" class=\"data row4 col1\" >1.1853</td>\n",
              "      <td id=\"T_0aa59_row4_col2\" class=\"data row4 col2\" >2.2251</td>\n",
              "      <td id=\"T_0aa59_row4_col3\" class=\"data row4 col3\" >1.4885</td>\n",
              "      <td id=\"T_0aa59_row4_col4\" class=\"data row4 col4\" >0.6260</td>\n",
              "      <td id=\"T_0aa59_row4_col5\" class=\"data row4 col5\" >0.0501</td>\n",
              "      <td id=\"T_0aa59_row4_col6\" class=\"data row4 col6\" >0.0418</td>\n",
              "      <td id=\"T_0aa59_row4_col7\" class=\"data row4 col7\" >0.1370</td>\n",
              "    </tr>\n",
              "    <tr>\n",
              "      <th id=\"T_0aa59_level0_row5\" class=\"row_heading level0 row5\" >dt</th>\n",
              "      <td id=\"T_0aa59_row5_col0\" class=\"data row5 col0\" >Decision Tree Regressor</td>\n",
              "      <td id=\"T_0aa59_row5_col1\" class=\"data row5 col1\" >1.1852</td>\n",
              "      <td id=\"T_0aa59_row5_col2\" class=\"data row5 col2\" >2.2257</td>\n",
              "      <td id=\"T_0aa59_row5_col3\" class=\"data row5 col3\" >1.4887</td>\n",
              "      <td id=\"T_0aa59_row5_col4\" class=\"data row5 col4\" >0.6259</td>\n",
              "      <td id=\"T_0aa59_row5_col5\" class=\"data row5 col5\" >0.0501</td>\n",
              "      <td id=\"T_0aa59_row5_col6\" class=\"data row5 col6\" >0.0418</td>\n",
              "      <td id=\"T_0aa59_row5_col7\" class=\"data row5 col7\" >0.0260</td>\n",
              "    </tr>\n",
              "    <tr>\n",
              "      <th id=\"T_0aa59_level0_row6\" class=\"row_heading level0 row6\" >xgboost</th>\n",
              "      <td id=\"T_0aa59_row6_col0\" class=\"data row6 col0\" >Extreme Gradient Boosting</td>\n",
              "      <td id=\"T_0aa59_row6_col1\" class=\"data row6 col1\" >1.1876</td>\n",
              "      <td id=\"T_0aa59_row6_col2\" class=\"data row6 col2\" >2.2307</td>\n",
              "      <td id=\"T_0aa59_row6_col3\" class=\"data row6 col3\" >1.4902</td>\n",
              "      <td id=\"T_0aa59_row6_col4\" class=\"data row6 col4\" >0.6252</td>\n",
              "      <td id=\"T_0aa59_row6_col5\" class=\"data row6 col5\" >0.0501</td>\n",
              "      <td id=\"T_0aa59_row6_col6\" class=\"data row6 col6\" >0.0419</td>\n",
              "      <td id=\"T_0aa59_row6_col7\" class=\"data row6 col7\" >0.0510</td>\n",
              "    </tr>\n",
              "  </tbody>\n",
              "</table>\n"
            ]
          },
          "metadata": {}
        },
        {
          "output_type": "display_data",
          "data": {
            "text/plain": [
              "Processing:   0%|          | 0/33 [00:00<?, ?it/s]"
            ],
            "application/vnd.jupyter.widget-view+json": {
              "version_major": 2,
              "version_minor": 0,
              "model_id": "9618a3258399470fafd148be79043c6f"
            }
          },
          "metadata": {
            "application/vnd.jupyter.widget-view+json": {
              "colab": {
                "custom_widget_manager": {
                  "url": "https://ssl.gstatic.com/colaboratory-static/widgets/colab-cdn-widget-manager/2b70e893a8ba7c0f/manager.min.js"
                }
              }
            }
          }
        },
        {
          "output_type": "display_data",
          "data": {
            "text/plain": [
              "<IPython.core.display.HTML object>"
            ],
            "text/html": []
          },
          "metadata": {}
        }
      ],
      "source": [
        "compare_tree_models = compare_models(include = ['dt', 'rf', 'et', 'gbr', 'xgboost', 'lightgbm', 'catboost'])#, 'catboost'"
      ],
      "id": "MzXmxoSzwVut"
    },
    {
      "cell_type": "code",
      "execution_count": 78,
      "metadata": {
        "id": "zbz43rotwVut"
      },
      "outputs": [],
      "source": [
        "# compare_tree_models"
      ],
      "id": "zbz43rotwVut"
    },
    {
      "cell_type": "markdown",
      "metadata": {
        "id": "MOkZLAIRwVut"
      },
      "source": [
        "The function above has return trained model object as an output. The scoring grid is only displayed and not returned. If you need access to the scoring grid you can use `pull` function to access the dataframe."
      ],
      "id": "MOkZLAIRwVut"
    },
    {
      "cell_type": "code",
      "execution_count": 77,
      "metadata": {
        "id": "DOtm0ThMwVut"
      },
      "outputs": [],
      "source": [
        "# compare_tree_models_results = pull()\n",
        "# compare_tree_models_results"
      ],
      "id": "DOtm0ThMwVut"
    },
    {
      "cell_type": "markdown",
      "metadata": {
        "id": "TE1wc2_fwVut"
      },
      "source": [
        "By default `compare_models` return the single best performing model based on the metric defined in the `sort` parameter. Let's change our code to return 3 top models based on `MAE`."
      ],
      "id": "TE1wc2_fwVut"
    },
    {
      "cell_type": "code",
      "execution_count": 53,
      "metadata": {
        "id": "l5aGhJN0wVuu"
      },
      "outputs": [],
      "source": [
        "# best_mae_models_top3 = compare_models(sort = 'MAE', n_select = 3)"
      ],
      "id": "l5aGhJN0wVuu"
    },
    {
      "cell_type": "markdown",
      "metadata": {
        "id": "58e3DbHlwVuu"
      },
      "source": [
        "Some other parameters that you might find very useful in `compare_models` are:\n",
        "\n",
        "- fold\n",
        "- cross_validation\n",
        "- budget_time\n",
        "- errors\n",
        "- probability_threshold\n",
        "- parallel\n",
        "\n",
        "You can check the docstring of the function for more info."
      ],
      "id": "58e3DbHlwVuu"
    },
    {
      "cell_type": "code",
      "execution_count": null,
      "metadata": {
        "id": "drwpdkwQwVuu"
      },
      "outputs": [],
      "source": [
        "# help(compare_models)"
      ],
      "id": "drwpdkwQwVuu"
    },
    {
      "cell_type": "markdown",
      "metadata": {
        "id": "PmBpOUVWwVuu"
      },
      "source": [
        "## ✅ Plot Model"
      ],
      "id": "PmBpOUVWwVuu"
    },
    {
      "cell_type": "markdown",
      "metadata": {
        "id": "yIrW3m65wVuu"
      },
      "source": [
        "The `plot_model` function analyzes the performance of a trained model on the hold-out set. It may require re-training the model in certain cases."
      ],
      "id": "yIrW3m65wVuu"
    },
    {
      "cell_type": "code",
      "execution_count": 38,
      "metadata": {
        "colab": {
          "base_uri": "https://localhost:8080/",
          "height": 524
        },
        "outputId": "7a12a9d6-9c4b-44e3-eb1f-16c7365b3f07",
        "id": "eGacAgK_wVuu"
      },
      "outputs": [
        {
          "output_type": "display_data",
          "data": {
            "text/plain": [
              "<IPython.core.display.HTML object>"
            ],
            "text/html": []
          },
          "metadata": {}
        },
        {
          "output_type": "display_data",
          "data": {
            "text/plain": [
              "<Figure size 800x550 with 2 Axes>"
            ],
            "image/png": "[encoded data removed]"
          },
          "metadata": {}
        }
      ],
      "source": [
        "# plot residuals\n",
        "# plot_model(best, plot = 'residuals') #---------------------\n",
        "plot_model(compare_tree_models, plot = 'residuals', scale =1.0) #---------------------"
      ],
      "id": "eGacAgK_wVuu"
    },
    {
      "cell_type": "code",
      "execution_count": 39,
      "metadata": {
        "colab": {
          "base_uri": "https://localhost:8080/",
          "height": 526
        },
        "outputId": "8a4d7ac2-360f-4bad-e7bf-abad5794b813",
        "id": "Sgpg8grbwVuv"
      },
      "outputs": [
        {
          "output_type": "display_data",
          "data": {
            "text/plain": [
              "<IPython.core.display.HTML object>"
            ],
            "text/html": []
          },
          "metadata": {}
        },
        {
          "output_type": "display_data",
          "data": {
            "text/plain": [
              "<Figure size 800x550 with 1 Axes>"
            ],
            "image/png": "[encoded data removed]"
          },
          "metadata": {}
        }
      ],
      "source": [
        "# to control the scale of plot\n",
        "plot_model(compare_tree_models, plot = 'error', scale = 1) #--------------------------"
      ],
      "id": "Sgpg8grbwVuv"
    },
    {
      "cell_type": "code",
      "execution_count": 40,
      "metadata": {
        "colab": {
          "base_uri": "https://localhost:8080/",
          "height": 35
        },
        "outputId": "44b96c76-3c93-471a-9302-ac5753b91b4e",
        "id": "ezljM85HwVuv"
      },
      "outputs": [
        {
          "output_type": "display_data",
          "data": {
            "text/plain": [
              "<IPython.core.display.HTML object>"
            ],
            "text/html": []
          },
          "metadata": {}
        },
        {
          "output_type": "display_data",
          "data": {
            "text/plain": [
              "<IPython.core.display.HTML object>"
            ],
            "text/html": []
          },
          "metadata": {}
        },
        {
          "output_type": "execute_result",
          "data": {
            "text/plain": [
              "'Residuals.png'"
            ],
            "application/vnd.google.colaboratory.intrinsic+json": {
              "type": "string"
            }
          },
          "metadata": {},
          "execution_count": 40
        }
      ],
      "source": [
        "# to save the plot\n",
        "plot_model(compare_tree_models, plot = 'error', save=True) #--------------------------\n",
        "plot_model(compare_tree_models, plot = 'residuals', save=True) #--------------------------"
      ],
      "id": "ezljM85HwVuv"
    },
    {
      "cell_type": "markdown",
      "metadata": {
        "id": "H1ZUssoZwVuv"
      },
      "source": [
        "Some other parameters that you might find very useful in `plot_model` are:\n",
        "\n",
        "- fit_kwargs\n",
        "- plot_kwargs\n",
        "- groups\n",
        "- display_format\n",
        "\n",
        "You can check the docstring of the function for more info."
      ],
      "id": "H1ZUssoZwVuv"
    },
    {
      "cell_type": "code",
      "execution_count": null,
      "metadata": {
        "id": "UkkIr3kEwVuv"
      },
      "outputs": [],
      "source": [
        "# help(plot_model) #--------------------------"
      ],
      "id": "UkkIr3kEwVuv"
    },
    {
      "cell_type": "markdown",
      "metadata": {
        "id": "4ZVEIb_4wVuw"
      },
      "source": [
        "## ✅ Create Model\n",
        "The `create_model` function trains and evaluates the performance of a given estimator using cross-validation. The output of this function is a scoring grid with CV scores by fold. Metrics evaluated during CV can be accessed using the `get_metrics` function. Custom metrics can be added or removed using `add_metric` and `remove_metric` function. All the available models can be accessed using the `models` function."
      ],
      "id": "4ZVEIb_4wVuw"
    },
    {
      "cell_type": "code",
      "execution_count": 68,
      "metadata": {
        "id": "017JZaWNwVuw"
      },
      "outputs": [],
      "source": [
        "# # check all the available models\n",
        "# models()"
      ],
      "id": "017JZaWNwVuw"
    },
    {
      "cell_type": "markdown",
      "metadata": {
        "id": "72sPupaHwVuw"
      },
      "source": [
        "The function above has return trained model object as an output. The scoring grid is only displayed and not returned. If you need access to the scoring grid you can use `pull` function to access the dataframe."
      ],
      "id": "72sPupaHwVuw"
    },
    {
      "cell_type": "code",
      "source": [
        "# train model with default fold=10\n",
        "# dt = create_model('dt')\n",
        "lr = create_model('lr')"
      ],
      "metadata": {
        "colab": {
          "base_uri": "https://localhost:8080/",
          "height": 457,
          "referenced_widgets": [
            "dc75001d17c742f8a16a3921b0ef61c7",
            "0f708d90fdd94c91bc3915669212ea88",
            "343181f2903647fab7051cfdfdd07462",
            "249c6eac1a42473fb18ae7848f971ca3",
            "db49c641eef44bba95c0173a703e653a",
            "c3eb126733e5417ba522c8bb476d048d",
            "c333e0a26bce4594806d52667621e81c",
            "1f86768e30f74cb78c2fc25c2d492b02",
            "425103b5266b466c9f9b0f7f75588601",
            "8d9b174de1434007be99f0414e22bd73",
            "f4dd2b60b8184d54b14172ffcd2f1ad2"
          ]
        },
        "id": "82XO3LHL0xST",
        "outputId": "5a2dc29d-a6fd-42e7-aba4-b5c8e501bd83"
      },
      "id": "82XO3LHL0xST",
      "execution_count": 154,
      "outputs": [
        {
          "output_type": "display_data",
          "data": {
            "text/plain": [
              "<IPython.core.display.HTML object>"
            ],
            "text/html": []
          },
          "metadata": {}
        },
        {
          "output_type": "display_data",
          "data": {
            "text/plain": [
              "<pandas.io.formats.style.Styler at 0x7a046d276dd0>"
            ],
            "text/html": [
              "<style type=\"text/css\">\n",
              "#T_4e156_row10_col0, #T_4e156_row10_col1, #T_4e156_row10_col2, #T_4e156_row10_col3, #T_4e156_row10_col4, #T_4e156_row10_col5 {\n",
              "  background: yellow;\n",
              "}\n",
              "</style>\n",
              "<table id=\"T_4e156\" class=\"dataframe\">\n",
              "  <thead>\n",
              "    <tr>\n",
              "      <th class=\"blank level0\" >&nbsp;</th>\n",
              "      <th id=\"T_4e156_level0_col0\" class=\"col_heading level0 col0\" >MAE</th>\n",
              "      <th id=\"T_4e156_level0_col1\" class=\"col_heading level0 col1\" >MSE</th>\n",
              "      <th id=\"T_4e156_level0_col2\" class=\"col_heading level0 col2\" >RMSE</th>\n",
              "      <th id=\"T_4e156_level0_col3\" class=\"col_heading level0 col3\" >R2</th>\n",
              "      <th id=\"T_4e156_level0_col4\" class=\"col_heading level0 col4\" >RMSLE</th>\n",
              "      <th id=\"T_4e156_level0_col5\" class=\"col_heading level0 col5\" >MAPE</th>\n",
              "    </tr>\n",
              "    <tr>\n",
              "      <th class=\"index_name level0\" >Fold</th>\n",
              "      <th class=\"blank col0\" >&nbsp;</th>\n",
              "      <th class=\"blank col1\" >&nbsp;</th>\n",
              "      <th class=\"blank col2\" >&nbsp;</th>\n",
              "      <th class=\"blank col3\" >&nbsp;</th>\n",
              "      <th class=\"blank col4\" >&nbsp;</th>\n",
              "      <th class=\"blank col5\" >&nbsp;</th>\n",
              "    </tr>\n",
              "  </thead>\n",
              "  <tbody>\n",
              "    <tr>\n",
              "      <th id=\"T_4e156_level0_row0\" class=\"row_heading level0 row0\" >0</th>\n",
              "      <td id=\"T_4e156_row0_col0\" class=\"data row0 col0\" >1.2118</td>\n",
              "      <td id=\"T_4e156_row0_col1\" class=\"data row0 col1\" >2.0979</td>\n",
              "      <td id=\"T_4e156_row0_col2\" class=\"data row0 col2\" >1.4484</td>\n",
              "      <td id=\"T_4e156_row0_col3\" class=\"data row0 col3\" >0.6031</td>\n",
              "      <td id=\"T_4e156_row0_col4\" class=\"data row0 col4\" >0.0653</td>\n",
              "      <td id=\"T_4e156_row0_col5\" class=\"data row0 col5\" >0.0586</td>\n",
              "    </tr>\n",
              "    <tr>\n",
              "      <th id=\"T_4e156_level0_row1\" class=\"row_heading level0 row1\" >1</th>\n",
              "      <td id=\"T_4e156_row1_col0\" class=\"data row1 col0\" >1.3302</td>\n",
              "      <td id=\"T_4e156_row1_col1\" class=\"data row1 col1\" >2.6237</td>\n",
              "      <td id=\"T_4e156_row1_col2\" class=\"data row1 col2\" >1.6198</td>\n",
              "      <td id=\"T_4e156_row1_col3\" class=\"data row1 col3\" >0.7363</td>\n",
              "      <td id=\"T_4e156_row1_col4\" class=\"data row1 col4\" >0.0759</td>\n",
              "      <td id=\"T_4e156_row1_col5\" class=\"data row1 col5\" >0.0659</td>\n",
              "    </tr>\n",
              "    <tr>\n",
              "      <th id=\"T_4e156_level0_row2\" class=\"row_heading level0 row2\" >2</th>\n",
              "      <td id=\"T_4e156_row2_col0\" class=\"data row2 col0\" >1.1359</td>\n",
              "      <td id=\"T_4e156_row2_col1\" class=\"data row2 col1\" >1.8334</td>\n",
              "      <td id=\"T_4e156_row2_col2\" class=\"data row2 col2\" >1.3540</td>\n",
              "      <td id=\"T_4e156_row2_col3\" class=\"data row2 col3\" >0.7508</td>\n",
              "      <td id=\"T_4e156_row2_col4\" class=\"data row2 col4\" >0.0617</td>\n",
              "      <td id=\"T_4e156_row2_col5\" class=\"data row2 col5\" >0.0529</td>\n",
              "    </tr>\n",
              "    <tr>\n",
              "      <th id=\"T_4e156_level0_row3\" class=\"row_heading level0 row3\" >3</th>\n",
              "      <td id=\"T_4e156_row3_col0\" class=\"data row3 col0\" >1.2900</td>\n",
              "      <td id=\"T_4e156_row3_col1\" class=\"data row3 col1\" >2.3276</td>\n",
              "      <td id=\"T_4e156_row3_col2\" class=\"data row3 col2\" >1.5257</td>\n",
              "      <td id=\"T_4e156_row3_col3\" class=\"data row3 col3\" >0.7215</td>\n",
              "      <td id=\"T_4e156_row3_col4\" class=\"data row3 col4\" >0.0691</td>\n",
              "      <td id=\"T_4e156_row3_col5\" class=\"data row3 col5\" >0.0618</td>\n",
              "    </tr>\n",
              "    <tr>\n",
              "      <th id=\"T_4e156_level0_row4\" class=\"row_heading level0 row4\" >4</th>\n",
              "      <td id=\"T_4e156_row4_col0\" class=\"data row4 col0\" >1.4330</td>\n",
              "      <td id=\"T_4e156_row4_col1\" class=\"data row4 col1\" >2.6380</td>\n",
              "      <td id=\"T_4e156_row4_col2\" class=\"data row4 col2\" >1.6242</td>\n",
              "      <td id=\"T_4e156_row4_col3\" class=\"data row4 col3\" >0.6149</td>\n",
              "      <td id=\"T_4e156_row4_col4\" class=\"data row4 col4\" >0.0714</td>\n",
              "      <td id=\"T_4e156_row4_col5\" class=\"data row4 col5\" >0.0668</td>\n",
              "    </tr>\n",
              "    <tr>\n",
              "      <th id=\"T_4e156_level0_row5\" class=\"row_heading level0 row5\" >5</th>\n",
              "      <td id=\"T_4e156_row5_col0\" class=\"data row5 col0\" >1.4269</td>\n",
              "      <td id=\"T_4e156_row5_col1\" class=\"data row5 col1\" >2.4724</td>\n",
              "      <td id=\"T_4e156_row5_col2\" class=\"data row5 col2\" >1.5724</td>\n",
              "      <td id=\"T_4e156_row5_col3\" class=\"data row5 col3\" >0.7414</td>\n",
              "      <td id=\"T_4e156_row5_col4\" class=\"data row5 col4\" >0.0745</td>\n",
              "      <td id=\"T_4e156_row5_col5\" class=\"data row5 col5\" >0.0708</td>\n",
              "    </tr>\n",
              "    <tr>\n",
              "      <th id=\"T_4e156_level0_row6\" class=\"row_heading level0 row6\" >6</th>\n",
              "      <td id=\"T_4e156_row6_col0\" class=\"data row6 col0\" >1.1000</td>\n",
              "      <td id=\"T_4e156_row6_col1\" class=\"data row6 col1\" >1.6048</td>\n",
              "      <td id=\"T_4e156_row6_col2\" class=\"data row6 col2\" >1.2668</td>\n",
              "      <td id=\"T_4e156_row6_col3\" class=\"data row6 col3\" >0.7150</td>\n",
              "      <td id=\"T_4e156_row6_col4\" class=\"data row6 col4\" >0.0592</td>\n",
              "      <td id=\"T_4e156_row6_col5\" class=\"data row6 col5\" >0.0542</td>\n",
              "    </tr>\n",
              "    <tr>\n",
              "      <th id=\"T_4e156_level0_row7\" class=\"row_heading level0 row7\" >7</th>\n",
              "      <td id=\"T_4e156_row7_col0\" class=\"data row7 col0\" >1.1664</td>\n",
              "      <td id=\"T_4e156_row7_col1\" class=\"data row7 col1\" >1.8285</td>\n",
              "      <td id=\"T_4e156_row7_col2\" class=\"data row7 col2\" >1.3522</td>\n",
              "      <td id=\"T_4e156_row7_col3\" class=\"data row7 col3\" >0.7923</td>\n",
              "      <td id=\"T_4e156_row7_col4\" class=\"data row7 col4\" >0.0659</td>\n",
              "      <td id=\"T_4e156_row7_col5\" class=\"data row7 col5\" >0.0602</td>\n",
              "    </tr>\n",
              "    <tr>\n",
              "      <th id=\"T_4e156_level0_row8\" class=\"row_heading level0 row8\" >8</th>\n",
              "      <td id=\"T_4e156_row8_col0\" class=\"data row8 col0\" >1.3990</td>\n",
              "      <td id=\"T_4e156_row8_col1\" class=\"data row8 col1\" >2.9485</td>\n",
              "      <td id=\"T_4e156_row8_col2\" class=\"data row8 col2\" >1.7171</td>\n",
              "      <td id=\"T_4e156_row8_col3\" class=\"data row8 col3\" >0.4591</td>\n",
              "      <td id=\"T_4e156_row8_col4\" class=\"data row8 col4\" >0.0777</td>\n",
              "      <td id=\"T_4e156_row8_col5\" class=\"data row8 col5\" >0.0653</td>\n",
              "    </tr>\n",
              "    <tr>\n",
              "      <th id=\"T_4e156_level0_row9\" class=\"row_heading level0 row9\" >9</th>\n",
              "      <td id=\"T_4e156_row9_col0\" class=\"data row9 col0\" >1.2035</td>\n",
              "      <td id=\"T_4e156_row9_col1\" class=\"data row9 col1\" >2.1296</td>\n",
              "      <td id=\"T_4e156_row9_col2\" class=\"data row9 col2\" >1.4593</td>\n",
              "      <td id=\"T_4e156_row9_col3\" class=\"data row9 col3\" >0.7099</td>\n",
              "      <td id=\"T_4e156_row9_col4\" class=\"data row9 col4\" >0.0633</td>\n",
              "      <td id=\"T_4e156_row9_col5\" class=\"data row9 col5\" >0.0544</td>\n",
              "    </tr>\n",
              "    <tr>\n",
              "      <th id=\"T_4e156_level0_row10\" class=\"row_heading level0 row10\" >Mean</th>\n",
              "      <td id=\"T_4e156_row10_col0\" class=\"data row10 col0\" >1.2697</td>\n",
              "      <td id=\"T_4e156_row10_col1\" class=\"data row10 col1\" >2.2505</td>\n",
              "      <td id=\"T_4e156_row10_col2\" class=\"data row10 col2\" >1.4940</td>\n",
              "      <td id=\"T_4e156_row10_col3\" class=\"data row10 col3\" >0.6844</td>\n",
              "      <td id=\"T_4e156_row10_col4\" class=\"data row10 col4\" >0.0684</td>\n",
              "      <td id=\"T_4e156_row10_col5\" class=\"data row10 col5\" >0.0611</td>\n",
              "    </tr>\n",
              "    <tr>\n",
              "      <th id=\"T_4e156_level0_row11\" class=\"row_heading level0 row11\" >Std</th>\n",
              "      <td id=\"T_4e156_row11_col0\" class=\"data row11 col0\" >0.1172</td>\n",
              "      <td id=\"T_4e156_row11_col1\" class=\"data row11 col1\" >0.4048</td>\n",
              "      <td id=\"T_4e156_row11_col2\" class=\"data row11 col2\" >0.1358</td>\n",
              "      <td id=\"T_4e156_row11_col3\" class=\"data row11 col3\" >0.0934</td>\n",
              "      <td id=\"T_4e156_row11_col4\" class=\"data row11 col4\" >0.0060</td>\n",
              "      <td id=\"T_4e156_row11_col5\" class=\"data row11 col5\" >0.0058</td>\n",
              "    </tr>\n",
              "  </tbody>\n",
              "</table>\n"
            ]
          },
          "metadata": {}
        },
        {
          "output_type": "display_data",
          "data": {
            "text/plain": [
              "Processing:   0%|          | 0/4 [00:00<?, ?it/s]"
            ],
            "application/vnd.jupyter.widget-view+json": {
              "version_major": 2,
              "version_minor": 0,
              "model_id": "dc75001d17c742f8a16a3921b0ef61c7"
            }
          },
          "metadata": {
            "application/vnd.jupyter.widget-view+json": {
              "colab": {
                "custom_widget_manager": {
                  "url": "https://ssl.gstatic.com/colaboratory-static/widgets/colab-cdn-widget-manager/2b70e893a8ba7c0f/manager.min.js"
                }
              }
            }
          }
        },
        {
          "output_type": "display_data",
          "data": {
            "text/plain": [
              "<IPython.core.display.HTML object>"
            ],
            "text/html": []
          },
          "metadata": {}
        }
      ]
    },
    {
      "cell_type": "code",
      "source": [
        "# dt_results = pull()\n",
        "# print(type(dt_results))\n",
        "# dt_results"
      ],
      "metadata": {
        "id": "gZMzJORJ1BHf"
      },
      "id": "gZMzJORJ1BHf",
      "execution_count": 43,
      "outputs": []
    },
    {
      "cell_type": "code",
      "source": [
        "# # train linear regression with fold=3\n",
        "# lr = create_model('lr', fold=3)"
      ],
      "metadata": {
        "id": "7p7LvVKm1nqf"
      },
      "id": "7p7LvVKm1nqf",
      "execution_count": 52,
      "outputs": []
    },
    {
      "cell_type": "code",
      "source": [
        "# # train lr and return train score as well alongwith CV\n",
        "# create_model('dt', return_train_score=True)"
      ],
      "metadata": {
        "id": "p8nQmrnq1MEV"
      },
      "id": "p8nQmrnq1MEV",
      "execution_count": 45,
      "outputs": []
    },
    {
      "cell_type": "markdown",
      "source": [
        "Some other parameters that you might find very useful in `create_model` are:\n",
        "\n",
        "- cross_validation\n",
        "- engine\n",
        "- fit_kwargs\n",
        "- groups\n",
        "\n",
        "You can check the docstring of the function for more info."
      ],
      "metadata": {
        "id": "4SneQwO41d7r"
      },
      "id": "4SneQwO41d7r"
    },
    {
      "cell_type": "code",
      "source": [
        "# help(create_model)"
      ],
      "metadata": {
        "id": "HbtjKiy81avM"
      },
      "id": "HbtjKiy81avM",
      "execution_count": null,
      "outputs": []
    },
    {
      "cell_type": "markdown",
      "metadata": {
        "id": "v2t73UwBwVuy"
      },
      "source": [
        "## ✅ Convert Model\n",
        "This function transpiles the trained machine learning model's decision function in different programming languages such as Python, C, Java, Go, C#, etc. It is very useful if you want to deploy models into environments where you can't install your normal Python stack to support model inference."
      ],
      "id": "v2t73UwBwVuy"
    },
    {
      "cell_type": "code",
      "source": [
        "# print(compare_tree_models.feature_names_in_)\n",
        "# print(dt.feature_names_in_)\n",
        "print(lr.feature_names_in_)"
      ],
      "metadata": {
        "outputId": "88499168-5716-40cd-ec1e-f44d287b0358",
        "colab": {
          "base_uri": "https://localhost:8080/"
        },
        "id": "0_hpz1pdwVuz"
      },
      "execution_count": 128,
      "outputs": [
        {
          "output_type": "stream",
          "name": "stdout",
          "text": [
            "['SatelliteAverageMinTemperature']\n"
          ]
        }
      ],
      "id": "0_hpz1pdwVuz"
    },
    {
      "cell_type": "code",
      "source": [
        "feature_names_in_ = ['SatelliteAverageMinTemperature']\n",
        "\n",
        "# Add \"v_\" to the feature names\n",
        "feature_names_v_ = [f'v_{name}' for name in feature_names_in_]\n",
        "\n",
        "# Create an array of input variables using list comprehension\n",
        "input_variables = [f'input[{i}] = {feature_names_v_[i]}' for i in range(len(feature_names_v_))]\n",
        "\n",
        "# Print the array of input variables\n",
        "for input_var in input_variables:\n",
        "    print(input_var)"
      ],
      "metadata": {
        "colab": {
          "base_uri": "https://localhost:8080/"
        },
        "id": "iPGUBS_-7M7z",
        "outputId": "09459164-a90f-47e0-d8d6-20ee80178823"
      },
      "id": "iPGUBS_-7M7z",
      "execution_count": 129,
      "outputs": [
        {
          "output_type": "stream",
          "name": "stdout",
          "text": [
            "input[0] = v_SatelliteAverageMinTemperature\n"
          ]
        }
      ]
    },
    {
      "cell_type": "code",
      "execution_count": 155,
      "metadata": {
        "outputId": "99dca12c-838d-4851-db0f-5faea0ec5b2a",
        "colab": {
          "base_uri": "https://localhost:8080/"
        },
        "id": "tI112c9rwVuz"
      },
      "outputs": [
        {
          "output_type": "stream",
          "name": "stdout",
          "text": [
            "public class Model {\n",
            "    public static double score(double[] input) {\n",
            "        return 5.573662757873535 + input[0] * 0.912589967250824;\n",
            "    }\n",
            "}\n",
            "\n"
          ]
        }
      ],
      "source": [
        "# transpiles learned function to java\n",
        "# print(convert_model(dt, language = 'java'))\n",
        "print(convert_model(lr, language = 'java'))"
      ],
      "id": "tI112c9rwVuz"
    },
    {
      "cell_type": "markdown",
      "source": [
        "## ✅ AnyLogic Code"
      ],
      "metadata": {
        "id": "jCPLA3QaAYFN"
      },
      "id": "jCPLA3QaAYFN"
    },
    {
      "cell_type": "markdown",
      "source": [
        "\n",
        "        return 7.252778053283691 + v_SatelliteAverageMinTemperature * 0.8848339915275574; // R2 = 0.7866, v_AverageMeanTemperature\n",
        "\n",
        "        return -14.853479385375977 + v_SatelliteAverageMinTemperature * 0.882835328578949; // R2 = 0.7866, AverageMeanTemperatureAnomaly\n",
        "\n",
        "\n",
        "v_SatelliteAverageMinTemperatureStandardizedAnomaly"
      ],
      "metadata": {
        "id": "pdi0sjv4_lbI"
      },
      "id": "pdi0sjv4_lbI"
    },
    {
      "cell_type": "code",
      "source": [
        "# # Visualize the decision tree using plot_tree\n",
        "# plt.figure(figsize=(12, 6))\n",
        "# plot_model(dt, 'tree')\n",
        "# plt.savefig('decision_tree_Cholera_high_res.jpg', dpi=300, bbox_inches='tight')\n",
        "# plt.show()"
      ],
      "metadata": {
        "id": "VNd8NTD2wVuz"
      },
      "execution_count": 49,
      "outputs": [],
      "id": "VNd8NTD2wVuz"
    },
    {
      "cell_type": "code",
      "source": [
        "# import graphviz\n",
        "# from sklearn.tree import export_graphviz\n",
        "\n",
        "# feature_names = dt.feature_names_in_\n",
        "\n",
        "# # Export the decision tree to DOT format\n",
        "# dot_data = export_graphviz(dt, out_file=None, feature_names=feature_names, filled=True, rounded=True, special_characters=True)\n",
        "\n",
        "# # Visualize the decision tree\n",
        "# graph = graphviz.Source(dot_data)\n",
        "# graph.view()  # This line will display the decision tree graph\n",
        "# graph.render(\"decision_tree_Cholera\", format=\"png\", cleanup=True)"
      ],
      "metadata": {
        "id": "cOFFqkT7wVu0"
      },
      "execution_count": 50,
      "outputs": [],
      "id": "cOFFqkT7wVu0"
    },
    {
      "cell_type": "markdown",
      "id": "b3776fbf",
      "metadata": {
        "id": "b3776fbf"
      },
      "source": [
        "___"
      ]
    }
  ],
  "metadata": {
    "kernelspec": {
      "display_name": "pycaretrc5",
      "language": "python",
      "name": "pycaretrc5"
    },
    "language_info": {
      "codemirror_mode": {
        "name": "ipython",
        "version": 3
      },
      "file_extension": ".py",
      "mimetype": "text/x-python",
      "name": "python",
      "nbconvert_exporter": "python",
      "pygments_lexer": "ipython3",
      "version": "3.8.15"
    },
    "colab": {
      "provenance": [],
      "include_colab_link": true
    },
    "widgets": {
      "application/vnd.jupyter.widget-state+json": {
        "0a1f93ea192a4eb49f986c8fec366c7c": {
          "model_module": "@jupyter-widgets/controls",
          "model_name": "HBoxModel",
          "model_module_version": "1.5.0",
          "state": {
            "_dom_classes": [],
            "_model_module": "@jupyter-widgets/controls",
            "_model_module_version": "1.5.0",
            "_model_name": "HBoxModel",
            "_view_count": null,
            "_view_module": "@jupyter-widgets/controls",
            "_view_module_version": "1.5.0",
            "_view_name": "HBoxView",
            "box_style": "",
            "children": [
              "IPY_MODEL_bfc6ab834c404db69953228f2e683da9",
              "IPY_MODEL_553a81639ebe43b4966974f36641b57f",
              "IPY_MODEL_20c45cda27704a9ebe33f84f62aadc61"
            ],
            "layout": "IPY_MODEL_64480c974ed3437982aa39d3562dbb70"
          }
        },
        "bfc6ab834c404db69953228f2e683da9": {
          "model_module": "@jupyter-widgets/controls",
          "model_name": "HTMLModel",
          "model_module_version": "1.5.0",
          "state": {
            "_dom_classes": [],
            "_model_module": "@jupyter-widgets/controls",
            "_model_module_version": "1.5.0",
            "_model_name": "HTMLModel",
            "_view_count": null,
            "_view_module": "@jupyter-widgets/controls",
            "_view_module_version": "1.5.0",
            "_view_name": "HTMLView",
            "description": "",
            "description_tooltip": null,
            "layout": "IPY_MODEL_0f7c1695f0f74ced9765163afb9a6ba9",
            "placeholder": "​",
            "style": "IPY_MODEL_2e20193626c44d84ab0734db71bd66a8",
            "value": "Processing: 100%"
          }
        },
        "553a81639ebe43b4966974f36641b57f": {
          "model_module": "@jupyter-widgets/controls",
          "model_name": "FloatProgressModel",
          "model_module_version": "1.5.0",
          "state": {
            "_dom_classes": [],
            "_model_module": "@jupyter-widgets/controls",
            "_model_module_version": "1.5.0",
            "_model_name": "FloatProgressModel",
            "_view_count": null,
            "_view_module": "@jupyter-widgets/controls",
            "_view_module_version": "1.5.0",
            "_view_name": "ProgressView",
            "bar_style": "",
            "description": "",
            "description_tooltip": null,
            "layout": "IPY_MODEL_d2641e0d8a6d4f3c8226a6d40bffd90d",
            "max": 85,
            "min": 0,
            "orientation": "horizontal",
            "style": "IPY_MODEL_2d3d4b24f3e846899cd3426cd63f7050",
            "value": 85
          }
        },
        "20c45cda27704a9ebe33f84f62aadc61": {
          "model_module": "@jupyter-widgets/controls",
          "model_name": "HTMLModel",
          "model_module_version": "1.5.0",
          "state": {
            "_dom_classes": [],
            "_model_module": "@jupyter-widgets/controls",
            "_model_module_version": "1.5.0",
            "_model_name": "HTMLModel",
            "_view_count": null,
            "_view_module": "@jupyter-widgets/controls",
            "_view_module_version": "1.5.0",
            "_view_name": "HTMLView",
            "description": "",
            "description_tooltip": null,
            "layout": "IPY_MODEL_9373469e18c745548b397f0683f5ddb9",
            "placeholder": "​",
            "style": "IPY_MODEL_d68b848999444256ae8d0c501b16b004",
            "value": " 85/85 [00:25&lt;00:00,  2.84it/s]"
          }
        },
        "64480c974ed3437982aa39d3562dbb70": {
          "model_module": "@jupyter-widgets/base",
          "model_name": "LayoutModel",
          "model_module_version": "1.2.0",
          "state": {
            "_model_module": "@jupyter-widgets/base",
            "_model_module_version": "1.2.0",
            "_model_name": "LayoutModel",
            "_view_count": null,
            "_view_module": "@jupyter-widgets/base",
            "_view_module_version": "1.2.0",
            "_view_name": "LayoutView",
            "align_content": null,
            "align_items": null,
            "align_self": null,
            "border": null,
            "bottom": null,
            "display": null,
            "flex": null,
            "flex_flow": null,
            "grid_area": null,
            "grid_auto_columns": null,
            "grid_auto_flow": null,
            "grid_auto_rows": null,
            "grid_column": null,
            "grid_gap": null,
            "grid_row": null,
            "grid_template_areas": null,
            "grid_template_columns": null,
            "grid_template_rows": null,
            "height": null,
            "justify_content": null,
            "justify_items": null,
            "left": null,
            "margin": null,
            "max_height": null,
            "max_width": null,
            "min_height": null,
            "min_width": null,
            "object_fit": null,
            "object_position": null,
            "order": null,
            "overflow": null,
            "overflow_x": null,
            "overflow_y": null,
            "padding": null,
            "right": null,
            "top": null,
            "visibility": "hidden",
            "width": null
          }
        },
        "0f7c1695f0f74ced9765163afb9a6ba9": {
          "model_module": "@jupyter-widgets/base",
          "model_name": "LayoutModel",
          "model_module_version": "1.2.0",
          "state": {
            "_model_module": "@jupyter-widgets/base",
            "_model_module_version": "1.2.0",
            "_model_name": "LayoutModel",
            "_view_count": null,
            "_view_module": "@jupyter-widgets/base",
            "_view_module_version": "1.2.0",
            "_view_name": "LayoutView",
            "align_content": null,
            "align_items": null,
            "align_self": null,
            "border": null,
            "bottom": null,
            "display": null,
            "flex": null,
            "flex_flow": null,
            "grid_area": null,
            "grid_auto_columns": null,
            "grid_auto_flow": null,
            "grid_auto_rows": null,
            "grid_column": null,
            "grid_gap": null,
            "grid_row": null,
            "grid_template_areas": null,
            "grid_template_columns": null,
            "grid_template_rows": null,
            "height": null,
            "justify_content": null,
            "justify_items": null,
            "left": null,
            "margin": null,
            "max_height": null,
            "max_width": null,
            "min_height": null,
            "min_width": null,
            "object_fit": null,
            "object_position": null,
            "order": null,
            "overflow": null,
            "overflow_x": null,
            "overflow_y": null,
            "padding": null,
            "right": null,
            "top": null,
            "visibility": null,
            "width": null
          }
        },
        "2e20193626c44d84ab0734db71bd66a8": {
          "model_module": "@jupyter-widgets/controls",
          "model_name": "DescriptionStyleModel",
          "model_module_version": "1.5.0",
          "state": {
            "_model_module": "@jupyter-widgets/controls",
            "_model_module_version": "1.5.0",
            "_model_name": "DescriptionStyleModel",
            "_view_count": null,
            "_view_module": "@jupyter-widgets/base",
            "_view_module_version": "1.2.0",
            "_view_name": "StyleView",
            "description_width": ""
          }
        },
        "d2641e0d8a6d4f3c8226a6d40bffd90d": {
          "model_module": "@jupyter-widgets/base",
          "model_name": "LayoutModel",
          "model_module_version": "1.2.0",
          "state": {
            "_model_module": "@jupyter-widgets/base",
            "_model_module_version": "1.2.0",
            "_model_name": "LayoutModel",
            "_view_count": null,
            "_view_module": "@jupyter-widgets/base",
            "_view_module_version": "1.2.0",
            "_view_name": "LayoutView",
            "align_content": null,
            "align_items": null,
            "align_self": null,
            "border": null,
            "bottom": null,
            "display": null,
            "flex": null,
            "flex_flow": null,
            "grid_area": null,
            "grid_auto_columns": null,
            "grid_auto_flow": null,
            "grid_auto_rows": null,
            "grid_column": null,
            "grid_gap": null,
            "grid_row": null,
            "grid_template_areas": null,
            "grid_template_columns": null,
            "grid_template_rows": null,
            "height": null,
            "justify_content": null,
            "justify_items": null,
            "left": null,
            "margin": null,
            "max_height": null,
            "max_width": null,
            "min_height": null,
            "min_width": null,
            "object_fit": null,
            "object_position": null,
            "order": null,
            "overflow": null,
            "overflow_x": null,
            "overflow_y": null,
            "padding": null,
            "right": null,
            "top": null,
            "visibility": null,
            "width": null
          }
        },
        "2d3d4b24f3e846899cd3426cd63f7050": {
          "model_module": "@jupyter-widgets/controls",
          "model_name": "ProgressStyleModel",
          "model_module_version": "1.5.0",
          "state": {
            "_model_module": "@jupyter-widgets/controls",
            "_model_module_version": "1.5.0",
            "_model_name": "ProgressStyleModel",
            "_view_count": null,
            "_view_module": "@jupyter-widgets/base",
            "_view_module_version": "1.2.0",
            "_view_name": "StyleView",
            "bar_color": null,
            "description_width": ""
          }
        },
        "9373469e18c745548b397f0683f5ddb9": {
          "model_module": "@jupyter-widgets/base",
          "model_name": "LayoutModel",
          "model_module_version": "1.2.0",
          "state": {
            "_model_module": "@jupyter-widgets/base",
            "_model_module_version": "1.2.0",
            "_model_name": "LayoutModel",
            "_view_count": null,
            "_view_module": "@jupyter-widgets/base",
            "_view_module_version": "1.2.0",
            "_view_name": "LayoutView",
            "align_content": null,
            "align_items": null,
            "align_self": null,
            "border": null,
            "bottom": null,
            "display": null,
            "flex": null,
            "flex_flow": null,
            "grid_area": null,
            "grid_auto_columns": null,
            "grid_auto_flow": null,
            "grid_auto_rows": null,
            "grid_column": null,
            "grid_gap": null,
            "grid_row": null,
            "grid_template_areas": null,
            "grid_template_columns": null,
            "grid_template_rows": null,
            "height": null,
            "justify_content": null,
            "justify_items": null,
            "left": null,
            "margin": null,
            "max_height": null,
            "max_width": null,
            "min_height": null,
            "min_width": null,
            "object_fit": null,
            "object_position": null,
            "order": null,
            "overflow": null,
            "overflow_x": null,
            "overflow_y": null,
            "padding": null,
            "right": null,
            "top": null,
            "visibility": null,
            "width": null
          }
        },
        "d68b848999444256ae8d0c501b16b004": {
          "model_module": "@jupyter-widgets/controls",
          "model_name": "DescriptionStyleModel",
          "model_module_version": "1.5.0",
          "state": {
            "_model_module": "@jupyter-widgets/controls",
            "_model_module_version": "1.5.0",
            "_model_name": "DescriptionStyleModel",
            "_view_count": null,
            "_view_module": "@jupyter-widgets/base",
            "_view_module_version": "1.2.0",
            "_view_name": "StyleView",
            "description_width": ""
          }
        },
        "5347f28b287d43b792834c19f43e9916": {
          "model_module": "@jupyter-widgets/controls",
          "model_name": "VBoxModel",
          "model_module_version": "1.5.0",
          "state": {
            "_dom_classes": [
              "widget-interact"
            ],
            "_model_module": "@jupyter-widgets/controls",
            "_model_module_version": "1.5.0",
            "_model_name": "VBoxModel",
            "_view_count": null,
            "_view_module": "@jupyter-widgets/controls",
            "_view_module_version": "1.5.0",
            "_view_name": "VBoxView",
            "box_style": "",
            "children": [
              "IPY_MODEL_ddc1f3338bdf471f869d8ffb1ae088c3",
              "IPY_MODEL_cad48484877b4ff99194d725fa50ec77"
            ],
            "layout": "IPY_MODEL_351f9d6968cf436a84c479c6eb511d30"
          }
        },
        "ddc1f3338bdf471f869d8ffb1ae088c3": {
          "model_module": "@jupyter-widgets/controls",
          "model_name": "ToggleButtonsModel",
          "model_module_version": "1.5.0",
          "state": {
            "_dom_classes": [],
            "_model_module": "@jupyter-widgets/controls",
            "_model_module_version": "1.5.0",
            "_model_name": "ToggleButtonsModel",
            "_options_labels": [
              "Pipeline Plot",
              "Hyperparameters",
              "Residuals",
              "Prediction Error",
              "Cooks Distance",
              "Feature Selection",
              "Learning Curve",
              "Manifold Learning",
              "Validation Curve",
              "Feature Importance",
              "Feature Importance (All)",
              "Decision Tree",
              "Interactive Residuals"
            ],
            "_view_count": null,
            "_view_module": "@jupyter-widgets/controls",
            "_view_module_version": "1.5.0",
            "_view_name": "ToggleButtonsView",
            "button_style": "",
            "description": "Plot Type:",
            "description_tooltip": null,
            "disabled": false,
            "icons": [
              ""
            ],
            "index": 0,
            "layout": "IPY_MODEL_29a6ee021bb0455ea03cd5ea47aaf6d7",
            "style": "IPY_MODEL_fc3d787b0a024b91becba53a6d49ce79",
            "tooltips": []
          }
        },
        "cad48484877b4ff99194d725fa50ec77": {
          "model_module": "@jupyter-widgets/output",
          "model_name": "OutputModel",
          "model_module_version": "1.0.0",
          "state": {
            "_dom_classes": [],
            "_model_module": "@jupyter-widgets/output",
            "_model_module_version": "1.0.0",
            "_model_name": "OutputModel",
            "_view_count": null,
            "_view_module": "@jupyter-widgets/output",
            "_view_module_version": "1.0.0",
            "_view_name": "OutputView",
            "layout": "IPY_MODEL_c7426bb6266f4519b7b7b0b4c480b9e0",
            "msg_id": "",
            "outputs": [
              {
                "output_type": "display_data",
                "data": {
                  "text/plain": "<Figure size 1200x600 with 1 Axes>",
                  "image/png": "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\n"
                },
                "metadata": {}
              }
            ]
          }
        },
        "351f9d6968cf436a84c479c6eb511d30": {
          "model_module": "@jupyter-widgets/base",
          "model_name": "LayoutModel",
          "model_module_version": "1.2.0",
          "state": {
            "_model_module": "@jupyter-widgets/base",
            "_model_module_version": "1.2.0",
            "_model_name": "LayoutModel",
            "_view_count": null,
            "_view_module": "@jupyter-widgets/base",
            "_view_module_version": "1.2.0",
            "_view_name": "LayoutView",
            "align_content": null,
            "align_items": null,
            "align_self": null,
            "border": null,
            "bottom": null,
            "display": null,
            "flex": null,
            "flex_flow": null,
            "grid_area": null,
            "grid_auto_columns": null,
            "grid_auto_flow": null,
            "grid_auto_rows": null,
            "grid_column": null,
            "grid_gap": null,
            "grid_row": null,
            "grid_template_areas": null,
            "grid_template_columns": null,
            "grid_template_rows": null,
            "height": null,
            "justify_content": null,
            "justify_items": null,
            "left": null,
            "margin": null,
            "max_height": null,
            "max_width": null,
            "min_height": null,
            "min_width": null,
            "object_fit": null,
            "object_position": null,
            "order": null,
            "overflow": null,
            "overflow_x": null,
            "overflow_y": null,
            "padding": null,
            "right": null,
            "top": null,
            "visibility": null,
            "width": null
          }
        },
        "29a6ee021bb0455ea03cd5ea47aaf6d7": {
          "model_module": "@jupyter-widgets/base",
          "model_name": "LayoutModel",
          "model_module_version": "1.2.0",
          "state": {
            "_model_module": "@jupyter-widgets/base",
            "_model_module_version": "1.2.0",
            "_model_name": "LayoutModel",
            "_view_count": null,
            "_view_module": "@jupyter-widgets/base",
            "_view_module_version": "1.2.0",
            "_view_name": "LayoutView",
            "align_content": null,
            "align_items": null,
            "align_self": null,
            "border": null,
            "bottom": null,
            "display": null,
            "flex": null,
            "flex_flow": null,
            "grid_area": null,
            "grid_auto_columns": null,
            "grid_auto_flow": null,
            "grid_auto_rows": null,
            "grid_column": null,
            "grid_gap": null,
            "grid_row": null,
            "grid_template_areas": null,
            "grid_template_columns": null,
            "grid_template_rows": null,
            "height": null,
            "justify_content": null,
            "justify_items": null,
            "left": null,
            "margin": null,
            "max_height": null,
            "max_width": null,
            "min_height": null,
            "min_width": null,
            "object_fit": null,
            "object_position": null,
            "order": null,
            "overflow": null,
            "overflow_x": null,
            "overflow_y": null,
            "padding": null,
            "right": null,
            "top": null,
            "visibility": null,
            "width": null
          }
        },
        "fc3d787b0a024b91becba53a6d49ce79": {
          "model_module": "@jupyter-widgets/controls",
          "model_name": "ToggleButtonsStyleModel",
          "model_module_version": "1.5.0",
          "state": {
            "_model_module": "@jupyter-widgets/controls",
            "_model_module_version": "1.5.0",
            "_model_name": "ToggleButtonsStyleModel",
            "_view_count": null,
            "_view_module": "@jupyter-widgets/base",
            "_view_module_version": "1.2.0",
            "_view_name": "StyleView",
            "button_width": "",
            "description_width": "",
            "font_weight": ""
          }
        },
        "c7426bb6266f4519b7b7b0b4c480b9e0": {
          "model_module": "@jupyter-widgets/base",
          "model_name": "LayoutModel",
          "model_module_version": "1.2.0",
          "state": {
            "_model_module": "@jupyter-widgets/base",
            "_model_module_version": "1.2.0",
            "_model_name": "LayoutModel",
            "_view_count": null,
            "_view_module": "@jupyter-widgets/base",
            "_view_module_version": "1.2.0",
            "_view_name": "LayoutView",
            "align_content": null,
            "align_items": null,
            "align_self": null,
            "border": null,
            "bottom": null,
            "display": null,
            "flex": null,
            "flex_flow": null,
            "grid_area": null,
            "grid_auto_columns": null,
            "grid_auto_flow": null,
            "grid_auto_rows": null,
            "grid_column": null,
            "grid_gap": null,
            "grid_row": null,
            "grid_template_areas": null,
            "grid_template_columns": null,
            "grid_template_rows": null,
            "height": null,
            "justify_content": null,
            "justify_items": null,
            "left": null,
            "margin": null,
            "max_height": null,
            "max_width": null,
            "min_height": null,
            "min_width": null,
            "object_fit": null,
            "object_position": null,
            "order": null,
            "overflow": null,
            "overflow_x": null,
            "overflow_y": null,
            "padding": null,
            "right": null,
            "top": null,
            "visibility": null,
            "width": null
          }
        },
        "9618a3258399470fafd148be79043c6f": {
          "model_module": "@jupyter-widgets/controls",
          "model_name": "HBoxModel",
          "model_module_version": "1.5.0",
          "state": {
            "_dom_classes": [],
            "_model_module": "@jupyter-widgets/controls",
            "_model_module_version": "1.5.0",
            "_model_name": "HBoxModel",
            "_view_count": null,
            "_view_module": "@jupyter-widgets/controls",
            "_view_module_version": "1.5.0",
            "_view_name": "HBoxView",
            "box_style": "",
            "children": [
              "IPY_MODEL_def46d8922da431e907b60c45871fbff",
              "IPY_MODEL_605152cba63944e690c4225d84879332",
              "IPY_MODEL_054ea58232ef4f278ca6cce6cc5cd0a2"
            ],
            "layout": "IPY_MODEL_c14d14b2b313478e9989923bf4387900"
          }
        },
        "def46d8922da431e907b60c45871fbff": {
          "model_module": "@jupyter-widgets/controls",
          "model_name": "HTMLModel",
          "model_module_version": "1.5.0",
          "state": {
            "_dom_classes": [],
            "_model_module": "@jupyter-widgets/controls",
            "_model_module_version": "1.5.0",
            "_model_name": "HTMLModel",
            "_view_count": null,
            "_view_module": "@jupyter-widgets/controls",
            "_view_module_version": "1.5.0",
            "_view_name": "HTMLView",
            "description": "",
            "description_tooltip": null,
            "layout": "IPY_MODEL_73510e60072443f09dae54b7f11a1014",
            "placeholder": "​",
            "style": "IPY_MODEL_3ccfa123f9e34030ad9b514b26f7721e",
            "value": "Processing: 100%"
          }
        },
        "605152cba63944e690c4225d84879332": {
          "model_module": "@jupyter-widgets/controls",
          "model_name": "FloatProgressModel",
          "model_module_version": "1.5.0",
          "state": {
            "_dom_classes": [],
            "_model_module": "@jupyter-widgets/controls",
            "_model_module_version": "1.5.0",
            "_model_name": "FloatProgressModel",
            "_view_count": null,
            "_view_module": "@jupyter-widgets/controls",
            "_view_module_version": "1.5.0",
            "_view_name": "ProgressView",
            "bar_style": "",
            "description": "",
            "description_tooltip": null,
            "layout": "IPY_MODEL_2140fc9f117f40b8b9aafebc0ab70b2d",
            "max": 33,
            "min": 0,
            "orientation": "horizontal",
            "style": "IPY_MODEL_d342f562eff84490af9ddbb14ac03254",
            "value": 33
          }
        },
        "054ea58232ef4f278ca6cce6cc5cd0a2": {
          "model_module": "@jupyter-widgets/controls",
          "model_name": "HTMLModel",
          "model_module_version": "1.5.0",
          "state": {
            "_dom_classes": [],
            "_model_module": "@jupyter-widgets/controls",
            "_model_module_version": "1.5.0",
            "_model_name": "HTMLModel",
            "_view_count": null,
            "_view_module": "@jupyter-widgets/controls",
            "_view_module_version": "1.5.0",
            "_view_name": "HTMLView",
            "description": "",
            "description_tooltip": null,
            "layout": "IPY_MODEL_62856d74faf544f5b5c29386a0bc1579",
            "placeholder": "​",
            "style": "IPY_MODEL_1c2ec0af13bc4312bc91d266dfcd115c",
            "value": " 33/33 [00:17&lt;00:00,  1.56it/s]"
          }
        },
        "c14d14b2b313478e9989923bf4387900": {
          "model_module": "@jupyter-widgets/base",
          "model_name": "LayoutModel",
          "model_module_version": "1.2.0",
          "state": {
            "_model_module": "@jupyter-widgets/base",
            "_model_module_version": "1.2.0",
            "_model_name": "LayoutModel",
            "_view_count": null,
            "_view_module": "@jupyter-widgets/base",
            "_view_module_version": "1.2.0",
            "_view_name": "LayoutView",
            "align_content": null,
            "align_items": null,
            "align_self": null,
            "border": null,
            "bottom": null,
            "display": null,
            "flex": null,
            "flex_flow": null,
            "grid_area": null,
            "grid_auto_columns": null,
            "grid_auto_flow": null,
            "grid_auto_rows": null,
            "grid_column": null,
            "grid_gap": null,
            "grid_row": null,
            "grid_template_areas": null,
            "grid_template_columns": null,
            "grid_template_rows": null,
            "height": null,
            "justify_content": null,
            "justify_items": null,
            "left": null,
            "margin": null,
            "max_height": null,
            "max_width": null,
            "min_height": null,
            "min_width": null,
            "object_fit": null,
            "object_position": null,
            "order": null,
            "overflow": null,
            "overflow_x": null,
            "overflow_y": null,
            "padding": null,
            "right": null,
            "top": null,
            "visibility": "hidden",
            "width": null
          }
        },
        "73510e60072443f09dae54b7f11a1014": {
          "model_module": "@jupyter-widgets/base",
          "model_name": "LayoutModel",
          "model_module_version": "1.2.0",
          "state": {
            "_model_module": "@jupyter-widgets/base",
            "_model_module_version": "1.2.0",
            "_model_name": "LayoutModel",
            "_view_count": null,
            "_view_module": "@jupyter-widgets/base",
            "_view_module_version": "1.2.0",
            "_view_name": "LayoutView",
            "align_content": null,
            "align_items": null,
            "align_self": null,
            "border": null,
            "bottom": null,
            "display": null,
            "flex": null,
            "flex_flow": null,
            "grid_area": null,
            "grid_auto_columns": null,
            "grid_auto_flow": null,
            "grid_auto_rows": null,
            "grid_column": null,
            "grid_gap": null,
            "grid_row": null,
            "grid_template_areas": null,
            "grid_template_columns": null,
            "grid_template_rows": null,
            "height": null,
            "justify_content": null,
            "justify_items": null,
            "left": null,
            "margin": null,
            "max_height": null,
            "max_width": null,
            "min_height": null,
            "min_width": null,
            "object_fit": null,
            "object_position": null,
            "order": null,
            "overflow": null,
            "overflow_x": null,
            "overflow_y": null,
            "padding": null,
            "right": null,
            "top": null,
            "visibility": null,
            "width": null
          }
        },
        "3ccfa123f9e34030ad9b514b26f7721e": {
          "model_module": "@jupyter-widgets/controls",
          "model_name": "DescriptionStyleModel",
          "model_module_version": "1.5.0",
          "state": {
            "_model_module": "@jupyter-widgets/controls",
            "_model_module_version": "1.5.0",
            "_model_name": "DescriptionStyleModel",
            "_view_count": null,
            "_view_module": "@jupyter-widgets/base",
            "_view_module_version": "1.2.0",
            "_view_name": "StyleView",
            "description_width": ""
          }
        },
        "2140fc9f117f40b8b9aafebc0ab70b2d": {
          "model_module": "@jupyter-widgets/base",
          "model_name": "LayoutModel",
          "model_module_version": "1.2.0",
          "state": {
            "_model_module": "@jupyter-widgets/base",
            "_model_module_version": "1.2.0",
            "_model_name": "LayoutModel",
            "_view_count": null,
            "_view_module": "@jupyter-widgets/base",
            "_view_module_version": "1.2.0",
            "_view_name": "LayoutView",
            "align_content": null,
            "align_items": null,
            "align_self": null,
            "border": null,
            "bottom": null,
            "display": null,
            "flex": null,
            "flex_flow": null,
            "grid_area": null,
            "grid_auto_columns": null,
            "grid_auto_flow": null,
            "grid_auto_rows": null,
            "grid_column": null,
            "grid_gap": null,
            "grid_row": null,
            "grid_template_areas": null,
            "grid_template_columns": null,
            "grid_template_rows": null,
            "height": null,
            "justify_content": null,
            "justify_items": null,
            "left": null,
            "margin": null,
            "max_height": null,
            "max_width": null,
            "min_height": null,
            "min_width": null,
            "object_fit": null,
            "object_position": null,
            "order": null,
            "overflow": null,
            "overflow_x": null,
            "overflow_y": null,
            "padding": null,
            "right": null,
            "top": null,
            "visibility": null,
            "width": null
          }
        },
        "d342f562eff84490af9ddbb14ac03254": {
          "model_module": "@jupyter-widgets/controls",
          "model_name": "ProgressStyleModel",
          "model_module_version": "1.5.0",
          "state": {
            "_model_module": "@jupyter-widgets/controls",
            "_model_module_version": "1.5.0",
            "_model_name": "ProgressStyleModel",
            "_view_count": null,
            "_view_module": "@jupyter-widgets/base",
            "_view_module_version": "1.2.0",
            "_view_name": "StyleView",
            "bar_color": null,
            "description_width": ""
          }
        },
        "62856d74faf544f5b5c29386a0bc1579": {
          "model_module": "@jupyter-widgets/base",
          "model_name": "LayoutModel",
          "model_module_version": "1.2.0",
          "state": {
            "_model_module": "@jupyter-widgets/base",
            "_model_module_version": "1.2.0",
            "_model_name": "LayoutModel",
            "_view_count": null,
            "_view_module": "@jupyter-widgets/base",
            "_view_module_version": "1.2.0",
            "_view_name": "LayoutView",
            "align_content": null,
            "align_items": null,
            "align_self": null,
            "border": null,
            "bottom": null,
            "display": null,
            "flex": null,
            "flex_flow": null,
            "grid_area": null,
            "grid_auto_columns": null,
            "grid_auto_flow": null,
            "grid_auto_rows": null,
            "grid_column": null,
            "grid_gap": null,
            "grid_row": null,
            "grid_template_areas": null,
            "grid_template_columns": null,
            "grid_template_rows": null,
            "height": null,
            "justify_content": null,
            "justify_items": null,
            "left": null,
            "margin": null,
            "max_height": null,
            "max_width": null,
            "min_height": null,
            "min_width": null,
            "object_fit": null,
            "object_position": null,
            "order": null,
            "overflow": null,
            "overflow_x": null,
            "overflow_y": null,
            "padding": null,
            "right": null,
            "top": null,
            "visibility": null,
            "width": null
          }
        },
        "1c2ec0af13bc4312bc91d266dfcd115c": {
          "model_module": "@jupyter-widgets/controls",
          "model_name": "DescriptionStyleModel",
          "model_module_version": "1.5.0",
          "state": {
            "_model_module": "@jupyter-widgets/controls",
            "_model_module_version": "1.5.0",
            "_model_name": "DescriptionStyleModel",
            "_view_count": null,
            "_view_module": "@jupyter-widgets/base",
            "_view_module_version": "1.2.0",
            "_view_name": "StyleView",
            "description_width": ""
          }
        },
        "dc75001d17c742f8a16a3921b0ef61c7": {
          "model_module": "@jupyter-widgets/controls",
          "model_name": "HBoxModel",
          "model_module_version": "1.5.0",
          "state": {
            "_dom_classes": [],
            "_model_module": "@jupyter-widgets/controls",
            "_model_module_version": "1.5.0",
            "_model_name": "HBoxModel",
            "_view_count": null,
            "_view_module": "@jupyter-widgets/controls",
            "_view_module_version": "1.5.0",
            "_view_name": "HBoxView",
            "box_style": "",
            "children": [
              "IPY_MODEL_0f708d90fdd94c91bc3915669212ea88",
              "IPY_MODEL_343181f2903647fab7051cfdfdd07462",
              "IPY_MODEL_249c6eac1a42473fb18ae7848f971ca3"
            ],
            "layout": "IPY_MODEL_db49c641eef44bba95c0173a703e653a"
          }
        },
        "0f708d90fdd94c91bc3915669212ea88": {
          "model_module": "@jupyter-widgets/controls",
          "model_name": "HTMLModel",
          "model_module_version": "1.5.0",
          "state": {
            "_dom_classes": [],
            "_model_module": "@jupyter-widgets/controls",
            "_model_module_version": "1.5.0",
            "_model_name": "HTMLModel",
            "_view_count": null,
            "_view_module": "@jupyter-widgets/controls",
            "_view_module_version": "1.5.0",
            "_view_name": "HTMLView",
            "description": "",
            "description_tooltip": null,
            "layout": "IPY_MODEL_c3eb126733e5417ba522c8bb476d048d",
            "placeholder": "​",
            "style": "IPY_MODEL_c333e0a26bce4594806d52667621e81c",
            "value": "Processing:   0%"
          }
        },
        "343181f2903647fab7051cfdfdd07462": {
          "model_module": "@jupyter-widgets/controls",
          "model_name": "FloatProgressModel",
          "model_module_version": "1.5.0",
          "state": {
            "_dom_classes": [],
            "_model_module": "@jupyter-widgets/controls",
            "_model_module_version": "1.5.0",
            "_model_name": "FloatProgressModel",
            "_view_count": null,
            "_view_module": "@jupyter-widgets/controls",
            "_view_module_version": "1.5.0",
            "_view_name": "ProgressView",
            "bar_style": "",
            "description": "",
            "description_tooltip": null,
            "layout": "IPY_MODEL_1f86768e30f74cb78c2fc25c2d492b02",
            "max": 4,
            "min": 0,
            "orientation": "horizontal",
            "style": "IPY_MODEL_425103b5266b466c9f9b0f7f75588601",
            "value": 4
          }
        },
        "249c6eac1a42473fb18ae7848f971ca3": {
          "model_module": "@jupyter-widgets/controls",
          "model_name": "HTMLModel",
          "model_module_version": "1.5.0",
          "state": {
            "_dom_classes": [],
            "_model_module": "@jupyter-widgets/controls",
            "_model_module_version": "1.5.0",
            "_model_name": "HTMLModel",
            "_view_count": null,
            "_view_module": "@jupyter-widgets/controls",
            "_view_module_version": "1.5.0",
            "_view_name": "HTMLView",
            "description": "",
            "description_tooltip": null,
            "layout": "IPY_MODEL_8d9b174de1434007be99f0414e22bd73",
            "placeholder": "​",
            "style": "IPY_MODEL_f4dd2b60b8184d54b14172ffcd2f1ad2",
            "value": " 0/4 [00:00&lt;?, ?it/s]"
          }
        },
        "db49c641eef44bba95c0173a703e653a": {
          "model_module": "@jupyter-widgets/base",
          "model_name": "LayoutModel",
          "model_module_version": "1.2.0",
          "state": {
            "_model_module": "@jupyter-widgets/base",
            "_model_module_version": "1.2.0",
            "_model_name": "LayoutModel",
            "_view_count": null,
            "_view_module": "@jupyter-widgets/base",
            "_view_module_version": "1.2.0",
            "_view_name": "LayoutView",
            "align_content": null,
            "align_items": null,
            "align_self": null,
            "border": null,
            "bottom": null,
            "display": null,
            "flex": null,
            "flex_flow": null,
            "grid_area": null,
            "grid_auto_columns": null,
            "grid_auto_flow": null,
            "grid_auto_rows": null,
            "grid_column": null,
            "grid_gap": null,
            "grid_row": null,
            "grid_template_areas": null,
            "grid_template_columns": null,
            "grid_template_rows": null,
            "height": null,
            "justify_content": null,
            "justify_items": null,
            "left": null,
            "margin": null,
            "max_height": null,
            "max_width": null,
            "min_height": null,
            "min_width": null,
            "object_fit": null,
            "object_position": null,
            "order": null,
            "overflow": null,
            "overflow_x": null,
            "overflow_y": null,
            "padding": null,
            "right": null,
            "top": null,
            "visibility": "hidden",
            "width": null
          }
        },
        "c3eb126733e5417ba522c8bb476d048d": {
          "model_module": "@jupyter-widgets/base",
          "model_name": "LayoutModel",
          "model_module_version": "1.2.0",
          "state": {
            "_model_module": "@jupyter-widgets/base",
            "_model_module_version": "1.2.0",
            "_model_name": "LayoutModel",
            "_view_count": null,
            "_view_module": "@jupyter-widgets/base",
            "_view_module_version": "1.2.0",
            "_view_name": "LayoutView",
            "align_content": null,
            "align_items": null,
            "align_self": null,
            "border": null,
            "bottom": null,
            "display": null,
            "flex": null,
            "flex_flow": null,
            "grid_area": null,
            "grid_auto_columns": null,
            "grid_auto_flow": null,
            "grid_auto_rows": null,
            "grid_column": null,
            "grid_gap": null,
            "grid_row": null,
            "grid_template_areas": null,
            "grid_template_columns": null,
            "grid_template_rows": null,
            "height": null,
            "justify_content": null,
            "justify_items": null,
            "left": null,
            "margin": null,
            "max_height": null,
            "max_width": null,
            "min_height": null,
            "min_width": null,
            "object_fit": null,
            "object_position": null,
            "order": null,
            "overflow": null,
            "overflow_x": null,
            "overflow_y": null,
            "padding": null,
            "right": null,
            "top": null,
            "visibility": null,
            "width": null
          }
        },
        "c333e0a26bce4594806d52667621e81c": {
          "model_module": "@jupyter-widgets/controls",
          "model_name": "DescriptionStyleModel",
          "model_module_version": "1.5.0",
          "state": {
            "_model_module": "@jupyter-widgets/controls",
            "_model_module_version": "1.5.0",
            "_model_name": "DescriptionStyleModel",
            "_view_count": null,
            "_view_module": "@jupyter-widgets/base",
            "_view_module_version": "1.2.0",
            "_view_name": "StyleView",
            "description_width": ""
          }
        },
        "1f86768e30f74cb78c2fc25c2d492b02": {
          "model_module": "@jupyter-widgets/base",
          "model_name": "LayoutModel",
          "model_module_version": "1.2.0",
          "state": {
            "_model_module": "@jupyter-widgets/base",
            "_model_module_version": "1.2.0",
            "_model_name": "LayoutModel",
            "_view_count": null,
            "_view_module": "@jupyter-widgets/base",
            "_view_module_version": "1.2.0",
            "_view_name": "LayoutView",
            "align_content": null,
            "align_items": null,
            "align_self": null,
            "border": null,
            "bottom": null,
            "display": null,
            "flex": null,
            "flex_flow": null,
            "grid_area": null,
            "grid_auto_columns": null,
            "grid_auto_flow": null,
            "grid_auto_rows": null,
            "grid_column": null,
            "grid_gap": null,
            "grid_row": null,
            "grid_template_areas": null,
            "grid_template_columns": null,
            "grid_template_rows": null,
            "height": null,
            "justify_content": null,
            "justify_items": null,
            "left": null,
            "margin": null,
            "max_height": null,
            "max_width": null,
            "min_height": null,
            "min_width": null,
            "object_fit": null,
            "object_position": null,
            "order": null,
            "overflow": null,
            "overflow_x": null,
            "overflow_y": null,
            "padding": null,
            "right": null,
            "top": null,
            "visibility": null,
            "width": null
          }
        },
        "425103b5266b466c9f9b0f7f75588601": {
          "model_module": "@jupyter-widgets/controls",
          "model_name": "ProgressStyleModel",
          "model_module_version": "1.5.0",
          "state": {
            "_model_module": "@jupyter-widgets/controls",
            "_model_module_version": "1.5.0",
            "_model_name": "ProgressStyleModel",
            "_view_count": null,
            "_view_module": "@jupyter-widgets/base",
            "_view_module_version": "1.2.0",
            "_view_name": "StyleView",
            "bar_color": null,
            "description_width": ""
          }
        },
        "8d9b174de1434007be99f0414e22bd73": {
          "model_module": "@jupyter-widgets/base",
          "model_name": "LayoutModel",
          "model_module_version": "1.2.0",
          "state": {
            "_model_module": "@jupyter-widgets/base",
            "_model_module_version": "1.2.0",
            "_model_name": "LayoutModel",
            "_view_count": null,
            "_view_module": "@jupyter-widgets/base",
            "_view_module_version": "1.2.0",
            "_view_name": "LayoutView",
            "align_content": null,
            "align_items": null,
            "align_self": null,
            "border": null,
            "bottom": null,
            "display": null,
            "flex": null,
            "flex_flow": null,
            "grid_area": null,
            "grid_auto_columns": null,
            "grid_auto_flow": null,
            "grid_auto_rows": null,
            "grid_column": null,
            "grid_gap": null,
            "grid_row": null,
            "grid_template_areas": null,
            "grid_template_columns": null,
            "grid_template_rows": null,
            "height": null,
            "justify_content": null,
            "justify_items": null,
            "left": null,
            "margin": null,
            "max_height": null,
            "max_width": null,
            "min_height": null,
            "min_width": null,
            "object_fit": null,
            "object_position": null,
            "order": null,
            "overflow": null,
            "overflow_x": null,
            "overflow_y": null,
            "padding": null,
            "right": null,
            "top": null,
            "visibility": null,
            "width": null
          }
        },
        "f4dd2b60b8184d54b14172ffcd2f1ad2": {
          "model_module": "@jupyter-widgets/controls",
          "model_name": "DescriptionStyleModel",
          "model_module_version": "1.5.0",
          "state": {
            "_model_module": "@jupyter-widgets/controls",
            "_model_module_version": "1.5.0",
            "_model_name": "DescriptionStyleModel",
            "_view_count": null,
            "_view_module": "@jupyter-widgets/base",
            "_view_module_version": "1.2.0",
            "_view_name": "StyleView",
            "description_width": ""
          }
        }
      }
    }
  },
  "nbformat": 4,
  "nbformat_minor": 5
}