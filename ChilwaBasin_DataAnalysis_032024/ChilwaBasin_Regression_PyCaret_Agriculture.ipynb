{
  "cells": [
    {
      "cell_type": "markdown",
      "metadata": {
        "id": "view-in-github",
        "colab_type": "text"
      },
      "source": [
        "<a href=\"https://colab.research.google.com/github/mtofighi/ChilwaBasin/blob/main/ChilwaBasin_DataAnalysis_032024/ChilwaBasin_Regression_PyCaret_Agriculture.ipynb\" target=\"_parent\"><img src=\"https://colab.research.google.com/assets/colab-badge.svg\" alt=\"Open In Colab\"/></a>"
      ]
    },
    {
      "cell_type": "markdown",
      "id": "81e0620e",
      "metadata": {
        "id": "81e0620e"
      },
      "source": [
        "Last updated: 25 Mar 2024\n",
        "# >> AgricultureClimateDataset\n",
        "\n",
        "# 👋 PyCaret Regression Tutorial\n"
      ]
    },
    {
      "cell_type": "code",
      "source": [
        "!pip install pycaret -q #[full] -q"
      ],
      "metadata": {
        "id": "LeiJ3VJdSYsS",
        "outputId": "fa606cbd-9484-46be-8b56-3c4a9b0f8d2b",
        "colab": {
          "base_uri": "https://localhost:8080/"
        }
      },
      "id": "LeiJ3VJdSYsS",
      "execution_count": 7,
      "outputs": [
        {
          "output_type": "stream",
          "name": "stdout",
          "text": [
            "\u001b[2K     \u001b[90m━━━━━━━━━━━━━━━━━━━━━━━━━━━━━━━━━━━━━━━━\u001b[0m \u001b[32m485.9/485.9 kB\u001b[0m \u001b[31m7.4 MB/s\u001b[0m eta \u001b[36m0:00:00\u001b[0m\n",
            "\u001b[2K     \u001b[90m━━━━━━━━━━━━━━━━━━━━━━━━━━━━━━━━━━━━━━━━\u001b[0m \u001b[32m12.1/12.1 MB\u001b[0m \u001b[31m33.1 MB/s\u001b[0m eta \u001b[36m0:00:00\u001b[0m\n",
            "\u001b[2K     \u001b[90m━━━━━━━━━━━━━━━━━━━━━━━━━━━━━━━━━━━━━━━━\u001b[0m \u001b[32m160.5/160.5 kB\u001b[0m \u001b[31m12.6 MB/s\u001b[0m eta \u001b[36m0:00:00\u001b[0m\n",
            "\u001b[?25h  Preparing metadata (setup.py) ... \u001b[?25l\u001b[?25hdone\n",
            "\u001b[2K     \u001b[90m━━━━━━━━━━━━━━━━━━━━━━━━━━━━━━━━━━━━━━━━\u001b[0m \u001b[32m258.0/258.0 kB\u001b[0m \u001b[31m25.4 MB/s\u001b[0m eta \u001b[36m0:00:00\u001b[0m\n",
            "\u001b[2K     \u001b[90m━━━━━━━━━━━━━━━━━━━━━━━━━━━━━━━━━━━━━━━━\u001b[0m \u001b[32m81.9/81.9 kB\u001b[0m \u001b[31m8.3 MB/s\u001b[0m eta \u001b[36m0:00:00\u001b[0m\n",
            "\u001b[2K     \u001b[90m━━━━━━━━━━━━━━━━━━━━━━━━━━━━━━━━━━━━━━━━\u001b[0m \u001b[32m194.1/194.1 kB\u001b[0m \u001b[31m22.8 MB/s\u001b[0m eta \u001b[36m0:00:00\u001b[0m\n",
            "\u001b[2K     \u001b[90m━━━━━━━━━━━━━━━━━━━━━━━━━━━━━━━━━━━━━━━━\u001b[0m \u001b[32m79.9/79.9 MB\u001b[0m \u001b[31m8.0 MB/s\u001b[0m eta \u001b[36m0:00:00\u001b[0m\n",
            "\u001b[2K     \u001b[90m━━━━━━━━━━━━━━━━━━━━━━━━━━━━━━━━━━━━━━━━\u001b[0m \u001b[32m106.8/106.8 kB\u001b[0m \u001b[31m10.7 MB/s\u001b[0m eta \u001b[36m0:00:00\u001b[0m\n",
            "\u001b[2K     \u001b[90m━━━━━━━━━━━━━━━━━━━━━━━━━━━━━━━━━━━━━━━━\u001b[0m \u001b[32m80.7/80.7 kB\u001b[0m \u001b[31m9.6 MB/s\u001b[0m eta \u001b[36m0:00:00\u001b[0m\n",
            "\u001b[2K     \u001b[90m━━━━━━━━━━━━━━━━━━━━━━━━━━━━━━━━━━━━━━━━\u001b[0m \u001b[32m21.9/21.9 MB\u001b[0m \u001b[31m52.6 MB/s\u001b[0m eta \u001b[36m0:00:00\u001b[0m\n",
            "\u001b[2K     \u001b[90m━━━━━━━━━━━━━━━━━━━━━━━━━━━━━━━━━━━━━━━━\u001b[0m \u001b[32m44.0/44.0 kB\u001b[0m \u001b[31m5.0 MB/s\u001b[0m eta \u001b[36m0:00:00\u001b[0m\n",
            "\u001b[2K     \u001b[90m━━━━━━━━━━━━━━━━━━━━━━━━━━━━━━━━━━━━━━━━\u001b[0m \u001b[32m2.1/2.1 MB\u001b[0m \u001b[31m71.6 MB/s\u001b[0m eta \u001b[36m0:00:00\u001b[0m\n",
            "\u001b[2K     \u001b[90m━━━━━━━━━━━━━━━━━━━━━━━━━━━━━━━━━━━━━━━━\u001b[0m \u001b[32m1.6/1.6 MB\u001b[0m \u001b[31m68.6 MB/s\u001b[0m eta \u001b[36m0:00:00\u001b[0m\n",
            "\u001b[2K     \u001b[90m━━━━━━━━━━━━━━━━━━━━━━━━━━━━━━━━━━━━━━━━\u001b[0m \u001b[32m10.2/10.2 MB\u001b[0m \u001b[31m88.3 MB/s\u001b[0m eta \u001b[36m0:00:00\u001b[0m\n",
            "\u001b[2K     \u001b[90m━━━━━━━━━━━━━━━━━━━━━━━━━━━━━━━━━━━━━━━━\u001b[0m \u001b[32m144.8/144.8 kB\u001b[0m \u001b[31m9.2 MB/s\u001b[0m eta \u001b[36m0:00:00\u001b[0m\n",
            "\u001b[2K     \u001b[90m━━━━━━━━━━━━━━━━━━━━━━━━━━━━━━━━━━━━━━━━\u001b[0m \u001b[32m2.1/2.1 MB\u001b[0m \u001b[31m46.2 MB/s\u001b[0m eta \u001b[36m0:00:00\u001b[0m\n",
            "\u001b[2K     \u001b[90m━━━━━━━━━━━━━━━━━━━━━━━━━━━━━━━━━━━━━━━━\u001b[0m \u001b[32m128.8/128.8 kB\u001b[0m \u001b[31m12.9 MB/s\u001b[0m eta \u001b[36m0:00:00\u001b[0m\n",
            "\u001b[?25h  Building wheel for pyod (setup.py) ... \u001b[?25l\u001b[?25hdone\n"
          ]
        }
      ]
    },
    {
      "cell_type": "code",
      "source": [
        "!pip install pycaret[analysis] -q\n",
        "!pip install pycaret[models] -q\n",
        "!pip install pycaret[tuner] -q\n",
        "!pip install pycaret[mlops] -q\n",
        "!pip install pycaret[parallel] -q\n",
        "!pip install pycaret[test] -q"
      ],
      "metadata": {
        "id": "hSF52j_4WsmY",
        "outputId": "9f4dc7b1-2a9f-480f-c448-cb7bfecd6e0c",
        "colab": {
          "base_uri": "https://localhost:8080/"
        }
      },
      "id": "hSF52j_4WsmY",
      "execution_count": 8,
      "outputs": [
        {
          "output_type": "stream",
          "name": "stdout",
          "text": [
            "\u001b[?25l     \u001b[90m━━━━━━━━━━━━━━━━━━━━━━━━━━━━━━━━━━━━━━━━\u001b[0m \u001b[32m0.0/538.2 kB\u001b[0m \u001b[31m?\u001b[0m eta \u001b[36m-:--:--\u001b[0m\r\u001b[2K     \u001b[91m━━━━━━━━━━━━\u001b[0m\u001b[91m╸\u001b[0m\u001b[90m━━━━━━━━━━━━━━━━━━━━━━━━━━━\u001b[0m \u001b[32m174.1/538.2 kB\u001b[0m \u001b[31m5.0 MB/s\u001b[0m eta \u001b[36m0:00:01\u001b[0m\r\u001b[2K     \u001b[91m━━━━━━━━━━━━━━━━━━━━━━━━━━━━━━━━━━━━━━━\u001b[0m\u001b[91m╸\u001b[0m \u001b[32m532.5/538.2 kB\u001b[0m \u001b[31m8.4 MB/s\u001b[0m eta \u001b[36m0:00:01\u001b[0m\r\u001b[2K     \u001b[90m━━━━━━━━━━━━━━━━━━━━━━━━━━━━━━━━━━━━━━━━\u001b[0m \u001b[32m538.2/538.2 kB\u001b[0m \u001b[31m7.2 MB/s\u001b[0m eta \u001b[36m0:00:00\u001b[0m\n",
            "\u001b[2K     \u001b[90m━━━━━━━━━━━━━━━━━━━━━━━━━━━━━━━━━━━━━━━━\u001b[0m \u001b[32m85.7/85.7 kB\u001b[0m \u001b[31m9.7 MB/s\u001b[0m eta \u001b[36m0:00:00\u001b[0m\n",
            "\u001b[2K     \u001b[90m━━━━━━━━━━━━━━━━━━━━━━━━━━━━━━━━━━━━━━━━\u001b[0m \u001b[32m269.4/269.4 kB\u001b[0m \u001b[31m9.5 MB/s\u001b[0m eta \u001b[36m0:00:00\u001b[0m\n",
            "\u001b[?25h  \u001b[1;31merror\u001b[0m: \u001b[1msubprocess-exited-with-error\u001b[0m\n",
            "  \n",
            "  \u001b[31m×\u001b[0m \u001b[32mpython setup.py egg_info\u001b[0m did not run successfully.\n",
            "  \u001b[31m│\u001b[0m exit code: \u001b[1;36m1\u001b[0m\n",
            "  \u001b[31m╰─>\u001b[0m See above for output.\n",
            "  \n",
            "  \u001b[1;35mnote\u001b[0m: This error originates from a subprocess, and is likely not a problem with pip.\n",
            "  Preparing metadata (setup.py) ... \u001b[?25l\u001b[?25herror\n",
            "\u001b[1;31merror\u001b[0m: \u001b[1mmetadata-generation-failed\u001b[0m\n",
            "\n",
            "\u001b[31m×\u001b[0m Encountered error while generating package metadata.\n",
            "\u001b[31m╰─>\u001b[0m See above for output.\n",
            "\n",
            "\u001b[1;35mnote\u001b[0m: This is an issue with the package mentioned above, not pip.\n",
            "\u001b[1;36mhint\u001b[0m: See above for details.\n",
            "\u001b[2K     \u001b[90m━━━━━━━━━━━━━━━━━━━━━━━━━━━━━━━━━━━━━━━━\u001b[0m \u001b[32m100.0/100.0 kB\u001b[0m \u001b[31m2.7 MB/s\u001b[0m eta \u001b[36m0:00:00\u001b[0m\n",
            "\u001b[2K     \u001b[90m━━━━━━━━━━━━━━━━━━━━━━━━━━━━━━━━━━━━━━━━\u001b[0m \u001b[32m137.3/137.3 kB\u001b[0m \u001b[31m13.5 MB/s\u001b[0m eta \u001b[36m0:00:00\u001b[0m\n",
            "\u001b[2K     \u001b[90m━━━━━━━━━━━━━━━━━━━━━━━━━━━━━━━━━━━━━━━━\u001b[0m \u001b[32m98.5/98.5 MB\u001b[0m \u001b[31m3.6 MB/s\u001b[0m eta \u001b[36m0:00:00\u001b[0m\n",
            "\u001b[2K     \u001b[90m━━━━━━━━━━━━━━━━━━━━━━━━━━━━━━━━━━━━━━━━\u001b[0m \u001b[32m10.3/10.3 MB\u001b[0m \u001b[31m53.7 MB/s\u001b[0m eta \u001b[36m0:00:00\u001b[0m\n",
            "\u001b[2K     \u001b[90m━━━━━━━━━━━━━━━━━━━━━━━━━━━━━━━━━━━━━━━━\u001b[0m \u001b[32m63.0/63.0 MB\u001b[0m \u001b[31m6.2 MB/s\u001b[0m eta \u001b[36m0:00:00\u001b[0m\n",
            "\u001b[2K     \u001b[90m━━━━━━━━━━━━━━━━━━━━━━━━━━━━━━━━━━━━━━━━\u001b[0m \u001b[32m279.8/279.8 kB\u001b[0m \u001b[31m28.3 MB/s\u001b[0m eta \u001b[36m0:00:00\u001b[0m\n",
            "\u001b[2K     \u001b[90m━━━━━━━━━━━━━━━━━━━━━━━━━━━━━━━━━━━━━━━━\u001b[0m \u001b[32m62.1/62.1 kB\u001b[0m \u001b[31m8.6 MB/s\u001b[0m eta \u001b[36m0:00:00\u001b[0m\n",
            "\u001b[2K     \u001b[90m━━━━━━━━━━━━━━━━━━━━━━━━━━━━━━━━━━━━━━━━\u001b[0m \u001b[32m169.2/169.2 kB\u001b[0m \u001b[31m16.9 MB/s\u001b[0m eta \u001b[36m0:00:00\u001b[0m\n",
            "\u001b[2K     \u001b[90m━━━━━━━━━━━━━━━━━━━━━━━━━━━━━━━━━━━━━━━━\u001b[0m \u001b[32m154.7/154.7 kB\u001b[0m \u001b[31m16.2 MB/s\u001b[0m eta \u001b[36m0:00:00\u001b[0m\n",
            "\u001b[?25h  Preparing metadata (setup.py) ... \u001b[?25l\u001b[?25hdone\n",
            "\u001b[2K     \u001b[90m━━━━━━━━━━━━━━━━━━━━━━━━━━━━━━━━━━━━━━━━\u001b[0m \u001b[32m144.2/144.2 kB\u001b[0m \u001b[31m16.5 MB/s\u001b[0m eta \u001b[36m0:00:00\u001b[0m\n",
            "\u001b[2K     \u001b[90m━━━━━━━━━━━━━━━━━━━━━━━━━━━━━━━━━━━━━━━━\u001b[0m \u001b[32m135.3/135.3 kB\u001b[0m \u001b[31m15.6 MB/s\u001b[0m eta \u001b[36m0:00:00\u001b[0m\n",
            "\u001b[?25h  Building wheel for fugue-sql-antlr (setup.py) ... \u001b[?25l\u001b[?25hdone\n",
            "\u001b[33mWARNING: pycaret 3.3.0 does not provide the extra 'tuner'\u001b[0m\u001b[33m\n",
            "\u001b[2K     \u001b[90m━━━━━━━━━━━━━━━━━━━━━━━━━━━━━━━━━━━━━━━━\u001b[0m \u001b[32m19.7/19.7 MB\u001b[0m \u001b[31m43.4 MB/s\u001b[0m eta \u001b[36m0:00:00\u001b[0m\n",
            "\u001b[2K     \u001b[90m━━━━━━━━━━━━━━━━━━━━━━━━━━━━━━━━━━━━━━━━\u001b[0m \u001b[32m17.1/17.1 MB\u001b[0m \u001b[31m54.7 MB/s\u001b[0m eta \u001b[36m0:00:00\u001b[0m\n",
            "\u001b[2K     \u001b[90m━━━━━━━━━━━━━━━━━━━━━━━━━━━━━━━━━━━━━━━━\u001b[0m \u001b[32m139.3/139.3 kB\u001b[0m \u001b[31m17.9 MB/s\u001b[0m eta \u001b[36m0:00:00\u001b[0m\n",
            "\u001b[2K     \u001b[90m━━━━━━━━━━━━━━━━━━━━━━━━━━━━━━━━━━━━━━━━\u001b[0m \u001b[32m91.9/91.9 kB\u001b[0m \u001b[31m11.6 MB/s\u001b[0m eta \u001b[36m0:00:00\u001b[0m\n",
            "\u001b[2K     \u001b[90m━━━━━━━━━━━━━━━━━━━━━━━━━━━━━━━━━━━━━━━━\u001b[0m \u001b[32m60.8/60.8 kB\u001b[0m \u001b[31m7.1 MB/s\u001b[0m eta \u001b[36m0:00:00\u001b[0m\n",
            "\u001b[2K     \u001b[90m━━━━━━━━━━━━━━━━━━━━━━━━━━━━━━━━━━━━━━━━\u001b[0m \u001b[32m92.2/92.2 kB\u001b[0m \u001b[31m9.6 MB/s\u001b[0m eta \u001b[36m0:00:00\u001b[0m\n",
            "\u001b[2K     \u001b[90m━━━━━━━━━━━━━━━━━━━━━━━━━━━━━━━━━━━━━━━━\u001b[0m \u001b[32m3.4/3.4 MB\u001b[0m \u001b[31m80.4 MB/s\u001b[0m eta \u001b[36m0:00:00\u001b[0m\n",
            "\u001b[2K     \u001b[90m━━━━━━━━━━━━━━━━━━━━━━━━━━━━━━━━━━━━━━━━\u001b[0m \u001b[32m12.1/12.1 MB\u001b[0m \u001b[31m82.1 MB/s\u001b[0m eta \u001b[36m0:00:00\u001b[0m\n",
            "\u001b[2K     \u001b[90m━━━━━━━━━━━━━━━━━━━━━━━━━━━━━━━━━━━━━━━━\u001b[0m \u001b[32m82.2/82.2 kB\u001b[0m \u001b[31m10.4 MB/s\u001b[0m eta \u001b[36m0:00:00\u001b[0m\n",
            "\u001b[?25h  Preparing metadata (setup.py) ... \u001b[?25l\u001b[?25hdone\n",
            "\u001b[2K     \u001b[90m━━━━━━━━━━━━━━━━━━━━━━━━━━━━━━━━━━━━━━━━\u001b[0m \u001b[32m313.4/313.4 kB\u001b[0m \u001b[31m33.9 MB/s\u001b[0m eta \u001b[36m0:00:00\u001b[0m\n",
            "\u001b[2K     \u001b[90m━━━━━━━━━━━━━━━━━━━━━━━━━━━━━━━━━━━━━━━━\u001b[0m \u001b[32m75.6/75.6 kB\u001b[0m \u001b[31m10.0 MB/s\u001b[0m eta \u001b[36m0:00:00\u001b[0m\n",
            "\u001b[2K     \u001b[90m━━━━━━━━━━━━━━━━━━━━━━━━━━━━━━━━━━━━━━━━\u001b[0m \u001b[32m8.7/8.7 MB\u001b[0m \u001b[31m77.0 MB/s\u001b[0m eta \u001b[36m0:00:00\u001b[0m\n",
            "\u001b[2K     \u001b[90m━━━━━━━━━━━━━━━━━━━━━━━━━━━━━━━━━━━━━━━━\u001b[0m \u001b[32m129.9/129.9 kB\u001b[0m \u001b[31m16.7 MB/s\u001b[0m eta \u001b[36m0:00:00\u001b[0m\n",
            "\u001b[2K     \u001b[90m━━━━━━━━━━━━━━━━━━━━━━━━━━━━━━━━━━━━━━━━\u001b[0m \u001b[32m207.3/207.3 kB\u001b[0m \u001b[31m20.2 MB/s\u001b[0m eta \u001b[36m0:00:00\u001b[0m\n",
            "\u001b[2K     \u001b[90m━━━━━━━━━━━━━━━━━━━━━━━━━━━━━━━━━━━━━━━━\u001b[0m \u001b[32m53.0/53.0 kB\u001b[0m \u001b[31m6.1 MB/s\u001b[0m eta \u001b[36m0:00:00\u001b[0m\n",
            "\u001b[2K     \u001b[90m━━━━━━━━━━━━━━━━━━━━━━━━━━━━━━━━━━━━━━━━\u001b[0m \u001b[32m233.4/233.4 kB\u001b[0m \u001b[31m20.6 MB/s\u001b[0m eta \u001b[36m0:00:00\u001b[0m\n",
            "\u001b[2K     \u001b[90m━━━━━━━━━━━━━━━━━━━━━━━━━━━━━━━━━━━━━━━━\u001b[0m \u001b[32m147.6/147.6 kB\u001b[0m \u001b[31m11.6 MB/s\u001b[0m eta \u001b[36m0:00:00\u001b[0m\n",
            "\u001b[2K     \u001b[90m━━━━━━━━━━━━━━━━━━━━━━━━━━━━━━━━━━━━━━━━\u001b[0m \u001b[32m128.2/128.2 kB\u001b[0m \u001b[31m14.0 MB/s\u001b[0m eta \u001b[36m0:00:00\u001b[0m\n",
            "\u001b[2K     \u001b[90m━━━━━━━━━━━━━━━━━━━━━━━━━━━━━━━━━━━━━━━━\u001b[0m \u001b[32m80.2/80.2 kB\u001b[0m \u001b[31m9.4 MB/s\u001b[0m eta \u001b[36m0:00:00\u001b[0m\n",
            "\u001b[2K     \u001b[90m━━━━━━━━━━━━━━━━━━━━━━━━━━━━━━━━━━━━━━━━\u001b[0m \u001b[32m58.3/58.3 kB\u001b[0m \u001b[31m7.4 MB/s\u001b[0m eta \u001b[36m0:00:00\u001b[0m\n",
            "\u001b[2K     \u001b[90m━━━━━━━━━━━━━━━━━━━━━━━━━━━━━━━━━━━━━━━━\u001b[0m \u001b[32m522.9/522.9 kB\u001b[0m \u001b[31m47.1 MB/s\u001b[0m eta \u001b[36m0:00:00\u001b[0m\n",
            "\u001b[2K     \u001b[90m━━━━━━━━━━━━━━━━━━━━━━━━━━━━━━━━━━━━━━━━\u001b[0m \u001b[32m83.0/83.0 kB\u001b[0m \u001b[31m9.8 MB/s\u001b[0m eta \u001b[36m0:00:00\u001b[0m\n",
            "\u001b[2K     \u001b[90m━━━━━━━━━━━━━━━━━━━━━━━━━━━━━━━━━━━━━━━━\u001b[0m \u001b[32m230.8/230.8 kB\u001b[0m \u001b[31m21.9 MB/s\u001b[0m eta \u001b[36m0:00:00\u001b[0m\n",
            "\u001b[2K     \u001b[90m━━━━━━━━━━━━━━━━━━━━━━━━━━━━━━━━━━━━━━━━\u001b[0m \u001b[32m172.0/172.0 kB\u001b[0m \u001b[31m20.3 MB/s\u001b[0m eta \u001b[36m0:00:00\u001b[0m\n",
            "\u001b[2K     \u001b[90m━━━━━━━━━━━━━━━━━━━━━━━━━━━━━━━━━━━━━━━━\u001b[0m \u001b[32m53.2/53.2 kB\u001b[0m \u001b[31m6.5 MB/s\u001b[0m eta \u001b[36m0:00:00\u001b[0m\n",
            "\u001b[2K     \u001b[90m━━━━━━━━━━━━━━━━━━━━━━━━━━━━━━━━━━━━━━━━\u001b[0m \u001b[32m71.9/71.9 kB\u001b[0m \u001b[31m9.5 MB/s\u001b[0m eta \u001b[36m0:00:00\u001b[0m\n",
            "\u001b[2K     \u001b[90m━━━━━━━━━━━━━━━━━━━━━━━━━━━━━━━━━━━━━━━━\u001b[0m \u001b[32m78.7/78.7 kB\u001b[0m \u001b[31m10.1 MB/s\u001b[0m eta \u001b[36m0:00:00\u001b[0m\n",
            "\u001b[2K     \u001b[90m━━━━━━━━━━━━━━━━━━━━━━━━━━━━━━━━━━━━━━━━\u001b[0m \u001b[32m62.7/62.7 kB\u001b[0m \u001b[31m8.0 MB/s\u001b[0m eta \u001b[36m0:00:00\u001b[0m\n",
            "\u001b[2K     \u001b[90m━━━━━━━━━━━━━━━━━━━━━━━━━━━━━━━━━━━━━━━━\u001b[0m \u001b[32m202.9/202.9 kB\u001b[0m \u001b[31m21.7 MB/s\u001b[0m eta \u001b[36m0:00:00\u001b[0m\n",
            "\u001b[2K     \u001b[90m━━━━━━━━━━━━━━━━━━━━━━━━━━━━━━━━━━━━━━━━\u001b[0m \u001b[32m52.8/52.8 kB\u001b[0m \u001b[31m7.2 MB/s\u001b[0m eta \u001b[36m0:00:00\u001b[0m\n",
            "\u001b[2K     \u001b[90m━━━━━━━━━━━━━━━━━━━━━━━━━━━━━━━━━━━━━━━━\u001b[0m \u001b[32m77.9/77.9 kB\u001b[0m \u001b[31m10.5 MB/s\u001b[0m eta \u001b[36m0:00:00\u001b[0m\n",
            "\u001b[2K     \u001b[90m━━━━━━━━━━━━━━━━━━━━━━━━━━━━━━━━━━━━━━━━\u001b[0m \u001b[32m210.3/210.3 kB\u001b[0m \u001b[31m23.6 MB/s\u001b[0m eta \u001b[36m0:00:00\u001b[0m\n",
            "\u001b[2K     \u001b[90m━━━━━━━━━━━━━━━━━━━━━━━━━━━━━━━━━━━━━━━━\u001b[0m \u001b[32m56.9/56.9 kB\u001b[0m \u001b[31m7.5 MB/s\u001b[0m eta \u001b[36m0:00:00\u001b[0m\n",
            "\u001b[2K     \u001b[90m━━━━━━━━━━━━━━━━━━━━━━━━━━━━━━━━━━━━━━━━\u001b[0m \u001b[32m1.8/1.8 MB\u001b[0m \u001b[31m74.7 MB/s\u001b[0m eta \u001b[36m0:00:00\u001b[0m\n",
            "\u001b[?25h  Building wheel for ffmpy (setup.py) ... \u001b[?25l\u001b[?25hdone\n",
            "\u001b[31mERROR: pip's dependency resolver does not currently take into account all the packages that are installed. This behaviour is the source of the following dependency conflicts.\n",
            "torch 2.2.1+cu121 requires nvidia-cublas-cu12==12.1.3.1; platform_system == \"Linux\" and platform_machine == \"x86_64\", which is not installed.\n",
            "torch 2.2.1+cu121 requires nvidia-cuda-cupti-cu12==12.1.105; platform_system == \"Linux\" and platform_machine == \"x86_64\", which is not installed.\n",
            "torch 2.2.1+cu121 requires nvidia-cuda-nvrtc-cu12==12.1.105; platform_system == \"Linux\" and platform_machine == \"x86_64\", which is not installed.\n",
            "torch 2.2.1+cu121 requires nvidia-cuda-runtime-cu12==12.1.105; platform_system == \"Linux\" and platform_machine == \"x86_64\", which is not installed.\n",
            "torch 2.2.1+cu121 requires nvidia-cudnn-cu12==8.9.2.26; platform_system == \"Linux\" and platform_machine == \"x86_64\", which is not installed.\n",
            "torch 2.2.1+cu121 requires nvidia-cufft-cu12==11.0.2.54; platform_system == \"Linux\" and platform_machine == \"x86_64\", which is not installed.\n",
            "torch 2.2.1+cu121 requires nvidia-curand-cu12==10.3.2.106; platform_system == \"Linux\" and platform_machine == \"x86_64\", which is not installed.\n",
            "torch 2.2.1+cu121 requires nvidia-cusolver-cu12==11.4.5.107; platform_system == \"Linux\" and platform_machine == \"x86_64\", which is not installed.\n",
            "torch 2.2.1+cu121 requires nvidia-cusparse-cu12==12.1.0.106; platform_system == \"Linux\" and platform_machine == \"x86_64\", which is not installed.\n",
            "torch 2.2.1+cu121 requires nvidia-nccl-cu12==2.19.3; platform_system == \"Linux\" and platform_machine == \"x86_64\", which is not installed.\n",
            "torch 2.2.1+cu121 requires nvidia-nvtx-cu12==12.1.105; platform_system == \"Linux\" and platform_machine == \"x86_64\", which is not installed.\n",
            "gcsfs 2023.6.0 requires fsspec==2023.6.0, but you have fsspec 2024.3.1 which is incompatible.\u001b[0m\u001b[31m\n",
            "\u001b[2K     \u001b[90m━━━━━━━━━━━━━━━━━━━━━━━━━━━━━━━━━━━━━━━━\u001b[0m \u001b[32m242.3/242.3 kB\u001b[0m \u001b[31m5.2 MB/s\u001b[0m eta \u001b[36m0:00:00\u001b[0m\n",
            "\u001b[2K     \u001b[90m━━━━━━━━━━━━━━━━━━━━━━━━━━━━━━━━━━━━━━━━\u001b[0m \u001b[32m57.0/57.0 kB\u001b[0m \u001b[31m7.7 MB/s\u001b[0m eta \u001b[36m0:00:00\u001b[0m\n",
            "\u001b[2K     \u001b[90m━━━━━━━━━━━━━━━━━━━━━━━━━━━━━━━━━━━━━━━━\u001b[0m \u001b[32m275.0/275.0 kB\u001b[0m \u001b[31m10.1 MB/s\u001b[0m eta \u001b[36m0:00:00\u001b[0m\n",
            "\u001b[2K     \u001b[90m━━━━━━━━━━━━━━━━━━━━━━━━━━━━━━━━━━━━━━━━\u001b[0m \u001b[32m3.3/3.3 MB\u001b[0m \u001b[31m14.4 MB/s\u001b[0m eta \u001b[36m0:00:00\u001b[0m\n",
            "\u001b[2K     \u001b[90m━━━━━━━━━━━━━━━━━━━━━━━━━━━━━━━━━━━━━━━━\u001b[0m \u001b[32m55.2/55.2 kB\u001b[0m \u001b[31m7.1 MB/s\u001b[0m eta \u001b[36m0:00:00\u001b[0m\n",
            "\u001b[2K     \u001b[90m━━━━━━━━━━━━━━━━━━━━━━━━━━━━━━━━━━━━━━━━\u001b[0m \u001b[32m983.2/983.2 kB\u001b[0m \u001b[31m21.7 MB/s\u001b[0m eta \u001b[36m0:00:00\u001b[0m\n",
            "\u001b[2K     \u001b[90m━━━━━━━━━━━━━━━━━━━━━━━━━━━━━━━━━━━━━━━━\u001b[0m \u001b[32m56.7/56.7 kB\u001b[0m \u001b[31m5.7 MB/s\u001b[0m eta \u001b[36m0:00:00\u001b[0m\n",
            "\u001b[2K     \u001b[90m━━━━━━━━━━━━━━━━━━━━━━━━━━━━━━━━━━━━━━━━\u001b[0m \u001b[32m134.8/134.8 kB\u001b[0m \u001b[31m11.6 MB/s\u001b[0m eta \u001b[36m0:00:00\u001b[0m\n",
            "\u001b[2K     \u001b[90m━━━━━━━━━━━━━━━━━━━━━━━━━━━━━━━━━━━━━━━━\u001b[0m \u001b[32m1.2/1.2 MB\u001b[0m \u001b[31m26.0 MB/s\u001b[0m eta \u001b[36m0:00:00\u001b[0m\n",
            "\u001b[2K     \u001b[90m━━━━━━━━━━━━━━━━━━━━━━━━━━━━━━━━━━━━━━━━\u001b[0m \u001b[32m981.6/981.6 kB\u001b[0m \u001b[31m30.6 MB/s\u001b[0m eta \u001b[36m0:00:00\u001b[0m\n",
            "\u001b[2K     \u001b[90m━━━━━━━━━━━━━━━━━━━━━━━━━━━━━━━━━━━━━━━━\u001b[0m \u001b[32m116.3/116.3 kB\u001b[0m \u001b[31m15.6 MB/s\u001b[0m eta \u001b[36m0:00:00\u001b[0m\n",
            "\u001b[2K     \u001b[90m━━━━━━━━━━━━━━━━━━━━━━━━━━━━━━━━━━━━━━━━\u001b[0m \u001b[32m143.8/143.8 kB\u001b[0m \u001b[31m12.7 MB/s\u001b[0m eta \u001b[36m0:00:00\u001b[0m\n",
            "\u001b[2K     \u001b[90m━━━━━━━━━━━━━━━━━━━━━━━━━━━━━━━━━━━━━━━━\u001b[0m \u001b[32m467.2/467.2 kB\u001b[0m \u001b[31m26.4 MB/s\u001b[0m eta \u001b[36m0:00:00\u001b[0m\n",
            "\u001b[?25h"
          ]
        }
      ]
    },
    {
      "cell_type": "code",
      "execution_count": 10,
      "id": "d7142a33",
      "metadata": {
        "id": "d7142a33",
        "outputId": "d3f32fd8-1e4d-42d6-a256-6acf6ca05067",
        "colab": {
          "base_uri": "https://localhost:8080/",
          "height": 35
        }
      },
      "outputs": [
        {
          "output_type": "execute_result",
          "data": {
            "text/plain": [
              "'3.3.0'"
            ],
            "application/vnd.google.colaboratory.intrinsic+json": {
              "type": "string"
            }
          },
          "metadata": {},
          "execution_count": 10
        }
      ],
      "source": [
        "# check installed version (must be >3.0)\n",
        "import pycaret\n",
        "pycaret.__version__"
      ]
    },
    {
      "cell_type": "markdown",
      "id": "fb66e98d",
      "metadata": {
        "id": "fb66e98d"
      },
      "source": [
        "# 🚀 Quick start"
      ]
    },
    {
      "cell_type": "markdown",
      "id": "00347d44",
      "metadata": {
        "id": "00347d44"
      },
      "source": [
        "PyCaret's Regression Module is a supervised machine learning module that is used for estimating the relationships between a dependent variable (often called the outcome variable, or target) and one or more independent variables (often called features, predictors, or covariates).\n",
        "\n",
        "The objective of regression is to predict continuous values such as predicting sales amount, predicting quantity, predicting temperature, etc. Regression module provides several pre-processing features to preprocess the data for modeling through the setup function.\n",
        "\n",
        "PyCaret's regression module has many preprocessing capabilities and it coems with over 25 ready-to-use algorithms and several plots to analyze the performance of trained models.\n",
        "\n",
        "A typical workflow in PyCaret Regression module consist of the following 5 steps in this order:\n",
        "\n",
        "### **Setup** ➡️ **Compare Models** ➡️ **Analyze Model** ➡️ **Prediction** ➡️ **Save Model**\n",
        "<br/>"
      ]
    },
    {
      "cell_type": "code",
      "execution_count": 11,
      "id": "1b09f8df",
      "metadata": {
        "id": "1b09f8df",
        "outputId": "ca948e3c-d361-4047-f97c-c8a3809197fc",
        "colab": {
          "base_uri": "https://localhost:8080/"
        }
      },
      "outputs": [
        {
          "output_type": "stream",
          "name": "stdout",
          "text": [
            "Data types: ChimpeniNovDecRainfall            float64\n",
            "ChimpeniJan2AprRainfall           float64\n",
            "ChimpeniNov2AprRainfall           float64\n",
            "SPI1                              float64\n",
            "SPI3                              float64\n",
            "SatelliteAverageMinTemperature    float64\n",
            "SatelliteAverageMaxTemperature    float64\n",
            "SatelliteAverageTemperature       float64\n",
            "SatelliteNovDecRainfall           float64\n",
            "SatelliteJan2AprRainfall          float64\n",
            "SatelliteNov2AprRainfall          float64\n",
            "MaizeArea_HA_D1                     int64\n",
            "MaizeProduction_MT_D1               int64\n",
            "RiceArea_HA_D1                      int64\n",
            "RiceProduction_MT_D1                int64\n",
            "TobaccoArea_HA_D1                   int64\n",
            "TobaccoProduction_MT_D1           float64\n",
            "UREA_T_D1                         float64\n",
            "MaizeArea_HA_D2                     int64\n",
            "MaizeProduction_MT_D2               int64\n",
            "RiceArea_HA_D2                      int64\n",
            "RiceProduction_MT_D2                int64\n",
            "TobaccoArea_HA_D2                   int64\n",
            "TobaccoProduction_MT_D2           float64\n",
            "UREA_T_D2                         float64\n",
            "MaizeArea_HA_D4                     int64\n",
            "MaizeProduction_MT_D4               int64\n",
            "RiceArea_HA_D4                      int64\n",
            "RiceProduction_MT_D4                int64\n",
            "TobaccoArea_HA_D4                   int64\n",
            "TobaccoProduction_MT_D4           float64\n",
            "UREA_T_D4                         float64\n",
            "MaizeAreaTotal_HA                   int64\n",
            "MaizeProductionTotal_MT             int64\n",
            "RiceAreaTotal_HA                    int64\n",
            "RiceProductionTotal_MT              int64\n",
            "TobaccoAreaTotal_HA                 int64\n",
            "TobaccoProductionTotal_MT         float64\n",
            "UREATotal_T                       float64\n",
            "dtype: object\n",
            "Data shape: (13, 39)\n",
            "Headers: ['ChimpeniNovDecRainfall' 'ChimpeniJan2AprRainfall'\n",
            " 'ChimpeniNov2AprRainfall' 'SPI1' 'SPI3' 'SatelliteAverageMinTemperature'\n",
            " 'SatelliteAverageMaxTemperature' 'SatelliteAverageTemperature'\n",
            " 'SatelliteNovDecRainfall' 'SatelliteJan2AprRainfall'\n",
            " 'SatelliteNov2AprRainfall' 'MaizeArea_HA_D1' 'MaizeProduction_MT_D1'\n",
            " 'RiceArea_HA_D1' 'RiceProduction_MT_D1' 'TobaccoArea_HA_D1'\n",
            " 'TobaccoProduction_MT_D1' 'UREA_T_D1' 'MaizeArea_HA_D2'\n",
            " 'MaizeProduction_MT_D2' 'RiceArea_HA_D2' 'RiceProduction_MT_D2'\n",
            " 'TobaccoArea_HA_D2' 'TobaccoProduction_MT_D2' 'UREA_T_D2'\n",
            " 'MaizeArea_HA_D4' 'MaizeProduction_MT_D4' 'RiceArea_HA_D4'\n",
            " 'RiceProduction_MT_D4' 'TobaccoArea_HA_D4' 'TobaccoProduction_MT_D4'\n",
            " 'UREA_T_D4' 'MaizeAreaTotal_HA' 'MaizeProductionTotal_MT'\n",
            " 'RiceAreaTotal_HA' 'RiceProductionTotal_MT' 'TobaccoAreaTotal_HA'\n",
            " 'TobaccoProductionTotal_MT' 'UREATotal_T']\n"
          ]
        }
      ],
      "source": [
        "### load sample dataset from pycaret dataset module\n",
        "# from pycaret.datasets import get_data\n",
        "# data = get_data('insurance')\n",
        "\n",
        "import pandas as pd\n",
        "import matplotlib.pyplot as plt\n",
        "\n",
        "url = 'https://github.com/mtofighi/ChilwaBasin/blob/main/ChilwaBasin_DataAnalysis_032024/Dataset/ChilwaBasin_AgricultureClimateDataset_04052024.xlsx?raw=true'\n",
        "\n",
        "dataAll = pd.read_excel(url)\n",
        "\n",
        "# Convert the index to datetime format (assuming the index is in a date format)\n",
        "dataAll.index = pd.to_datetime(dataAll.iloc[:, 0])\n",
        "\n",
        "# Extract year and month from the index\n",
        "dataAll['Year'] = dataAll.index.year\n",
        "\n",
        "# Set the columns 'Year' and 'Month' as the index\n",
        "dataAll.set_index(['Year'], inplace=True)\n",
        "\n",
        "# Check the type of dataset\n",
        "print(\"Data types:\", dataAll.dtypes)\n",
        "\n",
        "# Check the shape of the data\n",
        "print(\"Data shape:\", dataAll.shape)\n",
        "\n",
        "# Convert the column names to an array\n",
        "headers = dataAll.columns.to_numpy()\n",
        "\n",
        "# Print the headers array\n",
        "print(\"Headers:\", headers)"
      ]
    },
    {
      "cell_type": "markdown",
      "id": "c00f6a4a",
      "metadata": {
        "id": "c00f6a4a"
      },
      "source": [
        "## Setup\n",
        "The `setup` function initializes the training environment and creates the transformation pipeline. Setup function must be called before executing any other function in PyCaret. It only has two required parameters i.e. `data` and `target`. All the other parameters are optional."
      ]
    },
    {
      "cell_type": "code",
      "execution_count": 14,
      "id": "97f2c6c6",
      "metadata": {
        "id": "97f2c6c6",
        "outputId": "bdfa2fe3-963b-4d44-fae1-bd84ac82881a",
        "colab": {
          "base_uri": "https://localhost:8080/",
          "height": 894
        }
      },
      "outputs": [
        {
          "output_type": "error",
          "ename": "ValueError",
          "evalue": "Invalid value for the index parameter. There are duplicate indices in the dataset. Use index=False to reset the index to RangeIndex.",
          "traceback": [
            "\u001b[0;31m---------------------------------------------------------------------------\u001b[0m",
            "\u001b[0;31mValueError\u001b[0m                                Traceback (most recent call last)",
            "\u001b[0;32m<ipython-input-14-9227304238ed>\u001b[0m in \u001b[0;36m<cell line: 52>\u001b[0;34m()\u001b[0m\n\u001b[1;32m     50\u001b[0m ]\n\u001b[1;32m     51\u001b[0m \u001b[0;34m\u001b[0m\u001b[0m\n\u001b[0;32m---> 52\u001b[0;31m \u001b[0ms\u001b[0m \u001b[0;34m=\u001b[0m \u001b[0msetup\u001b[0m\u001b[0;34m(\u001b[0m\u001b[0mdata\u001b[0m\u001b[0;34m,\u001b[0m \u001b[0mtarget\u001b[0m\u001b[0;34m=\u001b[0m \u001b[0;34m'MaizeProductionTotal_MT'\u001b[0m\u001b[0;34m,\u001b[0m \u001b[0msession_id\u001b[0m \u001b[0;34m=\u001b[0m \u001b[0;36m123\u001b[0m\u001b[0;34m)\u001b[0m\u001b[0;34m\u001b[0m\u001b[0;34m\u001b[0m\u001b[0m\n\u001b[0m",
            "\u001b[0;32m/usr/local/lib/python3.10/dist-packages/pycaret/regression/functional.py\u001b[0m in \u001b[0;36msetup\u001b[0;34m(data, data_func, target, index, train_size, test_data, ordinal_features, numeric_features, categorical_features, date_features, text_features, ignore_features, keep_features, preprocess, create_date_columns, imputation_type, numeric_imputation, categorical_imputation, iterative_imputation_iters, numeric_iterative_imputer, categorical_iterative_imputer, text_features_method, max_encoding_ohe, encoding_method, rare_to_value, rare_value, polynomial_features, polynomial_degree, low_variance_threshold, group_features, drop_groups, remove_multicollinearity, multicollinearity_threshold, bin_numeric_features, remove_outliers, outliers_method, outliers_threshold, transformation, transformation_method, normalize, normalize_method, pca, pca_method, pca_components, feature_selection, feature_selection_method, feature_selection_estimator, n_features_to_select, transform_target, transform_target_method, custom_pipeline, custom_pipeline_position, data_split_shuffle, data_split_stratify, fold_strategy, fold, fold_shuffle, fold_groups, n_jobs, use_gpu, html, session_id, system_log, log_experiment, experiment_name, experiment_custom_tags, log_plots, log_profile, log_data, verbose, memory, profile, profile_kwargs)\u001b[0m\n\u001b[1;32m    591\u001b[0m     \u001b[0mexp\u001b[0m \u001b[0;34m=\u001b[0m \u001b[0m_EXPERIMENT_CLASS\u001b[0m\u001b[0;34m(\u001b[0m\u001b[0;34m)\u001b[0m\u001b[0;34m\u001b[0m\u001b[0;34m\u001b[0m\u001b[0m\n\u001b[1;32m    592\u001b[0m     \u001b[0mset_current_experiment\u001b[0m\u001b[0;34m(\u001b[0m\u001b[0mexp\u001b[0m\u001b[0;34m)\u001b[0m\u001b[0;34m\u001b[0m\u001b[0;34m\u001b[0m\u001b[0m\n\u001b[0;32m--> 593\u001b[0;31m     return exp.setup(\n\u001b[0m\u001b[1;32m    594\u001b[0m         \u001b[0mdata\u001b[0m\u001b[0;34m=\u001b[0m\u001b[0mdata\u001b[0m\u001b[0;34m,\u001b[0m\u001b[0;34m\u001b[0m\u001b[0;34m\u001b[0m\u001b[0m\n\u001b[1;32m    595\u001b[0m         \u001b[0mdata_func\u001b[0m\u001b[0;34m=\u001b[0m\u001b[0mdata_func\u001b[0m\u001b[0;34m,\u001b[0m\u001b[0;34m\u001b[0m\u001b[0;34m\u001b[0m\u001b[0m\n",
            "\u001b[0;32m/usr/local/lib/python3.10/dist-packages/pycaret/regression/oop.py\u001b[0m in \u001b[0;36msetup\u001b[0;34m(self, data, data_func, target, index, train_size, test_data, ordinal_features, numeric_features, categorical_features, date_features, text_features, ignore_features, keep_features, preprocess, create_date_columns, imputation_type, numeric_imputation, categorical_imputation, iterative_imputation_iters, numeric_iterative_imputer, categorical_iterative_imputer, text_features_method, max_encoding_ohe, encoding_method, rare_to_value, rare_value, polynomial_features, polynomial_degree, low_variance_threshold, group_features, drop_groups, remove_multicollinearity, multicollinearity_threshold, bin_numeric_features, remove_outliers, outliers_method, outliers_threshold, transformation, transformation_method, normalize, normalize_method, pca, pca_method, pca_components, feature_selection, feature_selection_method, feature_selection_estimator, n_features_to_select, transform_target, transform_target_method, custom_pipeline, custom_pipeline_position, data_split_shuffle, data_split_stratify, fold_strategy, fold, fold_shuffle, fold_groups, n_jobs, use_gpu, html, session_id, system_log, log_experiment, experiment_name, experiment_custom_tags, log_plots, log_profile, log_data, engine, verbose, memory, profile, profile_kwargs)\u001b[0m\n\u001b[1;32m    723\u001b[0m         )\n\u001b[1;32m    724\u001b[0m \u001b[0;34m\u001b[0m\u001b[0m\n\u001b[0;32m--> 725\u001b[0;31m         self._prepare_train_test(\n\u001b[0m\u001b[1;32m    726\u001b[0m             \u001b[0mtrain_size\u001b[0m\u001b[0;34m=\u001b[0m\u001b[0mtrain_size\u001b[0m\u001b[0;34m,\u001b[0m\u001b[0;34m\u001b[0m\u001b[0;34m\u001b[0m\u001b[0m\n\u001b[1;32m    727\u001b[0m             \u001b[0mtest_data\u001b[0m\u001b[0;34m=\u001b[0m\u001b[0mtest_data\u001b[0m\u001b[0;34m,\u001b[0m\u001b[0;34m\u001b[0m\u001b[0;34m\u001b[0m\u001b[0m\n",
            "\u001b[0;32m/usr/local/lib/python3.10/dist-packages/pycaret/internal/preprocess/preprocessor.py\u001b[0m in \u001b[0;36m_prepare_train_test\u001b[0;34m(self, train_size, test_data, data_split_stratify, data_split_shuffle)\u001b[0m\n\u001b[1;32m    243\u001b[0m                 \u001b[0mshuffle\u001b[0m\u001b[0;34m=\u001b[0m\u001b[0mdata_split_shuffle\u001b[0m\u001b[0;34m,\u001b[0m\u001b[0;34m\u001b[0m\u001b[0;34m\u001b[0m\u001b[0m\n\u001b[1;32m    244\u001b[0m             )\n\u001b[0;32m--> 245\u001b[0;31m             \u001b[0mself\u001b[0m\u001b[0;34m.\u001b[0m\u001b[0mdata\u001b[0m \u001b[0;34m=\u001b[0m \u001b[0mself\u001b[0m\u001b[0;34m.\u001b[0m\u001b[0m_set_index\u001b[0m\u001b[0;34m(\u001b[0m\u001b[0mpd\u001b[0m\u001b[0;34m.\u001b[0m\u001b[0mconcat\u001b[0m\u001b[0;34m(\u001b[0m\u001b[0;34m[\u001b[0m\u001b[0mtrain\u001b[0m\u001b[0;34m,\u001b[0m \u001b[0mtest\u001b[0m\u001b[0;34m]\u001b[0m\u001b[0;34m)\u001b[0m\u001b[0;34m)\u001b[0m\u001b[0;34m\u001b[0m\u001b[0;34m\u001b[0m\u001b[0m\n\u001b[0m\u001b[1;32m    246\u001b[0m             \u001b[0mself\u001b[0m\u001b[0;34m.\u001b[0m\u001b[0midx\u001b[0m \u001b[0;34m=\u001b[0m \u001b[0;34m[\u001b[0m\u001b[0mself\u001b[0m\u001b[0;34m.\u001b[0m\u001b[0mdata\u001b[0m\u001b[0;34m.\u001b[0m\u001b[0mindex\u001b[0m\u001b[0;34m[\u001b[0m\u001b[0;34m:\u001b[0m \u001b[0mlen\u001b[0m\u001b[0;34m(\u001b[0m\u001b[0mtrain\u001b[0m\u001b[0;34m)\u001b[0m\u001b[0;34m]\u001b[0m\u001b[0;34m,\u001b[0m \u001b[0mself\u001b[0m\u001b[0;34m.\u001b[0m\u001b[0mdata\u001b[0m\u001b[0;34m.\u001b[0m\u001b[0mindex\u001b[0m\u001b[0;34m[\u001b[0m\u001b[0;34m-\u001b[0m\u001b[0mlen\u001b[0m\u001b[0;34m(\u001b[0m\u001b[0mtest\u001b[0m\u001b[0;34m)\u001b[0m \u001b[0;34m:\u001b[0m\u001b[0;34m]\u001b[0m\u001b[0;34m]\u001b[0m\u001b[0;34m\u001b[0m\u001b[0;34m\u001b[0m\u001b[0m\n\u001b[1;32m    247\u001b[0m \u001b[0;34m\u001b[0m\u001b[0m\n",
            "\u001b[0;32m/usr/local/lib/python3.10/dist-packages/pycaret/internal/preprocess/preprocessor.py\u001b[0m in \u001b[0;36m_set_index\u001b[0;34m(self, df)\u001b[0m\n\u001b[1;32m    206\u001b[0m \u001b[0;34m\u001b[0m\u001b[0m\n\u001b[1;32m    207\u001b[0m         \u001b[0;32mif\u001b[0m \u001b[0mdf\u001b[0m\u001b[0;34m.\u001b[0m\u001b[0mindex\u001b[0m\u001b[0;34m.\u001b[0m\u001b[0mduplicated\u001b[0m\u001b[0;34m(\u001b[0m\u001b[0;34m)\u001b[0m\u001b[0;34m.\u001b[0m\u001b[0many\u001b[0m\u001b[0;34m(\u001b[0m\u001b[0;34m)\u001b[0m\u001b[0;34m:\u001b[0m\u001b[0;34m\u001b[0m\u001b[0;34m\u001b[0m\u001b[0m\n\u001b[0;32m--> 208\u001b[0;31m             raise ValueError(\n\u001b[0m\u001b[1;32m    209\u001b[0m                 \u001b[0;34m\"Invalid value for the index parameter. There are duplicate indices \"\u001b[0m\u001b[0;34m\u001b[0m\u001b[0;34m\u001b[0m\u001b[0m\n\u001b[1;32m    210\u001b[0m                 \u001b[0;34m\"in the dataset. Use index=False to reset the index to RangeIndex.\"\u001b[0m\u001b[0;34m\u001b[0m\u001b[0;34m\u001b[0m\u001b[0m\n",
            "\u001b[0;31mValueError\u001b[0m: Invalid value for the index parameter. There are duplicate indices in the dataset. Use index=False to reset the index to RangeIndex."
          ]
        }
      ],
      "source": [
        "# Temperature\n",
        "\n",
        "# import pycaret regression and init setup\n",
        "from pycaret.regression import *\n",
        "##---------------------------------------------\n",
        "# The dataset is called 'dataAll'\n",
        "\n",
        "# All column Heasers\n",
        "column_names = ['ChimpeniNovDecRainfall', 'ChimpeniJan2AprRainfall',\n",
        " 'ChimpeniNov2AprRainfall', 'SPI1', 'SPI3', 'SatelliteAverageMinTemperature',\n",
        " 'SatelliteAverageMaxTemperature', 'SatelliteAverageTemperature',\n",
        " 'SatelliteNovDecRainfall', 'SatelliteJan2AprRainfall',\n",
        " 'SatelliteNov2AprRainfall', 'MaizeArea_HA_D1', 'MaizeProduction_MT_D1',\n",
        " 'RiceArea_HA_D1', 'RiceProduction_MT_D1', 'TobaccoArea_HA_D1',\n",
        " 'TobaccoProduction_MT_D1','UREA_T_D1', 'MaizeArea_HA_D2',\n",
        " 'MaizeProduction_MT_D2', 'RiceArea_HA_D2', 'RiceProduction_MT_D2',\n",
        " 'TobaccoArea_HA_D2', 'TobaccoProduction_MT_D2', 'UREA_T_D2',\n",
        " 'MaizeArea_HA_D4', 'MaizeProduction_MT_D4', 'RiceArea_HA_D4',\n",
        " 'RiceProduction_MT_D4', 'TobaccoArea_HA_D4', 'TobaccoProduction_MT_D4',\n",
        " 'UREA_T_D4', 'MaizeAreaTotal_HA', 'MaizeProductionTotal_MT',\n",
        " 'RiceAreaTotal_HA', 'RiceProductionTotal_MT', 'TobaccoAreaTotal_HA',\n",
        " 'TobaccoProductionTotal_MT', 'UREATotal_T']  # Specify the desired column names\n",
        "\n",
        "start_date = '2010'  # Specify the start date\n",
        "end_date = '2021'  # Specify the end date\n",
        "# start_date = '1946-01-01'  # Specify the start date\n",
        "# end_date = '2021-12-01'  # Specify the end date\n",
        "# Filter the data based on the column names and date range\n",
        "# sub_dataset = dataAll.loc[\n",
        "#     (dataAll['Year'] >= start_date) & (dataAll['Year'] <= end_date), column_names\n",
        "# ]\n",
        "\n",
        "# Drop rows with missing values\n",
        "# sub_dataset.dropna(inplace=True)\n",
        "\n",
        "# Extract the features      'SatelliteAverageMinTemperature','SatelliteAverageRainfall'\n",
        "data = dataAll[\n",
        "    [\n",
        "        # 'SatelliteAverageMinTemperature','SatelliteAverageRainfall',\n",
        "        # 'ActualEvapotransp','SoilMoisture',\n",
        "        # 'SPI1','SPI3' ,'SPI6', 'SPI12',\n",
        "        # 'PalmerDroughtSeverityIndex',\n",
        "        'ChimpeniNovDecRainfall',\n",
        "        'MaizeProductionTotal_MT'\n",
        "    ]\n",
        "    # [\n",
        "    #  'SatelliteAverageMinTemperature','SatelliteAverageRainfall',\n",
        "    #  'SchistosomiasisCasesTotal'\n",
        "    # ]\n",
        "]\n",
        "\n",
        "s = setup(data, target= 'MaizeProductionTotal_MT', session_id = 123)"
      ]
    },
    {
      "cell_type": "markdown",
      "id": "f98dd435",
      "metadata": {
        "id": "f98dd435"
      },
      "source": [
        "## Compare Models\n",
        "\n",
        "The `compare_models` function trains and evaluates the performance of all the estimators available in the model library using cross-validation. The output of this function is a scoring grid with average cross-validated scores. Metrics evaluated during CV can be accessed using the `get_metrics` function. Custom metrics can be added or removed using `add_metric` and `remove_metric` function."
      ]
    },
    {
      "cell_type": "code",
      "execution_count": null,
      "id": "65a19df4",
      "metadata": {
        "colab": {
          "referenced_widgets": [
            "2b985660ef8f49699f6aeca91d543da8",
            "40a7bd769e09451598294f849f844b4b",
            "4318116c15f64866bd7e09da78142f83",
            "35029b3600f74b4694cded88976a2294",
            "6a811d232a634b089b9e8f0c58b07ffa",
            "0d9a45aa8e7d4622b85a405d5d51aa93",
            "67ce71c195a441729ef866c5a5803cc6",
            "b343848f54f74a0dade16af328e30535",
            "950d9fcedb7f4fc0a5380bb4585c4a0b",
            "1ab44079af3b48da9e26f90483c5da58",
            "9a7a79fbbe4649c29351181f97b00fda"
          ],
          "base_uri": "https://localhost:8080/",
          "height": 676
        },
        "id": "65a19df4",
        "outputId": "2cea0534-d671-4e58-fec2-4a2b03ceee8c"
      },
      "outputs": [
        {
          "output_type": "display_data",
          "data": {
            "text/plain": [
              "<IPython.core.display.HTML object>"
            ],
            "text/html": []
          },
          "metadata": {}
        },
        {
          "output_type": "display_data",
          "data": {
            "text/plain": [
              "<pandas.io.formats.style.Styler at 0x79dcec887fa0>"
            ],
            "text/html": [
              "<style type=\"text/css\">\n",
              "#T_e3d92 th {\n",
              "  text-align: left;\n",
              "}\n",
              "#T_e3d92_row0_col0, #T_e3d92_row0_col1, #T_e3d92_row0_col5, #T_e3d92_row0_col6, #T_e3d92_row1_col0, #T_e3d92_row1_col1, #T_e3d92_row1_col2, #T_e3d92_row1_col3, #T_e3d92_row1_col4, #T_e3d92_row1_col5, #T_e3d92_row1_col6, #T_e3d92_row2_col0, #T_e3d92_row2_col2, #T_e3d92_row2_col3, #T_e3d92_row2_col4, #T_e3d92_row2_col5, #T_e3d92_row2_col6, #T_e3d92_row3_col0, #T_e3d92_row3_col1, #T_e3d92_row3_col2, #T_e3d92_row3_col3, #T_e3d92_row3_col4, #T_e3d92_row3_col5, #T_e3d92_row3_col6, #T_e3d92_row4_col0, #T_e3d92_row4_col1, #T_e3d92_row4_col2, #T_e3d92_row4_col3, #T_e3d92_row4_col4, #T_e3d92_row4_col5, #T_e3d92_row4_col6, #T_e3d92_row5_col0, #T_e3d92_row5_col1, #T_e3d92_row5_col2, #T_e3d92_row5_col3, #T_e3d92_row5_col4, #T_e3d92_row5_col5, #T_e3d92_row5_col6, #T_e3d92_row6_col0, #T_e3d92_row6_col1, #T_e3d92_row6_col2, #T_e3d92_row6_col3, #T_e3d92_row6_col4, #T_e3d92_row6_col5, #T_e3d92_row6_col6, #T_e3d92_row7_col0, #T_e3d92_row7_col1, #T_e3d92_row7_col2, #T_e3d92_row7_col3, #T_e3d92_row7_col4, #T_e3d92_row7_col5, #T_e3d92_row7_col6, #T_e3d92_row8_col0, #T_e3d92_row8_col1, #T_e3d92_row8_col2, #T_e3d92_row8_col3, #T_e3d92_row8_col4, #T_e3d92_row8_col5, #T_e3d92_row8_col6, #T_e3d92_row9_col0, #T_e3d92_row9_col1, #T_e3d92_row9_col2, #T_e3d92_row9_col3, #T_e3d92_row9_col4, #T_e3d92_row9_col5, #T_e3d92_row9_col6, #T_e3d92_row10_col0, #T_e3d92_row10_col1, #T_e3d92_row10_col2, #T_e3d92_row10_col3, #T_e3d92_row10_col4, #T_e3d92_row10_col5, #T_e3d92_row10_col6, #T_e3d92_row11_col0, #T_e3d92_row11_col1, #T_e3d92_row11_col2, #T_e3d92_row11_col3, #T_e3d92_row11_col4, #T_e3d92_row11_col5, #T_e3d92_row11_col6, #T_e3d92_row12_col0, #T_e3d92_row12_col1, #T_e3d92_row12_col2, #T_e3d92_row12_col3, #T_e3d92_row12_col4, #T_e3d92_row12_col5, #T_e3d92_row12_col6, #T_e3d92_row13_col0, #T_e3d92_row13_col1, #T_e3d92_row13_col2, #T_e3d92_row13_col3, #T_e3d92_row13_col4, #T_e3d92_row13_col5, #T_e3d92_row13_col6, #T_e3d92_row14_col0, #T_e3d92_row14_col1, #T_e3d92_row14_col2, #T_e3d92_row14_col3, #T_e3d92_row14_col4, #T_e3d92_row14_col5, #T_e3d92_row14_col6, #T_e3d92_row15_col0, #T_e3d92_row15_col1, #T_e3d92_row15_col2, #T_e3d92_row15_col3, #T_e3d92_row15_col4, #T_e3d92_row15_col5, #T_e3d92_row15_col6, #T_e3d92_row16_col0, #T_e3d92_row16_col1, #T_e3d92_row16_col2, #T_e3d92_row16_col3, #T_e3d92_row16_col4, #T_e3d92_row17_col0, #T_e3d92_row17_col1, #T_e3d92_row17_col2, #T_e3d92_row17_col3, #T_e3d92_row17_col4, #T_e3d92_row17_col5, #T_e3d92_row17_col6, #T_e3d92_row18_col0, #T_e3d92_row18_col1, #T_e3d92_row18_col2, #T_e3d92_row18_col3, #T_e3d92_row18_col4, #T_e3d92_row18_col5, #T_e3d92_row18_col6, #T_e3d92_row19_col0, #T_e3d92_row19_col1, #T_e3d92_row19_col2, #T_e3d92_row19_col3, #T_e3d92_row19_col4, #T_e3d92_row19_col5, #T_e3d92_row19_col6 {\n",
              "  text-align: left;\n",
              "}\n",
              "#T_e3d92_row0_col2, #T_e3d92_row0_col3, #T_e3d92_row0_col4, #T_e3d92_row2_col1, #T_e3d92_row16_col5, #T_e3d92_row16_col6 {\n",
              "  text-align: left;\n",
              "  background-color: yellow;\n",
              "}\n",
              "#T_e3d92_row0_col7, #T_e3d92_row1_col7, #T_e3d92_row2_col7, #T_e3d92_row3_col7, #T_e3d92_row4_col7, #T_e3d92_row5_col7, #T_e3d92_row6_col7, #T_e3d92_row7_col7, #T_e3d92_row8_col7, #T_e3d92_row9_col7, #T_e3d92_row10_col7, #T_e3d92_row11_col7, #T_e3d92_row13_col7, #T_e3d92_row14_col7, #T_e3d92_row15_col7, #T_e3d92_row16_col7, #T_e3d92_row17_col7, #T_e3d92_row18_col7 {\n",
              "  text-align: left;\n",
              "  background-color: lightgrey;\n",
              "}\n",
              "#T_e3d92_row12_col7, #T_e3d92_row19_col7 {\n",
              "  text-align: left;\n",
              "  background-color: yellow;\n",
              "  background-color: lightgrey;\n",
              "}\n",
              "</style>\n",
              "<table id=\"T_e3d92\" class=\"dataframe\">\n",
              "  <thead>\n",
              "    <tr>\n",
              "      <th class=\"blank level0\" >&nbsp;</th>\n",
              "      <th id=\"T_e3d92_level0_col0\" class=\"col_heading level0 col0\" >Model</th>\n",
              "      <th id=\"T_e3d92_level0_col1\" class=\"col_heading level0 col1\" >MAE</th>\n",
              "      <th id=\"T_e3d92_level0_col2\" class=\"col_heading level0 col2\" >MSE</th>\n",
              "      <th id=\"T_e3d92_level0_col3\" class=\"col_heading level0 col3\" >RMSE</th>\n",
              "      <th id=\"T_e3d92_level0_col4\" class=\"col_heading level0 col4\" >R2</th>\n",
              "      <th id=\"T_e3d92_level0_col5\" class=\"col_heading level0 col5\" >RMSLE</th>\n",
              "      <th id=\"T_e3d92_level0_col6\" class=\"col_heading level0 col6\" >MAPE</th>\n",
              "      <th id=\"T_e3d92_level0_col7\" class=\"col_heading level0 col7\" >TT (Sec)</th>\n",
              "    </tr>\n",
              "  </thead>\n",
              "  <tbody>\n",
              "    <tr>\n",
              "      <th id=\"T_e3d92_level0_row0\" class=\"row_heading level0 row0\" >ada</th>\n",
              "      <td id=\"T_e3d92_row0_col0\" class=\"data row0 col0\" >AdaBoost Regressor</td>\n",
              "      <td id=\"T_e3d92_row0_col1\" class=\"data row0 col1\" >366.8697</td>\n",
              "      <td id=\"T_e3d92_row0_col2\" class=\"data row0 col2\" >209603.5008</td>\n",
              "      <td id=\"T_e3d92_row0_col3\" class=\"data row0 col3\" >452.2408</td>\n",
              "      <td id=\"T_e3d92_row0_col4\" class=\"data row0 col4\" >0.0655</td>\n",
              "      <td id=\"T_e3d92_row0_col5\" class=\"data row0 col5\" >0.9993</td>\n",
              "      <td id=\"T_e3d92_row0_col6\" class=\"data row0 col6\" >3.2576</td>\n",
              "      <td id=\"T_e3d92_row0_col7\" class=\"data row0 col7\" >0.0420</td>\n",
              "    </tr>\n",
              "    <tr>\n",
              "      <th id=\"T_e3d92_level0_row1\" class=\"row_heading level0 row1\" >knn</th>\n",
              "      <td id=\"T_e3d92_row1_col0\" class=\"data row1 col0\" >K Neighbors Regressor</td>\n",
              "      <td id=\"T_e3d92_row1_col1\" class=\"data row1 col1\" >341.9943</td>\n",
              "      <td id=\"T_e3d92_row1_col2\" class=\"data row1 col2\" >219606.8359</td>\n",
              "      <td id=\"T_e3d92_row1_col3\" class=\"data row1 col3\" >460.5864</td>\n",
              "      <td id=\"T_e3d92_row1_col4\" class=\"data row1 col4\" >0.0441</td>\n",
              "      <td id=\"T_e3d92_row1_col5\" class=\"data row1 col5\" >0.9817</td>\n",
              "      <td id=\"T_e3d92_row1_col6\" class=\"data row1 col6\" >2.9233</td>\n",
              "      <td id=\"T_e3d92_row1_col7\" class=\"data row1 col7\" >0.0370</td>\n",
              "    </tr>\n",
              "    <tr>\n",
              "      <th id=\"T_e3d92_level0_row2\" class=\"row_heading level0 row2\" >gbr</th>\n",
              "      <td id=\"T_e3d92_row2_col0\" class=\"data row2 col0\" >Gradient Boosting Regressor</td>\n",
              "      <td id=\"T_e3d92_row2_col1\" class=\"data row2 col1\" >341.2440</td>\n",
              "      <td id=\"T_e3d92_row2_col2\" class=\"data row2 col2\" >224579.9192</td>\n",
              "      <td id=\"T_e3d92_row2_col3\" class=\"data row2 col3\" >464.7200</td>\n",
              "      <td id=\"T_e3d92_row2_col4\" class=\"data row2 col4\" >0.0295</td>\n",
              "      <td id=\"T_e3d92_row2_col5\" class=\"data row2 col5\" >0.9601</td>\n",
              "      <td id=\"T_e3d92_row2_col6\" class=\"data row2 col6\" >2.6196</td>\n",
              "      <td id=\"T_e3d92_row2_col7\" class=\"data row2 col7\" >0.1630</td>\n",
              "    </tr>\n",
              "    <tr>\n",
              "      <th id=\"T_e3d92_level0_row3\" class=\"row_heading level0 row3\" >lightgbm</th>\n",
              "      <td id=\"T_e3d92_row3_col0\" class=\"data row3 col0\" >Light Gradient Boosting Machine</td>\n",
              "      <td id=\"T_e3d92_row3_col1\" class=\"data row3 col1\" >355.3891</td>\n",
              "      <td id=\"T_e3d92_row3_col2\" class=\"data row3 col2\" >225864.2887</td>\n",
              "      <td id=\"T_e3d92_row3_col3\" class=\"data row3 col3\" >465.1053</td>\n",
              "      <td id=\"T_e3d92_row3_col4\" class=\"data row3 col4\" >0.0273</td>\n",
              "      <td id=\"T_e3d92_row3_col5\" class=\"data row3 col5\" >0.9757</td>\n",
              "      <td id=\"T_e3d92_row3_col6\" class=\"data row3 col6\" >2.9514</td>\n",
              "      <td id=\"T_e3d92_row3_col7\" class=\"data row3 col7\" >0.0740</td>\n",
              "    </tr>\n",
              "    <tr>\n",
              "      <th id=\"T_e3d92_level0_row4\" class=\"row_heading level0 row4\" >catboost</th>\n",
              "      <td id=\"T_e3d92_row4_col0\" class=\"data row4 col0\" >CatBoost Regressor</td>\n",
              "      <td id=\"T_e3d92_row4_col1\" class=\"data row4 col1\" >341.6126</td>\n",
              "      <td id=\"T_e3d92_row4_col2\" class=\"data row4 col2\" >233370.1633</td>\n",
              "      <td id=\"T_e3d92_row4_col3\" class=\"data row4 col3\" >472.5436</td>\n",
              "      <td id=\"T_e3d92_row4_col4\" class=\"data row4 col4\" >-0.0109</td>\n",
              "      <td id=\"T_e3d92_row4_col5\" class=\"data row4 col5\" >0.9764</td>\n",
              "      <td id=\"T_e3d92_row4_col6\" class=\"data row4 col6\" >2.7199</td>\n",
              "      <td id=\"T_e3d92_row4_col7\" class=\"data row4 col7\" >0.5720</td>\n",
              "    </tr>\n",
              "    <tr>\n",
              "      <th id=\"T_e3d92_level0_row5\" class=\"row_heading level0 row5\" >dummy</th>\n",
              "      <td id=\"T_e3d92_row5_col0\" class=\"data row5 col0\" >Dummy Regressor</td>\n",
              "      <td id=\"T_e3d92_row5_col1\" class=\"data row5 col1\" >391.0862</td>\n",
              "      <td id=\"T_e3d92_row5_col2\" class=\"data row5 col2\" >238439.2656</td>\n",
              "      <td id=\"T_e3d92_row5_col3\" class=\"data row5 col3\" >482.2690</td>\n",
              "      <td id=\"T_e3d92_row5_col4\" class=\"data row5 col4\" >-0.0439</td>\n",
              "      <td id=\"T_e3d92_row5_col5\" class=\"data row5 col5\" >0.9905</td>\n",
              "      <td id=\"T_e3d92_row5_col6\" class=\"data row5 col6\" >2.9586</td>\n",
              "      <td id=\"T_e3d92_row5_col7\" class=\"data row5 col7\" >0.0280</td>\n",
              "    </tr>\n",
              "    <tr>\n",
              "      <th id=\"T_e3d92_level0_row6\" class=\"row_heading level0 row6\" >br</th>\n",
              "      <td id=\"T_e3d92_row6_col0\" class=\"data row6 col0\" >Bayesian Ridge</td>\n",
              "      <td id=\"T_e3d92_row6_col1\" class=\"data row6 col1\" >391.2344</td>\n",
              "      <td id=\"T_e3d92_row6_col2\" class=\"data row6 col2\" >238526.6164</td>\n",
              "      <td id=\"T_e3d92_row6_col3\" class=\"data row6 col3\" >482.3748</td>\n",
              "      <td id=\"T_e3d92_row6_col4\" class=\"data row6 col4\" >-0.0445</td>\n",
              "      <td id=\"T_e3d92_row6_col5\" class=\"data row6 col5\" >0.9906</td>\n",
              "      <td id=\"T_e3d92_row6_col6\" class=\"data row6 col6\" >2.9587</td>\n",
              "      <td id=\"T_e3d92_row6_col7\" class=\"data row6 col7\" >0.0300</td>\n",
              "    </tr>\n",
              "    <tr>\n",
              "      <th id=\"T_e3d92_level0_row7\" class=\"row_heading level0 row7\" >en</th>\n",
              "      <td id=\"T_e3d92_row7_col0\" class=\"data row7 col0\" >Elastic Net</td>\n",
              "      <td id=\"T_e3d92_row7_col1\" class=\"data row7 col1\" >392.4889</td>\n",
              "      <td id=\"T_e3d92_row7_col2\" class=\"data row7 col2\" >238958.2016</td>\n",
              "      <td id=\"T_e3d92_row7_col3\" class=\"data row7 col3\" >482.8795</td>\n",
              "      <td id=\"T_e3d92_row7_col4\" class=\"data row7 col4\" >-0.0468</td>\n",
              "      <td id=\"T_e3d92_row7_col5\" class=\"data row7 col5\" >0.9906</td>\n",
              "      <td id=\"T_e3d92_row7_col6\" class=\"data row7 col6\" >2.9479</td>\n",
              "      <td id=\"T_e3d92_row7_col7\" class=\"data row7 col7\" >0.0530</td>\n",
              "    </tr>\n",
              "    <tr>\n",
              "      <th id=\"T_e3d92_level0_row8\" class=\"row_heading level0 row8\" >lasso</th>\n",
              "      <td id=\"T_e3d92_row8_col0\" class=\"data row8 col0\" >Lasso Regression</td>\n",
              "      <td id=\"T_e3d92_row8_col1\" class=\"data row8 col1\" >393.7874</td>\n",
              "      <td id=\"T_e3d92_row8_col2\" class=\"data row8 col2\" >239606.3742</td>\n",
              "      <td id=\"T_e3d92_row8_col3\" class=\"data row8 col3\" >483.6155</td>\n",
              "      <td id=\"T_e3d92_row8_col4\" class=\"data row8 col4\" >-0.0502</td>\n",
              "      <td id=\"T_e3d92_row8_col5\" class=\"data row8 col5\" >0.9909</td>\n",
              "      <td id=\"T_e3d92_row8_col6\" class=\"data row8 col6\" >2.9391</td>\n",
              "      <td id=\"T_e3d92_row8_col7\" class=\"data row8 col7\" >0.0270</td>\n",
              "    </tr>\n",
              "    <tr>\n",
              "      <th id=\"T_e3d92_level0_row9\" class=\"row_heading level0 row9\" >llar</th>\n",
              "      <td id=\"T_e3d92_row9_col0\" class=\"data row9 col0\" >Lasso Least Angle Regression</td>\n",
              "      <td id=\"T_e3d92_row9_col1\" class=\"data row9 col1\" >393.7874</td>\n",
              "      <td id=\"T_e3d92_row9_col2\" class=\"data row9 col2\" >239606.3727</td>\n",
              "      <td id=\"T_e3d92_row9_col3\" class=\"data row9 col3\" >483.6155</td>\n",
              "      <td id=\"T_e3d92_row9_col4\" class=\"data row9 col4\" >-0.0502</td>\n",
              "      <td id=\"T_e3d92_row9_col5\" class=\"data row9 col5\" >0.9909</td>\n",
              "      <td id=\"T_e3d92_row9_col6\" class=\"data row9 col6\" >2.9391</td>\n",
              "      <td id=\"T_e3d92_row9_col7\" class=\"data row9 col7\" >0.0340</td>\n",
              "    </tr>\n",
              "    <tr>\n",
              "      <th id=\"T_e3d92_level0_row10\" class=\"row_heading level0 row10\" >ridge</th>\n",
              "      <td id=\"T_e3d92_row10_col0\" class=\"data row10 col0\" >Ridge Regression</td>\n",
              "      <td id=\"T_e3d92_row10_col1\" class=\"data row10 col1\" >393.9266</td>\n",
              "      <td id=\"T_e3d92_row10_col2\" class=\"data row10 col2\" >239600.4023</td>\n",
              "      <td id=\"T_e3d92_row10_col3\" class=\"data row10 col3\" >483.6224</td>\n",
              "      <td id=\"T_e3d92_row10_col4\" class=\"data row10 col4\" >-0.0503</td>\n",
              "      <td id=\"T_e3d92_row10_col5\" class=\"data row10 col5\" >0.9908</td>\n",
              "      <td id=\"T_e3d92_row10_col6\" class=\"data row10 col6\" >2.9358</td>\n",
              "      <td id=\"T_e3d92_row10_col7\" class=\"data row10 col7\" >0.0460</td>\n",
              "    </tr>\n",
              "    <tr>\n",
              "      <th id=\"T_e3d92_level0_row11\" class=\"row_heading level0 row11\" >lr</th>\n",
              "      <td id=\"T_e3d92_row11_col0\" class=\"data row11 col0\" >Linear Regression</td>\n",
              "      <td id=\"T_e3d92_row11_col1\" class=\"data row11 col1\" >393.9426</td>\n",
              "      <td id=\"T_e3d92_row11_col2\" class=\"data row11 col2\" >239608.6734</td>\n",
              "      <td id=\"T_e3d92_row11_col3\" class=\"data row11 col3\" >483.6318</td>\n",
              "      <td id=\"T_e3d92_row11_col4\" class=\"data row11 col4\" >-0.0504</td>\n",
              "      <td id=\"T_e3d92_row11_col5\" class=\"data row11 col5\" >0.9908</td>\n",
              "      <td id=\"T_e3d92_row11_col6\" class=\"data row11 col6\" >2.9357</td>\n",
              "      <td id=\"T_e3d92_row11_col7\" class=\"data row11 col7\" >0.6020</td>\n",
              "    </tr>\n",
              "    <tr>\n",
              "      <th id=\"T_e3d92_level0_row12\" class=\"row_heading level0 row12\" >omp</th>\n",
              "      <td id=\"T_e3d92_row12_col0\" class=\"data row12 col0\" >Orthogonal Matching Pursuit</td>\n",
              "      <td id=\"T_e3d92_row12_col1\" class=\"data row12 col1\" >393.9426</td>\n",
              "      <td id=\"T_e3d92_row12_col2\" class=\"data row12 col2\" >239608.6734</td>\n",
              "      <td id=\"T_e3d92_row12_col3\" class=\"data row12 col3\" >483.6318</td>\n",
              "      <td id=\"T_e3d92_row12_col4\" class=\"data row12 col4\" >-0.0504</td>\n",
              "      <td id=\"T_e3d92_row12_col5\" class=\"data row12 col5\" >0.9908</td>\n",
              "      <td id=\"T_e3d92_row12_col6\" class=\"data row12 col6\" >2.9357</td>\n",
              "      <td id=\"T_e3d92_row12_col7\" class=\"data row12 col7\" >0.0260</td>\n",
              "    </tr>\n",
              "    <tr>\n",
              "      <th id=\"T_e3d92_level0_row13\" class=\"row_heading level0 row13\" >lar</th>\n",
              "      <td id=\"T_e3d92_row13_col0\" class=\"data row13 col0\" >Least Angle Regression</td>\n",
              "      <td id=\"T_e3d92_row13_col1\" class=\"data row13 col1\" >393.9426</td>\n",
              "      <td id=\"T_e3d92_row13_col2\" class=\"data row13 col2\" >239608.6734</td>\n",
              "      <td id=\"T_e3d92_row13_col3\" class=\"data row13 col3\" >483.6318</td>\n",
              "      <td id=\"T_e3d92_row13_col4\" class=\"data row13 col4\" >-0.0504</td>\n",
              "      <td id=\"T_e3d92_row13_col5\" class=\"data row13 col5\" >0.9908</td>\n",
              "      <td id=\"T_e3d92_row13_col6\" class=\"data row13 col6\" >2.9357</td>\n",
              "      <td id=\"T_e3d92_row13_col7\" class=\"data row13 col7\" >0.0410</td>\n",
              "    </tr>\n",
              "    <tr>\n",
              "      <th id=\"T_e3d92_level0_row14\" class=\"row_heading level0 row14\" >huber</th>\n",
              "      <td id=\"T_e3d92_row14_col0\" class=\"data row14 col0\" >Huber Regressor</td>\n",
              "      <td id=\"T_e3d92_row14_col1\" class=\"data row14 col1\" >372.6922</td>\n",
              "      <td id=\"T_e3d92_row14_col2\" class=\"data row14 col2\" >248975.7981</td>\n",
              "      <td id=\"T_e3d92_row14_col3\" class=\"data row14 col3\" >490.7055</td>\n",
              "      <td id=\"T_e3d92_row14_col4\" class=\"data row14 col4\" >-0.0703</td>\n",
              "      <td id=\"T_e3d92_row14_col5\" class=\"data row14 col5\" >0.9619</td>\n",
              "      <td id=\"T_e3d92_row14_col6\" class=\"data row14 col6\" >2.5967</td>\n",
              "      <td id=\"T_e3d92_row14_col7\" class=\"data row14 col7\" >0.0310</td>\n",
              "    </tr>\n",
              "    <tr>\n",
              "      <th id=\"T_e3d92_level0_row15\" class=\"row_heading level0 row15\" >rf</th>\n",
              "      <td id=\"T_e3d92_row15_col0\" class=\"data row15 col0\" >Random Forest Regressor</td>\n",
              "      <td id=\"T_e3d92_row15_col1\" class=\"data row15 col1\" >357.7558</td>\n",
              "      <td id=\"T_e3d92_row15_col2\" class=\"data row15 col2\" >251524.1249</td>\n",
              "      <td id=\"T_e3d92_row15_col3\" class=\"data row15 col3\" >493.5144</td>\n",
              "      <td id=\"T_e3d92_row15_col4\" class=\"data row15 col4\" >-0.1116</td>\n",
              "      <td id=\"T_e3d92_row15_col5\" class=\"data row15 col5\" >1.0083</td>\n",
              "      <td id=\"T_e3d92_row15_col6\" class=\"data row15 col6\" >2.6841</td>\n",
              "      <td id=\"T_e3d92_row15_col7\" class=\"data row15 col7\" >0.1830</td>\n",
              "    </tr>\n",
              "    <tr>\n",
              "      <th id=\"T_e3d92_level0_row16\" class=\"row_heading level0 row16\" >par</th>\n",
              "      <td id=\"T_e3d92_row16_col0\" class=\"data row16 col0\" >Passive Aggressive Regressor</td>\n",
              "      <td id=\"T_e3d92_row16_col1\" class=\"data row16 col1\" >375.6156</td>\n",
              "      <td id=\"T_e3d92_row16_col2\" class=\"data row16 col2\" >279559.4165</td>\n",
              "      <td id=\"T_e3d92_row16_col3\" class=\"data row16 col3\" >520.1983</td>\n",
              "      <td id=\"T_e3d92_row16_col4\" class=\"data row16 col4\" >-0.2116</td>\n",
              "      <td id=\"T_e3d92_row16_col5\" class=\"data row16 col5\" >0.9533</td>\n",
              "      <td id=\"T_e3d92_row16_col6\" class=\"data row16 col6\" >1.9162</td>\n",
              "      <td id=\"T_e3d92_row16_col7\" class=\"data row16 col7\" >0.0280</td>\n",
              "    </tr>\n",
              "    <tr>\n",
              "      <th id=\"T_e3d92_level0_row17\" class=\"row_heading level0 row17\" >et</th>\n",
              "      <td id=\"T_e3d92_row17_col0\" class=\"data row17 col0\" >Extra Trees Regressor</td>\n",
              "      <td id=\"T_e3d92_row17_col1\" class=\"data row17 col1\" >369.1309</td>\n",
              "      <td id=\"T_e3d92_row17_col2\" class=\"data row17 col2\" >282147.8258</td>\n",
              "      <td id=\"T_e3d92_row17_col3\" class=\"data row17 col3\" >521.4885</td>\n",
              "      <td id=\"T_e3d92_row17_col4\" class=\"data row17 col4\" >-0.2497</td>\n",
              "      <td id=\"T_e3d92_row17_col5\" class=\"data row17 col5\" >1.0911</td>\n",
              "      <td id=\"T_e3d92_row17_col6\" class=\"data row17 col6\" >2.5813</td>\n",
              "      <td id=\"T_e3d92_row17_col7\" class=\"data row17 col7\" >0.1460</td>\n",
              "    </tr>\n",
              "    <tr>\n",
              "      <th id=\"T_e3d92_level0_row18\" class=\"row_heading level0 row18\" >xgboost</th>\n",
              "      <td id=\"T_e3d92_row18_col0\" class=\"data row18 col0\" >Extreme Gradient Boosting</td>\n",
              "      <td id=\"T_e3d92_row18_col1\" class=\"data row18 col1\" >373.4202</td>\n",
              "      <td id=\"T_e3d92_row18_col2\" class=\"data row18 col2\" >293796.6172</td>\n",
              "      <td id=\"T_e3d92_row18_col3\" class=\"data row18 col3\" >532.8384</td>\n",
              "      <td id=\"T_e3d92_row18_col4\" class=\"data row18 col4\" >-0.3242</td>\n",
              "      <td id=\"T_e3d92_row18_col5\" class=\"data row18 col5\" >1.0617</td>\n",
              "      <td id=\"T_e3d92_row18_col6\" class=\"data row18 col6\" >2.5749</td>\n",
              "      <td id=\"T_e3d92_row18_col7\" class=\"data row18 col7\" >0.0760</td>\n",
              "    </tr>\n",
              "    <tr>\n",
              "      <th id=\"T_e3d92_level0_row19\" class=\"row_heading level0 row19\" >dt</th>\n",
              "      <td id=\"T_e3d92_row19_col0\" class=\"data row19 col0\" >Decision Tree Regressor</td>\n",
              "      <td id=\"T_e3d92_row19_col1\" class=\"data row19 col1\" >388.6920</td>\n",
              "      <td id=\"T_e3d92_row19_col2\" class=\"data row19 col2\" >313140.4935</td>\n",
              "      <td id=\"T_e3d92_row19_col3\" class=\"data row19 col3\" >551.5090</td>\n",
              "      <td id=\"T_e3d92_row19_col4\" class=\"data row19 col4\" >-0.4133</td>\n",
              "      <td id=\"T_e3d92_row19_col5\" class=\"data row19 col5\" >1.1354</td>\n",
              "      <td id=\"T_e3d92_row19_col6\" class=\"data row19 col6\" >2.6315</td>\n",
              "      <td id=\"T_e3d92_row19_col7\" class=\"data row19 col7\" >0.0260</td>\n",
              "    </tr>\n",
              "  </tbody>\n",
              "</table>\n"
            ]
          },
          "metadata": {}
        },
        {
          "output_type": "display_data",
          "data": {
            "text/plain": [
              "Processing:   0%|          | 0/85 [00:00<?, ?it/s]"
            ],
            "application/vnd.jupyter.widget-view+json": {
              "version_major": 2,
              "version_minor": 0,
              "model_id": "2b985660ef8f49699f6aeca91d543da8"
            }
          },
          "metadata": {
            "application/vnd.jupyter.widget-view+json": {
              "colab": {
                "custom_widget_manager": {
                  "url": "https://ssl.gstatic.com/colaboratory-static/widgets/colab-cdn-widget-manager/2b70e893a8ba7c0f/manager.min.js"
                }
              }
            }
          }
        },
        {
          "output_type": "display_data",
          "data": {
            "text/plain": [
              "<IPython.core.display.HTML object>"
            ],
            "text/html": []
          },
          "metadata": {}
        }
      ],
      "source": [
        "# compare baseline models\n",
        "best = compare_models()"
      ]
    },
    {
      "cell_type": "code",
      "source": [
        "# train model with default fold=10\n",
        "dt = create_model('dt')\n",
        "# lr = create_model('lr')"
      ],
      "metadata": {
        "colab": {
          "base_uri": "https://localhost:8080/",
          "height": 457,
          "referenced_widgets": [
            "74a4f5d741534dd0906f53f1b2a269b4",
            "ab4188353cf44a5dac4db1ad114b7870",
            "5cd53ed94c6243b49809b56618470d4b",
            "d5edadc08e244c9898ea3a076afd55ef",
            "1c26a5488d2744fe91c5bba50d99564e",
            "8d347ad734504d96ae8c8ca0dd7b09ff",
            "31878f3de2424595a5aaee9f5593a486",
            "8e7631304cf349eca13f8b9521173a53",
            "a07bbdf5181d4f12844c63d6fafe2d3d",
            "664e32ee260f46e9ab4b2635610de5cb",
            "4db2c1f9097546edb99a52b9fed0fcfa"
          ]
        },
        "outputId": "43ee0975-88d9-439f-ef7d-c7367e2a51a6",
        "id": "Bjgrbsw2Scec"
      },
      "execution_count": null,
      "outputs": [
        {
          "output_type": "display_data",
          "data": {
            "text/plain": [
              "<IPython.core.display.HTML object>"
            ],
            "text/html": []
          },
          "metadata": {}
        },
        {
          "output_type": "display_data",
          "data": {
            "text/plain": [
              "<pandas.io.formats.style.Styler at 0x79dcecb5b3d0>"
            ],
            "text/html": [
              "<style type=\"text/css\">\n",
              "#T_ca401_row10_col0, #T_ca401_row10_col1, #T_ca401_row10_col2, #T_ca401_row10_col3, #T_ca401_row10_col4, #T_ca401_row10_col5 {\n",
              "  background: yellow;\n",
              "}\n",
              "</style>\n",
              "<table id=\"T_ca401\" class=\"dataframe\">\n",
              "  <thead>\n",
              "    <tr>\n",
              "      <th class=\"blank level0\" >&nbsp;</th>\n",
              "      <th id=\"T_ca401_level0_col0\" class=\"col_heading level0 col0\" >MAE</th>\n",
              "      <th id=\"T_ca401_level0_col1\" class=\"col_heading level0 col1\" >MSE</th>\n",
              "      <th id=\"T_ca401_level0_col2\" class=\"col_heading level0 col2\" >RMSE</th>\n",
              "      <th id=\"T_ca401_level0_col3\" class=\"col_heading level0 col3\" >R2</th>\n",
              "      <th id=\"T_ca401_level0_col4\" class=\"col_heading level0 col4\" >RMSLE</th>\n",
              "      <th id=\"T_ca401_level0_col5\" class=\"col_heading level0 col5\" >MAPE</th>\n",
              "    </tr>\n",
              "    <tr>\n",
              "      <th class=\"index_name level0\" >Fold</th>\n",
              "      <th class=\"blank col0\" >&nbsp;</th>\n",
              "      <th class=\"blank col1\" >&nbsp;</th>\n",
              "      <th class=\"blank col2\" >&nbsp;</th>\n",
              "      <th class=\"blank col3\" >&nbsp;</th>\n",
              "      <th class=\"blank col4\" >&nbsp;</th>\n",
              "      <th class=\"blank col5\" >&nbsp;</th>\n",
              "    </tr>\n",
              "  </thead>\n",
              "  <tbody>\n",
              "    <tr>\n",
              "      <th id=\"T_ca401_level0_row0\" class=\"row_heading level0 row0\" >0</th>\n",
              "      <td id=\"T_ca401_row0_col0\" class=\"data row0 col0\" >0.0000</td>\n",
              "      <td id=\"T_ca401_row0_col1\" class=\"data row0 col1\" >0.0000</td>\n",
              "      <td id=\"T_ca401_row0_col2\" class=\"data row0 col2\" >0.0000</td>\n",
              "      <td id=\"T_ca401_row0_col3\" class=\"data row0 col3\" >1.0000</td>\n",
              "      <td id=\"T_ca401_row0_col4\" class=\"data row0 col4\" >0.0000</td>\n",
              "      <td id=\"T_ca401_row0_col5\" class=\"data row0 col5\" >0.0000</td>\n",
              "    </tr>\n",
              "    <tr>\n",
              "      <th id=\"T_ca401_level0_row1\" class=\"row_heading level0 row1\" >1</th>\n",
              "      <td id=\"T_ca401_row1_col0\" class=\"data row1 col0\" >0.0000</td>\n",
              "      <td id=\"T_ca401_row1_col1\" class=\"data row1 col1\" >0.0000</td>\n",
              "      <td id=\"T_ca401_row1_col2\" class=\"data row1 col2\" >0.0000</td>\n",
              "      <td id=\"T_ca401_row1_col3\" class=\"data row1 col3\" >1.0000</td>\n",
              "      <td id=\"T_ca401_row1_col4\" class=\"data row1 col4\" >0.0000</td>\n",
              "      <td id=\"T_ca401_row1_col5\" class=\"data row1 col5\" >0.0000</td>\n",
              "    </tr>\n",
              "    <tr>\n",
              "      <th id=\"T_ca401_level0_row2\" class=\"row_heading level0 row2\" >2</th>\n",
              "      <td id=\"T_ca401_row2_col0\" class=\"data row2 col0\" >0.0000</td>\n",
              "      <td id=\"T_ca401_row2_col1\" class=\"data row2 col1\" >0.0000</td>\n",
              "      <td id=\"T_ca401_row2_col2\" class=\"data row2 col2\" >0.0000</td>\n",
              "      <td id=\"T_ca401_row2_col3\" class=\"data row2 col3\" >1.0000</td>\n",
              "      <td id=\"T_ca401_row2_col4\" class=\"data row2 col4\" >0.0000</td>\n",
              "      <td id=\"T_ca401_row2_col5\" class=\"data row2 col5\" >0.0000</td>\n",
              "    </tr>\n",
              "    <tr>\n",
              "      <th id=\"T_ca401_level0_row3\" class=\"row_heading level0 row3\" >3</th>\n",
              "      <td id=\"T_ca401_row3_col0\" class=\"data row3 col0\" >0.0000</td>\n",
              "      <td id=\"T_ca401_row3_col1\" class=\"data row3 col1\" >0.0000</td>\n",
              "      <td id=\"T_ca401_row3_col2\" class=\"data row3 col2\" >0.0000</td>\n",
              "      <td id=\"T_ca401_row3_col3\" class=\"data row3 col3\" >1.0000</td>\n",
              "      <td id=\"T_ca401_row3_col4\" class=\"data row3 col4\" >0.0000</td>\n",
              "      <td id=\"T_ca401_row3_col5\" class=\"data row3 col5\" >0.0000</td>\n",
              "    </tr>\n",
              "    <tr>\n",
              "      <th id=\"T_ca401_level0_row4\" class=\"row_heading level0 row4\" >4</th>\n",
              "      <td id=\"T_ca401_row4_col0\" class=\"data row4 col0\" >0.0000</td>\n",
              "      <td id=\"T_ca401_row4_col1\" class=\"data row4 col1\" >0.0000</td>\n",
              "      <td id=\"T_ca401_row4_col2\" class=\"data row4 col2\" >0.0000</td>\n",
              "      <td id=\"T_ca401_row4_col3\" class=\"data row4 col3\" >1.0000</td>\n",
              "      <td id=\"T_ca401_row4_col4\" class=\"data row4 col4\" >0.0000</td>\n",
              "      <td id=\"T_ca401_row4_col5\" class=\"data row4 col5\" >0.0000</td>\n",
              "    </tr>\n",
              "    <tr>\n",
              "      <th id=\"T_ca401_level0_row5\" class=\"row_heading level0 row5\" >5</th>\n",
              "      <td id=\"T_ca401_row5_col0\" class=\"data row5 col0\" >0.0000</td>\n",
              "      <td id=\"T_ca401_row5_col1\" class=\"data row5 col1\" >0.0000</td>\n",
              "      <td id=\"T_ca401_row5_col2\" class=\"data row5 col2\" >0.0000</td>\n",
              "      <td id=\"T_ca401_row5_col3\" class=\"data row5 col3\" >1.0000</td>\n",
              "      <td id=\"T_ca401_row5_col4\" class=\"data row5 col4\" >0.0000</td>\n",
              "      <td id=\"T_ca401_row5_col5\" class=\"data row5 col5\" >0.0000</td>\n",
              "    </tr>\n",
              "    <tr>\n",
              "      <th id=\"T_ca401_level0_row6\" class=\"row_heading level0 row6\" >6</th>\n",
              "      <td id=\"T_ca401_row6_col0\" class=\"data row6 col0\" >0.0000</td>\n",
              "      <td id=\"T_ca401_row6_col1\" class=\"data row6 col1\" >0.0000</td>\n",
              "      <td id=\"T_ca401_row6_col2\" class=\"data row6 col2\" >0.0000</td>\n",
              "      <td id=\"T_ca401_row6_col3\" class=\"data row6 col3\" >1.0000</td>\n",
              "      <td id=\"T_ca401_row6_col4\" class=\"data row6 col4\" >0.0000</td>\n",
              "      <td id=\"T_ca401_row6_col5\" class=\"data row6 col5\" >0.0000</td>\n",
              "    </tr>\n",
              "    <tr>\n",
              "      <th id=\"T_ca401_level0_row7\" class=\"row_heading level0 row7\" >7</th>\n",
              "      <td id=\"T_ca401_row7_col0\" class=\"data row7 col0\" >0.0000</td>\n",
              "      <td id=\"T_ca401_row7_col1\" class=\"data row7 col1\" >0.0000</td>\n",
              "      <td id=\"T_ca401_row7_col2\" class=\"data row7 col2\" >0.0000</td>\n",
              "      <td id=\"T_ca401_row7_col3\" class=\"data row7 col3\" >1.0000</td>\n",
              "      <td id=\"T_ca401_row7_col4\" class=\"data row7 col4\" >0.0000</td>\n",
              "      <td id=\"T_ca401_row7_col5\" class=\"data row7 col5\" >0.0000</td>\n",
              "    </tr>\n",
              "    <tr>\n",
              "      <th id=\"T_ca401_level0_row8\" class=\"row_heading level0 row8\" >8</th>\n",
              "      <td id=\"T_ca401_row8_col0\" class=\"data row8 col0\" >0.0000</td>\n",
              "      <td id=\"T_ca401_row8_col1\" class=\"data row8 col1\" >0.0000</td>\n",
              "      <td id=\"T_ca401_row8_col2\" class=\"data row8 col2\" >0.0000</td>\n",
              "      <td id=\"T_ca401_row8_col3\" class=\"data row8 col3\" >1.0000</td>\n",
              "      <td id=\"T_ca401_row8_col4\" class=\"data row8 col4\" >0.0000</td>\n",
              "      <td id=\"T_ca401_row8_col5\" class=\"data row8 col5\" >0.0000</td>\n",
              "    </tr>\n",
              "    <tr>\n",
              "      <th id=\"T_ca401_level0_row9\" class=\"row_heading level0 row9\" >9</th>\n",
              "      <td id=\"T_ca401_row9_col0\" class=\"data row9 col0\" >0.0000</td>\n",
              "      <td id=\"T_ca401_row9_col1\" class=\"data row9 col1\" >0.0000</td>\n",
              "      <td id=\"T_ca401_row9_col2\" class=\"data row9 col2\" >0.0000</td>\n",
              "      <td id=\"T_ca401_row9_col3\" class=\"data row9 col3\" >1.0000</td>\n",
              "      <td id=\"T_ca401_row9_col4\" class=\"data row9 col4\" >0.0000</td>\n",
              "      <td id=\"T_ca401_row9_col5\" class=\"data row9 col5\" >0.0000</td>\n",
              "    </tr>\n",
              "    <tr>\n",
              "      <th id=\"T_ca401_level0_row10\" class=\"row_heading level0 row10\" >Mean</th>\n",
              "      <td id=\"T_ca401_row10_col0\" class=\"data row10 col0\" >0.0000</td>\n",
              "      <td id=\"T_ca401_row10_col1\" class=\"data row10 col1\" >0.0000</td>\n",
              "      <td id=\"T_ca401_row10_col2\" class=\"data row10 col2\" >0.0000</td>\n",
              "      <td id=\"T_ca401_row10_col3\" class=\"data row10 col3\" >1.0000</td>\n",
              "      <td id=\"T_ca401_row10_col4\" class=\"data row10 col4\" >0.0000</td>\n",
              "      <td id=\"T_ca401_row10_col5\" class=\"data row10 col5\" >0.0000</td>\n",
              "    </tr>\n",
              "    <tr>\n",
              "      <th id=\"T_ca401_level0_row11\" class=\"row_heading level0 row11\" >Std</th>\n",
              "      <td id=\"T_ca401_row11_col0\" class=\"data row11 col0\" >0.0000</td>\n",
              "      <td id=\"T_ca401_row11_col1\" class=\"data row11 col1\" >0.0000</td>\n",
              "      <td id=\"T_ca401_row11_col2\" class=\"data row11 col2\" >0.0000</td>\n",
              "      <td id=\"T_ca401_row11_col3\" class=\"data row11 col3\" >0.0000</td>\n",
              "      <td id=\"T_ca401_row11_col4\" class=\"data row11 col4\" >0.0000</td>\n",
              "      <td id=\"T_ca401_row11_col5\" class=\"data row11 col5\" >0.0000</td>\n",
              "    </tr>\n",
              "  </tbody>\n",
              "</table>\n"
            ]
          },
          "metadata": {}
        },
        {
          "output_type": "display_data",
          "data": {
            "text/plain": [
              "Processing:   0%|          | 0/4 [00:00<?, ?it/s]"
            ],
            "application/vnd.jupyter.widget-view+json": {
              "version_major": 2,
              "version_minor": 0,
              "model_id": "74a4f5d741534dd0906f53f1b2a269b4"
            }
          },
          "metadata": {
            "application/vnd.jupyter.widget-view+json": {
              "colab": {
                "custom_widget_manager": {
                  "url": "https://ssl.gstatic.com/colaboratory-static/widgets/colab-cdn-widget-manager/2b70e893a8ba7c0f/manager.min.js"
                }
              }
            }
          }
        },
        {
          "output_type": "display_data",
          "data": {
            "text/plain": [
              "<IPython.core.display.HTML object>"
            ],
            "text/html": []
          },
          "metadata": {}
        }
      ],
      "id": "Bjgrbsw2Scec"
    },
    {
      "cell_type": "code",
      "execution_count": null,
      "metadata": {
        "outputId": "4d971297-eae1-4049-b8e6-bc711a746ad7",
        "colab": {
          "base_uri": "https://localhost:8080/"
        },
        "id": "aGwqarwdSj3P"
      },
      "outputs": [
        {
          "output_type": "stream",
          "name": "stdout",
          "text": [
            "public class Model {\n",
            "    public static double score(double[] input) {\n",
            "        double var0;\n",
            "        if (input[0] <= 2007.5) {\n",
            "            if (input[0] <= 2000.5) {\n",
            "                if (input[0] <= 1996.5) {\n",
            "                    if (input[0] <= 1993.5) {\n",
            "                        if (input[0] <= 1991.5) {\n",
            "                            if (input[0] <= 1990.5) {\n",
            "                                var0 = 957785.625;\n",
            "                            } else {\n",
            "                                var0 = 967876.4375;\n",
            "                            }\n",
            "                        } else {\n",
            "                            if (input[0] <= 1992.5) {\n",
            "                                var0 = 979779.75;\n",
            "                            } else {\n",
            "                                var0 = 993495.5;\n",
            "                            }\n",
            "                        }\n",
            "                    } else {\n",
            "                        if (input[0] <= 1995.5) {\n",
            "                            if (input[0] <= 1994.5) {\n",
            "                                var0 = 1009023.75;\n",
            "                            } else {\n",
            "                                var0 = 1026364.4375;\n",
            "                            }\n",
            "                        } else {\n",
            "                            var0 = 1045517.625;\n",
            "                        }\n",
            "                    }\n",
            "                } else {\n",
            "                    if (input[0] <= 1998.5) {\n",
            "                        if (input[0] <= 1997.5) {\n",
            "                            var0 = 1066483.25;\n",
            "                        } else {\n",
            "                            var0 = 1089261.25;\n",
            "                        }\n",
            "                    } else {\n",
            "                        if (input[0] <= 1999.5) {\n",
            "                            var0 = 1113851.75;\n",
            "                        } else {\n",
            "                            var0 = 1140254.75;\n",
            "                        }\n",
            "                    }\n",
            "                }\n",
            "            } else {\n",
            "                if (input[0] <= 2004.5) {\n",
            "                    if (input[0] <= 2002.5) {\n",
            "                        if (input[0] <= 2001.5) {\n",
            "                            var0 = 1168470.25;\n",
            "                        } else {\n",
            "                            var0 = 1198498.125;\n",
            "                        }\n",
            "                    } else {\n",
            "                        if (input[0] <= 2003.5) {\n",
            "                            var0 = 1230338.5;\n",
            "                        } else {\n",
            "                            var0 = 1263991.375;\n",
            "                        }\n",
            "                    }\n",
            "                } else {\n",
            "                    if (input[0] <= 2005.5) {\n",
            "                        var0 = 1299456.625;\n",
            "                    } else {\n",
            "                        if (input[0] <= 2006.5) {\n",
            "                            var0 = 1336734.375;\n",
            "                        } else {\n",
            "                            var0 = 1375824.625;\n",
            "                        }\n",
            "                    }\n",
            "                }\n",
            "            }\n",
            "        } else {\n",
            "            if (input[0] <= 2013.5) {\n",
            "                if (input[0] <= 2010.5) {\n",
            "                    if (input[0] <= 2009.5) {\n",
            "                        if (input[0] <= 2008.5) {\n",
            "                            var0 = 1416727.25;\n",
            "                        } else {\n",
            "                            var0 = 1459442.375;\n",
            "                        }\n",
            "                    } else {\n",
            "                        var0 = 1503970.0;\n",
            "                    }\n",
            "                } else {\n",
            "                    if (input[0] <= 2011.5) {\n",
            "                        var0 = 1550310.0;\n",
            "                    } else {\n",
            "                        if (input[0] <= 2012.5) {\n",
            "                            var0 = 1598462.5;\n",
            "                        } else {\n",
            "                            var0 = 1648427.5;\n",
            "                        }\n",
            "                    }\n",
            "                }\n",
            "            } else {\n",
            "                if (input[0] <= 2016.5) {\n",
            "                    if (input[0] <= 2015.5) {\n",
            "                        if (input[0] <= 2014.5) {\n",
            "                            var0 = 1700205.0;\n",
            "                        } else {\n",
            "                            var0 = 1753794.875;\n",
            "                        }\n",
            "                    } else {\n",
            "                        var0 = 1809197.25;\n",
            "                    }\n",
            "                } else {\n",
            "                    if (input[0] <= 2017.5) {\n",
            "                        var0 = 1866412.0;\n",
            "                    } else {\n",
            "                        var0 = 1925439.25;\n",
            "                    }\n",
            "                }\n",
            "            }\n",
            "        }\n",
            "        return var0;\n",
            "    }\n",
            "}\n",
            "\n"
          ]
        }
      ],
      "source": [
        "# transpiles learned function to java\n",
        "print(convert_model(dt, language = 'java'))\n",
        "# print(convert_model(lr, language = 'java'))"
      ],
      "id": "aGwqarwdSj3P"
    },
    {
      "cell_type": "markdown",
      "id": "6a77ec0c",
      "metadata": {
        "id": "6a77ec0c"
      },
      "source": [
        "## Analyze Model"
      ]
    },
    {
      "cell_type": "markdown",
      "id": "595ea108",
      "metadata": {
        "id": "595ea108"
      },
      "source": [
        "The `plot_model` function is used to analyze the performance of a trained model on the test set. It may require re-training the model in certain cases."
      ]
    },
    {
      "cell_type": "code",
      "execution_count": null,
      "id": "0ec7fad6",
      "metadata": {
        "id": "0ec7fad6"
      },
      "outputs": [],
      "source": [
        "# # plot residuals\n",
        "# plot_model(best, plot = 'residuals')"
      ]
    },
    {
      "cell_type": "code",
      "source": [
        "# # plot error\n",
        "# plot_model(best, plot = 'error')"
      ],
      "metadata": {
        "id": "lUeZro2SAWcK"
      },
      "id": "lUeZro2SAWcK",
      "execution_count": null,
      "outputs": []
    },
    {
      "cell_type": "code",
      "execution_count": null,
      "id": "bbc790e4",
      "metadata": {
        "id": "bbc790e4"
      },
      "outputs": [],
      "source": [
        "# # plot feature importance\n",
        "# # plot_model(best, plot = 'feature')\n",
        "# #-------------------------------\n",
        "# import matplotlib.pyplot as plt\n",
        "# # Plot and retrieve feature importance\n",
        "# plot_model(best, plot='feature')\n",
        "# plt.savefig('Temp_feature_importance_plot.jpg', dpi=300, bbox_inches='tight')\n",
        "\n",
        "# # Retrieve the configuration\n",
        "# config = get_config('X_train')\n",
        "\n",
        "# # Access feature values\n",
        "# feature_values = config.columns\n",
        "\n",
        "# # Retrieve feature importance values\n",
        "# feature_importance_values = best.get_feature_importance()\n",
        "\n",
        "# # Create a DataFrame to store feature names, values, and importance\n",
        "# feature_df = pd.DataFrame({'Feature': feature_values, 'Importance': feature_importance_values})\n",
        "\n",
        "# # Print the merged DataFrame\n",
        "# print(feature_df)\n",
        "\n",
        "# # Save to an Excel file\n",
        "# feature_df.to_excel('Temp_feature_values_importance.xlsx', index=False)"
      ]
    },
    {
      "cell_type": "code",
      "execution_count": null,
      "id": "da718984",
      "metadata": {
        "id": "da718984"
      },
      "outputs": [],
      "source": [
        "# # check docstring to see available plots\n",
        "# help(plot_model)"
      ]
    },
    {
      "cell_type": "markdown",
      "id": "6bd66179",
      "metadata": {
        "id": "6bd66179"
      },
      "source": [
        "An alternate to `plot_model` function is `evaluate_model`. It can only be used in Notebook since it uses `ipywidget`."
      ]
    },
    {
      "cell_type": "code",
      "source": [
        "evaluate_model(best)"
      ],
      "metadata": {
        "id": "DR2rjPq1LwWA",
        "outputId": "20ffe76b-fee2-449f-d388-f3e96c7200b0",
        "colab": {
          "base_uri": "https://localhost:8080/",
          "height": 692,
          "referenced_widgets": [
            "4b2c9fb61feb40328538610a370b555c",
            "e4e4ef3328c443e4849c71532db3f3ff",
            "eed6a996e68e403b872e8c9491b3921b",
            "49e0b524da1d4ddaa8aacb975e9bf4f3",
            "4507191e9517424b9a070c75eb068326",
            "2a4b1af0260a487b9f8a9c044cc25a58",
            "5df071a8cf39431cb175f239cac206ea"
          ]
        }
      },
      "id": "DR2rjPq1LwWA",
      "execution_count": null,
      "outputs": [
        {
          "output_type": "display_data",
          "data": {
            "text/plain": [
              "interactive(children=(ToggleButtons(description='Plot Type:', icons=('',), options=(('Pipeline Plot', 'pipelin…"
            ],
            "application/vnd.jupyter.widget-view+json": {
              "version_major": 2,
              "version_minor": 0,
              "model_id": "4b2c9fb61feb40328538610a370b555c"
            }
          },
          "metadata": {
            "application/vnd.jupyter.widget-view+json": {
              "colab": {
                "custom_widget_manager": {
                  "url": "https://ssl.gstatic.com/colaboratory-static/widgets/colab-cdn-widget-manager/2b70e893a8ba7c0f/manager.min.js"
                }
              }
            }
          }
        },
        {
          "output_type": "display_data",
          "data": {
            "text/plain": [
              "<Figure size 800x550 with 1 Axes>"
            ],
            "image/png": "[encoded data removed]"
          },
          "metadata": {}
        }
      ]
    },
    {
      "cell_type": "markdown",
      "id": "ab3d2f1e",
      "metadata": {
        "id": "ab3d2f1e"
      },
      "source": [
        "___"
      ]
    },
    {
      "cell_type": "markdown",
      "id": "954cbeff",
      "metadata": {
        "id": "954cbeff"
      },
      "source": [
        "## Prediction\n",
        "The `predict_model` function returns `prediction_label` as new column to the input dataframe. When data is `None` (default), it uses the test set (created during the setup function) for scoring."
      ]
    },
    {
      "cell_type": "code",
      "source": [
        "# # predict on test set\n",
        "# holdout_pred = predict_model(best)"
      ],
      "metadata": {
        "id": "ywFLo2huAPZ4"
      },
      "id": "ywFLo2huAPZ4",
      "execution_count": null,
      "outputs": []
    },
    {
      "cell_type": "code",
      "execution_count": null,
      "id": "5c01ac77",
      "metadata": {
        "id": "5c01ac77"
      },
      "outputs": [],
      "source": [
        "# # show predictions df\n",
        "# holdout_pred.head()"
      ]
    },
    {
      "cell_type": "markdown",
      "id": "3950252d",
      "metadata": {
        "id": "3950252d"
      },
      "source": [
        "___"
      ]
    },
    {
      "cell_type": "markdown",
      "id": "e4384735",
      "metadata": {
        "id": "e4384735"
      },
      "source": [
        "## Save Model"
      ]
    },
    {
      "cell_type": "markdown",
      "id": "cd63f053",
      "metadata": {
        "id": "cd63f053"
      },
      "source": [
        "Finally, you can save the entire pipeline on disk for later use, using pycaret's `save_model` function."
      ]
    },
    {
      "cell_type": "code",
      "execution_count": null,
      "id": "4181de41",
      "metadata": {
        "id": "4181de41"
      },
      "outputs": [],
      "source": [
        "# # save pipeline\n",
        "# save_model(best, 'my_first_pipeline')"
      ]
    },
    {
      "cell_type": "code",
      "execution_count": null,
      "id": "40ed5152",
      "metadata": {
        "id": "40ed5152"
      },
      "outputs": [],
      "source": [
        "# # load pipeline\n",
        "# loaded_best_pipeline = load_model('my_first_pipeline')\n",
        "# loaded_best_pipeline"
      ]
    },
    {
      "cell_type": "markdown",
      "source": [
        "# 👇 Create Reqired Tree Function\n",
        "\n"
      ],
      "metadata": {
        "id": "HdXOdQnjuY62"
      },
      "id": "HdXOdQnjuY62"
    },
    {
      "cell_type": "markdown",
      "metadata": {
        "id": "zs58YdhCwVuk"
      },
      "source": [
        "## ✅ Finalize Model\n",
        "This function trains a given model on the entire dataset including the hold-out set."
      ],
      "id": "zs58YdhCwVuk"
    },
    {
      "cell_type": "code",
      "execution_count": null,
      "metadata": {
        "id": "YtWkO2lWwVur"
      },
      "outputs": [],
      "source": [
        "# final_best = finalize_model(best)"
      ],
      "id": "YtWkO2lWwVur"
    },
    {
      "cell_type": "code",
      "execution_count": null,
      "metadata": {
        "id": "KgenqRCrwVus"
      },
      "outputs": [],
      "source": [
        "# final_best"
      ],
      "id": "KgenqRCrwVus"
    },
    {
      "cell_type": "markdown",
      "metadata": {
        "id": "1hjKENzvwVus"
      },
      "source": [
        "## ✅ Compare Models\n",
        "The `compare_models` function trains and evaluates the performance of all estimators available in the model library using cross-validation. The output of this function is a scoring grid with average cross-validated scores. Metrics evaluated during CV can be accessed using the `get_metrics` function. Custom metrics can be added or removed using `add_metric` and `remove_metric` function."
      ],
      "id": "1hjKENzvwVus"
    },
    {
      "cell_type": "code",
      "execution_count": null,
      "metadata": {
        "id": "hn4mJ_UPwVus"
      },
      "outputs": [],
      "source": [
        "# best = compare_models()"
      ],
      "id": "hn4mJ_UPwVus"
    },
    {
      "cell_type": "markdown",
      "metadata": {
        "id": "j4QK4F9owVus"
      },
      "source": [
        "`compare_models` by default uses all the estimators in model library (all except models with `Turbo=False`) . To see all available models you can use the function `models()`"
      ],
      "id": "j4QK4F9owVus"
    },
    {
      "cell_type": "code",
      "execution_count": null,
      "metadata": {
        "outputId": "0650526a-a354-4f11-f3e1-a12525dffa5c",
        "colab": {
          "base_uri": "https://localhost:8080/",
          "height": 896
        },
        "id": "BsmLWBs7wVut"
      },
      "outputs": [
        {
          "output_type": "execute_result",
          "data": {
            "text/plain": [
              "                                       Name  \\\n",
              "ID                                            \n",
              "lr                        Linear Regression   \n",
              "lasso                      Lasso Regression   \n",
              "ridge                      Ridge Regression   \n",
              "en                              Elastic Net   \n",
              "lar                  Least Angle Regression   \n",
              "llar           Lasso Least Angle Regression   \n",
              "omp             Orthogonal Matching Pursuit   \n",
              "br                           Bayesian Ridge   \n",
              "ard       Automatic Relevance Determination   \n",
              "par            Passive Aggressive Regressor   \n",
              "ransac              Random Sample Consensus   \n",
              "tr                       TheilSen Regressor   \n",
              "huber                       Huber Regressor   \n",
              "kr                             Kernel Ridge   \n",
              "svm               Support Vector Regression   \n",
              "knn                   K Neighbors Regressor   \n",
              "dt                  Decision Tree Regressor   \n",
              "rf                  Random Forest Regressor   \n",
              "et                    Extra Trees Regressor   \n",
              "ada                      AdaBoost Regressor   \n",
              "gbr             Gradient Boosting Regressor   \n",
              "mlp                           MLP Regressor   \n",
              "xgboost           Extreme Gradient Boosting   \n",
              "lightgbm    Light Gradient Boosting Machine   \n",
              "catboost                 CatBoost Regressor   \n",
              "dummy                       Dummy Regressor   \n",
              "\n",
              "                                                  Reference  Turbo  \n",
              "ID                                                                  \n",
              "lr              sklearn.linear_model._base.LinearRegression   True  \n",
              "lasso        sklearn.linear_model._coordinate_descent.Lasso   True  \n",
              "ridge                     sklearn.linear_model._ridge.Ridge   True  \n",
              "en        sklearn.linear_model._coordinate_descent.Elast...   True  \n",
              "lar                  sklearn.linear_model._least_angle.Lars   True  \n",
              "llar            sklearn.linear_model._least_angle.LassoLars   True  \n",
              "omp       sklearn.linear_model._omp.OrthogonalMatchingPu...   True  \n",
              "br                sklearn.linear_model._bayes.BayesianRidge   True  \n",
              "ard               sklearn.linear_model._bayes.ARDRegression  False  \n",
              "par       sklearn.linear_model._passive_aggressive.Passi...   True  \n",
              "ransac         sklearn.linear_model._ransac.RANSACRegressor  False  \n",
              "tr        sklearn.linear_model._theil_sen.TheilSenRegressor  False  \n",
              "huber            sklearn.linear_model._huber.HuberRegressor   True  \n",
              "kr                         sklearn.kernel_ridge.KernelRidge  False  \n",
              "svm                                sklearn.svm._classes.SVR  False  \n",
              "knn       sklearn.neighbors._regression.KNeighborsRegressor   True  \n",
              "dt              sklearn.tree._classes.DecisionTreeRegressor   True  \n",
              "rf           sklearn.ensemble._forest.RandomForestRegressor   True  \n",
              "et             sklearn.ensemble._forest.ExtraTreesRegressor   True  \n",
              "ada       sklearn.ensemble._weight_boosting.AdaBoostRegr...   True  \n",
              "gbr          sklearn.ensemble._gb.GradientBoostingRegressor   True  \n",
              "mlp       sklearn.neural_network._multilayer_perceptron....  False  \n",
              "xgboost                        xgboost.sklearn.XGBRegressor   True  \n",
              "lightgbm                     lightgbm.sklearn.LGBMRegressor   True  \n",
              "catboost                    catboost.core.CatBoostRegressor   True  \n",
              "dummy                          sklearn.dummy.DummyRegressor   True  "
            ],
            "text/html": [
              "\n",
              "  <div id=\"df-f6fe3b0c-1bf1-4654-afac-11e2f24cdc6c\" class=\"colab-df-container\">\n",
              "    <div>\n",
              "<style scoped>\n",
              "    .dataframe tbody tr th:only-of-type {\n",
              "        vertical-align: middle;\n",
              "    }\n",
              "\n",
              "    .dataframe tbody tr th {\n",
              "        vertical-align: top;\n",
              "    }\n",
              "\n",
              "    .dataframe thead th {\n",
              "        text-align: right;\n",
              "    }\n",
              "</style>\n",
              "<table border=\"1\" class=\"dataframe\">\n",
              "  <thead>\n",
              "    <tr style=\"text-align: right;\">\n",
              "      <th></th>\n",
              "      <th>Name</th>\n",
              "      <th>Reference</th>\n",
              "      <th>Turbo</th>\n",
              "    </tr>\n",
              "    <tr>\n",
              "      <th>ID</th>\n",
              "      <th></th>\n",
              "      <th></th>\n",
              "      <th></th>\n",
              "    </tr>\n",
              "  </thead>\n",
              "  <tbody>\n",
              "    <tr>\n",
              "      <th>lr</th>\n",
              "      <td>Linear Regression</td>\n",
              "      <td>sklearn.linear_model._base.LinearRegression</td>\n",
              "      <td>True</td>\n",
              "    </tr>\n",
              "    <tr>\n",
              "      <th>lasso</th>\n",
              "      <td>Lasso Regression</td>\n",
              "      <td>sklearn.linear_model._coordinate_descent.Lasso</td>\n",
              "      <td>True</td>\n",
              "    </tr>\n",
              "    <tr>\n",
              "      <th>ridge</th>\n",
              "      <td>Ridge Regression</td>\n",
              "      <td>sklearn.linear_model._ridge.Ridge</td>\n",
              "      <td>True</td>\n",
              "    </tr>\n",
              "    <tr>\n",
              "      <th>en</th>\n",
              "      <td>Elastic Net</td>\n",
              "      <td>sklearn.linear_model._coordinate_descent.Elast...</td>\n",
              "      <td>True</td>\n",
              "    </tr>\n",
              "    <tr>\n",
              "      <th>lar</th>\n",
              "      <td>Least Angle Regression</td>\n",
              "      <td>sklearn.linear_model._least_angle.Lars</td>\n",
              "      <td>True</td>\n",
              "    </tr>\n",
              "    <tr>\n",
              "      <th>llar</th>\n",
              "      <td>Lasso Least Angle Regression</td>\n",
              "      <td>sklearn.linear_model._least_angle.LassoLars</td>\n",
              "      <td>True</td>\n",
              "    </tr>\n",
              "    <tr>\n",
              "      <th>omp</th>\n",
              "      <td>Orthogonal Matching Pursuit</td>\n",
              "      <td>sklearn.linear_model._omp.OrthogonalMatchingPu...</td>\n",
              "      <td>True</td>\n",
              "    </tr>\n",
              "    <tr>\n",
              "      <th>br</th>\n",
              "      <td>Bayesian Ridge</td>\n",
              "      <td>sklearn.linear_model._bayes.BayesianRidge</td>\n",
              "      <td>True</td>\n",
              "    </tr>\n",
              "    <tr>\n",
              "      <th>ard</th>\n",
              "      <td>Automatic Relevance Determination</td>\n",
              "      <td>sklearn.linear_model._bayes.ARDRegression</td>\n",
              "      <td>False</td>\n",
              "    </tr>\n",
              "    <tr>\n",
              "      <th>par</th>\n",
              "      <td>Passive Aggressive Regressor</td>\n",
              "      <td>sklearn.linear_model._passive_aggressive.Passi...</td>\n",
              "      <td>True</td>\n",
              "    </tr>\n",
              "    <tr>\n",
              "      <th>ransac</th>\n",
              "      <td>Random Sample Consensus</td>\n",
              "      <td>sklearn.linear_model._ransac.RANSACRegressor</td>\n",
              "      <td>False</td>\n",
              "    </tr>\n",
              "    <tr>\n",
              "      <th>tr</th>\n",
              "      <td>TheilSen Regressor</td>\n",
              "      <td>sklearn.linear_model._theil_sen.TheilSenRegressor</td>\n",
              "      <td>False</td>\n",
              "    </tr>\n",
              "    <tr>\n",
              "      <th>huber</th>\n",
              "      <td>Huber Regressor</td>\n",
              "      <td>sklearn.linear_model._huber.HuberRegressor</td>\n",
              "      <td>True</td>\n",
              "    </tr>\n",
              "    <tr>\n",
              "      <th>kr</th>\n",
              "      <td>Kernel Ridge</td>\n",
              "      <td>sklearn.kernel_ridge.KernelRidge</td>\n",
              "      <td>False</td>\n",
              "    </tr>\n",
              "    <tr>\n",
              "      <th>svm</th>\n",
              "      <td>Support Vector Regression</td>\n",
              "      <td>sklearn.svm._classes.SVR</td>\n",
              "      <td>False</td>\n",
              "    </tr>\n",
              "    <tr>\n",
              "      <th>knn</th>\n",
              "      <td>K Neighbors Regressor</td>\n",
              "      <td>sklearn.neighbors._regression.KNeighborsRegressor</td>\n",
              "      <td>True</td>\n",
              "    </tr>\n",
              "    <tr>\n",
              "      <th>dt</th>\n",
              "      <td>Decision Tree Regressor</td>\n",
              "      <td>sklearn.tree._classes.DecisionTreeRegressor</td>\n",
              "      <td>True</td>\n",
              "    </tr>\n",
              "    <tr>\n",
              "      <th>rf</th>\n",
              "      <td>Random Forest Regressor</td>\n",
              "      <td>sklearn.ensemble._forest.RandomForestRegressor</td>\n",
              "      <td>True</td>\n",
              "    </tr>\n",
              "    <tr>\n",
              "      <th>et</th>\n",
              "      <td>Extra Trees Regressor</td>\n",
              "      <td>sklearn.ensemble._forest.ExtraTreesRegressor</td>\n",
              "      <td>True</td>\n",
              "    </tr>\n",
              "    <tr>\n",
              "      <th>ada</th>\n",
              "      <td>AdaBoost Regressor</td>\n",
              "      <td>sklearn.ensemble._weight_boosting.AdaBoostRegr...</td>\n",
              "      <td>True</td>\n",
              "    </tr>\n",
              "    <tr>\n",
              "      <th>gbr</th>\n",
              "      <td>Gradient Boosting Regressor</td>\n",
              "      <td>sklearn.ensemble._gb.GradientBoostingRegressor</td>\n",
              "      <td>True</td>\n",
              "    </tr>\n",
              "    <tr>\n",
              "      <th>mlp</th>\n",
              "      <td>MLP Regressor</td>\n",
              "      <td>sklearn.neural_network._multilayer_perceptron....</td>\n",
              "      <td>False</td>\n",
              "    </tr>\n",
              "    <tr>\n",
              "      <th>xgboost</th>\n",
              "      <td>Extreme Gradient Boosting</td>\n",
              "      <td>xgboost.sklearn.XGBRegressor</td>\n",
              "      <td>True</td>\n",
              "    </tr>\n",
              "    <tr>\n",
              "      <th>lightgbm</th>\n",
              "      <td>Light Gradient Boosting Machine</td>\n",
              "      <td>lightgbm.sklearn.LGBMRegressor</td>\n",
              "      <td>True</td>\n",
              "    </tr>\n",
              "    <tr>\n",
              "      <th>catboost</th>\n",
              "      <td>CatBoost Regressor</td>\n",
              "      <td>catboost.core.CatBoostRegressor</td>\n",
              "      <td>True</td>\n",
              "    </tr>\n",
              "    <tr>\n",
              "      <th>dummy</th>\n",
              "      <td>Dummy Regressor</td>\n",
              "      <td>sklearn.dummy.DummyRegressor</td>\n",
              "      <td>True</td>\n",
              "    </tr>\n",
              "  </tbody>\n",
              "</table>\n",
              "</div>\n",
              "    <div class=\"colab-df-buttons\">\n",
              "\n",
              "  <div class=\"colab-df-container\">\n",
              "    <button class=\"colab-df-convert\" onclick=\"convertToInteractive('df-f6fe3b0c-1bf1-4654-afac-11e2f24cdc6c')\"\n",
              "            title=\"Convert this dataframe to an interactive table.\"\n",
              "            style=\"display:none;\">\n",
              "\n",
              "  <svg xmlns=\"http://www.w3.org/2000/svg\" height=\"24px\" viewBox=\"0 -960 960 960\">\n",
              "    <path d=\"M120-120v-720h720v720H120Zm60-500h600v-160H180v160Zm220 220h160v-160H400v160Zm0 220h160v-160H400v160ZM180-400h160v-160H180v160Zm440 0h160v-160H620v160ZM180-180h160v-160H180v160Zm440 0h160v-160H620v160Z\"/>\n",
              "  </svg>\n",
              "    </button>\n",
              "\n",
              "  <style>\n",
              "    .colab-df-container {\n",
              "      display:flex;\n",
              "      gap: 12px;\n",
              "    }\n",
              "\n",
              "    .colab-df-convert {\n",
              "      background-color: #E8F0FE;\n",
              "      border: none;\n",
              "      border-radius: 50%;\n",
              "      cursor: pointer;\n",
              "      display: none;\n",
              "      fill: #1967D2;\n",
              "      height: 32px;\n",
              "      padding: 0 0 0 0;\n",
              "      width: 32px;\n",
              "    }\n",
              "\n",
              "    .colab-df-convert:hover {\n",
              "      background-color: #E2EBFA;\n",
              "      box-shadow: 0px 1px 2px rgba(60, 64, 67, 0.3), 0px 1px 3px 1px rgba(60, 64, 67, 0.15);\n",
              "      fill: #174EA6;\n",
              "    }\n",
              "\n",
              "    .colab-df-buttons div {\n",
              "      margin-bottom: 4px;\n",
              "    }\n",
              "\n",
              "    [theme=dark] .colab-df-convert {\n",
              "      background-color: #3B4455;\n",
              "      fill: #D2E3FC;\n",
              "    }\n",
              "\n",
              "    [theme=dark] .colab-df-convert:hover {\n",
              "      background-color: #434B5C;\n",
              "      box-shadow: 0px 1px 3px 1px rgba(0, 0, 0, 0.15);\n",
              "      filter: drop-shadow(0px 1px 2px rgba(0, 0, 0, 0.3));\n",
              "      fill: #FFFFFF;\n",
              "    }\n",
              "  </style>\n",
              "\n",
              "    <script>\n",
              "      const buttonEl =\n",
              "        document.querySelector('#df-f6fe3b0c-1bf1-4654-afac-11e2f24cdc6c button.colab-df-convert');\n",
              "      buttonEl.style.display =\n",
              "        google.colab.kernel.accessAllowed ? 'block' : 'none';\n",
              "\n",
              "      async function convertToInteractive(key) {\n",
              "        const element = document.querySelector('#df-f6fe3b0c-1bf1-4654-afac-11e2f24cdc6c');\n",
              "        const dataTable =\n",
              "          await google.colab.kernel.invokeFunction('convertToInteractive',\n",
              "                                                    [key], {});\n",
              "        if (!dataTable) return;\n",
              "\n",
              "        const docLinkHtml = 'Like what you see? Visit the ' +\n",
              "          '<a target=\"_blank\" href=https://colab.research.google.com/notebooks/data_table.ipynb>data table notebook</a>'\n",
              "          + ' to learn more about interactive tables.';\n",
              "        element.innerHTML = '';\n",
              "        dataTable['output_type'] = 'display_data';\n",
              "        await google.colab.output.renderOutput(dataTable, element);\n",
              "        const docLink = document.createElement('div');\n",
              "        docLink.innerHTML = docLinkHtml;\n",
              "        element.appendChild(docLink);\n",
              "      }\n",
              "    </script>\n",
              "  </div>\n",
              "\n",
              "\n",
              "<div id=\"df-079d7361-d47d-4a57-bf58-8842276bdc3c\">\n",
              "  <button class=\"colab-df-quickchart\" onclick=\"quickchart('df-079d7361-d47d-4a57-bf58-8842276bdc3c')\"\n",
              "            title=\"Suggest charts\"\n",
              "            style=\"display:none;\">\n",
              "\n",
              "<svg xmlns=\"http://www.w3.org/2000/svg\" height=\"24px\"viewBox=\"0 0 24 24\"\n",
              "     width=\"24px\">\n",
              "    <g>\n",
              "        <path d=\"M19 3H5c-1.1 0-2 .9-2 2v14c0 1.1.9 2 2 2h14c1.1 0 2-.9 2-2V5c0-1.1-.9-2-2-2zM9 17H7v-7h2v7zm4 0h-2V7h2v10zm4 0h-2v-4h2v4z\"/>\n",
              "    </g>\n",
              "</svg>\n",
              "  </button>\n",
              "\n",
              "<style>\n",
              "  .colab-df-quickchart {\n",
              "      --bg-color: #E8F0FE;\n",
              "      --fill-color: #1967D2;\n",
              "      --hover-bg-color: #E2EBFA;\n",
              "      --hover-fill-color: #174EA6;\n",
              "      --disabled-fill-color: #AAA;\n",
              "      --disabled-bg-color: #DDD;\n",
              "  }\n",
              "\n",
              "  [theme=dark] .colab-df-quickchart {\n",
              "      --bg-color: #3B4455;\n",
              "      --fill-color: #D2E3FC;\n",
              "      --hover-bg-color: #434B5C;\n",
              "      --hover-fill-color: #FFFFFF;\n",
              "      --disabled-bg-color: #3B4455;\n",
              "      --disabled-fill-color: #666;\n",
              "  }\n",
              "\n",
              "  .colab-df-quickchart {\n",
              "    background-color: var(--bg-color);\n",
              "    border: none;\n",
              "    border-radius: 50%;\n",
              "    cursor: pointer;\n",
              "    display: none;\n",
              "    fill: var(--fill-color);\n",
              "    height: 32px;\n",
              "    padding: 0;\n",
              "    width: 32px;\n",
              "  }\n",
              "\n",
              "  .colab-df-quickchart:hover {\n",
              "    background-color: var(--hover-bg-color);\n",
              "    box-shadow: 0 1px 2px rgba(60, 64, 67, 0.3), 0 1px 3px 1px rgba(60, 64, 67, 0.15);\n",
              "    fill: var(--button-hover-fill-color);\n",
              "  }\n",
              "\n",
              "  .colab-df-quickchart-complete:disabled,\n",
              "  .colab-df-quickchart-complete:disabled:hover {\n",
              "    background-color: var(--disabled-bg-color);\n",
              "    fill: var(--disabled-fill-color);\n",
              "    box-shadow: none;\n",
              "  }\n",
              "\n",
              "  .colab-df-spinner {\n",
              "    border: 2px solid var(--fill-color);\n",
              "    border-color: transparent;\n",
              "    border-bottom-color: var(--fill-color);\n",
              "    animation:\n",
              "      spin 1s steps(1) infinite;\n",
              "  }\n",
              "\n",
              "  @keyframes spin {\n",
              "    0% {\n",
              "      border-color: transparent;\n",
              "      border-bottom-color: var(--fill-color);\n",
              "      border-left-color: var(--fill-color);\n",
              "    }\n",
              "    20% {\n",
              "      border-color: transparent;\n",
              "      border-left-color: var(--fill-color);\n",
              "      border-top-color: var(--fill-color);\n",
              "    }\n",
              "    30% {\n",
              "      border-color: transparent;\n",
              "      border-left-color: var(--fill-color);\n",
              "      border-top-color: var(--fill-color);\n",
              "      border-right-color: var(--fill-color);\n",
              "    }\n",
              "    40% {\n",
              "      border-color: transparent;\n",
              "      border-right-color: var(--fill-color);\n",
              "      border-top-color: var(--fill-color);\n",
              "    }\n",
              "    60% {\n",
              "      border-color: transparent;\n",
              "      border-right-color: var(--fill-color);\n",
              "    }\n",
              "    80% {\n",
              "      border-color: transparent;\n",
              "      border-right-color: var(--fill-color);\n",
              "      border-bottom-color: var(--fill-color);\n",
              "    }\n",
              "    90% {\n",
              "      border-color: transparent;\n",
              "      border-bottom-color: var(--fill-color);\n",
              "    }\n",
              "  }\n",
              "</style>\n",
              "\n",
              "  <script>\n",
              "    async function quickchart(key) {\n",
              "      const quickchartButtonEl =\n",
              "        document.querySelector('#' + key + ' button');\n",
              "      quickchartButtonEl.disabled = true;  // To prevent multiple clicks.\n",
              "      quickchartButtonEl.classList.add('colab-df-spinner');\n",
              "      try {\n",
              "        const charts = await google.colab.kernel.invokeFunction(\n",
              "            'suggestCharts', [key], {});\n",
              "      } catch (error) {\n",
              "        console.error('Error during call to suggestCharts:', error);\n",
              "      }\n",
              "      quickchartButtonEl.classList.remove('colab-df-spinner');\n",
              "      quickchartButtonEl.classList.add('colab-df-quickchart-complete');\n",
              "    }\n",
              "    (() => {\n",
              "      let quickchartButtonEl =\n",
              "        document.querySelector('#df-079d7361-d47d-4a57-bf58-8842276bdc3c button');\n",
              "      quickchartButtonEl.style.display =\n",
              "        google.colab.kernel.accessAllowed ? 'block' : 'none';\n",
              "    })();\n",
              "  </script>\n",
              "</div>\n",
              "\n",
              "    </div>\n",
              "  </div>\n"
            ],
            "application/vnd.google.colaboratory.intrinsic+json": {
              "type": "dataframe",
              "summary": "{\n  \"name\": \"models()\",\n  \"rows\": 26,\n  \"fields\": [\n    {\n      \"column\": \"ID\",\n      \"properties\": {\n        \"dtype\": \"string\",\n        \"num_unique_values\": 26,\n        \"samples\": [\n          \"ard\",\n          \"dt\",\n          \"lr\"\n        ],\n        \"semantic_type\": \"\",\n        \"description\": \"\"\n      }\n    },\n    {\n      \"column\": \"Name\",\n      \"properties\": {\n        \"dtype\": \"string\",\n        \"num_unique_values\": 26,\n        \"samples\": [\n          \"Automatic Relevance Determination\",\n          \"Decision Tree Regressor\",\n          \"Linear Regression\"\n        ],\n        \"semantic_type\": \"\",\n        \"description\": \"\"\n      }\n    },\n    {\n      \"column\": \"Reference\",\n      \"properties\": {\n        \"dtype\": \"string\",\n        \"num_unique_values\": 26,\n        \"samples\": [\n          \"sklearn.linear_model._bayes.ARDRegression\",\n          \"sklearn.tree._classes.DecisionTreeRegressor\",\n          \"sklearn.linear_model._base.LinearRegression\"\n        ],\n        \"semantic_type\": \"\",\n        \"description\": \"\"\n      }\n    },\n    {\n      \"column\": \"Turbo\",\n      \"properties\": {\n        \"dtype\": \"boolean\",\n        \"num_unique_values\": 2,\n        \"samples\": [\n          false,\n          true\n        ],\n        \"semantic_type\": \"\",\n        \"description\": \"\"\n      }\n    }\n  ]\n}"
            }
          },
          "metadata": {},
          "execution_count": 112
        }
      ],
      "source": [
        "# check available models\n",
        "models()"
      ],
      "id": "BsmLWBs7wVut"
    },
    {
      "cell_type": "markdown",
      "metadata": {
        "id": "AJclGTEkwVut"
      },
      "source": [
        "You can use the `include` and `exclude` parameter in the `compare_models` to train only select model or exclude specific models from training by passing the model id's in `exclude` parameter."
      ],
      "id": "AJclGTEkwVut"
    },
    {
      "cell_type": "code",
      "execution_count": null,
      "metadata": {
        "colab": {
          "referenced_widgets": [
            "9618a3258399470fafd148be79043c6f",
            "def46d8922da431e907b60c45871fbff",
            "605152cba63944e690c4225d84879332",
            "054ea58232ef4f278ca6cce6cc5cd0a2",
            "c14d14b2b313478e9989923bf4387900",
            "73510e60072443f09dae54b7f11a1014",
            "3ccfa123f9e34030ad9b514b26f7721e",
            "2140fc9f117f40b8b9aafebc0ab70b2d",
            "d342f562eff84490af9ddbb14ac03254",
            "62856d74faf544f5b5c29386a0bc1579",
            "1c2ec0af13bc4312bc91d266dfcd115c"
          ],
          "base_uri": "https://localhost:8080/",
          "height": 269
        },
        "outputId": "17c3b545-f77c-4f4e-93c7-1a1057b7b7b1",
        "id": "MzXmxoSzwVut"
      },
      "outputs": [
        {
          "output_type": "display_data",
          "data": {
            "text/plain": [
              "<IPython.core.display.HTML object>"
            ],
            "text/html": []
          },
          "metadata": {}
        },
        {
          "output_type": "display_data",
          "data": {
            "text/plain": [
              "<pandas.io.formats.style.Styler at 0x7a046cceacb0>"
            ],
            "text/html": [
              "<style type=\"text/css\">\n",
              "#T_0aa59 th {\n",
              "  text-align: left;\n",
              "}\n",
              "#T_0aa59_row0_col0, #T_0aa59_row1_col0, #T_0aa59_row1_col1, #T_0aa59_row1_col2, #T_0aa59_row1_col3, #T_0aa59_row1_col4, #T_0aa59_row1_col5, #T_0aa59_row1_col6, #T_0aa59_row2_col0, #T_0aa59_row2_col1, #T_0aa59_row2_col2, #T_0aa59_row2_col3, #T_0aa59_row2_col4, #T_0aa59_row2_col5, #T_0aa59_row2_col6, #T_0aa59_row3_col0, #T_0aa59_row3_col1, #T_0aa59_row3_col2, #T_0aa59_row3_col3, #T_0aa59_row3_col4, #T_0aa59_row3_col5, #T_0aa59_row3_col6, #T_0aa59_row4_col0, #T_0aa59_row4_col1, #T_0aa59_row4_col2, #T_0aa59_row4_col3, #T_0aa59_row4_col4, #T_0aa59_row4_col5, #T_0aa59_row4_col6, #T_0aa59_row5_col0, #T_0aa59_row5_col1, #T_0aa59_row5_col2, #T_0aa59_row5_col3, #T_0aa59_row5_col4, #T_0aa59_row5_col5, #T_0aa59_row5_col6, #T_0aa59_row6_col0, #T_0aa59_row6_col1, #T_0aa59_row6_col2, #T_0aa59_row6_col3, #T_0aa59_row6_col4, #T_0aa59_row6_col5, #T_0aa59_row6_col6 {\n",
              "  text-align: left;\n",
              "}\n",
              "#T_0aa59_row0_col1, #T_0aa59_row0_col2, #T_0aa59_row0_col3, #T_0aa59_row0_col4, #T_0aa59_row0_col5, #T_0aa59_row0_col6 {\n",
              "  text-align: left;\n",
              "  background-color: yellow;\n",
              "}\n",
              "#T_0aa59_row0_col7, #T_0aa59_row1_col7, #T_0aa59_row2_col7, #T_0aa59_row3_col7, #T_0aa59_row4_col7, #T_0aa59_row6_col7 {\n",
              "  text-align: left;\n",
              "  background-color: lightgrey;\n",
              "}\n",
              "#T_0aa59_row5_col7 {\n",
              "  text-align: left;\n",
              "  background-color: yellow;\n",
              "  background-color: lightgrey;\n",
              "}\n",
              "</style>\n",
              "<table id=\"T_0aa59\" class=\"dataframe\">\n",
              "  <thead>\n",
              "    <tr>\n",
              "      <th class=\"blank level0\" >&nbsp;</th>\n",
              "      <th id=\"T_0aa59_level0_col0\" class=\"col_heading level0 col0\" >Model</th>\n",
              "      <th id=\"T_0aa59_level0_col1\" class=\"col_heading level0 col1\" >MAE</th>\n",
              "      <th id=\"T_0aa59_level0_col2\" class=\"col_heading level0 col2\" >MSE</th>\n",
              "      <th id=\"T_0aa59_level0_col3\" class=\"col_heading level0 col3\" >RMSE</th>\n",
              "      <th id=\"T_0aa59_level0_col4\" class=\"col_heading level0 col4\" >R2</th>\n",
              "      <th id=\"T_0aa59_level0_col5\" class=\"col_heading level0 col5\" >RMSLE</th>\n",
              "      <th id=\"T_0aa59_level0_col6\" class=\"col_heading level0 col6\" >MAPE</th>\n",
              "      <th id=\"T_0aa59_level0_col7\" class=\"col_heading level0 col7\" >TT (Sec)</th>\n",
              "    </tr>\n",
              "  </thead>\n",
              "  <tbody>\n",
              "    <tr>\n",
              "      <th id=\"T_0aa59_level0_row0\" class=\"row_heading level0 row0\" >gbr</th>\n",
              "      <td id=\"T_0aa59_row0_col0\" class=\"data row0 col0\" >Gradient Boosting Regressor</td>\n",
              "      <td id=\"T_0aa59_row0_col1\" class=\"data row0 col1\" >1.1498</td>\n",
              "      <td id=\"T_0aa59_row0_col2\" class=\"data row0 col2\" >2.0547</td>\n",
              "      <td id=\"T_0aa59_row0_col3\" class=\"data row0 col3\" >1.4301</td>\n",
              "      <td id=\"T_0aa59_row0_col4\" class=\"data row0 col4\" >0.6541</td>\n",
              "      <td id=\"T_0aa59_row0_col5\" class=\"data row0 col5\" >0.0480</td>\n",
              "      <td id=\"T_0aa59_row0_col6\" class=\"data row0 col6\" >0.0405</td>\n",
              "      <td id=\"T_0aa59_row0_col7\" class=\"data row0 col7\" >0.0870</td>\n",
              "    </tr>\n",
              "    <tr>\n",
              "      <th id=\"T_0aa59_level0_row1\" class=\"row_heading level0 row1\" >catboost</th>\n",
              "      <td id=\"T_0aa59_row1_col0\" class=\"data row1 col0\" >CatBoost Regressor</td>\n",
              "      <td id=\"T_0aa59_row1_col1\" class=\"data row1 col1\" >1.1568</td>\n",
              "      <td id=\"T_0aa59_row1_col2\" class=\"data row1 col2\" >2.0959</td>\n",
              "      <td id=\"T_0aa59_row1_col3\" class=\"data row1 col3\" >1.4444</td>\n",
              "      <td id=\"T_0aa59_row1_col4\" class=\"data row1 col4\" >0.6475</td>\n",
              "      <td id=\"T_0aa59_row1_col5\" class=\"data row1 col5\" >0.0485</td>\n",
              "      <td id=\"T_0aa59_row1_col6\" class=\"data row1 col6\" >0.0408</td>\n",
              "      <td id=\"T_0aa59_row1_col7\" class=\"data row1 col7\" >0.4020</td>\n",
              "    </tr>\n",
              "    <tr>\n",
              "      <th id=\"T_0aa59_level0_row2\" class=\"row_heading level0 row2\" >lightgbm</th>\n",
              "      <td id=\"T_0aa59_row2_col0\" class=\"data row2 col0\" >Light Gradient Boosting Machine</td>\n",
              "      <td id=\"T_0aa59_row2_col1\" class=\"data row2 col1\" >1.1742</td>\n",
              "      <td id=\"T_0aa59_row2_col2\" class=\"data row2 col2\" >2.1119</td>\n",
              "      <td id=\"T_0aa59_row2_col3\" class=\"data row2 col3\" >1.4507</td>\n",
              "      <td id=\"T_0aa59_row2_col4\" class=\"data row2 col4\" >0.6450</td>\n",
              "      <td id=\"T_0aa59_row2_col5\" class=\"data row2 col5\" >0.0488</td>\n",
              "      <td id=\"T_0aa59_row2_col6\" class=\"data row2 col6\" >0.0414</td>\n",
              "      <td id=\"T_0aa59_row2_col7\" class=\"data row2 col7\" >0.5660</td>\n",
              "    </tr>\n",
              "    <tr>\n",
              "      <th id=\"T_0aa59_level0_row3\" class=\"row_heading level0 row3\" >rf</th>\n",
              "      <td id=\"T_0aa59_row3_col0\" class=\"data row3 col0\" >Random Forest Regressor</td>\n",
              "      <td id=\"T_0aa59_row3_col1\" class=\"data row3 col1\" >1.1805</td>\n",
              "      <td id=\"T_0aa59_row3_col2\" class=\"data row3 col2\" >2.2029</td>\n",
              "      <td id=\"T_0aa59_row3_col3\" class=\"data row3 col3\" >1.4805</td>\n",
              "      <td id=\"T_0aa59_row3_col4\" class=\"data row3 col4\" >0.6300</td>\n",
              "      <td id=\"T_0aa59_row3_col5\" class=\"data row3 col5\" >0.0498</td>\n",
              "      <td id=\"T_0aa59_row3_col6\" class=\"data row3 col6\" >0.0416</td>\n",
              "      <td id=\"T_0aa59_row3_col7\" class=\"data row3 col7\" >0.1730</td>\n",
              "    </tr>\n",
              "    <tr>\n",
              "      <th id=\"T_0aa59_level0_row4\" class=\"row_heading level0 row4\" >et</th>\n",
              "      <td id=\"T_0aa59_row4_col0\" class=\"data row4 col0\" >Extra Trees Regressor</td>\n",
              "      <td id=\"T_0aa59_row4_col1\" class=\"data row4 col1\" >1.1853</td>\n",
              "      <td id=\"T_0aa59_row4_col2\" class=\"data row4 col2\" >2.2251</td>\n",
              "      <td id=\"T_0aa59_row4_col3\" class=\"data row4 col3\" >1.4885</td>\n",
              "      <td id=\"T_0aa59_row4_col4\" class=\"data row4 col4\" >0.6260</td>\n",
              "      <td id=\"T_0aa59_row4_col5\" class=\"data row4 col5\" >0.0501</td>\n",
              "      <td id=\"T_0aa59_row4_col6\" class=\"data row4 col6\" >0.0418</td>\n",
              "      <td id=\"T_0aa59_row4_col7\" class=\"data row4 col7\" >0.1370</td>\n",
              "    </tr>\n",
              "    <tr>\n",
              "      <th id=\"T_0aa59_level0_row5\" class=\"row_heading level0 row5\" >dt</th>\n",
              "      <td id=\"T_0aa59_row5_col0\" class=\"data row5 col0\" >Decision Tree Regressor</td>\n",
              "      <td id=\"T_0aa59_row5_col1\" class=\"data row5 col1\" >1.1852</td>\n",
              "      <td id=\"T_0aa59_row5_col2\" class=\"data row5 col2\" >2.2257</td>\n",
              "      <td id=\"T_0aa59_row5_col3\" class=\"data row5 col3\" >1.4887</td>\n",
              "      <td id=\"T_0aa59_row5_col4\" class=\"data row5 col4\" >0.6259</td>\n",
              "      <td id=\"T_0aa59_row5_col5\" class=\"data row5 col5\" >0.0501</td>\n",
              "      <td id=\"T_0aa59_row5_col6\" class=\"data row5 col6\" >0.0418</td>\n",
              "      <td id=\"T_0aa59_row5_col7\" class=\"data row5 col7\" >0.0260</td>\n",
              "    </tr>\n",
              "    <tr>\n",
              "      <th id=\"T_0aa59_level0_row6\" class=\"row_heading level0 row6\" >xgboost</th>\n",
              "      <td id=\"T_0aa59_row6_col0\" class=\"data row6 col0\" >Extreme Gradient Boosting</td>\n",
              "      <td id=\"T_0aa59_row6_col1\" class=\"data row6 col1\" >1.1876</td>\n",
              "      <td id=\"T_0aa59_row6_col2\" class=\"data row6 col2\" >2.2307</td>\n",
              "      <td id=\"T_0aa59_row6_col3\" class=\"data row6 col3\" >1.4902</td>\n",
              "      <td id=\"T_0aa59_row6_col4\" class=\"data row6 col4\" >0.6252</td>\n",
              "      <td id=\"T_0aa59_row6_col5\" class=\"data row6 col5\" >0.0501</td>\n",
              "      <td id=\"T_0aa59_row6_col6\" class=\"data row6 col6\" >0.0419</td>\n",
              "      <td id=\"T_0aa59_row6_col7\" class=\"data row6 col7\" >0.0510</td>\n",
              "    </tr>\n",
              "  </tbody>\n",
              "</table>\n"
            ]
          },
          "metadata": {}
        },
        {
          "output_type": "display_data",
          "data": {
            "text/plain": [
              "Processing:   0%|          | 0/33 [00:00<?, ?it/s]"
            ],
            "application/vnd.jupyter.widget-view+json": {
              "version_major": 2,
              "version_minor": 0,
              "model_id": "9618a3258399470fafd148be79043c6f"
            }
          },
          "metadata": {
            "application/vnd.jupyter.widget-view+json": {
              "colab": {
                "custom_widget_manager": {
                  "url": "https://ssl.gstatic.com/colaboratory-static/widgets/colab-cdn-widget-manager/2b70e893a8ba7c0f/manager.min.js"
                }
              }
            }
          }
        },
        {
          "output_type": "display_data",
          "data": {
            "text/plain": [
              "<IPython.core.display.HTML object>"
            ],
            "text/html": []
          },
          "metadata": {}
        }
      ],
      "source": [
        "compare_tree_models = compare_models(include = ['dt', 'rf', 'et', 'gbr', 'xgboost', 'lightgbm', 'catboost'])#, 'catboost'"
      ],
      "id": "MzXmxoSzwVut"
    },
    {
      "cell_type": "code",
      "execution_count": null,
      "metadata": {
        "id": "zbz43rotwVut"
      },
      "outputs": [],
      "source": [
        "# compare_tree_models"
      ],
      "id": "zbz43rotwVut"
    },
    {
      "cell_type": "markdown",
      "metadata": {
        "id": "MOkZLAIRwVut"
      },
      "source": [
        "The function above has return trained model object as an output. The scoring grid is only displayed and not returned. If you need access to the scoring grid you can use `pull` function to access the dataframe."
      ],
      "id": "MOkZLAIRwVut"
    },
    {
      "cell_type": "code",
      "execution_count": null,
      "metadata": {
        "id": "DOtm0ThMwVut"
      },
      "outputs": [],
      "source": [
        "# compare_tree_models_results = pull()\n",
        "# compare_tree_models_results"
      ],
      "id": "DOtm0ThMwVut"
    },
    {
      "cell_type": "markdown",
      "metadata": {
        "id": "TE1wc2_fwVut"
      },
      "source": [
        "By default `compare_models` return the single best performing model based on the metric defined in the `sort` parameter. Let's change our code to return 3 top models based on `MAE`."
      ],
      "id": "TE1wc2_fwVut"
    },
    {
      "cell_type": "code",
      "execution_count": null,
      "metadata": {
        "id": "l5aGhJN0wVuu"
      },
      "outputs": [],
      "source": [
        "# best_mae_models_top3 = compare_models(sort = 'MAE', n_select = 3)"
      ],
      "id": "l5aGhJN0wVuu"
    },
    {
      "cell_type": "markdown",
      "metadata": {
        "id": "58e3DbHlwVuu"
      },
      "source": [
        "Some other parameters that you might find very useful in `compare_models` are:\n",
        "\n",
        "- fold\n",
        "- cross_validation\n",
        "- budget_time\n",
        "- errors\n",
        "- probability_threshold\n",
        "- parallel\n",
        "\n",
        "You can check the docstring of the function for more info."
      ],
      "id": "58e3DbHlwVuu"
    },
    {
      "cell_type": "code",
      "execution_count": null,
      "metadata": {
        "id": "drwpdkwQwVuu"
      },
      "outputs": [],
      "source": [
        "# help(compare_models)"
      ],
      "id": "drwpdkwQwVuu"
    },
    {
      "cell_type": "markdown",
      "metadata": {
        "id": "PmBpOUVWwVuu"
      },
      "source": [
        "## ✅ Plot Model"
      ],
      "id": "PmBpOUVWwVuu"
    },
    {
      "cell_type": "markdown",
      "metadata": {
        "id": "yIrW3m65wVuu"
      },
      "source": [
        "The `plot_model` function analyzes the performance of a trained model on the hold-out set. It may require re-training the model in certain cases."
      ],
      "id": "yIrW3m65wVuu"
    },
    {
      "cell_type": "code",
      "execution_count": null,
      "metadata": {
        "colab": {
          "base_uri": "https://localhost:8080/",
          "height": 524
        },
        "outputId": "7a12a9d6-9c4b-44e3-eb1f-16c7365b3f07",
        "id": "eGacAgK_wVuu"
      },
      "outputs": [
        {
          "output_type": "display_data",
          "data": {
            "text/plain": [
              "<IPython.core.display.HTML object>"
            ],
            "text/html": []
          },
          "metadata": {}
        },
        {
          "output_type": "display_data",
          "data": {
            "text/plain": [
              "<Figure size 800x550 with 2 Axes>"
            ],
            "image/png": "[encoded data removed]"
          },
          "metadata": {}
        }
      ],
      "source": [
        "# plot residuals\n",
        "# plot_model(best, plot = 'residuals') #---------------------\n",
        "plot_model(compare_tree_models, plot = 'residuals', scale =1.0) #---------------------"
      ],
      "id": "eGacAgK_wVuu"
    },
    {
      "cell_type": "code",
      "execution_count": null,
      "metadata": {
        "colab": {
          "base_uri": "https://localhost:8080/",
          "height": 526
        },
        "outputId": "8a4d7ac2-360f-4bad-e7bf-abad5794b813",
        "id": "Sgpg8grbwVuv"
      },
      "outputs": [
        {
          "output_type": "display_data",
          "data": {
            "text/plain": [
              "<IPython.core.display.HTML object>"
            ],
            "text/html": []
          },
          "metadata": {}
        },
        {
          "output_type": "display_data",
          "data": {
            "text/plain": [
              "<Figure size 800x550 with 1 Axes>"
            ],
            "image/png": "[encoded data removed]"
          },
          "metadata": {}
        }
      ],
      "source": [
        "# to control the scale of plot\n",
        "plot_model(compare_tree_models, plot = 'error', scale = 1) #--------------------------"
      ],
      "id": "Sgpg8grbwVuv"
    },
    {
      "cell_type": "code",
      "execution_count": null,
      "metadata": {
        "colab": {
          "base_uri": "https://localhost:8080/",
          "height": 35
        },
        "outputId": "44b96c76-3c93-471a-9302-ac5753b91b4e",
        "id": "ezljM85HwVuv"
      },
      "outputs": [
        {
          "output_type": "display_data",
          "data": {
            "text/plain": [
              "<IPython.core.display.HTML object>"
            ],
            "text/html": []
          },
          "metadata": {}
        },
        {
          "output_type": "display_data",
          "data": {
            "text/plain": [
              "<IPython.core.display.HTML object>"
            ],
            "text/html": []
          },
          "metadata": {}
        },
        {
          "output_type": "execute_result",
          "data": {
            "text/plain": [
              "'Residuals.png'"
            ],
            "application/vnd.google.colaboratory.intrinsic+json": {
              "type": "string"
            }
          },
          "metadata": {},
          "execution_count": 40
        }
      ],
      "source": [
        "# to save the plot\n",
        "plot_model(compare_tree_models, plot = 'error', save=True) #--------------------------\n",
        "plot_model(compare_tree_models, plot = 'residuals', save=True) #--------------------------"
      ],
      "id": "ezljM85HwVuv"
    },
    {
      "cell_type": "markdown",
      "metadata": {
        "id": "H1ZUssoZwVuv"
      },
      "source": [
        "Some other parameters that you might find very useful in `plot_model` are:\n",
        "\n",
        "- fit_kwargs\n",
        "- plot_kwargs\n",
        "- groups\n",
        "- display_format\n",
        "\n",
        "You can check the docstring of the function for more info."
      ],
      "id": "H1ZUssoZwVuv"
    },
    {
      "cell_type": "code",
      "execution_count": null,
      "metadata": {
        "id": "UkkIr3kEwVuv"
      },
      "outputs": [],
      "source": [
        "# help(plot_model) #--------------------------"
      ],
      "id": "UkkIr3kEwVuv"
    },
    {
      "cell_type": "markdown",
      "metadata": {
        "id": "4ZVEIb_4wVuw"
      },
      "source": [
        "## ✅ Create Model\n",
        "The `create_model` function trains and evaluates the performance of a given estimator using cross-validation. The output of this function is a scoring grid with CV scores by fold. Metrics evaluated during CV can be accessed using the `get_metrics` function. Custom metrics can be added or removed using `add_metric` and `remove_metric` function. All the available models can be accessed using the `models` function."
      ],
      "id": "4ZVEIb_4wVuw"
    },
    {
      "cell_type": "code",
      "execution_count": null,
      "metadata": {
        "id": "017JZaWNwVuw"
      },
      "outputs": [],
      "source": [
        "# # check all the available models\n",
        "# models()"
      ],
      "id": "017JZaWNwVuw"
    },
    {
      "cell_type": "markdown",
      "metadata": {
        "id": "72sPupaHwVuw"
      },
      "source": [
        "The function above has return trained model object as an output. The scoring grid is only displayed and not returned. If you need access to the scoring grid you can use `pull` function to access the dataframe."
      ],
      "id": "72sPupaHwVuw"
    },
    {
      "cell_type": "code",
      "source": [
        "# train model with default fold=10\n",
        "# dt = create_model('dt')\n",
        "lr = create_model('lr')"
      ],
      "metadata": {
        "colab": {
          "base_uri": "https://localhost:8080/",
          "height": 457,
          "referenced_widgets": [
            "e540de11a5de40848bb878f77a57436d",
            "d4ca185f17dc4b39bbae575a86ca6fc8",
            "f9913efdbdf44cbb986a6d25510cc498",
            "e27fa5abc9ba44cc8488b15d3cd12cab",
            "d9b8779033084997bb9948196ae01947",
            "f4f4dfbf565648049b373444c03a3772",
            "821f5414ae3b411591aa5b66f4cfb2d5",
            "36af9943bf4e44769b804d1aaed5409f",
            "d45dae63a02e4486a0b0a694b21f11c8",
            "c230d552d1e2415db7f003d932e7f10f",
            "5850f51415004deea0e4242d1172d263"
          ]
        },
        "id": "82XO3LHL0xST",
        "outputId": "dbc86188-d0b1-442c-d74a-ce04431d7c95"
      },
      "id": "82XO3LHL0xST",
      "execution_count": null,
      "outputs": [
        {
          "output_type": "display_data",
          "data": {
            "text/plain": [
              "<IPython.core.display.HTML object>"
            ],
            "text/html": []
          },
          "metadata": {}
        },
        {
          "output_type": "display_data",
          "data": {
            "text/plain": [
              "<pandas.io.formats.style.Styler at 0x7db0f98dc610>"
            ],
            "text/html": [
              "<style type=\"text/css\">\n",
              "#T_a0d25_row10_col0, #T_a0d25_row10_col1, #T_a0d25_row10_col2, #T_a0d25_row10_col3, #T_a0d25_row10_col4, #T_a0d25_row10_col5 {\n",
              "  background: yellow;\n",
              "}\n",
              "</style>\n",
              "<table id=\"T_a0d25\" class=\"dataframe\">\n",
              "  <thead>\n",
              "    <tr>\n",
              "      <th class=\"blank level0\" >&nbsp;</th>\n",
              "      <th id=\"T_a0d25_level0_col0\" class=\"col_heading level0 col0\" >MAE</th>\n",
              "      <th id=\"T_a0d25_level0_col1\" class=\"col_heading level0 col1\" >MSE</th>\n",
              "      <th id=\"T_a0d25_level0_col2\" class=\"col_heading level0 col2\" >RMSE</th>\n",
              "      <th id=\"T_a0d25_level0_col3\" class=\"col_heading level0 col3\" >R2</th>\n",
              "      <th id=\"T_a0d25_level0_col4\" class=\"col_heading level0 col4\" >RMSLE</th>\n",
              "      <th id=\"T_a0d25_level0_col5\" class=\"col_heading level0 col5\" >MAPE</th>\n",
              "    </tr>\n",
              "    <tr>\n",
              "      <th class=\"index_name level0\" >Fold</th>\n",
              "      <th class=\"blank col0\" >&nbsp;</th>\n",
              "      <th class=\"blank col1\" >&nbsp;</th>\n",
              "      <th class=\"blank col2\" >&nbsp;</th>\n",
              "      <th class=\"blank col3\" >&nbsp;</th>\n",
              "      <th class=\"blank col4\" >&nbsp;</th>\n",
              "      <th class=\"blank col5\" >&nbsp;</th>\n",
              "    </tr>\n",
              "  </thead>\n",
              "  <tbody>\n",
              "    <tr>\n",
              "      <th id=\"T_a0d25_level0_row0\" class=\"row_heading level0 row0\" >0</th>\n",
              "      <td id=\"T_a0d25_row0_col0\" class=\"data row0 col0\" >0.6949</td>\n",
              "      <td id=\"T_a0d25_row0_col1\" class=\"data row0 col1\" >0.7848</td>\n",
              "      <td id=\"T_a0d25_row0_col2\" class=\"data row0 col2\" >0.8859</td>\n",
              "      <td id=\"T_a0d25_row0_col3\" class=\"data row0 col3\" >0.8940</td>\n",
              "      <td id=\"T_a0d25_row0_col4\" class=\"data row0 col4\" >0.2732</td>\n",
              "      <td id=\"T_a0d25_row0_col5\" class=\"data row0 col5\" >0.4733</td>\n",
              "    </tr>\n",
              "    <tr>\n",
              "      <th id=\"T_a0d25_level0_row1\" class=\"row_heading level0 row1\" >1</th>\n",
              "      <td id=\"T_a0d25_row1_col0\" class=\"data row1 col0\" >0.5367</td>\n",
              "      <td id=\"T_a0d25_row1_col1\" class=\"data row1 col1\" >0.4825</td>\n",
              "      <td id=\"T_a0d25_row1_col2\" class=\"data row1 col2\" >0.6946</td>\n",
              "      <td id=\"T_a0d25_row1_col3\" class=\"data row1 col3\" >0.9526</td>\n",
              "      <td id=\"T_a0d25_row1_col4\" class=\"data row1 col4\" >0.2189</td>\n",
              "      <td id=\"T_a0d25_row1_col5\" class=\"data row1 col5\" >0.2727</td>\n",
              "    </tr>\n",
              "    <tr>\n",
              "      <th id=\"T_a0d25_level0_row2\" class=\"row_heading level0 row2\" >2</th>\n",
              "      <td id=\"T_a0d25_row2_col0\" class=\"data row2 col0\" >0.4432</td>\n",
              "      <td id=\"T_a0d25_row2_col1\" class=\"data row2 col1\" >0.3118</td>\n",
              "      <td id=\"T_a0d25_row2_col2\" class=\"data row2 col2\" >0.5584</td>\n",
              "      <td id=\"T_a0d25_row2_col3\" class=\"data row2 col3\" >0.9567</td>\n",
              "      <td id=\"T_a0d25_row2_col4\" class=\"data row2 col4\" >0.1887</td>\n",
              "      <td id=\"T_a0d25_row2_col5\" class=\"data row2 col5\" >0.2717</td>\n",
              "    </tr>\n",
              "    <tr>\n",
              "      <th id=\"T_a0d25_level0_row3\" class=\"row_heading level0 row3\" >3</th>\n",
              "      <td id=\"T_a0d25_row3_col0\" class=\"data row3 col0\" >0.5390</td>\n",
              "      <td id=\"T_a0d25_row3_col1\" class=\"data row3 col1\" >0.4563</td>\n",
              "      <td id=\"T_a0d25_row3_col2\" class=\"data row3 col2\" >0.6755</td>\n",
              "      <td id=\"T_a0d25_row3_col3\" class=\"data row3 col3\" >0.9433</td>\n",
              "      <td id=\"T_a0d25_row3_col4\" class=\"data row3 col4\" >0.2337</td>\n",
              "      <td id=\"T_a0d25_row3_col5\" class=\"data row3 col5\" >0.3885</td>\n",
              "    </tr>\n",
              "    <tr>\n",
              "      <th id=\"T_a0d25_level0_row4\" class=\"row_heading level0 row4\" >4</th>\n",
              "      <td id=\"T_a0d25_row4_col0\" class=\"data row4 col0\" >0.5493</td>\n",
              "      <td id=\"T_a0d25_row4_col1\" class=\"data row4 col1\" >0.5627</td>\n",
              "      <td id=\"T_a0d25_row4_col2\" class=\"data row4 col2\" >0.7501</td>\n",
              "      <td id=\"T_a0d25_row4_col3\" class=\"data row4 col3\" >0.9216</td>\n",
              "      <td id=\"T_a0d25_row4_col4\" class=\"data row4 col4\" >0.2524</td>\n",
              "      <td id=\"T_a0d25_row4_col5\" class=\"data row4 col5\" >0.6677</td>\n",
              "    </tr>\n",
              "    <tr>\n",
              "      <th id=\"T_a0d25_level0_row5\" class=\"row_heading level0 row5\" >5</th>\n",
              "      <td id=\"T_a0d25_row5_col0\" class=\"data row5 col0\" >0.6431</td>\n",
              "      <td id=\"T_a0d25_row5_col1\" class=\"data row5 col1\" >0.5698</td>\n",
              "      <td id=\"T_a0d25_row5_col2\" class=\"data row5 col2\" >0.7548</td>\n",
              "      <td id=\"T_a0d25_row5_col3\" class=\"data row5 col3\" >0.9338</td>\n",
              "      <td id=\"T_a0d25_row5_col4\" class=\"data row5 col4\" >0.2467</td>\n",
              "      <td id=\"T_a0d25_row5_col5\" class=\"data row5 col5\" >0.6668</td>\n",
              "    </tr>\n",
              "    <tr>\n",
              "      <th id=\"T_a0d25_level0_row6\" class=\"row_heading level0 row6\" >6</th>\n",
              "      <td id=\"T_a0d25_row6_col0\" class=\"data row6 col0\" >0.5409</td>\n",
              "      <td id=\"T_a0d25_row6_col1\" class=\"data row6 col1\" >0.4216</td>\n",
              "      <td id=\"T_a0d25_row6_col2\" class=\"data row6 col2\" >0.6493</td>\n",
              "      <td id=\"T_a0d25_row6_col3\" class=\"data row6 col3\" >0.9316</td>\n",
              "      <td id=\"T_a0d25_row6_col4\" class=\"data row6 col4\" >0.2456</td>\n",
              "      <td id=\"T_a0d25_row6_col5\" class=\"data row6 col5\" >0.4891</td>\n",
              "    </tr>\n",
              "    <tr>\n",
              "      <th id=\"T_a0d25_level0_row7\" class=\"row_heading level0 row7\" >7</th>\n",
              "      <td id=\"T_a0d25_row7_col0\" class=\"data row7 col0\" >0.5545</td>\n",
              "      <td id=\"T_a0d25_row7_col1\" class=\"data row7 col1\" >0.4677</td>\n",
              "      <td id=\"T_a0d25_row7_col2\" class=\"data row7 col2\" >0.6839</td>\n",
              "      <td id=\"T_a0d25_row7_col3\" class=\"data row7 col3\" >0.9464</td>\n",
              "      <td id=\"T_a0d25_row7_col4\" class=\"data row7 col4\" >0.2547</td>\n",
              "      <td id=\"T_a0d25_row7_col5\" class=\"data row7 col5\" >0.5922</td>\n",
              "    </tr>\n",
              "    <tr>\n",
              "      <th id=\"T_a0d25_level0_row8\" class=\"row_heading level0 row8\" >8</th>\n",
              "      <td id=\"T_a0d25_row8_col0\" class=\"data row8 col0\" >0.5925</td>\n",
              "      <td id=\"T_a0d25_row8_col1\" class=\"data row8 col1\" >0.6380</td>\n",
              "      <td id=\"T_a0d25_row8_col2\" class=\"data row8 col2\" >0.7988</td>\n",
              "      <td id=\"T_a0d25_row8_col3\" class=\"data row8 col3\" >0.8689</td>\n",
              "      <td id=\"T_a0d25_row8_col4\" class=\"data row8 col4\" >0.3177</td>\n",
              "      <td id=\"T_a0d25_row8_col5\" class=\"data row8 col5\" >0.5936</td>\n",
              "    </tr>\n",
              "    <tr>\n",
              "      <th id=\"T_a0d25_level0_row9\" class=\"row_heading level0 row9\" >9</th>\n",
              "      <td id=\"T_a0d25_row9_col0\" class=\"data row9 col0\" >0.5679</td>\n",
              "      <td id=\"T_a0d25_row9_col1\" class=\"data row9 col1\" >0.4552</td>\n",
              "      <td id=\"T_a0d25_row9_col2\" class=\"data row9 col2\" >0.6747</td>\n",
              "      <td id=\"T_a0d25_row9_col3\" class=\"data row9 col3\" >0.9398</td>\n",
              "      <td id=\"T_a0d25_row9_col4\" class=\"data row9 col4\" >0.2198</td>\n",
              "      <td id=\"T_a0d25_row9_col5\" class=\"data row9 col5\" >0.3189</td>\n",
              "    </tr>\n",
              "    <tr>\n",
              "      <th id=\"T_a0d25_level0_row10\" class=\"row_heading level0 row10\" >Mean</th>\n",
              "      <td id=\"T_a0d25_row10_col0\" class=\"data row10 col0\" >0.5662</td>\n",
              "      <td id=\"T_a0d25_row10_col1\" class=\"data row10 col1\" >0.5150</td>\n",
              "      <td id=\"T_a0d25_row10_col2\" class=\"data row10 col2\" >0.7126</td>\n",
              "      <td id=\"T_a0d25_row10_col3\" class=\"data row10 col3\" >0.9289</td>\n",
              "      <td id=\"T_a0d25_row10_col4\" class=\"data row10 col4\" >0.2452</td>\n",
              "      <td id=\"T_a0d25_row10_col5\" class=\"data row10 col5\" >0.4735</td>\n",
              "    </tr>\n",
              "    <tr>\n",
              "      <th id=\"T_a0d25_level0_row11\" class=\"row_heading level0 row11\" >Std</th>\n",
              "      <td id=\"T_a0d25_row11_col0\" class=\"data row11 col0\" >0.0640</td>\n",
              "      <td id=\"T_a0d25_row11_col1\" class=\"data row11 col1\" >0.1239</td>\n",
              "      <td id=\"T_a0d25_row11_col2\" class=\"data row11 col2\" >0.0851</td>\n",
              "      <td id=\"T_a0d25_row11_col3\" class=\"data row11 col3\" >0.0262</td>\n",
              "      <td id=\"T_a0d25_row11_col4\" class=\"data row11 col4\" >0.0329</td>\n",
              "      <td id=\"T_a0d25_row11_col5\" class=\"data row11 col5\" >0.1470</td>\n",
              "    </tr>\n",
              "  </tbody>\n",
              "</table>\n"
            ]
          },
          "metadata": {}
        },
        {
          "output_type": "display_data",
          "data": {
            "text/plain": [
              "Processing:   0%|          | 0/4 [00:00<?, ?it/s]"
            ],
            "application/vnd.jupyter.widget-view+json": {
              "version_major": 2,
              "version_minor": 0,
              "model_id": "e540de11a5de40848bb878f77a57436d"
            }
          },
          "metadata": {
            "application/vnd.jupyter.widget-view+json": {
              "colab": {
                "custom_widget_manager": {
                  "url": "https://ssl.gstatic.com/colaboratory-static/widgets/colab-cdn-widget-manager/2b70e893a8ba7c0f/manager.min.js"
                }
              }
            }
          }
        },
        {
          "output_type": "display_data",
          "data": {
            "text/plain": [
              "<IPython.core.display.HTML object>"
            ],
            "text/html": []
          },
          "metadata": {}
        }
      ]
    },
    {
      "cell_type": "code",
      "source": [
        "# dt_results = pull()\n",
        "# print(type(dt_results))\n",
        "# dt_results"
      ],
      "metadata": {
        "id": "gZMzJORJ1BHf"
      },
      "id": "gZMzJORJ1BHf",
      "execution_count": null,
      "outputs": []
    },
    {
      "cell_type": "code",
      "source": [
        "# # train linear regression with fold=3\n",
        "# lr = create_model('lr', fold=3)"
      ],
      "metadata": {
        "id": "7p7LvVKm1nqf"
      },
      "id": "7p7LvVKm1nqf",
      "execution_count": null,
      "outputs": []
    },
    {
      "cell_type": "code",
      "source": [
        "# # train lr and return train score as well alongwith CV\n",
        "# create_model('dt', return_train_score=True)"
      ],
      "metadata": {
        "id": "p8nQmrnq1MEV"
      },
      "id": "p8nQmrnq1MEV",
      "execution_count": null,
      "outputs": []
    },
    {
      "cell_type": "markdown",
      "source": [
        "Some other parameters that you might find very useful in `create_model` are:\n",
        "\n",
        "- cross_validation\n",
        "- engine\n",
        "- fit_kwargs\n",
        "- groups\n",
        "\n",
        "You can check the docstring of the function for more info."
      ],
      "metadata": {
        "id": "4SneQwO41d7r"
      },
      "id": "4SneQwO41d7r"
    },
    {
      "cell_type": "code",
      "source": [
        "# help(create_model)"
      ],
      "metadata": {
        "id": "HbtjKiy81avM"
      },
      "id": "HbtjKiy81avM",
      "execution_count": null,
      "outputs": []
    },
    {
      "cell_type": "markdown",
      "metadata": {
        "id": "v2t73UwBwVuy"
      },
      "source": [
        "## ✅ Convert Model\n",
        "This function transpiles the trained machine learning model's decision function in different programming languages such as Python, C, Java, Go, C#, etc. It is very useful if you want to deploy models into environments where you can't install your normal Python stack to support model inference."
      ],
      "id": "v2t73UwBwVuy"
    },
    {
      "cell_type": "code",
      "source": [
        "# print(compare_tree_models.feature_names_in_)\n",
        "# print(dt.feature_names_in_)\n",
        "print(lr.feature_names_in_)"
      ],
      "metadata": {
        "outputId": "0d14fb8c-c3cf-45c0-d840-5a2b522a21e1",
        "colab": {
          "base_uri": "https://localhost:8080/",
          "height": 176
        },
        "id": "0_hpz1pdwVuz"
      },
      "execution_count": null,
      "outputs": [
        {
          "output_type": "error",
          "ename": "NameError",
          "evalue": "name 'rf' is not defined",
          "traceback": [
            "\u001b[0;31m---------------------------------------------------------------------------\u001b[0m",
            "\u001b[0;31mNameError\u001b[0m                                 Traceback (most recent call last)",
            "\u001b[0;32m<ipython-input-65-ce26b394a475>\u001b[0m in \u001b[0;36m<cell line: 3>\u001b[0;34m()\u001b[0m\n\u001b[1;32m      1\u001b[0m \u001b[0;31m# print(compare_tree_models.feature_names_in_)\u001b[0m\u001b[0;34m\u001b[0m\u001b[0;34m\u001b[0m\u001b[0m\n\u001b[1;32m      2\u001b[0m \u001b[0;31m# print(dt.feature_names_in_)\u001b[0m\u001b[0;34m\u001b[0m\u001b[0;34m\u001b[0m\u001b[0m\n\u001b[0;32m----> 3\u001b[0;31m \u001b[0mprint\u001b[0m\u001b[0;34m(\u001b[0m\u001b[0mrf\u001b[0m\u001b[0;34m.\u001b[0m\u001b[0mfeature_names_in_\u001b[0m\u001b[0;34m)\u001b[0m\u001b[0;34m\u001b[0m\u001b[0;34m\u001b[0m\u001b[0m\n\u001b[0m",
            "\u001b[0;31mNameError\u001b[0m: name 'rf' is not defined"
          ]
        }
      ],
      "id": "0_hpz1pdwVuz"
    },
    {
      "cell_type": "code",
      "source": [
        "feature_names_in_ = ['SatelliteAverageMinTemperature']\n",
        "\n",
        "# Add \"v_\" to the feature names\n",
        "feature_names_v_ = [f'v_{name}' for name in feature_names_in_]\n",
        "\n",
        "# Create an array of input variables using list comprehension\n",
        "input_variables = [f'input[{i}] = {feature_names_v_[i]}' for i in range(len(feature_names_v_))]\n",
        "\n",
        "# Print the array of input variables\n",
        "for input_var in input_variables:\n",
        "    print(input_var)"
      ],
      "metadata": {
        "colab": {
          "base_uri": "https://localhost:8080/"
        },
        "id": "iPGUBS_-7M7z",
        "outputId": "09459164-a90f-47e0-d8d6-20ee80178823"
      },
      "id": "iPGUBS_-7M7z",
      "execution_count": null,
      "outputs": [
        {
          "output_type": "stream",
          "name": "stdout",
          "text": [
            "input[0] = v_SatelliteAverageMinTemperature\n"
          ]
        }
      ]
    },
    {
      "cell_type": "code",
      "execution_count": null,
      "metadata": {
        "outputId": "5c31fe5f-96b5-4171-9249-22e6a30bdeca",
        "colab": {
          "base_uri": "https://localhost:8080/"
        },
        "id": "tI112c9rwVuz"
      },
      "outputs": [
        {
          "output_type": "stream",
          "name": "stdout",
          "text": [
            "public class Model {\n",
            "    public static double score(double[] input) {\n",
            "        return -17.681283950805664 + input[0] * 1.0511893033981323;\n",
            "    }\n",
            "}\n",
            "\n"
          ]
        }
      ],
      "source": [
        "# transpiles learned function to java\n",
        "# print(convert_model(dt, language = 'java'))\n",
        "print(convert_model(lr, language = 'java'))"
      ],
      "id": "tI112c9rwVuz"
    },
    {
      "cell_type": "markdown",
      "source": [
        "## ✅ AnyLogic Code"
      ],
      "metadata": {
        "id": "jCPLA3QaAYFN"
      },
      "id": "jCPLA3QaAYFN"
    },
    {
      "cell_type": "markdown",
      "source": [
        "//indexUnknown == Corresponding Column of the unknown variable\n",
        "//f_EstimateUnknowns(dataColumnNumber,v_Temperature,v_Rainfall) Model\tMAE\tMSE\tRMSE\tR2\tRMSLE\tMAPE\tTT (Sec)\n",
        "double unknown = -9999;\n",
        "\n",
        "switch (dataColumnNumber) {\n",
        "// Temperature ------------------------------------------------------------------------------------------------\n",
        "\tcase 3: // v_SatelliteAverageMinTemperature\n",
        "\t\tunknown = v_SatelliteAverageMinTemperature;\n",
        "        break;\n",
        "\tcase 4: // v_SatelliteAverageMinTemperatureStandardizedAnomaly\n",
        "        unknown = -16.660005569458008 + v_SatelliteAverageMinTemperature * 1.000000238418579;// Linear Regression\t0.0000\t0.0000\t0.0000\t1.0000\t0.0000\t0.0000\t0.0260\n",
        "        break;\n",
        "\tcase 5: // v_SatelliteAverageMaxTemperature\n",
        "\t\tunknown = 15.477807998657227 + v_SatelliteAverageMinTemperature * 0.7452782392501831; // Gradient Boosting Regressor\t1.1498\t2.0547\t1.4301\t0.6541\t0.0480\t0.0405\t0.0830\n",
        "        break;\t\t\t\t\t\t\t\t\t\t\t\t\t\t\t\t\t\t\t\t  // Linear Regression\t1.2295\t2.1735\t1.4717\t0.6339\t0.0499\t0.0435\t0.0240\n",
        "\tcase 6: // v_AverageMeanTemperature\n",
        "        unknown = 7.252778053283691 + v_SatelliteAverageMinTemperature * 0.8848339915275574; // Linear Regression\t0.9463\t1.2504\t1.1135\t0.7866\t0.0481\t0.0429\t0.0260\n",
        "        break;\n",
        "\tcase 7: // v_AverageMeanTemperatureAnomaly\n",
        "        unknown =-14.853479385375977 + v_SatelliteAverageMinTemperature * 0.882835328578949; // Linear Regression\t0.9451\t1.2430\t1.1103\t0.7866\t0.3784\t1.0413\t0.0390\n",
        "        break;\n",
        "\tcase 8: // v_AverageMeanTemperatureStandardizedAnomaly\n",
        "\t    unknown =-5.732344150543213 + v_SatelliteAverageMinTemperature * 0.34064602851867676; // Linear Regression\t0.3643\t0.1852\t0.4286\t0.7865\t0.2245\t1.6227\t0.0260\n",
        "\t    break;\n",
        "\tcase 9: // v_ChancoMeanTemperature\n",
        "\t\tunknown = 8.553702354431152 + v_SatelliteAverageMinTemperature * 0.7927377223968506;// Linear Regression\t0.7822\t1.0183\t0.9941\t0.7854\t0.0444\t0.0365\t0.0260\n",
        "\t    break;\n",
        "\tcase 10: // v_ChingaleMeanTemperature\n",
        "\t\tunknown = 6.655677795410156 + v_SatelliteAverageMinTemperature * 0.9769081473350525;//Linear Regression\t1.3346\t2.4799\t1.5626\t0.6964\t0.0650\t0.0583\t0.0260\n",
        "\t    break;\n",
        "\tcase 11: // v_MakokaMeanTemperature\n",
        "\t\tunknown = 7.098308563232422 + v_SatelliteAverageMinTemperature * 0.8401627540588379; //Linear Regression\t0.8273\t0.9692\t0.9779\t0.8135\t0.0444\t0.0395\t0.0330\n",
        "\t    break;\n",
        "\tcase 12: // v_NaminjiwaMeanTemperature\n",
        "\t\tunknown = 5.573662757873535 + v_SatelliteAverageMinTemperature * 0.912589967250824;\t//Linear Regression\t1.2697\t2.2505\t1.4940\t0.6844\t0.0684\t0.0611\t0.0450\n",
        "\t    break;\n",
        "\tcase 13: // v_NtajaMeanTemperature\n",
        "\t\tunknown = 9.26572322845459 + v_SatelliteAverageMinTemperature * 0.8460623621940613;\t//Linear Regression\t0.8156\t1.0117\t1.0001\t0.8112\t0.0406\t0.0346\t0.7060\n",
        "\t    break;\n",
        "\tcase 14: // v_ZombaRTCMeanTemperature\n",
        "\t\tunknown = 6.621180534362793 + v_SatelliteAverageMinTemperature * 0.9271628856658936;\t//Linear Regression\t1.3646\t2.5770\t1.5971\t0.6639\t0.0689\t0.0618\t0.0250\n",
        "\t    break;\n",
        "\tcase 15: // v_AverageMinTemperature\n",
        "\t\tunknown = -1.2127094268798828 + v_SatelliteAverageMinTemperature * 1.0496625900268555;\t//\tLinear Regression\t0.5679\t0.5180\t0.7151\t0.9283\t0.0428\t0.0360\t0.0260\n",
        "\t    break;\n",
        "\tcase 16: // v_AverageMinTemperatureAnomaly\n",
        "\t\tunknown = -17.681283950805664 + v_SatelliteAverageMinTemperature * 1.0511893033981323;\t//\tLinear Regression\t0.5662\t0.5150\t0.7126\t0.9289\t0.2452\t0.4735\t0.0250\n",
        "\t    break;\n",
        "\tcase 17: // v_AverageMinTemperatureStandardizedAnomaly\n",
        "\t\tunknown = -6.155369758605957 + v_SatelliteAverageMinTemperature * 0.3659158945083618;\t//Linear Regression\t0.1971\t0.0624\t0.2481\t0.9289\t0.1407\t0.4847\t0.0360\n",
        "\t    break;\n",
        "\tcase 18: // v_ChancoMinTemperature\n",
        "\t\tunknown = 0.4606494903564453 + v_SatelliteAverageMinTemperature * 0.9653146266937256;\t//Linear Regression\t0.7564\t1.1201\t1.0150\t0.8435\t0.0611\t0.0483\t0.0330\n",
        "\t    break;\n",
        "\tcase 19: // v_ChingaleMinTemperature\n",
        "\t\tunknown = -3.422130584716797 + v_SatelliteAverageMinTemperature * 1.16911780834198;\t//Linear Regression\t1.0009\t1.5246\t1.2251\t0.8449\t0.0763\t0.0659\t0.0240\n",
        "\t    break;\n",
        "\tcase 20: // v_MakokaMinTemperature\n",
        "\t\tunknown = -1.1868085861206055 + v_SatelliteAverageMinTemperature * 1.0146383047103882;\t// Huber Regressor\t0.5484\t0.5293\t0.7204\t0.9234\t0.0442\t0.0359\t0.0290\n",
        "\t    break;\t// Linear Regression\t0.5479\t0.5309\t0.7216\t0.9231\t0.0442\t0.0359\t0.0270\n",
        "\tcase 21: // v_NaminjiwaMinTemperature\n",
        "\t\tunknown = -3.012798309326172 + v_SatelliteAverageMinTemperature * 1.0946149826049805;\t// Linear Regression\t0.7338\t0.8702\t0.9256\t0.8933\t0.0602\t0.0506\t0.0240\n",
        "\t    break;\n",
        "\tcase 22: // v_NtajaMinTemperature\n",
        "\t\tunknown = 2.1548709869384766 + v_SatelliteAverageMinTemperature * 0.9586561918258667;\t//\tLinear Regression\t0.7320\t0.9047\t0.9336\t0.8674\t0.0501\t0.0411\t0.0280\n",
        "\t    break;\n",
        "\tcase 23: // v_ZombaRTCMinTemperature\n",
        "\t\tunknown = -2.3549880981445312 + v_SatelliteAverageMinTemperature * 1.1015723943710327;\t// Linear Regression\t0.8858\t1.1932\t1.0840\t0.8610\t0.0662\t0.0574\t0.0240\n",
        "\t    break;\n",
        "\tcase 24: // v_AverageMaxTemperature\n",
        "\t\tunknown = 15.762325286865234 + v_SatelliteAverageMinTemperature * 0.7171567678451538;\t//AdaBoost Regressor\t1.4709\t3.2018\t1.7789\t0.4763\t0.0611\t0.0526\t0.0440\n",
        "\t    break;\t// Linear Regression\t1.5180\t3.2397\t1.7958\t0.4694\t0.0618\t0.0544\n",
        "\tcase 25: // v_AverageMaxTemperatureAnomaly\n",
        "\t\tunknown = -12.086764335632324 + v_SatelliteAverageMinTemperature * 0.7179895043373108;\t//AdaBoost Regressor\t1.4688\t3.1464\t1.7630\t0.4871\t0.5579\t1.4029\t0.0420\n",
        "\t    break;\t//Linear Regression\t1.5234\t3.2531\t1.7998\t0.4684\t0.5132\t1.5572\t0.0260\n",
        "\tcase 26: // v_AverageMaxTemperatureStandardizedAnomaly\n",
        "\t\tunknown = -4.61706018447876 + v_SatelliteAverageMinTemperature * 0.2742142379283905;\t//AdaBoost Regressor\t0.5658\t0.4681\t0.6799\t0.4780\t0.3327\t1.8146\t0.0410\n",
        "\t    break;\t   //Linear Regression\t0.5821\t0.4754\t0.6879\t0.4679\t0.3115\t1.9707\t0.0270\n",
        "\tcase 27: // v_ChancoMaxTemperature\n",
        "\t\tunknown = 16.64138412475586 + v_SatelliteAverageMinTemperature * 0.6204992532730103;\t//Bayesian Ridge\t1.2046\t2.2994\t1.4903\t0.4926\t0.0533\t0.0446\t0.0350\n",
        "\t    break;\t//Linear Regression\t1.2048\t2.2992\t1.4901\t0.4925\t0.0532\t0.0446\t0.0240\n",
        "\tcase 28: // v_ChingaleMaxTemperature\n",
        "\t\tunknown = 16.723831176757812 + v_SatelliteAverageMinTemperature * 0.7851614952087402;\t//AdaBoost Regressor\t1.8561\t5.2326\t2.2640\t0.4108\t0.0730\t0.0623\t0.0410\n",
        "\t    break;\t//Linear Regression\t1.9303\t5.3042\t2.2876\t0.3950\t0.0740\t0.0650\t0.0260\n",
        "\tcase 29: // v_MakokaMaxTemperature\n",
        "\t\tunknown = 15.162158012390137 + v_SatelliteAverageMinTemperature * 0.6760290861129761;\t//Linear Regression\t1.3048\t2.6363\t1.5998\t0.5130\t0.0586\t0.0495\t0.6530\n",
        "\t    break;\n",
        "\tcase 30: // v_NaminjiwaMaxTemperature\n",
        "\t\tunknown = 14.156989097595215 + v_SatelliteAverageMinTemperature * 0.7304900288581848;\t//AdaBoost Regressor\t2.1156\t6.3170\t2.5001\t0.3126\t0.0904\t0.0804\t0.0420\n",
        "\t    break;\t // Linear Regression\t2.1317\t6.3808\t2.5217\t0.3034\t0.0912\t0.0807\t0.0440\n",
        "\tcase 31: // v_NtajaMaxTemperature\n",
        "\t\tunknown = 16.34516143798828 + v_SatelliteAverageMinTemperature * 0.735171914100647;\t//Ridge Regression\t1.2600\t2.4330\t1.5471\t0.5657\t0.0510\t0.0434\t0.0270\n",
        "\t    break;\t//Linear Regression\t1.2600\t2.4330\t1.5471\t0.5656\t0.0510\t0.0434\t0.0280\n",
        "\tcase 32: // v_ZombaRTCMaxTemperature\n",
        "\t\tunknown =  15.596969604492188 + v_SatelliteAverageMinTemperature * 0.7531309723854065;\t//Ridge Regression\t2.0704\t6.0862\t2.4562\t0.3406\t0.0840\t0.0738\t0.0270\n",
        "\t    break;\t//Linear Regression\t2.0704\t6.0862\t2.4561\t0.3405\t0.0840\t0.0738\t0.0250\n",
        "\n",
        "// Rainfall ------------------------------------------------------------------------------------------------\n",
        "\tcase 33: // v_SatelliteAverageRainfall\n",
        "\t\tunknown = v_SatelliteAverageRainfall\n",
        "\t    break;\n",
        "\tcase 34: // v_SatelliteAverageRainfallStandardizedAnomaly\n",
        "\t\tunknown = -0.819153368473053 + v_SatelliteAverageRainfall * 0.030590662732720375;//Linear Regression\t0.0021\t0.0000\t0.0026\t1.0000\t0.0017\t0.0086\t0.0250\n",
        "\t    break;\n",
        "\tcase 35: // v_AverageRainfall\n",
        "\t\tunknown = 9.69647216796875 + v_SatelliteAverageRainfall * 3.0520846843719482;// Linear Regression\t41.5367\t4474.3251\t65.8478\t0.6014\t1.1444\t3.3615\t0.0270\n",
        "\t    break;\n",
        "\tcase 36: // v_RainfallAnomaly\n",
        "\t\tunknown = -75.5726089477539 + v_SatelliteAverageRainfall * 3.0521161556243896; // Elastic Net\t41.5588\t4474.2224\t65.8470\t0.6015\t0.8504\t0.9567\t0.0270\n",
        "\t    break; // Linear Regression\t41.5366\t4474.2158\t65.8465\t0.6014\t0.8502\t0.9569\n",
        "\tcase 37: // v_StandardizedRainfallAnomaly\n",
        "\t\tunknown = -0.684950053691864 + v_SatelliteAverageRainfall * 0.027668694034218788;// Elastic Net\t0.3822\t0.3682\t0.5974\t0.6017\t0.2644\t0.9359\t0.0330\n",
        "\t    break;//Linear Regression\t0.3765\t0.3678\t0.5970\t0.6014\t0.2630\t0.9423\t0.0280\n",
        "\tcase 38: // v_ChancoRainfall\n",
        "\t\tunknown = 14.321258544921875 + v_SatelliteAverageRainfall * 3.5829250812530518;// Light Gradient Boosting Machine\t51.2972\t7427.8697\t85.0221\t0.5527\t1.5225\t2.1634\t0.1600\n",
        "\t    break; //Linear Regression\t53.4692\t7656.4516\t85.8134\t0.5472\t1.6332\t2.6268\t0.0390\n",
        "\tcase 39: // v_ChingaleRainfall\n",
        "\t\tunknown =  9.436100006103516 + v_SatelliteAverageRainfall * 2.652162790298462;// Light Gradient Boosting Machine\t50.6620\t7027.8453\t81.6379\t0.4309\t1.7973\t2.0490\t0.2210\n",
        "\t    break;//Linear Regression\t52.2294\t6956.8180\t82.3717\t0.4164\t1.9890\t2.7959\t0.7200\n",
        "\tcase 40: // v_MakokaRainfall\n",
        "\t\tunknown = 11.77880859375 + v_SatelliteAverageRainfall * 2.7480640411376953;// Light Gradient Boosting Machine\t49.0761\t6234.5096\t76.7258\t0.4782\t1.5889\t5.4445\t0.1470\n",
        "\t    break;//Linear Regression\t49.8643\t6266.7670\t77.6934\t0.4735\t1.7127\t7.3675\t0.0240\n",
        "\tcase 41: // v_NaminjiwaRainfall\n",
        "\t\tunknown = 13.842552185058594 + v_SatelliteAverageRainfall * 2.9617063999176025;// huber\tHuber Regressor\t46.0382\t5619.8078\t74.3043\t0.4808\t1.4835\t2.1185\t0.0290\n",
        "\t    break;//Linear Regression\t46.9409\t5629.8148\t74.4171\t0.4772\t1.5854\t2.7658\t0.0440\n",
        "\tcase 42: // v_NtajaRainfall\n",
        "\t\tunknown = 10.815776824951172 + v_SatelliteAverageRainfall * 2.288658857345581;// \tBayesian Ridge\t47.3861\t5875.4115\t75.3560\t0.3883\t2.0801\t4.1560\t0.0250\n",
        "\t    break;//Linear Regression\t47.2747\t5874.9284\t75.3477\t0.3882\t2.0721\t4.1200\t0.6540\n",
        "\tcase 43: // v_ZombaRTCRainfall\n",
        "\t\tunknown = 11.313201904296875 + v_SatelliteAverageRainfall * 3.626018524169922;// Lasso Regression\t54.2129\t7580.5141\t85.9738\t0.5503\t1.7434\t4.0676\t0.0280\n",
        "\t    break;//Linear Regression\t54.2038\t7580.4832\t85.9736\t0.5502\t1.7425\t4.0631\t0.0270\n",
        "\tcase 44: // v_ChancellorCollegeRainfall\n",
        "\t\tunknown = 5.845367431640625 + v_SatelliteAverageRainfall * 3.830941915512085;// Huber Regressor\t49.8873\t7478.2579\t83.7398\t0.6083\t1.1736\t1.8384\t0.0520\n",
        "\t    break;//Linear Regression\t51.6058\t7476.3668\t83.7073\t0.6026\t1.3684\t2.3360\t0.0270\n",
        "\tcase 45: // v_ChimpeniRainfall\n",
        "\t\tunknown = 6.874382019042969 + v_SatelliteAverageRainfall * 3.020272731781006;// AdaBoost Regressor\t34.7384\t3776.7271\t60.6267\t0.7389\t0.9617\t0.5747\t0.0500\n",
        "\t    break;//Linear Regression\t38.8763\t4302.1255\t63.9293\t0.7138\t1.2473\t1.2067\t0.0250\n",
        "\tcase 46: // v_ReturnPeriod\n",
        "\t\tunknown = f_Estimatev_ReturnPeriod(v_SatelliteAverageRainfall);// Decision Tree Regressor\t0.0469\t1.4062\t0.3750\t0.9637\t0.0111\t0.0200\t0.0260\n",
        "\t    break;\n",
        "\tcase 47: // v_ActualEvapotransp\n",
        "\t\tunknown = f_Estimatev_ActualEvapotransp(v_SatelliteAverageMinTemperature,v_SatelliteAverageRainfall);// Gradient Boosting Regressor\t16.1733\t477.2102\t21.7550\t0.5357\t0.4130\t0.3751\t0.1510\n",
        "\t    break;// Light Gradient Boosting Machine\t16.3756\t500.5886\t22.2614\t0.5145\t0.4232\t0.3866\t0.0880\n",
        "\tcase 49: // v_SoilMoisture\n",
        "\t\tunknown = 96.67308807373047 + v_SatelliteAverageMinTemperature * 0.0 + v_SatelliteAverageRainfall * 0.7959938645362854;// AdaBoost Regressor\t51.8088\t3612.1740\t59.9124\t0.1707\t0.6217\t0.7255\t0.0440\n",
        "\t    break;//Orthogonal Matching Pursuit\t53.6374\t3839.2948\t61.7846\t0.1174\t0.6435\t0.7733\t0.0270\n",
        "\tcase 50: // v_SPI1\n",
        "\t\tunknown = f_Estimatev_SPI1(v_SatelliteAverageMinTemperature,v_SatelliteAverageRainfall); // gbr\tGradient Boosting Regressor\t0.4651\t0.3903\t0.6229\t0.4462\t0.2929\t1.4219\t0.0910\n",
        "\t    break;//ightgbm\tLight Gradient Boosting Machine\t0.4758\t0.4134\t0.6407\t0.4125\t0.3020\t1.5640\t0.1620\n",
        "\tcase 51: // v_SPI3\n",
        "\t\tunknown = //\n",
        "\t    break;\n",
        "\tcase 52: // v_SPI6\n",
        "\t\tunknown = //\n",
        "\t    break;\n",
        "\tcase 53: // v_SPI12\n",
        "\t\tunknown = //\n",
        "\t    break;\n",
        "\tcase 54: // v_SPI24\n",
        "\t\tunknown = //\n",
        "\t    break;\n",
        "\tcase 55: // v_SPI36\n",
        "\t\tunknown = //\n",
        "\t    break;\n",
        "\tcase 56: // v_SPI48\n",
        "\t\tunknown = //\n",
        "\t    break;\n",
        "\tcase 57: // v_SPI60\n",
        "\t\tunknown = //\n",
        "\t    break;\n",
        "\tcase 58: // v_SPI72\n",
        "\t\tunknown = //\n",
        "\t    break;\n",
        "\tcase 59: // v_PalmerDroughtSeverityIndex\n",
        "\t\tunknown = //\n",
        "\t    break;\n",
        "\tcase 60: // v_Waterloggingkm2\n",
        "\t\tunknown = //\n",
        "\t    break;\n",
        "\tcase 61: // v_LakeSurfaceAreakm2\n",
        "\t\tunknown = //\n",
        "\t    break;\n",
        "\tcase 62: // v_LakeDepthm\n",
        "\tcase 63: // v_NDVIAreakm2\n",
        "\tcase 64: // v_CholeraCasesD1\n",
        "\tcase 65: // v_CholeraCasesD2\n",
        "\tcase 66: // v_CholeraCasesD3\n",
        "\tcase 67: // v_CholeraCasesD4\n",
        "\tcase 68: // v_CholeraCasesTotal\n",
        "\tcase 69: // v_SchistosomiasisCasesD1\n",
        "\tcase 70: // v_SchistosomiasisCasesD2\n",
        "\tcase 71: // v_SchistosomiasisCasesD3\n",
        "\tcase 72: // v_SchistosomiasisCasesD4\n",
        "\tcase 73: // v_SchistosomiasisCasesTotal\n",
        "\tcase 74: // v_MalariaCasesD1\n",
        "\tcase 75: // v_MalariaCasesD2\n",
        "\tcase 76: // v_MalariaCasesD3\n",
        "\tcase 77: // v_MalariaCasesD4\n",
        "\tcase 78: // v_MalariaCasesTotal\n",
        "\tcase 79: // v_MosquitoNetsD1\n",
        "\tcase 80: // v_MosquitoNetsD2\n",
        "\tcase 81: // v_MosquitoNetsD3\n",
        "\tcase 82: // v_MosquitoNetsD4\n",
        "\tcase 83: // v_MosquitoNetsTotal\n",
        "\tcase 86: // v_Malnutrition_LT5_NewCases_AllDistricts\n",
        "\tcase 99: // v_PopulationChilwaBasinMalawi\n",
        "\tcase 103: // v_TotalFishCatch\n",
        "\tcase 104: // v_MaizeArea_HA_D1\n",
        "\tcase 105: // v_MaizeProduction_MT_D1\n",
        "\tcase 106: // v_RiceArea_HA_D1\n",
        "\tcase 107: // v_RiceProduction_MT_D1\n",
        "\tcase 108: // v_TobaccoArea_HA_D1\n",
        "\tcase 109: // v_TobaccoProduction_MT_D1\n",
        "\tcase 110: // v_UREA_T_D1\n",
        "\tcase 111: // v_MaizeArea_HA_D2\n",
        "\tcase 112: // v_MaizeProduction_MT_D2\n",
        "\tcase 113: // v_RiceArea_HA_D2\n",
        "\tcase 114: // v_RiceProduction_MT_D2\n",
        "\tcase 115: // v_TobaccoArea_HA_D2\n",
        "\tcase 116: // v_TobaccoProduction_MT_D2\n",
        "\tcase 117: // v_UREA_T_D2\n",
        "\tcase 118: // v_MaizeArea_HA_D4\n",
        "\tcase 119: // v_MaizeProduction_MT_D4\n",
        "\tcase 120: // v_RiceArea_HA_D4\n",
        "\tcase 121: // v_RiceProduction_MT_D4\n",
        "\tcase 122: // v_TobaccoArea_HA_D4\n",
        "\tcase 123: // v_TobaccoProduction_MT_D4\n",
        "\tcase 124: // v_UREA_T_D4\n",
        "\tcase 125: // v_MaizeAreaTotal_HA\n",
        "\tcase 126: // v_MaizeProductionTotal_MT\n",
        "\tcase 127: // v_RiceAreaTotal_HA\n",
        "\tcase 128: // v_RiceProductionTotal_MT\n",
        "\tcase 129: // v_TobaccoAreaTotal_HA\n",
        "\tcase 130: // v_TobaccoProductionTotal_MT\n",
        "\tcase 131: // v_UREATotal_T\n",
        "\n",
        "        unknown = dataColumnNumber;\n",
        "        break;\n",
        "    default:\n",
        "        // Handle default case if needed\n",
        "        break;\n",
        "}\n",
        "\n",
        "return unknown;\n",
        "/*\n",
        "3,v_SatelliteAverageMinTemperature\n",
        "\n",
        "4,v_SatelliteAverageMinTemperatureStandardizedAnomaly\n",
        "\n",
        "5,v_SatelliteAverageMaxTemperature\n",
        "\n",
        "6,v_AverageMeanTemperature\n",
        "\n",
        "7,v_AverageMeanTemperatureAnomaly\n",
        "\n",
        "8,v_AverageMeanTemperatureStandardizedAnomaly\n",
        "\n",
        "9,v_ChancoMeanTemperature\n",
        "\n",
        "10,v_ChingaleMeanTemperature\n",
        "\n",
        "11,v_MakokaMeanTemperature\n",
        "\n",
        "12,v_NaminjiwaMeanTemperature\n",
        "\n",
        "13,v_NtajaMeanTemperature\n",
        "\n",
        "14,v_ZombaRTCMeanTemperature\n",
        "\n",
        "15,v_AverageMinTemperature\n",
        "\n",
        "16,v_AverageMinTemperatureAnomaly\n",
        "\n",
        "17,v_AverageMinTemperatureStandardizedAnomaly\n",
        "\n",
        "18,v_ChancoMinTemperature\n",
        "\n",
        "19,v_ChingaleMinTemperature\n",
        "\n",
        "20,v_MakokaMinTemperature\n",
        "\n",
        "21,v_NaminjiwaMinTemperature\n",
        "\n",
        "22,v_NtajaMinTemperature\n",
        "\n",
        "23,v_ZombaRTCMinTemperature\n",
        "\n",
        "24,v_AverageMaxTemperature\n",
        "\n",
        "25,v_AverageMaxTemperatureAnomaly\n",
        "\n",
        "26,v_AverageMaxTemperatureStandardizedAnomaly\n",
        "\n",
        "27,v_ChancoMaxTemperature\n",
        "\n",
        "28,v_ChingaleMaxTemperature\n",
        "\n",
        "29,v_MakokaMaxTemperature\n",
        "\n",
        "30,v_NaminjiwaMaxTemperature\n",
        "\n",
        "31,v_NtajaMaxTemperature\n",
        "\n",
        "32,v_ZombaRTCMaxTemperature\n",
        "\n",
        "33,v_SatelliteAverageRainfall\n",
        "\n",
        "34,v_SatelliteAverageRainfallStandardizedAnomaly\n",
        "\n",
        "35,v_AverageRainfall\n",
        "\n",
        "36,v_RainfallAnomaly\n",
        "\n",
        "37,v_StandardizedRainfallAnomaly\n",
        "\n",
        "38,v_ChancoRainfall\n",
        "\n",
        "39,v_ChingaleRainfall\n",
        "\n",
        "40,v_MakokaRainfall\n",
        "\n",
        "41,v_NaminjiwaRainfall\n",
        "\n",
        "42,v_NtajaRainfall\n",
        "\n",
        "43,v_ZombaRTCRainfall\n",
        "\n",
        "44,v_ChancellorCollegeRainfall\n",
        "\n",
        "45,v_ChimpeniRainfall\n",
        "\n",
        "46,v_ReturnPeriod\n",
        "\n",
        "47,v_ActualEvapotransp\n",
        "\n",
        "49,v_SoilMoisture\n",
        "\n",
        "50,v_SPI1\n",
        "\n",
        "51,v_SPI3\n",
        "\n",
        "52,v_SPI6\n",
        "\n",
        "53,v_SPI12\n",
        "\n",
        "54,v_SPI24\n",
        "\n",
        "55,v_SPI36\n",
        "\n",
        "56,v_SPI48\n",
        "\n",
        "57,v_SPI60\n",
        "\n",
        "58,v_SPI72\n",
        "\n",
        "59,v_PalmerDroughtSeverityIndex\n",
        "\n",
        "60,v_Waterloggingkm2\n",
        "\n",
        "61,v_LakeSurfaceAreakm2\n",
        "\n",
        "62,v_LakeDepthm\n",
        "\n",
        "63,v_NDVIAreakm2\n",
        "\n",
        "64,v_CholeraCasesD1\n",
        "\n",
        "65,v_CholeraCasesD2\n",
        "\n",
        "66,v_CholeraCasesD3\n",
        "\n",
        "67,v_CholeraCasesD4\n",
        "\n",
        "68,v_CholeraCasesTotal\n",
        "\n",
        "69,v_SchistosomiasisCasesD1\n",
        "\n",
        "70,v_SchistosomiasisCasesD2\n",
        "\n",
        "71,v_SchistosomiasisCasesD3\n",
        "\n",
        "72,v_SchistosomiasisCasesD4\n",
        "\n",
        "73,v_SchistosomiasisCasesTotal\n",
        "\n",
        "74,v_MalariaCasesD1\n",
        "\n",
        "75,v_MalariaCasesD2\n",
        "\n",
        "76,v_MalariaCasesD3\n",
        "\n",
        "77,v_MalariaCasesD4\n",
        "\n",
        "78,v_MalariaCasesTotal\n",
        "\n",
        "79,v_MosquitoNetsD1\n",
        "\n",
        "80,v_MosquitoNetsD2\n",
        "\n",
        "81,v_MosquitoNetsD3\n",
        "\n",
        "82,v_MosquitoNetsD4\n",
        "\n",
        "83,v_MosquitoNetsTotal\n",
        "\n",
        "86,v_Malnutrition_LT5_NewCases_AllDistricts\n",
        "\n",
        "99,v_PopulationChilwaBasinMalawi\n",
        "\n",
        "103,v_TotalFishCatch\n",
        "\n",
        "104,v_MaizeArea_HA_D1\n",
        "\n",
        "105,v_MaizeProduction_MT_D1\n",
        "\n",
        "106,v_RiceArea_HA_D1\n",
        "\n",
        "107,v_RiceProduction_MT_D1\n",
        "\n",
        "108,v_TobaccoArea_HA_D1\n",
        "\n",
        "109,v_TobaccoProduction_MT_D1\n",
        "\n",
        "110,v_UREA_T_D1\n",
        "\n",
        "111,v_MaizeArea_HA_D2\n",
        "\n",
        "112,v_MaizeProduction_MT_D2\n",
        "\n",
        "113,v_RiceArea_HA_D2\n",
        "\n",
        "114,v_RiceProduction_MT_D2\n",
        "\n",
        "115,v_TobaccoArea_HA_D2\n",
        "\n",
        "116,v_TobaccoProduction_MT_D2\n",
        "\n",
        "117,v_UREA_T_D2\n",
        "\n",
        "118,v_MaizeArea_HA_D4\n",
        "\n",
        "119,v_MaizeProduction_MT_D4\n",
        "\n",
        "120,v_RiceArea_HA_D4\n",
        "\n",
        "121,v_RiceProduction_MT_D4\n",
        "\n",
        "122,v_TobaccoArea_HA_D4\n",
        "\n",
        "123,v_TobaccoProduction_MT_D4\n",
        "\n",
        "124,v_UREA_T_D4\n",
        "\n",
        "125,v_MaizeAreaTotal_HA\n",
        "\n",
        "126,v_MaizeProductionTotal_MT\n",
        "\n",
        "127,v_RiceAreaTotal_HA\n",
        "\n",
        "128,v_RiceProductionTotal_MT\n",
        "\n",
        "129,v_TobaccoAreaTotal_HA\n",
        "\n",
        "130,v_TobaccoProductionTotal_MT\n",
        "\n",
        "131,v_UREATotal_T\n",
        "*/"
      ],
      "metadata": {
        "id": "pdi0sjv4_lbI"
      },
      "id": "pdi0sjv4_lbI"
    },
    {
      "cell_type": "code",
      "source": [
        "# # Visualize the decision tree using plot_tree\n",
        "# plt.figure(figsize=(12, 6))\n",
        "# plot_model(dt, 'tree')\n",
        "# plt.savefig('decision_tree_Cholera_high_res.jpg', dpi=300, bbox_inches='tight')\n",
        "# plt.show()"
      ],
      "metadata": {
        "id": "VNd8NTD2wVuz"
      },
      "execution_count": null,
      "outputs": [],
      "id": "VNd8NTD2wVuz"
    },
    {
      "cell_type": "code",
      "source": [
        "# import graphviz\n",
        "# from sklearn.tree import export_graphviz\n",
        "\n",
        "# feature_names = dt.feature_names_in_\n",
        "\n",
        "# # Export the decision tree to DOT format\n",
        "# dot_data = export_graphviz(dt, out_file=None, feature_names=feature_names, filled=True, rounded=True, special_characters=True)\n",
        "\n",
        "# # Visualize the decision tree\n",
        "# graph = graphviz.Source(dot_data)\n",
        "# graph.view()  # This line will display the decision tree graph\n",
        "# graph.render(\"decision_tree_Cholera\", format=\"png\", cleanup=True)"
      ],
      "metadata": {
        "id": "cOFFqkT7wVu0"
      },
      "execution_count": null,
      "outputs": [],
      "id": "cOFFqkT7wVu0"
    },
    {
      "cell_type": "markdown",
      "id": "b3776fbf",
      "metadata": {
        "id": "b3776fbf"
      },
      "source": [
        "___"
      ]
    }
  ],
  "metadata": {
    "kernelspec": {
      "display_name": "pycaretrc5",
      "language": "python",
      "name": "pycaretrc5"
    },
    "language_info": {
      "codemirror_mode": {
        "name": "ipython",
        "version": 3
      },
      "file_extension": ".py",
      "mimetype": "text/x-python",
      "name": "python",
      "nbconvert_exporter": "python",
      "pygments_lexer": "ipython3",
      "version": "3.8.15"
    },
    "colab": {
      "provenance": [],
      "include_colab_link": true
    },
    "widgets": {
      "application/vnd.jupyter.widget-state+json": {
        "9618a3258399470fafd148be79043c6f": {
          "model_module": "@jupyter-widgets/controls",
          "model_name": "HBoxModel",
          "model_module_version": "1.5.0",
          "state": {
            "_dom_classes": [],
            "_model_module": "@jupyter-widgets/controls",
            "_model_module_version": "1.5.0",
            "_model_name": "HBoxModel",
            "_view_count": null,
            "_view_module": "@jupyter-widgets/controls",
            "_view_module_version": "1.5.0",
            "_view_name": "HBoxView",
            "box_style": "",
            "children": [
              "IPY_MODEL_def46d8922da431e907b60c45871fbff",
              "IPY_MODEL_605152cba63944e690c4225d84879332",
              "IPY_MODEL_054ea58232ef4f278ca6cce6cc5cd0a2"
            ],
            "layout": "IPY_MODEL_c14d14b2b313478e9989923bf4387900"
          }
        },
        "def46d8922da431e907b60c45871fbff": {
          "model_module": "@jupyter-widgets/controls",
          "model_name": "HTMLModel",
          "model_module_version": "1.5.0",
          "state": {
            "_dom_classes": [],
            "_model_module": "@jupyter-widgets/controls",
            "_model_module_version": "1.5.0",
            "_model_name": "HTMLModel",
            "_view_count": null,
            "_view_module": "@jupyter-widgets/controls",
            "_view_module_version": "1.5.0",
            "_view_name": "HTMLView",
            "description": "",
            "description_tooltip": null,
            "layout": "IPY_MODEL_73510e60072443f09dae54b7f11a1014",
            "placeholder": "​",
            "style": "IPY_MODEL_3ccfa123f9e34030ad9b514b26f7721e",
            "value": "Processing: 100%"
          }
        },
        "605152cba63944e690c4225d84879332": {
          "model_module": "@jupyter-widgets/controls",
          "model_name": "FloatProgressModel",
          "model_module_version": "1.5.0",
          "state": {
            "_dom_classes": [],
            "_model_module": "@jupyter-widgets/controls",
            "_model_module_version": "1.5.0",
            "_model_name": "FloatProgressModel",
            "_view_count": null,
            "_view_module": "@jupyter-widgets/controls",
            "_view_module_version": "1.5.0",
            "_view_name": "ProgressView",
            "bar_style": "",
            "description": "",
            "description_tooltip": null,
            "layout": "IPY_MODEL_2140fc9f117f40b8b9aafebc0ab70b2d",
            "max": 33,
            "min": 0,
            "orientation": "horizontal",
            "style": "IPY_MODEL_d342f562eff84490af9ddbb14ac03254",
            "value": 33
          }
        },
        "054ea58232ef4f278ca6cce6cc5cd0a2": {
          "model_module": "@jupyter-widgets/controls",
          "model_name": "HTMLModel",
          "model_module_version": "1.5.0",
          "state": {
            "_dom_classes": [],
            "_model_module": "@jupyter-widgets/controls",
            "_model_module_version": "1.5.0",
            "_model_name": "HTMLModel",
            "_view_count": null,
            "_view_module": "@jupyter-widgets/controls",
            "_view_module_version": "1.5.0",
            "_view_name": "HTMLView",
            "description": "",
            "description_tooltip": null,
            "layout": "IPY_MODEL_62856d74faf544f5b5c29386a0bc1579",
            "placeholder": "​",
            "style": "IPY_MODEL_1c2ec0af13bc4312bc91d266dfcd115c",
            "value": " 33/33 [00:17&lt;00:00,  1.56it/s]"
          }
        },
        "c14d14b2b313478e9989923bf4387900": {
          "model_module": "@jupyter-widgets/base",
          "model_name": "LayoutModel",
          "model_module_version": "1.2.0",
          "state": {
            "_model_module": "@jupyter-widgets/base",
            "_model_module_version": "1.2.0",
            "_model_name": "LayoutModel",
            "_view_count": null,
            "_view_module": "@jupyter-widgets/base",
            "_view_module_version": "1.2.0",
            "_view_name": "LayoutView",
            "align_content": null,
            "align_items": null,
            "align_self": null,
            "border": null,
            "bottom": null,
            "display": null,
            "flex": null,
            "flex_flow": null,
            "grid_area": null,
            "grid_auto_columns": null,
            "grid_auto_flow": null,
            "grid_auto_rows": null,
            "grid_column": null,
            "grid_gap": null,
            "grid_row": null,
            "grid_template_areas": null,
            "grid_template_columns": null,
            "grid_template_rows": null,
            "height": null,
            "justify_content": null,
            "justify_items": null,
            "left": null,
            "margin": null,
            "max_height": null,
            "max_width": null,
            "min_height": null,
            "min_width": null,
            "object_fit": null,
            "object_position": null,
            "order": null,
            "overflow": null,
            "overflow_x": null,
            "overflow_y": null,
            "padding": null,
            "right": null,
            "top": null,
            "visibility": "hidden",
            "width": null
          }
        },
        "73510e60072443f09dae54b7f11a1014": {
          "model_module": "@jupyter-widgets/base",
          "model_name": "LayoutModel",
          "model_module_version": "1.2.0",
          "state": {
            "_model_module": "@jupyter-widgets/base",
            "_model_module_version": "1.2.0",
            "_model_name": "LayoutModel",
            "_view_count": null,
            "_view_module": "@jupyter-widgets/base",
            "_view_module_version": "1.2.0",
            "_view_name": "LayoutView",
            "align_content": null,
            "align_items": null,
            "align_self": null,
            "border": null,
            "bottom": null,
            "display": null,
            "flex": null,
            "flex_flow": null,
            "grid_area": null,
            "grid_auto_columns": null,
            "grid_auto_flow": null,
            "grid_auto_rows": null,
            "grid_column": null,
            "grid_gap": null,
            "grid_row": null,
            "grid_template_areas": null,
            "grid_template_columns": null,
            "grid_template_rows": null,
            "height": null,
            "justify_content": null,
            "justify_items": null,
            "left": null,
            "margin": null,
            "max_height": null,
            "max_width": null,
            "min_height": null,
            "min_width": null,
            "object_fit": null,
            "object_position": null,
            "order": null,
            "overflow": null,
            "overflow_x": null,
            "overflow_y": null,
            "padding": null,
            "right": null,
            "top": null,
            "visibility": null,
            "width": null
          }
        },
        "3ccfa123f9e34030ad9b514b26f7721e": {
          "model_module": "@jupyter-widgets/controls",
          "model_name": "DescriptionStyleModel",
          "model_module_version": "1.5.0",
          "state": {
            "_model_module": "@jupyter-widgets/controls",
            "_model_module_version": "1.5.0",
            "_model_name": "DescriptionStyleModel",
            "_view_count": null,
            "_view_module": "@jupyter-widgets/base",
            "_view_module_version": "1.2.0",
            "_view_name": "StyleView",
            "description_width": ""
          }
        },
        "2140fc9f117f40b8b9aafebc0ab70b2d": {
          "model_module": "@jupyter-widgets/base",
          "model_name": "LayoutModel",
          "model_module_version": "1.2.0",
          "state": {
            "_model_module": "@jupyter-widgets/base",
            "_model_module_version": "1.2.0",
            "_model_name": "LayoutModel",
            "_view_count": null,
            "_view_module": "@jupyter-widgets/base",
            "_view_module_version": "1.2.0",
            "_view_name": "LayoutView",
            "align_content": null,
            "align_items": null,
            "align_self": null,
            "border": null,
            "bottom": null,
            "display": null,
            "flex": null,
            "flex_flow": null,
            "grid_area": null,
            "grid_auto_columns": null,
            "grid_auto_flow": null,
            "grid_auto_rows": null,
            "grid_column": null,
            "grid_gap": null,
            "grid_row": null,
            "grid_template_areas": null,
            "grid_template_columns": null,
            "grid_template_rows": null,
            "height": null,
            "justify_content": null,
            "justify_items": null,
            "left": null,
            "margin": null,
            "max_height": null,
            "max_width": null,
            "min_height": null,
            "min_width": null,
            "object_fit": null,
            "object_position": null,
            "order": null,
            "overflow": null,
            "overflow_x": null,
            "overflow_y": null,
            "padding": null,
            "right": null,
            "top": null,
            "visibility": null,
            "width": null
          }
        },
        "d342f562eff84490af9ddbb14ac03254": {
          "model_module": "@jupyter-widgets/controls",
          "model_name": "ProgressStyleModel",
          "model_module_version": "1.5.0",
          "state": {
            "_model_module": "@jupyter-widgets/controls",
            "_model_module_version": "1.5.0",
            "_model_name": "ProgressStyleModel",
            "_view_count": null,
            "_view_module": "@jupyter-widgets/base",
            "_view_module_version": "1.2.0",
            "_view_name": "StyleView",
            "bar_color": null,
            "description_width": ""
          }
        },
        "62856d74faf544f5b5c29386a0bc1579": {
          "model_module": "@jupyter-widgets/base",
          "model_name": "LayoutModel",
          "model_module_version": "1.2.0",
          "state": {
            "_model_module": "@jupyter-widgets/base",
            "_model_module_version": "1.2.0",
            "_model_name": "LayoutModel",
            "_view_count": null,
            "_view_module": "@jupyter-widgets/base",
            "_view_module_version": "1.2.0",
            "_view_name": "LayoutView",
            "align_content": null,
            "align_items": null,
            "align_self": null,
            "border": null,
            "bottom": null,
            "display": null,
            "flex": null,
            "flex_flow": null,
            "grid_area": null,
            "grid_auto_columns": null,
            "grid_auto_flow": null,
            "grid_auto_rows": null,
            "grid_column": null,
            "grid_gap": null,
            "grid_row": null,
            "grid_template_areas": null,
            "grid_template_columns": null,
            "grid_template_rows": null,
            "height": null,
            "justify_content": null,
            "justify_items": null,
            "left": null,
            "margin": null,
            "max_height": null,
            "max_width": null,
            "min_height": null,
            "min_width": null,
            "object_fit": null,
            "object_position": null,
            "order": null,
            "overflow": null,
            "overflow_x": null,
            "overflow_y": null,
            "padding": null,
            "right": null,
            "top": null,
            "visibility": null,
            "width": null
          }
        },
        "1c2ec0af13bc4312bc91d266dfcd115c": {
          "model_module": "@jupyter-widgets/controls",
          "model_name": "DescriptionStyleModel",
          "model_module_version": "1.5.0",
          "state": {
            "_model_module": "@jupyter-widgets/controls",
            "_model_module_version": "1.5.0",
            "_model_name": "DescriptionStyleModel",
            "_view_count": null,
            "_view_module": "@jupyter-widgets/base",
            "_view_module_version": "1.2.0",
            "_view_name": "StyleView",
            "description_width": ""
          }
        },
        "e540de11a5de40848bb878f77a57436d": {
          "model_module": "@jupyter-widgets/controls",
          "model_name": "HBoxModel",
          "model_module_version": "1.5.0",
          "state": {
            "_dom_classes": [],
            "_model_module": "@jupyter-widgets/controls",
            "_model_module_version": "1.5.0",
            "_model_name": "HBoxModel",
            "_view_count": null,
            "_view_module": "@jupyter-widgets/controls",
            "_view_module_version": "1.5.0",
            "_view_name": "HBoxView",
            "box_style": "",
            "children": [
              "IPY_MODEL_d4ca185f17dc4b39bbae575a86ca6fc8",
              "IPY_MODEL_f9913efdbdf44cbb986a6d25510cc498",
              "IPY_MODEL_e27fa5abc9ba44cc8488b15d3cd12cab"
            ],
            "layout": "IPY_MODEL_d9b8779033084997bb9948196ae01947"
          }
        },
        "d4ca185f17dc4b39bbae575a86ca6fc8": {
          "model_module": "@jupyter-widgets/controls",
          "model_name": "HTMLModel",
          "model_module_version": "1.5.0",
          "state": {
            "_dom_classes": [],
            "_model_module": "@jupyter-widgets/controls",
            "_model_module_version": "1.5.0",
            "_model_name": "HTMLModel",
            "_view_count": null,
            "_view_module": "@jupyter-widgets/controls",
            "_view_module_version": "1.5.0",
            "_view_name": "HTMLView",
            "description": "",
            "description_tooltip": null,
            "layout": "IPY_MODEL_f4f4dfbf565648049b373444c03a3772",
            "placeholder": "​",
            "style": "IPY_MODEL_821f5414ae3b411591aa5b66f4cfb2d5",
            "value": "Processing:   0%"
          }
        },
        "f9913efdbdf44cbb986a6d25510cc498": {
          "model_module": "@jupyter-widgets/controls",
          "model_name": "FloatProgressModel",
          "model_module_version": "1.5.0",
          "state": {
            "_dom_classes": [],
            "_model_module": "@jupyter-widgets/controls",
            "_model_module_version": "1.5.0",
            "_model_name": "FloatProgressModel",
            "_view_count": null,
            "_view_module": "@jupyter-widgets/controls",
            "_view_module_version": "1.5.0",
            "_view_name": "ProgressView",
            "bar_style": "",
            "description": "",
            "description_tooltip": null,
            "layout": "IPY_MODEL_36af9943bf4e44769b804d1aaed5409f",
            "max": 4,
            "min": 0,
            "orientation": "horizontal",
            "style": "IPY_MODEL_d45dae63a02e4486a0b0a694b21f11c8",
            "value": 4
          }
        },
        "e27fa5abc9ba44cc8488b15d3cd12cab": {
          "model_module": "@jupyter-widgets/controls",
          "model_name": "HTMLModel",
          "model_module_version": "1.5.0",
          "state": {
            "_dom_classes": [],
            "_model_module": "@jupyter-widgets/controls",
            "_model_module_version": "1.5.0",
            "_model_name": "HTMLModel",
            "_view_count": null,
            "_view_module": "@jupyter-widgets/controls",
            "_view_module_version": "1.5.0",
            "_view_name": "HTMLView",
            "description": "",
            "description_tooltip": null,
            "layout": "IPY_MODEL_c230d552d1e2415db7f003d932e7f10f",
            "placeholder": "​",
            "style": "IPY_MODEL_5850f51415004deea0e4242d1172d263",
            "value": " 0/4 [00:00&lt;?, ?it/s]"
          }
        },
        "d9b8779033084997bb9948196ae01947": {
          "model_module": "@jupyter-widgets/base",
          "model_name": "LayoutModel",
          "model_module_version": "1.2.0",
          "state": {
            "_model_module": "@jupyter-widgets/base",
            "_model_module_version": "1.2.0",
            "_model_name": "LayoutModel",
            "_view_count": null,
            "_view_module": "@jupyter-widgets/base",
            "_view_module_version": "1.2.0",
            "_view_name": "LayoutView",
            "align_content": null,
            "align_items": null,
            "align_self": null,
            "border": null,
            "bottom": null,
            "display": null,
            "flex": null,
            "flex_flow": null,
            "grid_area": null,
            "grid_auto_columns": null,
            "grid_auto_flow": null,
            "grid_auto_rows": null,
            "grid_column": null,
            "grid_gap": null,
            "grid_row": null,
            "grid_template_areas": null,
            "grid_template_columns": null,
            "grid_template_rows": null,
            "height": null,
            "justify_content": null,
            "justify_items": null,
            "left": null,
            "margin": null,
            "max_height": null,
            "max_width": null,
            "min_height": null,
            "min_width": null,
            "object_fit": null,
            "object_position": null,
            "order": null,
            "overflow": null,
            "overflow_x": null,
            "overflow_y": null,
            "padding": null,
            "right": null,
            "top": null,
            "visibility": "hidden",
            "width": null
          }
        },
        "f4f4dfbf565648049b373444c03a3772": {
          "model_module": "@jupyter-widgets/base",
          "model_name": "LayoutModel",
          "model_module_version": "1.2.0",
          "state": {
            "_model_module": "@jupyter-widgets/base",
            "_model_module_version": "1.2.0",
            "_model_name": "LayoutModel",
            "_view_count": null,
            "_view_module": "@jupyter-widgets/base",
            "_view_module_version": "1.2.0",
            "_view_name": "LayoutView",
            "align_content": null,
            "align_items": null,
            "align_self": null,
            "border": null,
            "bottom": null,
            "display": null,
            "flex": null,
            "flex_flow": null,
            "grid_area": null,
            "grid_auto_columns": null,
            "grid_auto_flow": null,
            "grid_auto_rows": null,
            "grid_column": null,
            "grid_gap": null,
            "grid_row": null,
            "grid_template_areas": null,
            "grid_template_columns": null,
            "grid_template_rows": null,
            "height": null,
            "justify_content": null,
            "justify_items": null,
            "left": null,
            "margin": null,
            "max_height": null,
            "max_width": null,
            "min_height": null,
            "min_width": null,
            "object_fit": null,
            "object_position": null,
            "order": null,
            "overflow": null,
            "overflow_x": null,
            "overflow_y": null,
            "padding": null,
            "right": null,
            "top": null,
            "visibility": null,
            "width": null
          }
        },
        "821f5414ae3b411591aa5b66f4cfb2d5": {
          "model_module": "@jupyter-widgets/controls",
          "model_name": "DescriptionStyleModel",
          "model_module_version": "1.5.0",
          "state": {
            "_model_module": "@jupyter-widgets/controls",
            "_model_module_version": "1.5.0",
            "_model_name": "DescriptionStyleModel",
            "_view_count": null,
            "_view_module": "@jupyter-widgets/base",
            "_view_module_version": "1.2.0",
            "_view_name": "StyleView",
            "description_width": ""
          }
        },
        "36af9943bf4e44769b804d1aaed5409f": {
          "model_module": "@jupyter-widgets/base",
          "model_name": "LayoutModel",
          "model_module_version": "1.2.0",
          "state": {
            "_model_module": "@jupyter-widgets/base",
            "_model_module_version": "1.2.0",
            "_model_name": "LayoutModel",
            "_view_count": null,
            "_view_module": "@jupyter-widgets/base",
            "_view_module_version": "1.2.0",
            "_view_name": "LayoutView",
            "align_content": null,
            "align_items": null,
            "align_self": null,
            "border": null,
            "bottom": null,
            "display": null,
            "flex": null,
            "flex_flow": null,
            "grid_area": null,
            "grid_auto_columns": null,
            "grid_auto_flow": null,
            "grid_auto_rows": null,
            "grid_column": null,
            "grid_gap": null,
            "grid_row": null,
            "grid_template_areas": null,
            "grid_template_columns": null,
            "grid_template_rows": null,
            "height": null,
            "justify_content": null,
            "justify_items": null,
            "left": null,
            "margin": null,
            "max_height": null,
            "max_width": null,
            "min_height": null,
            "min_width": null,
            "object_fit": null,
            "object_position": null,
            "order": null,
            "overflow": null,
            "overflow_x": null,
            "overflow_y": null,
            "padding": null,
            "right": null,
            "top": null,
            "visibility": null,
            "width": null
          }
        },
        "d45dae63a02e4486a0b0a694b21f11c8": {
          "model_module": "@jupyter-widgets/controls",
          "model_name": "ProgressStyleModel",
          "model_module_version": "1.5.0",
          "state": {
            "_model_module": "@jupyter-widgets/controls",
            "_model_module_version": "1.5.0",
            "_model_name": "ProgressStyleModel",
            "_view_count": null,
            "_view_module": "@jupyter-widgets/base",
            "_view_module_version": "1.2.0",
            "_view_name": "StyleView",
            "bar_color": null,
            "description_width": ""
          }
        },
        "c230d552d1e2415db7f003d932e7f10f": {
          "model_module": "@jupyter-widgets/base",
          "model_name": "LayoutModel",
          "model_module_version": "1.2.0",
          "state": {
            "_model_module": "@jupyter-widgets/base",
            "_model_module_version": "1.2.0",
            "_model_name": "LayoutModel",
            "_view_count": null,
            "_view_module": "@jupyter-widgets/base",
            "_view_module_version": "1.2.0",
            "_view_name": "LayoutView",
            "align_content": null,
            "align_items": null,
            "align_self": null,
            "border": null,
            "bottom": null,
            "display": null,
            "flex": null,
            "flex_flow": null,
            "grid_area": null,
            "grid_auto_columns": null,
            "grid_auto_flow": null,
            "grid_auto_rows": null,
            "grid_column": null,
            "grid_gap": null,
            "grid_row": null,
            "grid_template_areas": null,
            "grid_template_columns": null,
            "grid_template_rows": null,
            "height": null,
            "justify_content": null,
            "justify_items": null,
            "left": null,
            "margin": null,
            "max_height": null,
            "max_width": null,
            "min_height": null,
            "min_width": null,
            "object_fit": null,
            "object_position": null,
            "order": null,
            "overflow": null,
            "overflow_x": null,
            "overflow_y": null,
            "padding": null,
            "right": null,
            "top": null,
            "visibility": null,
            "width": null
          }
        },
        "5850f51415004deea0e4242d1172d263": {
          "model_module": "@jupyter-widgets/controls",
          "model_name": "DescriptionStyleModel",
          "model_module_version": "1.5.0",
          "state": {
            "_model_module": "@jupyter-widgets/controls",
            "_model_module_version": "1.5.0",
            "_model_name": "DescriptionStyleModel",
            "_view_count": null,
            "_view_module": "@jupyter-widgets/base",
            "_view_module_version": "1.2.0",
            "_view_name": "StyleView",
            "description_width": ""
          }
        },
        "2b985660ef8f49699f6aeca91d543da8": {
          "model_module": "@jupyter-widgets/controls",
          "model_name": "HBoxModel",
          "model_module_version": "1.5.0",
          "state": {
            "_dom_classes": [],
            "_model_module": "@jupyter-widgets/controls",
            "_model_module_version": "1.5.0",
            "_model_name": "HBoxModel",
            "_view_count": null,
            "_view_module": "@jupyter-widgets/controls",
            "_view_module_version": "1.5.0",
            "_view_name": "HBoxView",
            "box_style": "",
            "children": [
              "IPY_MODEL_40a7bd769e09451598294f849f844b4b",
              "IPY_MODEL_4318116c15f64866bd7e09da78142f83",
              "IPY_MODEL_35029b3600f74b4694cded88976a2294"
            ],
            "layout": "IPY_MODEL_6a811d232a634b089b9e8f0c58b07ffa"
          }
        },
        "40a7bd769e09451598294f849f844b4b": {
          "model_module": "@jupyter-widgets/controls",
          "model_name": "HTMLModel",
          "model_module_version": "1.5.0",
          "state": {
            "_dom_classes": [],
            "_model_module": "@jupyter-widgets/controls",
            "_model_module_version": "1.5.0",
            "_model_name": "HTMLModel",
            "_view_count": null,
            "_view_module": "@jupyter-widgets/controls",
            "_view_module_version": "1.5.0",
            "_view_name": "HTMLView",
            "description": "",
            "description_tooltip": null,
            "layout": "IPY_MODEL_0d9a45aa8e7d4622b85a405d5d51aa93",
            "placeholder": "​",
            "style": "IPY_MODEL_67ce71c195a441729ef866c5a5803cc6",
            "value": "Processing: 100%"
          }
        },
        "4318116c15f64866bd7e09da78142f83": {
          "model_module": "@jupyter-widgets/controls",
          "model_name": "FloatProgressModel",
          "model_module_version": "1.5.0",
          "state": {
            "_dom_classes": [],
            "_model_module": "@jupyter-widgets/controls",
            "_model_module_version": "1.5.0",
            "_model_name": "FloatProgressModel",
            "_view_count": null,
            "_view_module": "@jupyter-widgets/controls",
            "_view_module_version": "1.5.0",
            "_view_name": "ProgressView",
            "bar_style": "",
            "description": "",
            "description_tooltip": null,
            "layout": "IPY_MODEL_b343848f54f74a0dade16af328e30535",
            "max": 85,
            "min": 0,
            "orientation": "horizontal",
            "style": "IPY_MODEL_950d9fcedb7f4fc0a5380bb4585c4a0b",
            "value": 85
          }
        },
        "35029b3600f74b4694cded88976a2294": {
          "model_module": "@jupyter-widgets/controls",
          "model_name": "HTMLModel",
          "model_module_version": "1.5.0",
          "state": {
            "_dom_classes": [],
            "_model_module": "@jupyter-widgets/controls",
            "_model_module_version": "1.5.0",
            "_model_name": "HTMLModel",
            "_view_count": null,
            "_view_module": "@jupyter-widgets/controls",
            "_view_module_version": "1.5.0",
            "_view_name": "HTMLView",
            "description": "",
            "description_tooltip": null,
            "layout": "IPY_MODEL_1ab44079af3b48da9e26f90483c5da58",
            "placeholder": "​",
            "style": "IPY_MODEL_9a7a79fbbe4649c29351181f97b00fda",
            "value": " 85/85 [00:32&lt;00:00,  2.41it/s]"
          }
        },
        "6a811d232a634b089b9e8f0c58b07ffa": {
          "model_module": "@jupyter-widgets/base",
          "model_name": "LayoutModel",
          "model_module_version": "1.2.0",
          "state": {
            "_model_module": "@jupyter-widgets/base",
            "_model_module_version": "1.2.0",
            "_model_name": "LayoutModel",
            "_view_count": null,
            "_view_module": "@jupyter-widgets/base",
            "_view_module_version": "1.2.0",
            "_view_name": "LayoutView",
            "align_content": null,
            "align_items": null,
            "align_self": null,
            "border": null,
            "bottom": null,
            "display": null,
            "flex": null,
            "flex_flow": null,
            "grid_area": null,
            "grid_auto_columns": null,
            "grid_auto_flow": null,
            "grid_auto_rows": null,
            "grid_column": null,
            "grid_gap": null,
            "grid_row": null,
            "grid_template_areas": null,
            "grid_template_columns": null,
            "grid_template_rows": null,
            "height": null,
            "justify_content": null,
            "justify_items": null,
            "left": null,
            "margin": null,
            "max_height": null,
            "max_width": null,
            "min_height": null,
            "min_width": null,
            "object_fit": null,
            "object_position": null,
            "order": null,
            "overflow": null,
            "overflow_x": null,
            "overflow_y": null,
            "padding": null,
            "right": null,
            "top": null,
            "visibility": "hidden",
            "width": null
          }
        },
        "0d9a45aa8e7d4622b85a405d5d51aa93": {
          "model_module": "@jupyter-widgets/base",
          "model_name": "LayoutModel",
          "model_module_version": "1.2.0",
          "state": {
            "_model_module": "@jupyter-widgets/base",
            "_model_module_version": "1.2.0",
            "_model_name": "LayoutModel",
            "_view_count": null,
            "_view_module": "@jupyter-widgets/base",
            "_view_module_version": "1.2.0",
            "_view_name": "LayoutView",
            "align_content": null,
            "align_items": null,
            "align_self": null,
            "border": null,
            "bottom": null,
            "display": null,
            "flex": null,
            "flex_flow": null,
            "grid_area": null,
            "grid_auto_columns": null,
            "grid_auto_flow": null,
            "grid_auto_rows": null,
            "grid_column": null,
            "grid_gap": null,
            "grid_row": null,
            "grid_template_areas": null,
            "grid_template_columns": null,
            "grid_template_rows": null,
            "height": null,
            "justify_content": null,
            "justify_items": null,
            "left": null,
            "margin": null,
            "max_height": null,
            "max_width": null,
            "min_height": null,
            "min_width": null,
            "object_fit": null,
            "object_position": null,
            "order": null,
            "overflow": null,
            "overflow_x": null,
            "overflow_y": null,
            "padding": null,
            "right": null,
            "top": null,
            "visibility": null,
            "width": null
          }
        },
        "67ce71c195a441729ef866c5a5803cc6": {
          "model_module": "@jupyter-widgets/controls",
          "model_name": "DescriptionStyleModel",
          "model_module_version": "1.5.0",
          "state": {
            "_model_module": "@jupyter-widgets/controls",
            "_model_module_version": "1.5.0",
            "_model_name": "DescriptionStyleModel",
            "_view_count": null,
            "_view_module": "@jupyter-widgets/base",
            "_view_module_version": "1.2.0",
            "_view_name": "StyleView",
            "description_width": ""
          }
        },
        "b343848f54f74a0dade16af328e30535": {
          "model_module": "@jupyter-widgets/base",
          "model_name": "LayoutModel",
          "model_module_version": "1.2.0",
          "state": {
            "_model_module": "@jupyter-widgets/base",
            "_model_module_version": "1.2.0",
            "_model_name": "LayoutModel",
            "_view_count": null,
            "_view_module": "@jupyter-widgets/base",
            "_view_module_version": "1.2.0",
            "_view_name": "LayoutView",
            "align_content": null,
            "align_items": null,
            "align_self": null,
            "border": null,
            "bottom": null,
            "display": null,
            "flex": null,
            "flex_flow": null,
            "grid_area": null,
            "grid_auto_columns": null,
            "grid_auto_flow": null,
            "grid_auto_rows": null,
            "grid_column": null,
            "grid_gap": null,
            "grid_row": null,
            "grid_template_areas": null,
            "grid_template_columns": null,
            "grid_template_rows": null,
            "height": null,
            "justify_content": null,
            "justify_items": null,
            "left": null,
            "margin": null,
            "max_height": null,
            "max_width": null,
            "min_height": null,
            "min_width": null,
            "object_fit": null,
            "object_position": null,
            "order": null,
            "overflow": null,
            "overflow_x": null,
            "overflow_y": null,
            "padding": null,
            "right": null,
            "top": null,
            "visibility": null,
            "width": null
          }
        },
        "950d9fcedb7f4fc0a5380bb4585c4a0b": {
          "model_module": "@jupyter-widgets/controls",
          "model_name": "ProgressStyleModel",
          "model_module_version": "1.5.0",
          "state": {
            "_model_module": "@jupyter-widgets/controls",
            "_model_module_version": "1.5.0",
            "_model_name": "ProgressStyleModel",
            "_view_count": null,
            "_view_module": "@jupyter-widgets/base",
            "_view_module_version": "1.2.0",
            "_view_name": "StyleView",
            "bar_color": null,
            "description_width": ""
          }
        },
        "1ab44079af3b48da9e26f90483c5da58": {
          "model_module": "@jupyter-widgets/base",
          "model_name": "LayoutModel",
          "model_module_version": "1.2.0",
          "state": {
            "_model_module": "@jupyter-widgets/base",
            "_model_module_version": "1.2.0",
            "_model_name": "LayoutModel",
            "_view_count": null,
            "_view_module": "@jupyter-widgets/base",
            "_view_module_version": "1.2.0",
            "_view_name": "LayoutView",
            "align_content": null,
            "align_items": null,
            "align_self": null,
            "border": null,
            "bottom": null,
            "display": null,
            "flex": null,
            "flex_flow": null,
            "grid_area": null,
            "grid_auto_columns": null,
            "grid_auto_flow": null,
            "grid_auto_rows": null,
            "grid_column": null,
            "grid_gap": null,
            "grid_row": null,
            "grid_template_areas": null,
            "grid_template_columns": null,
            "grid_template_rows": null,
            "height": null,
            "justify_content": null,
            "justify_items": null,
            "left": null,
            "margin": null,
            "max_height": null,
            "max_width": null,
            "min_height": null,
            "min_width": null,
            "object_fit": null,
            "object_position": null,
            "order": null,
            "overflow": null,
            "overflow_x": null,
            "overflow_y": null,
            "padding": null,
            "right": null,
            "top": null,
            "visibility": null,
            "width": null
          }
        },
        "9a7a79fbbe4649c29351181f97b00fda": {
          "model_module": "@jupyter-widgets/controls",
          "model_name": "DescriptionStyleModel",
          "model_module_version": "1.5.0",
          "state": {
            "_model_module": "@jupyter-widgets/controls",
            "_model_module_version": "1.5.0",
            "_model_name": "DescriptionStyleModel",
            "_view_count": null,
            "_view_module": "@jupyter-widgets/base",
            "_view_module_version": "1.2.0",
            "_view_name": "StyleView",
            "description_width": ""
          }
        },
        "74a4f5d741534dd0906f53f1b2a269b4": {
          "model_module": "@jupyter-widgets/controls",
          "model_name": "HBoxModel",
          "model_module_version": "1.5.0",
          "state": {
            "_dom_classes": [],
            "_model_module": "@jupyter-widgets/controls",
            "_model_module_version": "1.5.0",
            "_model_name": "HBoxModel",
            "_view_count": null,
            "_view_module": "@jupyter-widgets/controls",
            "_view_module_version": "1.5.0",
            "_view_name": "HBoxView",
            "box_style": "",
            "children": [
              "IPY_MODEL_ab4188353cf44a5dac4db1ad114b7870",
              "IPY_MODEL_5cd53ed94c6243b49809b56618470d4b",
              "IPY_MODEL_d5edadc08e244c9898ea3a076afd55ef"
            ],
            "layout": "IPY_MODEL_1c26a5488d2744fe91c5bba50d99564e"
          }
        },
        "ab4188353cf44a5dac4db1ad114b7870": {
          "model_module": "@jupyter-widgets/controls",
          "model_name": "HTMLModel",
          "model_module_version": "1.5.0",
          "state": {
            "_dom_classes": [],
            "_model_module": "@jupyter-widgets/controls",
            "_model_module_version": "1.5.0",
            "_model_name": "HTMLModel",
            "_view_count": null,
            "_view_module": "@jupyter-widgets/controls",
            "_view_module_version": "1.5.0",
            "_view_name": "HTMLView",
            "description": "",
            "description_tooltip": null,
            "layout": "IPY_MODEL_8d347ad734504d96ae8c8ca0dd7b09ff",
            "placeholder": "​",
            "style": "IPY_MODEL_31878f3de2424595a5aaee9f5593a486",
            "value": "Processing:   0%"
          }
        },
        "5cd53ed94c6243b49809b56618470d4b": {
          "model_module": "@jupyter-widgets/controls",
          "model_name": "FloatProgressModel",
          "model_module_version": "1.5.0",
          "state": {
            "_dom_classes": [],
            "_model_module": "@jupyter-widgets/controls",
            "_model_module_version": "1.5.0",
            "_model_name": "FloatProgressModel",
            "_view_count": null,
            "_view_module": "@jupyter-widgets/controls",
            "_view_module_version": "1.5.0",
            "_view_name": "ProgressView",
            "bar_style": "",
            "description": "",
            "description_tooltip": null,
            "layout": "IPY_MODEL_8e7631304cf349eca13f8b9521173a53",
            "max": 4,
            "min": 0,
            "orientation": "horizontal",
            "style": "IPY_MODEL_a07bbdf5181d4f12844c63d6fafe2d3d",
            "value": 4
          }
        },
        "d5edadc08e244c9898ea3a076afd55ef": {
          "model_module": "@jupyter-widgets/controls",
          "model_name": "HTMLModel",
          "model_module_version": "1.5.0",
          "state": {
            "_dom_classes": [],
            "_model_module": "@jupyter-widgets/controls",
            "_model_module_version": "1.5.0",
            "_model_name": "HTMLModel",
            "_view_count": null,
            "_view_module": "@jupyter-widgets/controls",
            "_view_module_version": "1.5.0",
            "_view_name": "HTMLView",
            "description": "",
            "description_tooltip": null,
            "layout": "IPY_MODEL_664e32ee260f46e9ab4b2635610de5cb",
            "placeholder": "​",
            "style": "IPY_MODEL_4db2c1f9097546edb99a52b9fed0fcfa",
            "value": " 0/4 [00:00&lt;?, ?it/s]"
          }
        },
        "1c26a5488d2744fe91c5bba50d99564e": {
          "model_module": "@jupyter-widgets/base",
          "model_name": "LayoutModel",
          "model_module_version": "1.2.0",
          "state": {
            "_model_module": "@jupyter-widgets/base",
            "_model_module_version": "1.2.0",
            "_model_name": "LayoutModel",
            "_view_count": null,
            "_view_module": "@jupyter-widgets/base",
            "_view_module_version": "1.2.0",
            "_view_name": "LayoutView",
            "align_content": null,
            "align_items": null,
            "align_self": null,
            "border": null,
            "bottom": null,
            "display": null,
            "flex": null,
            "flex_flow": null,
            "grid_area": null,
            "grid_auto_columns": null,
            "grid_auto_flow": null,
            "grid_auto_rows": null,
            "grid_column": null,
            "grid_gap": null,
            "grid_row": null,
            "grid_template_areas": null,
            "grid_template_columns": null,
            "grid_template_rows": null,
            "height": null,
            "justify_content": null,
            "justify_items": null,
            "left": null,
            "margin": null,
            "max_height": null,
            "max_width": null,
            "min_height": null,
            "min_width": null,
            "object_fit": null,
            "object_position": null,
            "order": null,
            "overflow": null,
            "overflow_x": null,
            "overflow_y": null,
            "padding": null,
            "right": null,
            "top": null,
            "visibility": "hidden",
            "width": null
          }
        },
        "8d347ad734504d96ae8c8ca0dd7b09ff": {
          "model_module": "@jupyter-widgets/base",
          "model_name": "LayoutModel",
          "model_module_version": "1.2.0",
          "state": {
            "_model_module": "@jupyter-widgets/base",
            "_model_module_version": "1.2.0",
            "_model_name": "LayoutModel",
            "_view_count": null,
            "_view_module": "@jupyter-widgets/base",
            "_view_module_version": "1.2.0",
            "_view_name": "LayoutView",
            "align_content": null,
            "align_items": null,
            "align_self": null,
            "border": null,
            "bottom": null,
            "display": null,
            "flex": null,
            "flex_flow": null,
            "grid_area": null,
            "grid_auto_columns": null,
            "grid_auto_flow": null,
            "grid_auto_rows": null,
            "grid_column": null,
            "grid_gap": null,
            "grid_row": null,
            "grid_template_areas": null,
            "grid_template_columns": null,
            "grid_template_rows": null,
            "height": null,
            "justify_content": null,
            "justify_items": null,
            "left": null,
            "margin": null,
            "max_height": null,
            "max_width": null,
            "min_height": null,
            "min_width": null,
            "object_fit": null,
            "object_position": null,
            "order": null,
            "overflow": null,
            "overflow_x": null,
            "overflow_y": null,
            "padding": null,
            "right": null,
            "top": null,
            "visibility": null,
            "width": null
          }
        },
        "31878f3de2424595a5aaee9f5593a486": {
          "model_module": "@jupyter-widgets/controls",
          "model_name": "DescriptionStyleModel",
          "model_module_version": "1.5.0",
          "state": {
            "_model_module": "@jupyter-widgets/controls",
            "_model_module_version": "1.5.0",
            "_model_name": "DescriptionStyleModel",
            "_view_count": null,
            "_view_module": "@jupyter-widgets/base",
            "_view_module_version": "1.2.0",
            "_view_name": "StyleView",
            "description_width": ""
          }
        },
        "8e7631304cf349eca13f8b9521173a53": {
          "model_module": "@jupyter-widgets/base",
          "model_name": "LayoutModel",
          "model_module_version": "1.2.0",
          "state": {
            "_model_module": "@jupyter-widgets/base",
            "_model_module_version": "1.2.0",
            "_model_name": "LayoutModel",
            "_view_count": null,
            "_view_module": "@jupyter-widgets/base",
            "_view_module_version": "1.2.0",
            "_view_name": "LayoutView",
            "align_content": null,
            "align_items": null,
            "align_self": null,
            "border": null,
            "bottom": null,
            "display": null,
            "flex": null,
            "flex_flow": null,
            "grid_area": null,
            "grid_auto_columns": null,
            "grid_auto_flow": null,
            "grid_auto_rows": null,
            "grid_column": null,
            "grid_gap": null,
            "grid_row": null,
            "grid_template_areas": null,
            "grid_template_columns": null,
            "grid_template_rows": null,
            "height": null,
            "justify_content": null,
            "justify_items": null,
            "left": null,
            "margin": null,
            "max_height": null,
            "max_width": null,
            "min_height": null,
            "min_width": null,
            "object_fit": null,
            "object_position": null,
            "order": null,
            "overflow": null,
            "overflow_x": null,
            "overflow_y": null,
            "padding": null,
            "right": null,
            "top": null,
            "visibility": null,
            "width": null
          }
        },
        "a07bbdf5181d4f12844c63d6fafe2d3d": {
          "model_module": "@jupyter-widgets/controls",
          "model_name": "ProgressStyleModel",
          "model_module_version": "1.5.0",
          "state": {
            "_model_module": "@jupyter-widgets/controls",
            "_model_module_version": "1.5.0",
            "_model_name": "ProgressStyleModel",
            "_view_count": null,
            "_view_module": "@jupyter-widgets/base",
            "_view_module_version": "1.2.0",
            "_view_name": "StyleView",
            "bar_color": null,
            "description_width": ""
          }
        },
        "664e32ee260f46e9ab4b2635610de5cb": {
          "model_module": "@jupyter-widgets/base",
          "model_name": "LayoutModel",
          "model_module_version": "1.2.0",
          "state": {
            "_model_module": "@jupyter-widgets/base",
            "_model_module_version": "1.2.0",
            "_model_name": "LayoutModel",
            "_view_count": null,
            "_view_module": "@jupyter-widgets/base",
            "_view_module_version": "1.2.0",
            "_view_name": "LayoutView",
            "align_content": null,
            "align_items": null,
            "align_self": null,
            "border": null,
            "bottom": null,
            "display": null,
            "flex": null,
            "flex_flow": null,
            "grid_area": null,
            "grid_auto_columns": null,
            "grid_auto_flow": null,
            "grid_auto_rows": null,
            "grid_column": null,
            "grid_gap": null,
            "grid_row": null,
            "grid_template_areas": null,
            "grid_template_columns": null,
            "grid_template_rows": null,
            "height": null,
            "justify_content": null,
            "justify_items": null,
            "left": null,
            "margin": null,
            "max_height": null,
            "max_width": null,
            "min_height": null,
            "min_width": null,
            "object_fit": null,
            "object_position": null,
            "order": null,
            "overflow": null,
            "overflow_x": null,
            "overflow_y": null,
            "padding": null,
            "right": null,
            "top": null,
            "visibility": null,
            "width": null
          }
        },
        "4db2c1f9097546edb99a52b9fed0fcfa": {
          "model_module": "@jupyter-widgets/controls",
          "model_name": "DescriptionStyleModel",
          "model_module_version": "1.5.0",
          "state": {
            "_model_module": "@jupyter-widgets/controls",
            "_model_module_version": "1.5.0",
            "_model_name": "DescriptionStyleModel",
            "_view_count": null,
            "_view_module": "@jupyter-widgets/base",
            "_view_module_version": "1.2.0",
            "_view_name": "StyleView",
            "description_width": ""
          }
        },
        "4b2c9fb61feb40328538610a370b555c": {
          "model_module": "@jupyter-widgets/controls",
          "model_name": "VBoxModel",
          "model_module_version": "1.5.0",
          "state": {
            "_dom_classes": [
              "widget-interact"
            ],
            "_model_module": "@jupyter-widgets/controls",
            "_model_module_version": "1.5.0",
            "_model_name": "VBoxModel",
            "_view_count": null,
            "_view_module": "@jupyter-widgets/controls",
            "_view_module_version": "1.5.0",
            "_view_name": "VBoxView",
            "box_style": "",
            "children": [
              "IPY_MODEL_e4e4ef3328c443e4849c71532db3f3ff",
              "IPY_MODEL_eed6a996e68e403b872e8c9491b3921b"
            ],
            "layout": "IPY_MODEL_49e0b524da1d4ddaa8aacb975e9bf4f3"
          }
        },
        "e4e4ef3328c443e4849c71532db3f3ff": {
          "model_module": "@jupyter-widgets/controls",
          "model_name": "ToggleButtonsModel",
          "model_module_version": "1.5.0",
          "state": {
            "_dom_classes": [],
            "_model_module": "@jupyter-widgets/controls",
            "_model_module_version": "1.5.0",
            "_model_name": "ToggleButtonsModel",
            "_options_labels": [
              "Pipeline Plot",
              "Hyperparameters",
              "Residuals",
              "Prediction Error",
              "Cooks Distance",
              "Feature Selection",
              "Learning Curve",
              "Manifold Learning",
              "Validation Curve",
              "Feature Importance",
              "Feature Importance (All)",
              "Decision Tree",
              "Interactive Residuals"
            ],
            "_view_count": null,
            "_view_module": "@jupyter-widgets/controls",
            "_view_module_version": "1.5.0",
            "_view_name": "ToggleButtonsView",
            "button_style": "",
            "description": "Plot Type:",
            "description_tooltip": null,
            "disabled": false,
            "icons": [
              ""
            ],
            "index": 0,
            "layout": "IPY_MODEL_4507191e9517424b9a070c75eb068326",
            "style": "IPY_MODEL_2a4b1af0260a487b9f8a9c044cc25a58",
            "tooltips": []
          }
        },
        "eed6a996e68e403b872e8c9491b3921b": {
          "model_module": "@jupyter-widgets/output",
          "model_name": "OutputModel",
          "model_module_version": "1.0.0",
          "state": {
            "_dom_classes": [],
            "_model_module": "@jupyter-widgets/output",
            "_model_module_version": "1.0.0",
            "_model_name": "OutputModel",
            "_view_count": null,
            "_view_module": "@jupyter-widgets/output",
            "_view_module_version": "1.0.0",
            "_view_name": "OutputView",
            "layout": "IPY_MODEL_5df071a8cf39431cb175f239cac206ea",
            "msg_id": "",
            "outputs": [
              {
                "output_type": "display_data",
                "data": {
                  "text/plain": "<Figure size 1200x600 with 1 Axes>",
                  "image/png": "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\n"
                },
                "metadata": {}
              }
            ]
          }
        },
        "49e0b524da1d4ddaa8aacb975e9bf4f3": {
          "model_module": "@jupyter-widgets/base",
          "model_name": "LayoutModel",
          "model_module_version": "1.2.0",
          "state": {
            "_model_module": "@jupyter-widgets/base",
            "_model_module_version": "1.2.0",
            "_model_name": "LayoutModel",
            "_view_count": null,
            "_view_module": "@jupyter-widgets/base",
            "_view_module_version": "1.2.0",
            "_view_name": "LayoutView",
            "align_content": null,
            "align_items": null,
            "align_self": null,
            "border": null,
            "bottom": null,
            "display": null,
            "flex": null,
            "flex_flow": null,
            "grid_area": null,
            "grid_auto_columns": null,
            "grid_auto_flow": null,
            "grid_auto_rows": null,
            "grid_column": null,
            "grid_gap": null,
            "grid_row": null,
            "grid_template_areas": null,
            "grid_template_columns": null,
            "grid_template_rows": null,
            "height": null,
            "justify_content": null,
            "justify_items": null,
            "left": null,
            "margin": null,
            "max_height": null,
            "max_width": null,
            "min_height": null,
            "min_width": null,
            "object_fit": null,
            "object_position": null,
            "order": null,
            "overflow": null,
            "overflow_x": null,
            "overflow_y": null,
            "padding": null,
            "right": null,
            "top": null,
            "visibility": null,
            "width": null
          }
        },
        "4507191e9517424b9a070c75eb068326": {
          "model_module": "@jupyter-widgets/base",
          "model_name": "LayoutModel",
          "model_module_version": "1.2.0",
          "state": {
            "_model_module": "@jupyter-widgets/base",
            "_model_module_version": "1.2.0",
            "_model_name": "LayoutModel",
            "_view_count": null,
            "_view_module": "@jupyter-widgets/base",
            "_view_module_version": "1.2.0",
            "_view_name": "LayoutView",
            "align_content": null,
            "align_items": null,
            "align_self": null,
            "border": null,
            "bottom": null,
            "display": null,
            "flex": null,
            "flex_flow": null,
            "grid_area": null,
            "grid_auto_columns": null,
            "grid_auto_flow": null,
            "grid_auto_rows": null,
            "grid_column": null,
            "grid_gap": null,
            "grid_row": null,
            "grid_template_areas": null,
            "grid_template_columns": null,
            "grid_template_rows": null,
            "height": null,
            "justify_content": null,
            "justify_items": null,
            "left": null,
            "margin": null,
            "max_height": null,
            "max_width": null,
            "min_height": null,
            "min_width": null,
            "object_fit": null,
            "object_position": null,
            "order": null,
            "overflow": null,
            "overflow_x": null,
            "overflow_y": null,
            "padding": null,
            "right": null,
            "top": null,
            "visibility": null,
            "width": null
          }
        },
        "2a4b1af0260a487b9f8a9c044cc25a58": {
          "model_module": "@jupyter-widgets/controls",
          "model_name": "ToggleButtonsStyleModel",
          "model_module_version": "1.5.0",
          "state": {
            "_model_module": "@jupyter-widgets/controls",
            "_model_module_version": "1.5.0",
            "_model_name": "ToggleButtonsStyleModel",
            "_view_count": null,
            "_view_module": "@jupyter-widgets/base",
            "_view_module_version": "1.2.0",
            "_view_name": "StyleView",
            "button_width": "",
            "description_width": "",
            "font_weight": ""
          }
        },
        "5df071a8cf39431cb175f239cac206ea": {
          "model_module": "@jupyter-widgets/base",
          "model_name": "LayoutModel",
          "model_module_version": "1.2.0",
          "state": {
            "_model_module": "@jupyter-widgets/base",
            "_model_module_version": "1.2.0",
            "_model_name": "LayoutModel",
            "_view_count": null,
            "_view_module": "@jupyter-widgets/base",
            "_view_module_version": "1.2.0",
            "_view_name": "LayoutView",
            "align_content": null,
            "align_items": null,
            "align_self": null,
            "border": null,
            "bottom": null,
            "display": null,
            "flex": null,
            "flex_flow": null,
            "grid_area": null,
            "grid_auto_columns": null,
            "grid_auto_flow": null,
            "grid_auto_rows": null,
            "grid_column": null,
            "grid_gap": null,
            "grid_row": null,
            "grid_template_areas": null,
            "grid_template_columns": null,
            "grid_template_rows": null,
            "height": null,
            "justify_content": null,
            "justify_items": null,
            "left": null,
            "margin": null,
            "max_height": null,
            "max_width": null,
            "min_height": null,
            "min_width": null,
            "object_fit": null,
            "object_position": null,
            "order": null,
            "overflow": null,
            "overflow_x": null,
            "overflow_y": null,
            "padding": null,
            "right": null,
            "top": null,
            "visibility": null,
            "width": null
          }
        }
      }
    }
  },
  "nbformat": 4,
  "nbformat_minor": 5
}