{
  "nbformat": 4,
  "nbformat_minor": 0,
  "metadata": {
    "colab": {
      "provenance": [],
      "authorship_tag": "ABX9TyMeu6XMuSAyFhPEKHdExgRy",
      "include_colab_link": true
    },
    "kernelspec": {
      "name": "python3",
      "display_name": "Python 3"
    },
    "language_info": {
      "name": "python"
    }
  },
  "cells": [
    {
      "cell_type": "markdown",
      "metadata": {
        "id": "view-in-github",
        "colab_type": "text"
      },
      "source": [
        "<a href=\"https://colab.research.google.com/github/mtofighi/ChilwaBasin/blob/main/ExtractYeildFormCSVs.ipynb\" target=\"_parent\"><img src=\"https://colab.research.google.com/assets/colab-badge.svg\" alt=\"Open In Colab\"/></a>"
      ]
    },
    {
      "cell_type": "code",
      "source": [
        "import os\n",
        "import pandas as pd\n",
        "from google.colab import drive\n",
        "\n",
        "# Mount your Google Drive\n",
        "drive.mount('/content/drive')\n",
        "\n",
        "# Define the folder containing the CSV files\n",
        "folder_path = \"/content/drive/My Drive/ChilwaDataset/MaizeYeildAfrica\"  # Replace with your folder's path\n",
        "\n",
        "# Create an empty list to store the results\n",
        "results = []\n",
        "\n",
        "# Loop through each file in the folder\n",
        "for filename in os.listdir(folder_path):\n",
        "    if filename.endswith(\".csv\"):\n",
        "        file_path = os.path.join(folder_path, filename)\n",
        "        # Read the CSV file\n",
        "        df = pd.read_csv(file_path)\n",
        "        # Extract the value from a specific row (r) and column (c)\n",
        "        r, c = 28, 27  # Replace with your desired row and column indices\n",
        "        value = df.iloc[r, c]\n",
        "        # Append the file name and value to the results list\n",
        "        results.append([filename, value])\n",
        "\n",
        "# Create a dataframe from the results\n",
        "result_df = pd.DataFrame(results, columns=[\"File Name\", \"Value\"])\n",
        "\n",
        "# Save the results to an Excel file\n",
        "result_df.to_excel(\"/content/drive/My Drive/MaizeYeildChilwaBasin.xlsx\", index=False)  # Replace with your desired output file path"
      ],
      "metadata": {
        "id": "O2aVJWkZ563N"
      },
      "execution_count": null,
      "outputs": []
    }
  ]
}