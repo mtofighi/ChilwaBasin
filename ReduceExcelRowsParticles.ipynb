{
  "nbformat": 4,
  "nbformat_minor": 0,
  "metadata": {
    "colab": {
      "provenance": [],
      "authorship_tag": "ABX9TyOI8AcpSO8to8Zcn0514gan",
      "include_colab_link": true
    },
    "kernelspec": {
      "name": "python3",
      "display_name": "Python 3"
    },
    "language_info": {
      "name": "python"
    }
  },
  "cells": [
    {
      "cell_type": "markdown",
      "metadata": {
        "id": "view-in-github",
        "colab_type": "text"
      },
      "source": [
        "<a href=\"https://colab.research.google.com/github/mtofighi/ChilwaBasin/blob/main/ReduceExcelRowsParticles.ipynb\" target=\"_parent\"><img src=\"https://colab.research.google.com/assets/colab-badge.svg\" alt=\"Open In Colab\"/></a>"
      ]
    },
    {
      "cell_type": "code",
      "execution_count": 1,
      "metadata": {
        "colab": {
          "base_uri": "https://localhost:8080/",
          "height": 35
        },
        "id": "8MeyW3v6Wo7x",
        "outputId": "b5c2cd16-301b-4603-938c-759cdea9527e"
      },
      "outputs": [
        {
          "output_type": "execute_result",
          "data": {
            "text/plain": [
              "'/content/particleLocations_filtered.xlsx'"
            ],
            "application/vnd.google.colaboratory.intrinsic+json": {
              "type": "string"
            }
          },
          "metadata": {},
          "execution_count": 1
        }
      ],
      "source": [
        "import pandas as pd\n",
        "\n",
        "# Load the Excel file\n",
        "file_path = '/content/particleLocations_50001000.xlsx'\n",
        "excel_data = pd.read_excel(file_path, sheet_name=None, header=0)\n",
        "\n",
        "# Define the function to filter rows\n",
        "def filter_rows(df):\n",
        "    return df[df.index % 5 == 1]\n",
        "\n",
        "# Apply the filter to each sheet\n",
        "filtered_data = {sheet: filter_rows(df) for sheet, df in excel_data.items()}\n",
        "\n",
        "# Save the filtered data back to Excel\n",
        "output_file_path = '/content/particleLocations_filtered.xlsx'\n",
        "with pd.ExcelWriter(output_file_path) as writer:\n",
        "    for sheet, df in filtered_data.items():\n",
        "        df.to_excel(writer, sheet_name=sheet, index=False)\n",
        "\n",
        "output_file_path"
      ]
    }
  ]
}